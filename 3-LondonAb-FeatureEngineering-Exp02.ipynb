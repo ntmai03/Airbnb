{
 "cells": [
  {
   "cell_type": "markdown",
   "metadata": {},
   "source": [
    "-------------------------------------------------------------------------------------------------------------------\n",
    "# 1. Import library\n",
    "-------------------------------------------------------------------------------------------------------------------"
   ]
  },
  {
   "cell_type": "code",
   "execution_count": 1,
   "metadata": {},
   "outputs": [
    {
     "name": "stdout",
     "output_type": "stream",
     "text": [
      "Setup complete...\n"
     ]
    }
   ],
   "source": [
    "# Dataframe manipulation\n",
    "import numpy as np\n",
    "import pandas as pd\n",
    "import math\n",
    "\n",
    "# Visualization\n",
    "import seaborn as sns\n",
    "import matplotlib.pyplot as plt\n",
    "# sns.set(style = 'whitegrid',context = 'notebook')\n",
    "\n",
    "# Preprocessing\n",
    "from sklearn.preprocessing import MinMaxScaler, StandardScaler, Imputer, LabelEncoder\n",
    "\n",
    "# Modelling Helpers:\n",
    "from sklearn.preprocessing import Imputer, Normalizer, scale\n",
    "from sklearn.model_selection import train_test_split\n",
    "from sklearn.feature_selection import RFECV\n",
    "from sklearn.model_selection import GridSearchCV, KFold, cross_val_score, ShuffleSplit, cross_validate\n",
    "from sklearn import model_selection\n",
    "from sklearn.model_selection import train_test_split\n",
    "\n",
    "# Classification\n",
    "from sklearn.tree import DecisionTreeClassifier\n",
    "from sklearn.neighbors import KNeighborsClassifier\n",
    "from sklearn.naive_bayes import GaussianNB\n",
    "from lightgbm import LGBMClassifier\n",
    "from sklearn.svm import SVC, LinearSVC\n",
    "from sklearn.ensemble import RandomForestClassifier, GradientBoostingClassifier, AdaBoostClassifier\n",
    "from sklearn.discriminant_analysis import LinearDiscriminantAnalysis, QuadraticDiscriminantAnalysis\n",
    "from xgboost import XGBClassifier\n",
    "from sklearn.neural_network import MLPClassifier\n",
    "# Evaluation metrics for Classification\n",
    "from sklearn.metrics import accuracy_score, confusion_matrix, precision_score, recall_score, f1_score, classification_report, roc_auc_score, roc_curve, precision_recall_curve, average_precision_score\n",
    "\n",
    "# Regression\n",
    "from sklearn.linear_model import LinearRegression,Ridge,Lasso,RidgeCV,ElasticNet,LogisticRegression\n",
    "from sklearn.ensemble import RandomForestRegressor,BaggingRegressor,GradientBoostingRegressor,AdaBoostRegressor\n",
    "from sklearn.svm import SVR\n",
    "from sklearn.neighbors import KNeighborsRegressor\n",
    "from sklearn.neural_network import MLPRegressor\n",
    "from xgboost import XGBRegressor\n",
    "# Evaluation metrics for Regression \n",
    "from sklearn.metrics import mean_squared_log_error, mean_squared_error, r2_score, mean_absolute_error\n",
    "\n",
    "# Configuration\n",
    "pd.set_option('display.max_rows', 500)\n",
    "pd.set_option('display.max_columns', None)\n",
    "pd.set_option('display.width', 500)\n",
    "\n",
    "# Supress warnings\n",
    "import warnings\n",
    "warnings.filterwarnings(\"ignore\")\n",
    "\n",
    "print(\"Setup complete...\")"
   ]
  },
  {
   "cell_type": "markdown",
   "metadata": {},
   "source": [
    "-------------------------------------------------------------------------------------------------------------------\n",
    "# 2. Common function\n",
    "-------------------------------------------------------------------------------------------------------------------"
   ]
  },
  {
   "cell_type": "code",
   "execution_count": 2,
   "metadata": {},
   "outputs": [],
   "source": [
    "def Check_Missing_Data(df):    \n",
    "    # count all missing values of each column\n",
    "    total = df.isnull().sum().sort_values(ascending=False)\n",
    "    # calculate percentage of null values for each column\n",
    "    percent = (df.isnull().sum()/df.isnull().count()).sort_values(ascending=False)\n",
    "    missing_data = pd.concat([total, percent], axis=1, keys=['Total', 'Percent'])\n",
    "    return missing_data"
   ]
  },
  {
   "cell_type": "markdown",
   "metadata": {},
   "source": [
    "-------------------------------------------------------------------------------------------------------------------\n",
    "# 3. Import dataset\n",
    "-------------------------------------------------------------------------------------------------------------------"
   ]
  },
  {
   "cell_type": "code",
   "execution_count": 3,
   "metadata": {
    "scrolled": true
   },
   "outputs": [
    {
     "name": "stdout",
     "output_type": "stream",
     "text": [
      "(77096, 64)\n"
     ]
    },
    {
     "data": {
      "text/html": [
       "<div>\n",
       "<style scoped>\n",
       "    .dataframe tbody tr th:only-of-type {\n",
       "        vertical-align: middle;\n",
       "    }\n",
       "\n",
       "    .dataframe tbody tr th {\n",
       "        vertical-align: top;\n",
       "    }\n",
       "\n",
       "    .dataframe thead th {\n",
       "        text-align: right;\n",
       "    }\n",
       "</style>\n",
       "<table border=\"1\" class=\"dataframe\">\n",
       "  <thead>\n",
       "    <tr style=\"text-align: right;\">\n",
       "      <th></th>\n",
       "      <th>host_response_time</th>\n",
       "      <th>host_neighbourhood</th>\n",
       "      <th>state</th>\n",
       "      <th>neighbourhood</th>\n",
       "      <th>zipcode</th>\n",
       "      <th>market</th>\n",
       "      <th>host_location</th>\n",
       "      <th>city</th>\n",
       "      <th>host_identity_verified</th>\n",
       "      <th>host_is_superhost</th>\n",
       "      <th>host_name</th>\n",
       "      <th>host_verifications</th>\n",
       "      <th>street</th>\n",
       "      <th>neighbourhood_cleansed</th>\n",
       "      <th>experiences_offered</th>\n",
       "      <th>is_location_exact</th>\n",
       "      <th>smart_location</th>\n",
       "      <th>country_code</th>\n",
       "      <th>cancellation_policy</th>\n",
       "      <th>instant_bookable</th>\n",
       "      <th>has_availability</th>\n",
       "      <th>calendar_updated</th>\n",
       "      <th>bed_type</th>\n",
       "      <th>room_type</th>\n",
       "      <th>property_type</th>\n",
       "      <th>country</th>\n",
       "      <th>neighborhood_overview</th>\n",
       "      <th>transit</th>\n",
       "      <th>amenities</th>\n",
       "      <th>summary</th>\n",
       "      <th>space</th>\n",
       "      <th>description</th>\n",
       "      <th>host_response_rate</th>\n",
       "      <th>security_deposit</th>\n",
       "      <th>cleaning_fee</th>\n",
       "      <th>review_scores_value</th>\n",
       "      <th>review_scores_location</th>\n",
       "      <th>review_scores_checkin</th>\n",
       "      <th>review_scores_accuracy</th>\n",
       "      <th>review_scores_communication</th>\n",
       "      <th>review_scores_cleanliness</th>\n",
       "      <th>review_scores_rating</th>\n",
       "      <th>reviews_per_month</th>\n",
       "      <th>bathrooms</th>\n",
       "      <th>beds</th>\n",
       "      <th>bedrooms</th>\n",
       "      <th>host_total_listings_count</th>\n",
       "      <th>host_listings_count</th>\n",
       "      <th>number_of_reviews</th>\n",
       "      <th>availability_365</th>\n",
       "      <th>availability_90</th>\n",
       "      <th>availability_60</th>\n",
       "      <th>availability_30</th>\n",
       "      <th>maximum_nights</th>\n",
       "      <th>minimum_nights</th>\n",
       "      <th>extra_people</th>\n",
       "      <th>guests_included</th>\n",
       "      <th>price</th>\n",
       "      <th>accommodates</th>\n",
       "      <th>calculated_host_listings_count</th>\n",
       "      <th>longitude</th>\n",
       "      <th>latitude</th>\n",
       "      <th>id</th>\n",
       "      <th>host_since</th>\n",
       "    </tr>\n",
       "  </thead>\n",
       "  <tbody>\n",
       "    <tr>\n",
       "      <td>0</td>\n",
       "      <td>within a few hours</td>\n",
       "      <td>LB of Haringey</td>\n",
       "      <td>NaN</td>\n",
       "      <td>LB of Haringey</td>\n",
       "      <td>N8 0EY</td>\n",
       "      <td>London</td>\n",
       "      <td>London, England, United Kingdom</td>\n",
       "      <td>London</td>\n",
       "      <td>f</td>\n",
       "      <td>t</td>\n",
       "      <td>Guy</td>\n",
       "      <td>['email', 'phone', 'manual_online', 'reviews',...</td>\n",
       "      <td>London, United Kingdom</td>\n",
       "      <td>Haringey</td>\n",
       "      <td>none</td>\n",
       "      <td>f</td>\n",
       "      <td>London, United Kingdom</td>\n",
       "      <td>GB</td>\n",
       "      <td>strict_14_with_grace_period</td>\n",
       "      <td>f</td>\n",
       "      <td>t</td>\n",
       "      <td>a week ago</td>\n",
       "      <td>Real Bed</td>\n",
       "      <td>Private room</td>\n",
       "      <td>Apartment</td>\n",
       "      <td>United Kingdom</td>\n",
       "      <td>Details to follow..</td>\n",
       "      <td>details to follow when i get a chance..</td>\n",
       "      <td>{TV,Internet,Wifi,Kitchen,\"Smoking allowed\",Br...</td>\n",
       "      <td>PLEASE CONTACT ME BEFORE BOOKING Homely apartm...</td>\n",
       "      <td>Hello people, This is a bright, comfortable ro...</td>\n",
       "      <td>PLEASE CONTACT ME BEFORE BOOKING Homely apartm...</td>\n",
       "      <td>100.0</td>\n",
       "      <td>NaN</td>\n",
       "      <td>7.0</td>\n",
       "      <td>10.0</td>\n",
       "      <td>9.0</td>\n",
       "      <td>10.0</td>\n",
       "      <td>10.0</td>\n",
       "      <td>10.0</td>\n",
       "      <td>9.0</td>\n",
       "      <td>97.0</td>\n",
       "      <td>1.65</td>\n",
       "      <td>NaN</td>\n",
       "      <td>1.0</td>\n",
       "      <td>1.0</td>\n",
       "      <td>4.0</td>\n",
       "      <td>4.0</td>\n",
       "      <td>133</td>\n",
       "      <td>291</td>\n",
       "      <td>18</td>\n",
       "      <td>18</td>\n",
       "      <td>18</td>\n",
       "      <td>730</td>\n",
       "      <td>1</td>\n",
       "      <td>15.0</td>\n",
       "      <td>1</td>\n",
       "      <td>35.0</td>\n",
       "      <td>2</td>\n",
       "      <td>4</td>\n",
       "      <td>-0.105666</td>\n",
       "      <td>51.587767</td>\n",
       "      <td>9554</td>\n",
       "      <td>2009-08-14</td>\n",
       "    </tr>\n",
       "    <tr>\n",
       "      <td>1</td>\n",
       "      <td>within a day</td>\n",
       "      <td>LB of Ealing</td>\n",
       "      <td>Greater London</td>\n",
       "      <td>LB of Ealing</td>\n",
       "      <td>W13 8</td>\n",
       "      <td>London</td>\n",
       "      <td>London, England, United Kingdom</td>\n",
       "      <td>Ealing</td>\n",
       "      <td>f</td>\n",
       "      <td>f</td>\n",
       "      <td>Rosa</td>\n",
       "      <td>['email', 'phone', 'facebook', 'reviews', 'wor...</td>\n",
       "      <td>Ealing, Greater London, United Kingdom</td>\n",
       "      <td>Ealing</td>\n",
       "      <td>none</td>\n",
       "      <td>t</td>\n",
       "      <td>Ealing, United Kingdom</td>\n",
       "      <td>GB</td>\n",
       "      <td>strict_14_with_grace_period</td>\n",
       "      <td>t</td>\n",
       "      <td>t</td>\n",
       "      <td>4 months ago</td>\n",
       "      <td>Real Bed</td>\n",
       "      <td>Private room</td>\n",
       "      <td>Apartment</td>\n",
       "      <td>United Kingdom</td>\n",
       "      <td>Ealing Broadway, as short walk from our place ...</td>\n",
       "      <td>extemely good transport links to central londo...</td>\n",
       "      <td>{TV,\"Cable TV\",Internet,Wifi,Breakfast,\"Pets l...</td>\n",
       "      <td>The room has a double bed and a single foldawa...</td>\n",
       "      <td>This Listing is for The Sanctury The accommoda...</td>\n",
       "      <td>The room has a double bed and a single foldawa...</td>\n",
       "      <td>67.0</td>\n",
       "      <td>NaN</td>\n",
       "      <td>NaN</td>\n",
       "      <td>9.0</td>\n",
       "      <td>9.0</td>\n",
       "      <td>10.0</td>\n",
       "      <td>8.0</td>\n",
       "      <td>9.0</td>\n",
       "      <td>9.0</td>\n",
       "      <td>90.0</td>\n",
       "      <td>0.09</td>\n",
       "      <td>NaN</td>\n",
       "      <td>1.0</td>\n",
       "      <td>1.0</td>\n",
       "      <td>6.0</td>\n",
       "      <td>6.0</td>\n",
       "      <td>3</td>\n",
       "      <td>0</td>\n",
       "      <td>0</td>\n",
       "      <td>0</td>\n",
       "      <td>0</td>\n",
       "      <td>1125</td>\n",
       "      <td>2</td>\n",
       "      <td>35.0</td>\n",
       "      <td>2</td>\n",
       "      <td>70.0</td>\n",
       "      <td>2</td>\n",
       "      <td>6</td>\n",
       "      <td>-0.314508</td>\n",
       "      <td>51.515645</td>\n",
       "      <td>11076</td>\n",
       "      <td>2009-09-22</td>\n",
       "    </tr>\n",
       "    <tr>\n",
       "      <td>2</td>\n",
       "      <td>within a day</td>\n",
       "      <td>LB of Islington</td>\n",
       "      <td>Greater London</td>\n",
       "      <td>LB of Islington</td>\n",
       "      <td>N4 3</td>\n",
       "      <td>London</td>\n",
       "      <td>London, England, United Kingdom</td>\n",
       "      <td>Islington</td>\n",
       "      <td>f</td>\n",
       "      <td>f</td>\n",
       "      <td>Alina</td>\n",
       "      <td>['email', 'phone', 'facebook', 'reviews']</td>\n",
       "      <td>Islington, Greater London, United Kingdom</td>\n",
       "      <td>Islington</td>\n",
       "      <td>business</td>\n",
       "      <td>t</td>\n",
       "      <td>Islington, United Kingdom</td>\n",
       "      <td>GB</td>\n",
       "      <td>moderate</td>\n",
       "      <td>f</td>\n",
       "      <td>t</td>\n",
       "      <td>2 weeks ago</td>\n",
       "      <td>Real Bed</td>\n",
       "      <td>Private room</td>\n",
       "      <td>Apartment</td>\n",
       "      <td>United Kingdom</td>\n",
       "      <td>Finsbury Park is a friendly melting pot commun...</td>\n",
       "      <td>The flat only a 10 minute walk to Finsbury Par...</td>\n",
       "      <td>{TV,\"Cable TV\",Wifi,Kitchen,\"Paid parking off ...</td>\n",
       "      <td>My bright double bedroom with a large window h...</td>\n",
       "      <td>Hello Everyone, I'm offering my lovely double ...</td>\n",
       "      <td>My bright double bedroom with a large window h...</td>\n",
       "      <td>67.0</td>\n",
       "      <td>100.0</td>\n",
       "      <td>15.0</td>\n",
       "      <td>9.0</td>\n",
       "      <td>9.0</td>\n",
       "      <td>9.0</td>\n",
       "      <td>9.0</td>\n",
       "      <td>10.0</td>\n",
       "      <td>10.0</td>\n",
       "      <td>95.0</td>\n",
       "      <td>0.14</td>\n",
       "      <td>1.0</td>\n",
       "      <td>0.0</td>\n",
       "      <td>1.0</td>\n",
       "      <td>4.0</td>\n",
       "      <td>4.0</td>\n",
       "      <td>14</td>\n",
       "      <td>364</td>\n",
       "      <td>89</td>\n",
       "      <td>59</td>\n",
       "      <td>29</td>\n",
       "      <td>29</td>\n",
       "      <td>1</td>\n",
       "      <td>15.0</td>\n",
       "      <td>1</td>\n",
       "      <td>65.0</td>\n",
       "      <td>2</td>\n",
       "      <td>3</td>\n",
       "      <td>-0.111208</td>\n",
       "      <td>51.568017</td>\n",
       "      <td>13913</td>\n",
       "      <td>2009-11-16</td>\n",
       "    </tr>\n",
       "    <tr>\n",
       "      <td>3</td>\n",
       "      <td>within an hour</td>\n",
       "      <td>Fitzrovia</td>\n",
       "      <td>Fitzrovia</td>\n",
       "      <td>Fitzrovia</td>\n",
       "      <td>W1T4BP</td>\n",
       "      <td>London</td>\n",
       "      <td>London, England, United Kingdom</td>\n",
       "      <td>London</td>\n",
       "      <td>t</td>\n",
       "      <td>t</td>\n",
       "      <td>Liz</td>\n",
       "      <td>['email', 'phone', 'reviews', 'jumio', 'offlin...</td>\n",
       "      <td>London, Fitzrovia, United Kingdom</td>\n",
       "      <td>Westminster</td>\n",
       "      <td>none</td>\n",
       "      <td>t</td>\n",
       "      <td>London, United Kingdom</td>\n",
       "      <td>GB</td>\n",
       "      <td>strict_14_with_grace_period</td>\n",
       "      <td>f</td>\n",
       "      <td>t</td>\n",
       "      <td>yesterday</td>\n",
       "      <td>Real Bed</td>\n",
       "      <td>Entire home/apt</td>\n",
       "      <td>Apartment</td>\n",
       "      <td>United Kingdom</td>\n",
       "      <td>Location, location, location! You won't find b...</td>\n",
       "      <td>You can walk to tourist London or take numerou...</td>\n",
       "      <td>{TV,Wifi,Kitchen,\"Paid parking off premises\",E...</td>\n",
       "      <td>Open from June 2018 after a 3-year break, we a...</td>\n",
       "      <td>Ready again from June 2018 for bookings after ...</td>\n",
       "      <td>Open from June 2018 after a 3-year break, we a...</td>\n",
       "      <td>91.0</td>\n",
       "      <td>350.0</td>\n",
       "      <td>65.0</td>\n",
       "      <td>9.0</td>\n",
       "      <td>10.0</td>\n",
       "      <td>9.0</td>\n",
       "      <td>10.0</td>\n",
       "      <td>9.0</td>\n",
       "      <td>9.0</td>\n",
       "      <td>93.0</td>\n",
       "      <td>0.42</td>\n",
       "      <td>2.0</td>\n",
       "      <td>3.0</td>\n",
       "      <td>3.0</td>\n",
       "      <td>15.0</td>\n",
       "      <td>15.0</td>\n",
       "      <td>39</td>\n",
       "      <td>360</td>\n",
       "      <td>86</td>\n",
       "      <td>56</td>\n",
       "      <td>26</td>\n",
       "      <td>365</td>\n",
       "      <td>3</td>\n",
       "      <td>10.0</td>\n",
       "      <td>4</td>\n",
       "      <td>300.0</td>\n",
       "      <td>6</td>\n",
       "      <td>13</td>\n",
       "      <td>-0.140024</td>\n",
       "      <td>51.520982</td>\n",
       "      <td>17402</td>\n",
       "      <td>2010-01-04</td>\n",
       "    </tr>\n",
       "    <tr>\n",
       "      <td>4</td>\n",
       "      <td>NaN</td>\n",
       "      <td>Battersea</td>\n",
       "      <td>NaN</td>\n",
       "      <td>Battersea</td>\n",
       "      <td>SW11 5GX</td>\n",
       "      <td>London</td>\n",
       "      <td>Florence, Tuscany, Italy</td>\n",
       "      <td>London</td>\n",
       "      <td>t</td>\n",
       "      <td>f</td>\n",
       "      <td>Joe</td>\n",
       "      <td>['email', 'phone', 'reviews', 'jumio', 'offlin...</td>\n",
       "      <td>London, United Kingdom</td>\n",
       "      <td>Wandsworth</td>\n",
       "      <td>family</td>\n",
       "      <td>t</td>\n",
       "      <td>London, United Kingdom</td>\n",
       "      <td>GB</td>\n",
       "      <td>strict_14_with_grace_period</td>\n",
       "      <td>f</td>\n",
       "      <td>t</td>\n",
       "      <td>9 months ago</td>\n",
       "      <td>Real Bed</td>\n",
       "      <td>Entire home/apt</td>\n",
       "      <td>Townhouse</td>\n",
       "      <td>United Kingdom</td>\n",
       "      <td>- Battersea is a quiet family area, easy acces...</td>\n",
       "      <td>- 5 mins walk to Battersea Park, 15 mins walk ...</td>\n",
       "      <td>{TV,\"Cable TV\",Internet,Wifi,Kitchen,\"Free par...</td>\n",
       "      <td>Artist house, high ceiling bedrooms, private p...</td>\n",
       "      <td>- End of terrace two bedroom house close to So...</td>\n",
       "      <td>Artist house, high ceiling bedrooms, private p...</td>\n",
       "      <td>NaN</td>\n",
       "      <td>250.0</td>\n",
       "      <td>70.0</td>\n",
       "      <td>9.0</td>\n",
       "      <td>9.0</td>\n",
       "      <td>10.0</td>\n",
       "      <td>10.0</td>\n",
       "      <td>10.0</td>\n",
       "      <td>10.0</td>\n",
       "      <td>98.0</td>\n",
       "      <td>0.94</td>\n",
       "      <td>1.5</td>\n",
       "      <td>2.0</td>\n",
       "      <td>2.0</td>\n",
       "      <td>2.0</td>\n",
       "      <td>2.0</td>\n",
       "      <td>92</td>\n",
       "      <td>363</td>\n",
       "      <td>88</td>\n",
       "      <td>58</td>\n",
       "      <td>28</td>\n",
       "      <td>90</td>\n",
       "      <td>90</td>\n",
       "      <td>15.0</td>\n",
       "      <td>2</td>\n",
       "      <td>150.0</td>\n",
       "      <td>4</td>\n",
       "      <td>1</td>\n",
       "      <td>-0.163764</td>\n",
       "      <td>51.472981</td>\n",
       "      <td>24328</td>\n",
       "      <td>2009-09-28</td>\n",
       "    </tr>\n",
       "  </tbody>\n",
       "</table>\n",
       "</div>"
      ],
      "text/plain": [
       "   host_response_time host_neighbourhood           state    neighbourhood   zipcode  market                    host_location       city host_identity_verified host_is_superhost host_name                                 host_verifications                                     street neighbourhood_cleansed experiences_offered is_location_exact             smart_location country_code          cancellation_policy instant_bookable has_availability calendar_updated  bed_type        room_type  \\\n",
       "0  within a few hours     LB of Haringey             NaN   LB of Haringey    N8 0EY  London  London, England, United Kingdom     London                      f                 t       Guy  ['email', 'phone', 'manual_online', 'reviews',...                     London, United Kingdom               Haringey                none                 f     London, United Kingdom           GB  strict_14_with_grace_period                f                t       a week ago  Real Bed     Private room   \n",
       "1        within a day       LB of Ealing  Greater London     LB of Ealing     W13 8  London  London, England, United Kingdom     Ealing                      f                 f      Rosa  ['email', 'phone', 'facebook', 'reviews', 'wor...     Ealing, Greater London, United Kingdom                 Ealing                none                 t     Ealing, United Kingdom           GB  strict_14_with_grace_period                t                t     4 months ago  Real Bed     Private room   \n",
       "2        within a day    LB of Islington  Greater London  LB of Islington      N4 3  London  London, England, United Kingdom  Islington                      f                 f     Alina          ['email', 'phone', 'facebook', 'reviews']  Islington, Greater London, United Kingdom              Islington            business                 t  Islington, United Kingdom           GB                     moderate                f                t      2 weeks ago  Real Bed     Private room   \n",
       "3      within an hour          Fitzrovia       Fitzrovia        Fitzrovia    W1T4BP  London  London, England, United Kingdom     London                      t                 t       Liz  ['email', 'phone', 'reviews', 'jumio', 'offlin...          London, Fitzrovia, United Kingdom            Westminster                none                 t     London, United Kingdom           GB  strict_14_with_grace_period                f                t        yesterday  Real Bed  Entire home/apt   \n",
       "4                 NaN          Battersea             NaN        Battersea  SW11 5GX  London         Florence, Tuscany, Italy     London                      t                 f       Joe  ['email', 'phone', 'reviews', 'jumio', 'offlin...                     London, United Kingdom             Wandsworth              family                 t     London, United Kingdom           GB  strict_14_with_grace_period                f                t     9 months ago  Real Bed  Entire home/apt   \n",
       "\n",
       "  property_type         country                              neighborhood_overview                                            transit                                          amenities                                            summary                                              space                                        description  host_response_rate  security_deposit  cleaning_fee  review_scores_value  review_scores_location  review_scores_checkin  review_scores_accuracy  \\\n",
       "0     Apartment  United Kingdom                                Details to follow..            details to follow when i get a chance..  {TV,Internet,Wifi,Kitchen,\"Smoking allowed\",Br...  PLEASE CONTACT ME BEFORE BOOKING Homely apartm...  Hello people, This is a bright, comfortable ro...  PLEASE CONTACT ME BEFORE BOOKING Homely apartm...               100.0               NaN           7.0                 10.0                     9.0                   10.0                    10.0   \n",
       "1     Apartment  United Kingdom  Ealing Broadway, as short walk from our place ...  extemely good transport links to central londo...  {TV,\"Cable TV\",Internet,Wifi,Breakfast,\"Pets l...  The room has a double bed and a single foldawa...  This Listing is for The Sanctury The accommoda...  The room has a double bed and a single foldawa...                67.0               NaN           NaN                  9.0                     9.0                   10.0                     8.0   \n",
       "2     Apartment  United Kingdom  Finsbury Park is a friendly melting pot commun...  The flat only a 10 minute walk to Finsbury Par...  {TV,\"Cable TV\",Wifi,Kitchen,\"Paid parking off ...  My bright double bedroom with a large window h...  Hello Everyone, I'm offering my lovely double ...  My bright double bedroom with a large window h...                67.0             100.0          15.0                  9.0                     9.0                    9.0                     9.0   \n",
       "3     Apartment  United Kingdom  Location, location, location! You won't find b...  You can walk to tourist London or take numerou...  {TV,Wifi,Kitchen,\"Paid parking off premises\",E...  Open from June 2018 after a 3-year break, we a...  Ready again from June 2018 for bookings after ...  Open from June 2018 after a 3-year break, we a...                91.0             350.0          65.0                  9.0                    10.0                    9.0                    10.0   \n",
       "4     Townhouse  United Kingdom  - Battersea is a quiet family area, easy acces...  - 5 mins walk to Battersea Park, 15 mins walk ...  {TV,\"Cable TV\",Internet,Wifi,Kitchen,\"Free par...  Artist house, high ceiling bedrooms, private p...  - End of terrace two bedroom house close to So...  Artist house, high ceiling bedrooms, private p...                 NaN             250.0          70.0                  9.0                     9.0                   10.0                    10.0   \n",
       "\n",
       "   review_scores_communication  review_scores_cleanliness  review_scores_rating  reviews_per_month  bathrooms  beds  bedrooms  host_total_listings_count  host_listings_count  number_of_reviews  availability_365  availability_90  availability_60  availability_30  maximum_nights  minimum_nights  extra_people  guests_included  price  accommodates  calculated_host_listings_count  longitude   latitude     id  host_since  \n",
       "0                         10.0                        9.0                  97.0               1.65        NaN   1.0       1.0                        4.0                  4.0                133               291               18               18               18             730               1          15.0                1   35.0             2                               4  -0.105666  51.587767   9554  2009-08-14  \n",
       "1                          9.0                        9.0                  90.0               0.09        NaN   1.0       1.0                        6.0                  6.0                  3                 0                0                0                0            1125               2          35.0                2   70.0             2                               6  -0.314508  51.515645  11076  2009-09-22  \n",
       "2                         10.0                       10.0                  95.0               0.14        1.0   0.0       1.0                        4.0                  4.0                 14               364               89               59               29              29               1          15.0                1   65.0             2                               3  -0.111208  51.568017  13913  2009-11-16  \n",
       "3                          9.0                        9.0                  93.0               0.42        2.0   3.0       3.0                       15.0                 15.0                 39               360               86               56               26             365               3          10.0                4  300.0             6                              13  -0.140024  51.520982  17402  2010-01-04  \n",
       "4                         10.0                       10.0                  98.0               0.94        1.5   2.0       2.0                        2.0                  2.0                 92               363               88               58               28              90              90          15.0                2  150.0             4                               1  -0.163764  51.472981  24328  2009-09-28  "
      ]
     },
     "execution_count": 3,
     "metadata": {},
     "output_type": "execute_result"
    }
   ],
   "source": [
    "# load dataset\n",
    "df = pd.read_csv('explored_ds.csv')\n",
    "print(df.shape)\n",
    "df.head()"
   ]
  },
  {
   "cell_type": "markdown",
   "metadata": {},
   "source": [
    "### remove redundant features"
   ]
  },
  {
   "cell_type": "code",
   "execution_count": 4,
   "metadata": {},
   "outputs": [
    {
     "data": {
      "text/plain": [
       "(77096, 64)"
      ]
     },
     "execution_count": 4,
     "metadata": {},
     "output_type": "execute_result"
    }
   ],
   "source": [
    "remove_list = []\n",
    "selected_features = [e for e in df.columns.values if e not in remove_list]\n",
    "len(selected_features)   # 70\n",
    "df = df.loc[:,selected_features]\n",
    "df.shape"
   ]
  },
  {
   "cell_type": "markdown",
   "metadata": {},
   "source": [
    "-------------------------------------------------------------------------------------------------------------------\n",
    "# 4. Fixing incorrect data\n",
    "-------------------------------------------------------------------------------------------------------------------"
   ]
  },
  {
   "cell_type": "markdown",
   "metadata": {},
   "source": [
    "The incorrect data is found during exploration stage"
   ]
  },
  {
   "cell_type": "markdown",
   "metadata": {},
   "source": [
    "### Remove outliers (price > 1000)"
   ]
  },
  {
   "cell_type": "code",
   "execution_count": 5,
   "metadata": {},
   "outputs": [
    {
     "data": {
      "text/plain": [
       "(76889, 64)"
      ]
     },
     "execution_count": 5,
     "metadata": {},
     "output_type": "execute_result"
    }
   ],
   "source": [
    "df = df.loc[df.price <= 1000,:]\n",
    "df.shape"
   ]
  },
  {
   "cell_type": "markdown",
   "metadata": {},
   "source": [
    "### Converting format of price"
   ]
  },
  {
   "cell_type": "code",
   "execution_count": 122,
   "metadata": {},
   "outputs": [],
   "source": [
    "# df['price'] = (df['price'].str.replace(r'[^-+\\d.]','').astype(float))\n",
    "# df['monthly_price'] = (df['monthly_price'].str.replace(r'[^-+\\d.]','').astype(float))\n",
    "# df['weekly_price'] = (df['weekly_price'].str.replace(r'[^-+\\d.]','').astype(float))\n",
    "# df['extra_people'] = (df['extra_people'].str.replace(r'[^-+\\d.]','').astype(float))\n",
    "# df['cleaning_fee'] = (df['cleaning_fee'].str.replace(r'[^-+\\d.]','').astype(float))"
   ]
  },
  {
   "cell_type": "markdown",
   "metadata": {},
   "source": [
    "### remove rows with target variable as 0"
   ]
  },
  {
   "cell_type": "code",
   "execution_count": 6,
   "metadata": {},
   "outputs": [
    {
     "name": "stdout",
     "output_type": "stream",
     "text": [
      "(33, 64)\n",
      "(76856, 64)\n"
     ]
    },
    {
     "data": {
      "text/plain": [
       "(76856, 64)"
      ]
     },
     "execution_count": 6,
     "metadata": {},
     "output_type": "execute_result"
    }
   ],
   "source": [
    "print(df[df.price == 0].shape)\n",
    "print(df[df.price > 0].shape)\n",
    "# remove rows with price ==0\n",
    "df = df.loc[df.price > 0,:]\n",
    "df.shape"
   ]
  },
  {
   "cell_type": "markdown",
   "metadata": {},
   "source": [
    "-------------------------------------------------------------------------------------------------------------------\n",
    "# 5. Construct Input & Ouput variables\n",
    "-------------------------------------------------------------------------------------------------------------------"
   ]
  },
  {
   "cell_type": "markdown",
   "metadata": {},
   "source": [
    "### Selected vars for independent vars"
   ]
  },
  {
   "cell_type": "code",
   "execution_count": 7,
   "metadata": {},
   "outputs": [
    {
     "name": "stdout",
     "output_type": "stream",
     "text": [
      "Number of numerical variables 30\n",
      "(76856, 30)\n"
     ]
    },
    {
     "data": {
      "text/html": [
       "<div>\n",
       "<style scoped>\n",
       "    .dataframe tbody tr th:only-of-type {\n",
       "        vertical-align: middle;\n",
       "    }\n",
       "\n",
       "    .dataframe tbody tr th {\n",
       "        vertical-align: top;\n",
       "    }\n",
       "\n",
       "    .dataframe thead th {\n",
       "        text-align: right;\n",
       "    }\n",
       "</style>\n",
       "<table border=\"1\" class=\"dataframe\">\n",
       "  <thead>\n",
       "    <tr style=\"text-align: right;\">\n",
       "      <th></th>\n",
       "      <th>host_response_rate</th>\n",
       "      <th>security_deposit</th>\n",
       "      <th>cleaning_fee</th>\n",
       "      <th>review_scores_value</th>\n",
       "      <th>review_scores_location</th>\n",
       "      <th>review_scores_checkin</th>\n",
       "      <th>review_scores_accuracy</th>\n",
       "      <th>review_scores_communication</th>\n",
       "      <th>review_scores_cleanliness</th>\n",
       "      <th>review_scores_rating</th>\n",
       "      <th>reviews_per_month</th>\n",
       "      <th>bathrooms</th>\n",
       "      <th>beds</th>\n",
       "      <th>bedrooms</th>\n",
       "      <th>host_total_listings_count</th>\n",
       "      <th>host_listings_count</th>\n",
       "      <th>number_of_reviews</th>\n",
       "      <th>availability_365</th>\n",
       "      <th>availability_90</th>\n",
       "      <th>availability_60</th>\n",
       "      <th>availability_30</th>\n",
       "      <th>maximum_nights</th>\n",
       "      <th>minimum_nights</th>\n",
       "      <th>extra_people</th>\n",
       "      <th>guests_included</th>\n",
       "      <th>accommodates</th>\n",
       "      <th>calculated_host_listings_count</th>\n",
       "      <th>longitude</th>\n",
       "      <th>latitude</th>\n",
       "      <th>id</th>\n",
       "    </tr>\n",
       "  </thead>\n",
       "  <tbody>\n",
       "    <tr>\n",
       "      <td>0</td>\n",
       "      <td>100.0</td>\n",
       "      <td>NaN</td>\n",
       "      <td>7.0</td>\n",
       "      <td>10.0</td>\n",
       "      <td>9.0</td>\n",
       "      <td>10.0</td>\n",
       "      <td>10.0</td>\n",
       "      <td>10.0</td>\n",
       "      <td>9.0</td>\n",
       "      <td>97.0</td>\n",
       "      <td>1.65</td>\n",
       "      <td>NaN</td>\n",
       "      <td>1.0</td>\n",
       "      <td>1.0</td>\n",
       "      <td>4.0</td>\n",
       "      <td>4.0</td>\n",
       "      <td>133</td>\n",
       "      <td>291</td>\n",
       "      <td>18</td>\n",
       "      <td>18</td>\n",
       "      <td>18</td>\n",
       "      <td>730</td>\n",
       "      <td>1</td>\n",
       "      <td>15.0</td>\n",
       "      <td>1</td>\n",
       "      <td>2</td>\n",
       "      <td>4</td>\n",
       "      <td>-0.105666</td>\n",
       "      <td>51.587767</td>\n",
       "      <td>9554</td>\n",
       "    </tr>\n",
       "    <tr>\n",
       "      <td>1</td>\n",
       "      <td>67.0</td>\n",
       "      <td>NaN</td>\n",
       "      <td>NaN</td>\n",
       "      <td>9.0</td>\n",
       "      <td>9.0</td>\n",
       "      <td>10.0</td>\n",
       "      <td>8.0</td>\n",
       "      <td>9.0</td>\n",
       "      <td>9.0</td>\n",
       "      <td>90.0</td>\n",
       "      <td>0.09</td>\n",
       "      <td>NaN</td>\n",
       "      <td>1.0</td>\n",
       "      <td>1.0</td>\n",
       "      <td>6.0</td>\n",
       "      <td>6.0</td>\n",
       "      <td>3</td>\n",
       "      <td>0</td>\n",
       "      <td>0</td>\n",
       "      <td>0</td>\n",
       "      <td>0</td>\n",
       "      <td>1125</td>\n",
       "      <td>2</td>\n",
       "      <td>35.0</td>\n",
       "      <td>2</td>\n",
       "      <td>2</td>\n",
       "      <td>6</td>\n",
       "      <td>-0.314508</td>\n",
       "      <td>51.515645</td>\n",
       "      <td>11076</td>\n",
       "    </tr>\n",
       "    <tr>\n",
       "      <td>2</td>\n",
       "      <td>67.0</td>\n",
       "      <td>100.0</td>\n",
       "      <td>15.0</td>\n",
       "      <td>9.0</td>\n",
       "      <td>9.0</td>\n",
       "      <td>9.0</td>\n",
       "      <td>9.0</td>\n",
       "      <td>10.0</td>\n",
       "      <td>10.0</td>\n",
       "      <td>95.0</td>\n",
       "      <td>0.14</td>\n",
       "      <td>1.0</td>\n",
       "      <td>0.0</td>\n",
       "      <td>1.0</td>\n",
       "      <td>4.0</td>\n",
       "      <td>4.0</td>\n",
       "      <td>14</td>\n",
       "      <td>364</td>\n",
       "      <td>89</td>\n",
       "      <td>59</td>\n",
       "      <td>29</td>\n",
       "      <td>29</td>\n",
       "      <td>1</td>\n",
       "      <td>15.0</td>\n",
       "      <td>1</td>\n",
       "      <td>2</td>\n",
       "      <td>3</td>\n",
       "      <td>-0.111208</td>\n",
       "      <td>51.568017</td>\n",
       "      <td>13913</td>\n",
       "    </tr>\n",
       "    <tr>\n",
       "      <td>3</td>\n",
       "      <td>91.0</td>\n",
       "      <td>350.0</td>\n",
       "      <td>65.0</td>\n",
       "      <td>9.0</td>\n",
       "      <td>10.0</td>\n",
       "      <td>9.0</td>\n",
       "      <td>10.0</td>\n",
       "      <td>9.0</td>\n",
       "      <td>9.0</td>\n",
       "      <td>93.0</td>\n",
       "      <td>0.42</td>\n",
       "      <td>2.0</td>\n",
       "      <td>3.0</td>\n",
       "      <td>3.0</td>\n",
       "      <td>15.0</td>\n",
       "      <td>15.0</td>\n",
       "      <td>39</td>\n",
       "      <td>360</td>\n",
       "      <td>86</td>\n",
       "      <td>56</td>\n",
       "      <td>26</td>\n",
       "      <td>365</td>\n",
       "      <td>3</td>\n",
       "      <td>10.0</td>\n",
       "      <td>4</td>\n",
       "      <td>6</td>\n",
       "      <td>13</td>\n",
       "      <td>-0.140024</td>\n",
       "      <td>51.520982</td>\n",
       "      <td>17402</td>\n",
       "    </tr>\n",
       "    <tr>\n",
       "      <td>4</td>\n",
       "      <td>NaN</td>\n",
       "      <td>250.0</td>\n",
       "      <td>70.0</td>\n",
       "      <td>9.0</td>\n",
       "      <td>9.0</td>\n",
       "      <td>10.0</td>\n",
       "      <td>10.0</td>\n",
       "      <td>10.0</td>\n",
       "      <td>10.0</td>\n",
       "      <td>98.0</td>\n",
       "      <td>0.94</td>\n",
       "      <td>1.5</td>\n",
       "      <td>2.0</td>\n",
       "      <td>2.0</td>\n",
       "      <td>2.0</td>\n",
       "      <td>2.0</td>\n",
       "      <td>92</td>\n",
       "      <td>363</td>\n",
       "      <td>88</td>\n",
       "      <td>58</td>\n",
       "      <td>28</td>\n",
       "      <td>90</td>\n",
       "      <td>90</td>\n",
       "      <td>15.0</td>\n",
       "      <td>2</td>\n",
       "      <td>4</td>\n",
       "      <td>1</td>\n",
       "      <td>-0.163764</td>\n",
       "      <td>51.472981</td>\n",
       "      <td>24328</td>\n",
       "    </tr>\n",
       "  </tbody>\n",
       "</table>\n",
       "</div>"
      ],
      "text/plain": [
       "   host_response_rate  security_deposit  cleaning_fee  review_scores_value  review_scores_location  review_scores_checkin  review_scores_accuracy  review_scores_communication  review_scores_cleanliness  review_scores_rating  reviews_per_month  bathrooms  beds  bedrooms  host_total_listings_count  host_listings_count  number_of_reviews  availability_365  availability_90  availability_60  availability_30  maximum_nights  minimum_nights  extra_people  guests_included  accommodates  \\\n",
       "0               100.0               NaN           7.0                 10.0                     9.0                   10.0                    10.0                         10.0                        9.0                  97.0               1.65        NaN   1.0       1.0                        4.0                  4.0                133               291               18               18               18             730               1          15.0                1             2   \n",
       "1                67.0               NaN           NaN                  9.0                     9.0                   10.0                     8.0                          9.0                        9.0                  90.0               0.09        NaN   1.0       1.0                        6.0                  6.0                  3                 0                0                0                0            1125               2          35.0                2             2   \n",
       "2                67.0             100.0          15.0                  9.0                     9.0                    9.0                     9.0                         10.0                       10.0                  95.0               0.14        1.0   0.0       1.0                        4.0                  4.0                 14               364               89               59               29              29               1          15.0                1             2   \n",
       "3                91.0             350.0          65.0                  9.0                    10.0                    9.0                    10.0                          9.0                        9.0                  93.0               0.42        2.0   3.0       3.0                       15.0                 15.0                 39               360               86               56               26             365               3          10.0                4             6   \n",
       "4                 NaN             250.0          70.0                  9.0                     9.0                   10.0                    10.0                         10.0                       10.0                  98.0               0.94        1.5   2.0       2.0                        2.0                  2.0                 92               363               88               58               28              90              90          15.0                2             4   \n",
       "\n",
       "   calculated_host_listings_count  longitude   latitude     id  \n",
       "0                               4  -0.105666  51.587767   9554  \n",
       "1                               6  -0.314508  51.515645  11076  \n",
       "2                               3  -0.111208  51.568017  13913  \n",
       "3                              13  -0.140024  51.520982  17402  \n",
       "4                               1  -0.163764  51.472981  24328  "
      ]
     },
     "execution_count": 7,
     "metadata": {},
     "output_type": "execute_result"
    }
   ],
   "source": [
    "# List of numerical variables\n",
    "num_vars = [var for var in df.columns if df[var].dtypes != 'O' and var not in ['price']]\n",
    "print('Number of numerical variables', len(num_vars))\n",
    "X = df[num_vars]\n",
    "print(X.shape)\n",
    "X.head()"
   ]
  },
  {
   "cell_type": "markdown",
   "metadata": {},
   "source": [
    "### Selected vars for dependent vars"
   ]
  },
  {
   "cell_type": "code",
   "execution_count": 8,
   "metadata": {},
   "outputs": [],
   "source": [
    "## df['log_price'] = np.log(df.price)\n",
    "## df['log_price'][0:3]\n",
    "Y = df['price']"
   ]
  },
  {
   "cell_type": "code",
   "execution_count": 9,
   "metadata": {},
   "outputs": [
    {
     "name": "stdout",
     "output_type": "stream",
     "text": [
      "(76856, 31)\n"
     ]
    },
    {
     "data": {
      "text/html": [
       "<div>\n",
       "<style scoped>\n",
       "    .dataframe tbody tr th:only-of-type {\n",
       "        vertical-align: middle;\n",
       "    }\n",
       "\n",
       "    .dataframe tbody tr th {\n",
       "        vertical-align: top;\n",
       "    }\n",
       "\n",
       "    .dataframe thead th {\n",
       "        text-align: right;\n",
       "    }\n",
       "</style>\n",
       "<table border=\"1\" class=\"dataframe\">\n",
       "  <thead>\n",
       "    <tr style=\"text-align: right;\">\n",
       "      <th></th>\n",
       "      <th>host_response_rate</th>\n",
       "      <th>security_deposit</th>\n",
       "      <th>cleaning_fee</th>\n",
       "      <th>review_scores_value</th>\n",
       "      <th>review_scores_location</th>\n",
       "      <th>review_scores_checkin</th>\n",
       "      <th>review_scores_accuracy</th>\n",
       "      <th>review_scores_communication</th>\n",
       "      <th>review_scores_cleanliness</th>\n",
       "      <th>review_scores_rating</th>\n",
       "      <th>reviews_per_month</th>\n",
       "      <th>bathrooms</th>\n",
       "      <th>beds</th>\n",
       "      <th>bedrooms</th>\n",
       "      <th>host_total_listings_count</th>\n",
       "      <th>host_listings_count</th>\n",
       "      <th>number_of_reviews</th>\n",
       "      <th>availability_365</th>\n",
       "      <th>availability_90</th>\n",
       "      <th>availability_60</th>\n",
       "      <th>availability_30</th>\n",
       "      <th>maximum_nights</th>\n",
       "      <th>minimum_nights</th>\n",
       "      <th>extra_people</th>\n",
       "      <th>guests_included</th>\n",
       "      <th>accommodates</th>\n",
       "      <th>calculated_host_listings_count</th>\n",
       "      <th>longitude</th>\n",
       "      <th>latitude</th>\n",
       "      <th>id</th>\n",
       "      <th>price</th>\n",
       "    </tr>\n",
       "  </thead>\n",
       "  <tbody>\n",
       "    <tr>\n",
       "      <td>0</td>\n",
       "      <td>100.0</td>\n",
       "      <td>NaN</td>\n",
       "      <td>7.0</td>\n",
       "      <td>10.0</td>\n",
       "      <td>9.0</td>\n",
       "      <td>10.0</td>\n",
       "      <td>10.0</td>\n",
       "      <td>10.0</td>\n",
       "      <td>9.0</td>\n",
       "      <td>97.0</td>\n",
       "      <td>1.65</td>\n",
       "      <td>NaN</td>\n",
       "      <td>1.0</td>\n",
       "      <td>1.0</td>\n",
       "      <td>4.0</td>\n",
       "      <td>4.0</td>\n",
       "      <td>133</td>\n",
       "      <td>291</td>\n",
       "      <td>18</td>\n",
       "      <td>18</td>\n",
       "      <td>18</td>\n",
       "      <td>730</td>\n",
       "      <td>1</td>\n",
       "      <td>15.0</td>\n",
       "      <td>1</td>\n",
       "      <td>2</td>\n",
       "      <td>4</td>\n",
       "      <td>-0.105666</td>\n",
       "      <td>51.587767</td>\n",
       "      <td>9554</td>\n",
       "      <td>35.0</td>\n",
       "    </tr>\n",
       "    <tr>\n",
       "      <td>1</td>\n",
       "      <td>67.0</td>\n",
       "      <td>NaN</td>\n",
       "      <td>NaN</td>\n",
       "      <td>9.0</td>\n",
       "      <td>9.0</td>\n",
       "      <td>10.0</td>\n",
       "      <td>8.0</td>\n",
       "      <td>9.0</td>\n",
       "      <td>9.0</td>\n",
       "      <td>90.0</td>\n",
       "      <td>0.09</td>\n",
       "      <td>NaN</td>\n",
       "      <td>1.0</td>\n",
       "      <td>1.0</td>\n",
       "      <td>6.0</td>\n",
       "      <td>6.0</td>\n",
       "      <td>3</td>\n",
       "      <td>0</td>\n",
       "      <td>0</td>\n",
       "      <td>0</td>\n",
       "      <td>0</td>\n",
       "      <td>1125</td>\n",
       "      <td>2</td>\n",
       "      <td>35.0</td>\n",
       "      <td>2</td>\n",
       "      <td>2</td>\n",
       "      <td>6</td>\n",
       "      <td>-0.314508</td>\n",
       "      <td>51.515645</td>\n",
       "      <td>11076</td>\n",
       "      <td>70.0</td>\n",
       "    </tr>\n",
       "    <tr>\n",
       "      <td>2</td>\n",
       "      <td>67.0</td>\n",
       "      <td>100.0</td>\n",
       "      <td>15.0</td>\n",
       "      <td>9.0</td>\n",
       "      <td>9.0</td>\n",
       "      <td>9.0</td>\n",
       "      <td>9.0</td>\n",
       "      <td>10.0</td>\n",
       "      <td>10.0</td>\n",
       "      <td>95.0</td>\n",
       "      <td>0.14</td>\n",
       "      <td>1.0</td>\n",
       "      <td>0.0</td>\n",
       "      <td>1.0</td>\n",
       "      <td>4.0</td>\n",
       "      <td>4.0</td>\n",
       "      <td>14</td>\n",
       "      <td>364</td>\n",
       "      <td>89</td>\n",
       "      <td>59</td>\n",
       "      <td>29</td>\n",
       "      <td>29</td>\n",
       "      <td>1</td>\n",
       "      <td>15.0</td>\n",
       "      <td>1</td>\n",
       "      <td>2</td>\n",
       "      <td>3</td>\n",
       "      <td>-0.111208</td>\n",
       "      <td>51.568017</td>\n",
       "      <td>13913</td>\n",
       "      <td>65.0</td>\n",
       "    </tr>\n",
       "  </tbody>\n",
       "</table>\n",
       "</div>"
      ],
      "text/plain": [
       "   host_response_rate  security_deposit  cleaning_fee  review_scores_value  review_scores_location  review_scores_checkin  review_scores_accuracy  review_scores_communication  review_scores_cleanliness  review_scores_rating  reviews_per_month  bathrooms  beds  bedrooms  host_total_listings_count  host_listings_count  number_of_reviews  availability_365  availability_90  availability_60  availability_30  maximum_nights  minimum_nights  extra_people  guests_included  accommodates  \\\n",
       "0               100.0               NaN           7.0                 10.0                     9.0                   10.0                    10.0                         10.0                        9.0                  97.0               1.65        NaN   1.0       1.0                        4.0                  4.0                133               291               18               18               18             730               1          15.0                1             2   \n",
       "1                67.0               NaN           NaN                  9.0                     9.0                   10.0                     8.0                          9.0                        9.0                  90.0               0.09        NaN   1.0       1.0                        6.0                  6.0                  3                 0                0                0                0            1125               2          35.0                2             2   \n",
       "2                67.0             100.0          15.0                  9.0                     9.0                    9.0                     9.0                         10.0                       10.0                  95.0               0.14        1.0   0.0       1.0                        4.0                  4.0                 14               364               89               59               29              29               1          15.0                1             2   \n",
       "\n",
       "   calculated_host_listings_count  longitude   latitude     id  price  \n",
       "0                               4  -0.105666  51.587767   9554   35.0  \n",
       "1                               6  -0.314508  51.515645  11076   70.0  \n",
       "2                               3  -0.111208  51.568017  13913   65.0  "
      ]
     },
     "execution_count": 9,
     "metadata": {},
     "output_type": "execute_result"
    }
   ],
   "source": [
    "df = pd.concat([X,Y],1)\n",
    "print(df.shape)\n",
    "df.head(3)"
   ]
  },
  {
   "cell_type": "markdown",
   "metadata": {},
   "source": [
    "-------------------------------------------------------------------------------------------------------------------\n",
    "# 6. Separate dataset into train and test\n",
    "-------------------------------------------------------------------------------------------------------------------\n",
    "\n",
    "This is to avoid over-fitting. This step involves randomness, therefore, it's needed to set the seed."
   ]
  },
  {
   "cell_type": "code",
   "execution_count": 10,
   "metadata": {},
   "outputs": [
    {
     "data": {
      "text/plain": [
       "((69170, 30), (7686, 30))"
      ]
     },
     "execution_count": 10,
     "metadata": {},
     "output_type": "execute_result"
    }
   ],
   "source": [
    "# Let's separate into train and test set\n",
    "# Remember to set the seed (random_state for this sklearn function)\n",
    "\n",
    "X_train, X_test, y_train, y_test = train_test_split(X, Y,test_size=0.1,random_state=0) # we are setting the seed here\n",
    "X_train.shape, X_test.shape"
   ]
  },
  {
   "cell_type": "code",
   "execution_count": 11,
   "metadata": {
    "scrolled": true
   },
   "outputs": [
    {
     "data": {
      "text/html": [
       "<div>\n",
       "<style scoped>\n",
       "    .dataframe tbody tr th:only-of-type {\n",
       "        vertical-align: middle;\n",
       "    }\n",
       "\n",
       "    .dataframe tbody tr th {\n",
       "        vertical-align: top;\n",
       "    }\n",
       "\n",
       "    .dataframe thead th {\n",
       "        text-align: right;\n",
       "    }\n",
       "</style>\n",
       "<table border=\"1\" class=\"dataframe\">\n",
       "  <thead>\n",
       "    <tr style=\"text-align: right;\">\n",
       "      <th></th>\n",
       "      <th>host_response_rate</th>\n",
       "      <th>security_deposit</th>\n",
       "      <th>cleaning_fee</th>\n",
       "      <th>review_scores_value</th>\n",
       "      <th>review_scores_location</th>\n",
       "      <th>review_scores_checkin</th>\n",
       "      <th>review_scores_accuracy</th>\n",
       "      <th>review_scores_communication</th>\n",
       "      <th>review_scores_cleanliness</th>\n",
       "      <th>review_scores_rating</th>\n",
       "      <th>reviews_per_month</th>\n",
       "      <th>bathrooms</th>\n",
       "      <th>beds</th>\n",
       "      <th>bedrooms</th>\n",
       "      <th>host_total_listings_count</th>\n",
       "      <th>host_listings_count</th>\n",
       "      <th>number_of_reviews</th>\n",
       "      <th>availability_365</th>\n",
       "      <th>availability_90</th>\n",
       "      <th>availability_60</th>\n",
       "      <th>availability_30</th>\n",
       "      <th>maximum_nights</th>\n",
       "      <th>minimum_nights</th>\n",
       "      <th>extra_people</th>\n",
       "      <th>guests_included</th>\n",
       "      <th>accommodates</th>\n",
       "      <th>calculated_host_listings_count</th>\n",
       "      <th>longitude</th>\n",
       "      <th>latitude</th>\n",
       "      <th>id</th>\n",
       "    </tr>\n",
       "  </thead>\n",
       "  <tbody>\n",
       "    <tr>\n",
       "      <td>8135</td>\n",
       "      <td>NaN</td>\n",
       "      <td>250.0</td>\n",
       "      <td>20.0</td>\n",
       "      <td>NaN</td>\n",
       "      <td>NaN</td>\n",
       "      <td>NaN</td>\n",
       "      <td>NaN</td>\n",
       "      <td>NaN</td>\n",
       "      <td>NaN</td>\n",
       "      <td>NaN</td>\n",
       "      <td>NaN</td>\n",
       "      <td>1.0</td>\n",
       "      <td>1.0</td>\n",
       "      <td>1.0</td>\n",
       "      <td>1.0</td>\n",
       "      <td>1.0</td>\n",
       "      <td>0</td>\n",
       "      <td>0</td>\n",
       "      <td>0</td>\n",
       "      <td>0</td>\n",
       "      <td>0</td>\n",
       "      <td>1125</td>\n",
       "      <td>5</td>\n",
       "      <td>0.0</td>\n",
       "      <td>1</td>\n",
       "      <td>4</td>\n",
       "      <td>1</td>\n",
       "      <td>0.012810</td>\n",
       "      <td>51.496015</td>\n",
       "      <td>5434392</td>\n",
       "    </tr>\n",
       "    <tr>\n",
       "      <td>12227</td>\n",
       "      <td>NaN</td>\n",
       "      <td>80.0</td>\n",
       "      <td>20.0</td>\n",
       "      <td>8.0</td>\n",
       "      <td>8.0</td>\n",
       "      <td>8.0</td>\n",
       "      <td>7.0</td>\n",
       "      <td>8.0</td>\n",
       "      <td>8.0</td>\n",
       "      <td>73.0</td>\n",
       "      <td>0.92</td>\n",
       "      <td>1.5</td>\n",
       "      <td>1.0</td>\n",
       "      <td>1.0</td>\n",
       "      <td>7.0</td>\n",
       "      <td>7.0</td>\n",
       "      <td>37</td>\n",
       "      <td>345</td>\n",
       "      <td>76</td>\n",
       "      <td>46</td>\n",
       "      <td>16</td>\n",
       "      <td>1125</td>\n",
       "      <td>2</td>\n",
       "      <td>30.0</td>\n",
       "      <td>2</td>\n",
       "      <td>2</td>\n",
       "      <td>7</td>\n",
       "      <td>0.014548</td>\n",
       "      <td>51.521170</td>\n",
       "      <td>7711381</td>\n",
       "    </tr>\n",
       "    <tr>\n",
       "      <td>38388</td>\n",
       "      <td>NaN</td>\n",
       "      <td>0.0</td>\n",
       "      <td>0.0</td>\n",
       "      <td>NaN</td>\n",
       "      <td>NaN</td>\n",
       "      <td>NaN</td>\n",
       "      <td>NaN</td>\n",
       "      <td>NaN</td>\n",
       "      <td>NaN</td>\n",
       "      <td>NaN</td>\n",
       "      <td>NaN</td>\n",
       "      <td>1.0</td>\n",
       "      <td>1.0</td>\n",
       "      <td>1.0</td>\n",
       "      <td>1.0</td>\n",
       "      <td>1.0</td>\n",
       "      <td>0</td>\n",
       "      <td>0</td>\n",
       "      <td>0</td>\n",
       "      <td>0</td>\n",
       "      <td>0</td>\n",
       "      <td>14</td>\n",
       "      <td>2</td>\n",
       "      <td>0.0</td>\n",
       "      <td>1</td>\n",
       "      <td>1</td>\n",
       "      <td>1</td>\n",
       "      <td>0.070736</td>\n",
       "      <td>51.586956</td>\n",
       "      <td>19707420</td>\n",
       "    </tr>\n",
       "    <tr>\n",
       "      <td>51128</td>\n",
       "      <td>100.0</td>\n",
       "      <td>150.0</td>\n",
       "      <td>5.0</td>\n",
       "      <td>9.0</td>\n",
       "      <td>10.0</td>\n",
       "      <td>10.0</td>\n",
       "      <td>10.0</td>\n",
       "      <td>10.0</td>\n",
       "      <td>9.0</td>\n",
       "      <td>96.0</td>\n",
       "      <td>3.74</td>\n",
       "      <td>1.0</td>\n",
       "      <td>1.0</td>\n",
       "      <td>1.0</td>\n",
       "      <td>1.0</td>\n",
       "      <td>1.0</td>\n",
       "      <td>35</td>\n",
       "      <td>0</td>\n",
       "      <td>0</td>\n",
       "      <td>0</td>\n",
       "      <td>0</td>\n",
       "      <td>1</td>\n",
       "      <td>1</td>\n",
       "      <td>0.0</td>\n",
       "      <td>1</td>\n",
       "      <td>2</td>\n",
       "      <td>1</td>\n",
       "      <td>-0.099387</td>\n",
       "      <td>51.483301</td>\n",
       "      <td>23352798</td>\n",
       "    </tr>\n",
       "    <tr>\n",
       "      <td>52695</td>\n",
       "      <td>80.0</td>\n",
       "      <td>NaN</td>\n",
       "      <td>NaN</td>\n",
       "      <td>10.0</td>\n",
       "      <td>9.0</td>\n",
       "      <td>9.0</td>\n",
       "      <td>9.0</td>\n",
       "      <td>9.0</td>\n",
       "      <td>8.0</td>\n",
       "      <td>87.0</td>\n",
       "      <td>1.25</td>\n",
       "      <td>1.0</td>\n",
       "      <td>0.0</td>\n",
       "      <td>1.0</td>\n",
       "      <td>4.0</td>\n",
       "      <td>4.0</td>\n",
       "      <td>11</td>\n",
       "      <td>4</td>\n",
       "      <td>4</td>\n",
       "      <td>4</td>\n",
       "      <td>4</td>\n",
       "      <td>1125</td>\n",
       "      <td>1</td>\n",
       "      <td>0.0</td>\n",
       "      <td>1</td>\n",
       "      <td>1</td>\n",
       "      <td>3</td>\n",
       "      <td>-0.251184</td>\n",
       "      <td>51.467573</td>\n",
       "      <td>23821005</td>\n",
       "    </tr>\n",
       "  </tbody>\n",
       "</table>\n",
       "</div>"
      ],
      "text/plain": [
       "       host_response_rate  security_deposit  cleaning_fee  review_scores_value  review_scores_location  review_scores_checkin  review_scores_accuracy  review_scores_communication  review_scores_cleanliness  review_scores_rating  reviews_per_month  bathrooms  beds  bedrooms  host_total_listings_count  host_listings_count  number_of_reviews  availability_365  availability_90  availability_60  availability_30  maximum_nights  minimum_nights  extra_people  guests_included  accommodates  \\\n",
       "8135                  NaN             250.0          20.0                  NaN                     NaN                    NaN                     NaN                          NaN                        NaN                   NaN                NaN        1.0   1.0       1.0                        1.0                  1.0                  0                 0                0                0                0            1125               5           0.0                1             4   \n",
       "12227                 NaN              80.0          20.0                  8.0                     8.0                    8.0                     7.0                          8.0                        8.0                  73.0               0.92        1.5   1.0       1.0                        7.0                  7.0                 37               345               76               46               16            1125               2          30.0                2             2   \n",
       "38388                 NaN               0.0           0.0                  NaN                     NaN                    NaN                     NaN                          NaN                        NaN                   NaN                NaN        1.0   1.0       1.0                        1.0                  1.0                  0                 0                0                0                0              14               2           0.0                1             1   \n",
       "51128               100.0             150.0           5.0                  9.0                    10.0                   10.0                    10.0                         10.0                        9.0                  96.0               3.74        1.0   1.0       1.0                        1.0                  1.0                 35                 0                0                0                0               1               1           0.0                1             2   \n",
       "52695                80.0               NaN           NaN                 10.0                     9.0                    9.0                     9.0                          9.0                        8.0                  87.0               1.25        1.0   0.0       1.0                        4.0                  4.0                 11                 4                4                4                4            1125               1           0.0                1             1   \n",
       "\n",
       "       calculated_host_listings_count  longitude   latitude        id  \n",
       "8135                                1   0.012810  51.496015   5434392  \n",
       "12227                               7   0.014548  51.521170   7711381  \n",
       "38388                               1   0.070736  51.586956  19707420  \n",
       "51128                               1  -0.099387  51.483301  23352798  \n",
       "52695                               3  -0.251184  51.467573  23821005  "
      ]
     },
     "execution_count": 11,
     "metadata": {},
     "output_type": "execute_result"
    }
   ],
   "source": [
    "X_train.head()"
   ]
  },
  {
   "cell_type": "markdown",
   "metadata": {},
   "source": [
    "----------------------------------------------------------------------------------------------------------------------"
   ]
  },
  {
   "cell_type": "markdown",
   "metadata": {},
   "source": [
    "# 7. Handling missing values"
   ]
  },
  {
   "cell_type": "markdown",
   "metadata": {},
   "source": [
    "### 2.1. Categorical variables\n",
    "\n",
    "For categorical variables, fill missing information by adding an additional category: \"missing\""
   ]
  },
  {
   "cell_type": "code",
   "execution_count": 12,
   "metadata": {
    "scrolled": false
   },
   "outputs": [
    {
     "data": {
      "text/html": [
       "<div>\n",
       "<style scoped>\n",
       "    .dataframe tbody tr th:only-of-type {\n",
       "        vertical-align: middle;\n",
       "    }\n",
       "\n",
       "    .dataframe tbody tr th {\n",
       "        vertical-align: top;\n",
       "    }\n",
       "\n",
       "    .dataframe thead th {\n",
       "        text-align: right;\n",
       "    }\n",
       "</style>\n",
       "<table border=\"1\" class=\"dataframe\">\n",
       "  <thead>\n",
       "    <tr style=\"text-align: right;\">\n",
       "      <th></th>\n",
       "      <th>Total</th>\n",
       "      <th>Percent</th>\n",
       "    </tr>\n",
       "  </thead>\n",
       "  <tbody>\n",
       "  </tbody>\n",
       "</table>\n",
       "</div>"
      ],
      "text/plain": [
       "Empty DataFrame\n",
       "Columns: [Total, Percent]\n",
       "Index: []"
      ]
     },
     "execution_count": 12,
     "metadata": {},
     "output_type": "execute_result"
    }
   ],
   "source": [
    "# make a list of the categorical variables that contain missing values\n",
    "categorical_list = [var for var in df.columns if df[var].dtypes=='O']\n",
    "missing_df = Check_Missing_Data(df[categorical_list])\n",
    "missing_df.head()"
   ]
  },
  {
   "cell_type": "code",
   "execution_count": 13,
   "metadata": {},
   "outputs": [
    {
     "data": {
      "text/plain": [
       "0"
      ]
     },
     "execution_count": 13,
     "metadata": {},
     "output_type": "execute_result"
    }
   ],
   "source": [
    "missing_df = missing_df.loc[missing_df.Percent < 0.3,]\n",
    "missing_df.shape\n",
    "categorical_list = missing_df.index.values\n",
    "len(categorical_list)"
   ]
  },
  {
   "cell_type": "code",
   "execution_count": 14,
   "metadata": {},
   "outputs": [
    {
     "data": {
      "text/plain": [
       "[]"
      ]
     },
     "execution_count": 14,
     "metadata": {},
     "output_type": "execute_result"
    }
   ],
   "source": [
    "# function to replace NA in categorical variables\n",
    "def fill_categorical_na(df, var_list):\n",
    "    X = df.copy()\n",
    "    X[var_list] = df[var_list].fillna('Missing')\n",
    "    return X\n",
    "                                      \n",
    "# replace missing values with new label: \"Missing\"\n",
    "X_train = fill_categorical_na(X_train, categorical_list)\n",
    "# check that we have no missing information in the engineered variables\n",
    "[var for var in missing_df.index.values if X_train[var].isnull().sum()>0]"
   ]
  },
  {
   "cell_type": "code",
   "execution_count": 15,
   "metadata": {},
   "outputs": [
    {
     "data": {
      "text/plain": [
       "[]"
      ]
     },
     "execution_count": 15,
     "metadata": {},
     "output_type": "execute_result"
    }
   ],
   "source": [
    "# replace missing values with new label: \"Missing\"\n",
    "X_test = fill_categorical_na(X_test, missing_df.index.values)\n",
    "# check that we have no missing information in the engineered variables\n",
    "[var for var in missing_df.index.values if X_test[var].isnull().sum()>0]"
   ]
  },
  {
   "cell_type": "markdown",
   "metadata": {},
   "source": [
    "### 2.2. Numerical variables"
   ]
  },
  {
   "cell_type": "markdown",
   "metadata": {},
   "source": [
    "For numerical variables, add an additional variable to capture the missing information, and then replace the missing information in the original variable by the mode, or most frequent value:"
   ]
  },
  {
   "cell_type": "code",
   "execution_count": 16,
   "metadata": {},
   "outputs": [
    {
     "data": {
      "text/plain": [
       "(29, 2)"
      ]
     },
     "execution_count": 16,
     "metadata": {},
     "output_type": "execute_result"
    }
   ],
   "source": [
    "removed_list = ['id','price']\n",
    "# make a list of the categorical variables that contain missing values\n",
    "numerical_list = [var for var in df.columns if df[var].dtypes!='O' and var not in removed_list]\n",
    "\n",
    "# alternative approach\n",
    "# numerics= ['int16', 'int32', 'int64', 'float16', 'float32', 'float64']\n",
    "# numdf = df.select_dtypes(include=numerics)\n",
    "# numerical_list = numdf.columns\n",
    "# numerical_list\n",
    "\n",
    "missing_df = Check_Missing_Data(df[numerical_list])\n",
    "missing_df.shape"
   ]
  },
  {
   "cell_type": "code",
   "execution_count": 17,
   "metadata": {},
   "outputs": [
    {
     "data": {
      "text/plain": [
       "27"
      ]
     },
     "execution_count": 17,
     "metadata": {},
     "output_type": "execute_result"
    }
   ],
   "source": [
    "missing_df = missing_df.loc[missing_df.Percent < 0.3,]\n",
    "missing_df.shape\n",
    "numerical_list = missing_df.index.values\n",
    "len(numerical_list)"
   ]
  },
  {
   "cell_type": "code",
   "execution_count": 18,
   "metadata": {},
   "outputs": [],
   "source": [
    "# function to replace NA in categorical variables\n",
    "def fill_numerical_na(df, var_list):\n",
    "    X = df.copy()\n",
    "    for var in var_list:\n",
    "        # calculate the mode\n",
    "        mode_val = X[var].mode()[0]\n",
    "        X[var].fillna(mode_val, inplace=True)\n",
    "    return X"
   ]
  },
  {
   "cell_type": "code",
   "execution_count": 19,
   "metadata": {},
   "outputs": [
    {
     "data": {
      "text/plain": [
       "[]"
      ]
     },
     "execution_count": 19,
     "metadata": {},
     "output_type": "execute_result"
    }
   ],
   "source": [
    "# replace mode the missing values\n",
    "X_train = fill_numerical_na(X_train, numerical_list)\n",
    "# check that we have no missing information in the engineered variables\n",
    "[var for var in missing_df.index.values if X_train[var].isnull().sum()>0]"
   ]
  },
  {
   "cell_type": "code",
   "execution_count": 20,
   "metadata": {},
   "outputs": [
    {
     "data": {
      "text/plain": [
       "[]"
      ]
     },
     "execution_count": 20,
     "metadata": {},
     "output_type": "execute_result"
    }
   ],
   "source": [
    "# replace mode the missing values\n",
    "X_test = fill_numerical_na(X_test, missing_df.index.values)\n",
    "# check that we have no missing information in the engineered variables\n",
    "[var for var in missing_df.index.values if X_test[var].isnull().sum()>0]\n"
   ]
  },
  {
   "cell_type": "code",
   "execution_count": 21,
   "metadata": {},
   "outputs": [
    {
     "name": "stdout",
     "output_type": "stream",
     "text": [
      "(69170, 30)\n",
      "(7686, 30)\n"
     ]
    }
   ],
   "source": [
    "print(X_train.shape)\n",
    "print(X_test.shape)"
   ]
  },
  {
   "cell_type": "markdown",
   "metadata": {},
   "source": [
    "----------------------------------------------------------------------------------------------------------------------"
   ]
  },
  {
   "cell_type": "markdown",
   "metadata": {},
   "source": [
    "# 8. Data Transformation "
   ]
  },
  {
   "cell_type": "markdown",
   "metadata": {},
   "source": [
    "## 8.1 Numerical variables"
   ]
  },
  {
   "cell_type": "markdown",
   "metadata": {},
   "source": [
    "### Log Transform Non-Gaussian distributed variables\n",
    "\n",
    "We will log transform the numerical variables that do not contain zeros in order to get a more Gaussian-like distribution. This tends to help Linear machine learning models. "
   ]
  },
  {
   "cell_type": "code",
   "execution_count": 139,
   "metadata": {},
   "outputs": [],
   "source": [
    "# df['log_price'] = np.log(df['price'])\n",
    "# df['log_price'] = np.log(df['price'])"
   ]
  },
  {
   "cell_type": "markdown",
   "metadata": {},
   "source": [
    "## 8.2. Categorical variables"
   ]
  },
  {
   "cell_type": "code",
   "execution_count": 22,
   "metadata": {},
   "outputs": [],
   "source": [
    "cat_df = pd.DataFrame()\n",
    "full_ds = pd.concat(objs=[X_train[categorical_list], X_test[categorical_list]], axis=0)\n",
    "for var in categorical_list:\n",
    "    var_dummies = pd.get_dummies(full_ds[var], prefix=var, prefix_sep='_',drop_first=True)\n",
    "    cat_df = pd.concat([cat_df, var_dummies], axis=1)\n",
    "    \n",
    "l = X_train.shape[0]\n",
    "train_cat_df = cat_df[:l].reset_index(drop=True)\n",
    "test_cat_df = cat_df[l:].reset_index(drop=True)"
   ]
  },
  {
   "cell_type": "markdown",
   "metadata": {},
   "source": [
    "## 8.3. Text vars"
   ]
  },
  {
   "cell_type": "code",
   "execution_count": null,
   "metadata": {},
   "outputs": [],
   "source": []
  },
  {
   "cell_type": "markdown",
   "metadata": {},
   "source": [
    "## 8.4. Temporal vars"
   ]
  },
  {
   "cell_type": "markdown",
   "metadata": {},
   "source": [
    "## 8.5. Selected features"
   ]
  },
  {
   "cell_type": "code",
   "execution_count": 23,
   "metadata": {},
   "outputs": [
    {
     "name": "stdout",
     "output_type": "stream",
     "text": [
      "27\n"
     ]
    },
    {
     "data": {
      "text/plain": [
       "array(['cleaning_fee', 'review_scores_value', 'review_scores_location',\n",
       "       'review_scores_checkin', 'review_scores_accuracy',\n",
       "       'review_scores_communication', 'review_scores_cleanliness',\n",
       "       'review_scores_rating', 'reviews_per_month', 'bathrooms', 'beds',\n",
       "       'bedrooms', 'host_total_listings_count', 'host_listings_count',\n",
       "       'longitude', 'number_of_reviews', 'availability_365',\n",
       "       'availability_90', 'availability_60', 'availability_30',\n",
       "       'maximum_nights', 'minimum_nights', 'extra_people',\n",
       "       'guests_included', 'accommodates',\n",
       "       'calculated_host_listings_count', 'latitude'], dtype=object)"
      ]
     },
     "execution_count": 23,
     "metadata": {},
     "output_type": "execute_result"
    }
   ],
   "source": [
    "selected_features = numerical_list\n",
    "print(len(selected_features))\n",
    "selected_features"
   ]
  },
  {
   "cell_type": "code",
   "execution_count": 24,
   "metadata": {},
   "outputs": [
    {
     "data": {
      "text/plain": [
       "[]"
      ]
     },
     "execution_count": 24,
     "metadata": {},
     "output_type": "execute_result"
    }
   ],
   "source": [
    "[var for var in selected_features if X_train[var].isnull().sum()>0]"
   ]
  },
  {
   "cell_type": "code",
   "execution_count": 25,
   "metadata": {},
   "outputs": [
    {
     "data": {
      "text/plain": [
       "[]"
      ]
     },
     "execution_count": 25,
     "metadata": {},
     "output_type": "execute_result"
    }
   ],
   "source": [
    "[var for var in selected_features if X_test[var].isnull().sum()>0]"
   ]
  },
  {
   "cell_type": "markdown",
   "metadata": {},
   "source": [
    "# 9. Feature Scaling"
   ]
  },
  {
   "cell_type": "code",
   "execution_count": 26,
   "metadata": {},
   "outputs": [],
   "source": [
    "# fit scaler\n",
    "scaler = MinMaxScaler() # create an instance\n",
    "scaler.fit(X_train[selected_features]) #  fit  the scaler to the train set for later use\n",
    "\n",
    "# transform the train and test set, and add on the Id and SalePrice variables\n",
    "train_num_df = pd.DataFrame(scaler.transform(X_train[selected_features]), columns=selected_features)\n",
    "test_num_df = pd.DataFrame(scaler.transform(X_test[selected_features]), columns=selected_features)"
   ]
  },
  {
   "cell_type": "code",
   "execution_count": 27,
   "metadata": {},
   "outputs": [
    {
     "data": {
      "text/html": [
       "<div>\n",
       "<style scoped>\n",
       "    .dataframe tbody tr th:only-of-type {\n",
       "        vertical-align: middle;\n",
       "    }\n",
       "\n",
       "    .dataframe tbody tr th {\n",
       "        vertical-align: top;\n",
       "    }\n",
       "\n",
       "    .dataframe thead th {\n",
       "        text-align: right;\n",
       "    }\n",
       "</style>\n",
       "<table border=\"1\" class=\"dataframe\">\n",
       "  <thead>\n",
       "    <tr style=\"text-align: right;\">\n",
       "      <th></th>\n",
       "      <th>cleaning_fee</th>\n",
       "      <th>review_scores_value</th>\n",
       "      <th>review_scores_location</th>\n",
       "      <th>review_scores_checkin</th>\n",
       "      <th>review_scores_accuracy</th>\n",
       "      <th>review_scores_communication</th>\n",
       "      <th>review_scores_cleanliness</th>\n",
       "      <th>review_scores_rating</th>\n",
       "      <th>reviews_per_month</th>\n",
       "      <th>bathrooms</th>\n",
       "      <th>beds</th>\n",
       "      <th>bedrooms</th>\n",
       "      <th>host_total_listings_count</th>\n",
       "      <th>host_listings_count</th>\n",
       "      <th>longitude</th>\n",
       "      <th>number_of_reviews</th>\n",
       "      <th>availability_365</th>\n",
       "      <th>availability_90</th>\n",
       "      <th>availability_60</th>\n",
       "      <th>availability_30</th>\n",
       "      <th>maximum_nights</th>\n",
       "      <th>minimum_nights</th>\n",
       "      <th>extra_people</th>\n",
       "      <th>guests_included</th>\n",
       "      <th>accommodates</th>\n",
       "      <th>calculated_host_listings_count</th>\n",
       "      <th>latitude</th>\n",
       "    </tr>\n",
       "  </thead>\n",
       "  <tbody>\n",
       "    <tr>\n",
       "      <td>0</td>\n",
       "      <td>0.032573</td>\n",
       "      <td>1.000</td>\n",
       "      <td>1.000</td>\n",
       "      <td>1.000</td>\n",
       "      <td>1.000</td>\n",
       "      <td>1.000</td>\n",
       "      <td>1.000</td>\n",
       "      <td>1.0000</td>\n",
       "      <td>0.059819</td>\n",
       "      <td>0.071429</td>\n",
       "      <td>0.05</td>\n",
       "      <td>0.022727</td>\n",
       "      <td>0.000674</td>\n",
       "      <td>0.000674</td>\n",
       "      <td>0.653508</td>\n",
       "      <td>0.000000</td>\n",
       "      <td>0.000000</td>\n",
       "      <td>0.000000</td>\n",
       "      <td>0.000000</td>\n",
       "      <td>0.000000</td>\n",
       "      <td>5.234033e-07</td>\n",
       "      <td>0.003559</td>\n",
       "      <td>0.00000</td>\n",
       "      <td>0.000000</td>\n",
       "      <td>0.157895</td>\n",
       "      <td>0.000000</td>\n",
       "      <td>0.516919</td>\n",
       "    </tr>\n",
       "    <tr>\n",
       "      <td>1</td>\n",
       "      <td>0.032573</td>\n",
       "      <td>0.750</td>\n",
       "      <td>0.750</td>\n",
       "      <td>0.750</td>\n",
       "      <td>0.625</td>\n",
       "      <td>0.750</td>\n",
       "      <td>0.750</td>\n",
       "      <td>0.6625</td>\n",
       "      <td>0.054985</td>\n",
       "      <td>0.107143</td>\n",
       "      <td>0.05</td>\n",
       "      <td>0.022727</td>\n",
       "      <td>0.004717</td>\n",
       "      <td>0.004717</td>\n",
       "      <td>0.655717</td>\n",
       "      <td>0.069943</td>\n",
       "      <td>0.945205</td>\n",
       "      <td>0.844444</td>\n",
       "      <td>0.766667</td>\n",
       "      <td>0.533333</td>\n",
       "      <td>5.234033e-07</td>\n",
       "      <td>0.000890</td>\n",
       "      <td>0.12766</td>\n",
       "      <td>0.043478</td>\n",
       "      <td>0.052632</td>\n",
       "      <td>0.005530</td>\n",
       "      <td>0.582364</td>\n",
       "    </tr>\n",
       "    <tr>\n",
       "      <td>2</td>\n",
       "      <td>0.000000</td>\n",
       "      <td>1.000</td>\n",
       "      <td>1.000</td>\n",
       "      <td>1.000</td>\n",
       "      <td>1.000</td>\n",
       "      <td>1.000</td>\n",
       "      <td>1.000</td>\n",
       "      <td>1.0000</td>\n",
       "      <td>0.059819</td>\n",
       "      <td>0.071429</td>\n",
       "      <td>0.05</td>\n",
       "      <td>0.022727</td>\n",
       "      <td>0.000674</td>\n",
       "      <td>0.000674</td>\n",
       "      <td>0.727140</td>\n",
       "      <td>0.000000</td>\n",
       "      <td>0.000000</td>\n",
       "      <td>0.000000</td>\n",
       "      <td>0.000000</td>\n",
       "      <td>0.000000</td>\n",
       "      <td>6.053597e-09</td>\n",
       "      <td>0.000890</td>\n",
       "      <td>0.00000</td>\n",
       "      <td>0.000000</td>\n",
       "      <td>0.000000</td>\n",
       "      <td>0.000000</td>\n",
       "      <td>0.753521</td>\n",
       "    </tr>\n",
       "    <tr>\n",
       "      <td>3</td>\n",
       "      <td>0.008143</td>\n",
       "      <td>0.875</td>\n",
       "      <td>1.000</td>\n",
       "      <td>1.000</td>\n",
       "      <td>1.000</td>\n",
       "      <td>1.000</td>\n",
       "      <td>0.875</td>\n",
       "      <td>0.9500</td>\n",
       "      <td>0.225378</td>\n",
       "      <td>0.071429</td>\n",
       "      <td>0.05</td>\n",
       "      <td>0.022727</td>\n",
       "      <td>0.000674</td>\n",
       "      <td>0.000674</td>\n",
       "      <td>0.510891</td>\n",
       "      <td>0.066163</td>\n",
       "      <td>0.000000</td>\n",
       "      <td>0.000000</td>\n",
       "      <td>0.000000</td>\n",
       "      <td>0.000000</td>\n",
       "      <td>0.000000e+00</td>\n",
       "      <td>0.000000</td>\n",
       "      <td>0.00000</td>\n",
       "      <td>0.000000</td>\n",
       "      <td>0.052632</td>\n",
       "      <td>0.000000</td>\n",
       "      <td>0.483841</td>\n",
       "    </tr>\n",
       "    <tr>\n",
       "      <td>4</td>\n",
       "      <td>0.032573</td>\n",
       "      <td>1.000</td>\n",
       "      <td>0.875</td>\n",
       "      <td>0.875</td>\n",
       "      <td>0.875</td>\n",
       "      <td>0.875</td>\n",
       "      <td>0.750</td>\n",
       "      <td>0.8375</td>\n",
       "      <td>0.074924</td>\n",
       "      <td>0.071429</td>\n",
       "      <td>0.00</td>\n",
       "      <td>0.022727</td>\n",
       "      <td>0.002695</td>\n",
       "      <td>0.002695</td>\n",
       "      <td>0.317936</td>\n",
       "      <td>0.020794</td>\n",
       "      <td>0.010959</td>\n",
       "      <td>0.044444</td>\n",
       "      <td>0.066667</td>\n",
       "      <td>0.133333</td>\n",
       "      <td>5.234033e-07</td>\n",
       "      <td>0.000000</td>\n",
       "      <td>0.00000</td>\n",
       "      <td>0.000000</td>\n",
       "      <td>0.000000</td>\n",
       "      <td>0.001843</td>\n",
       "      <td>0.442923</td>\n",
       "    </tr>\n",
       "  </tbody>\n",
       "</table>\n",
       "</div>"
      ],
      "text/plain": [
       "   cleaning_fee  review_scores_value  review_scores_location  review_scores_checkin  review_scores_accuracy  review_scores_communication  review_scores_cleanliness  review_scores_rating  reviews_per_month  bathrooms  beds  bedrooms  host_total_listings_count  host_listings_count  longitude  number_of_reviews  availability_365  availability_90  availability_60  availability_30  maximum_nights  minimum_nights  extra_people  guests_included  accommodates  calculated_host_listings_count  latitude\n",
       "0      0.032573                1.000                   1.000                  1.000                   1.000                        1.000                      1.000                1.0000           0.059819   0.071429  0.05  0.022727                   0.000674             0.000674   0.653508           0.000000          0.000000         0.000000         0.000000         0.000000    5.234033e-07        0.003559       0.00000         0.000000      0.157895                        0.000000  0.516919\n",
       "1      0.032573                0.750                   0.750                  0.750                   0.625                        0.750                      0.750                0.6625           0.054985   0.107143  0.05  0.022727                   0.004717             0.004717   0.655717           0.069943          0.945205         0.844444         0.766667         0.533333    5.234033e-07        0.000890       0.12766         0.043478      0.052632                        0.005530  0.582364\n",
       "2      0.000000                1.000                   1.000                  1.000                   1.000                        1.000                      1.000                1.0000           0.059819   0.071429  0.05  0.022727                   0.000674             0.000674   0.727140           0.000000          0.000000         0.000000         0.000000         0.000000    6.053597e-09        0.000890       0.00000         0.000000      0.000000                        0.000000  0.753521\n",
       "3      0.008143                0.875                   1.000                  1.000                   1.000                        1.000                      0.875                0.9500           0.225378   0.071429  0.05  0.022727                   0.000674             0.000674   0.510891           0.066163          0.000000         0.000000         0.000000         0.000000    0.000000e+00        0.000000       0.00000         0.000000      0.052632                        0.000000  0.483841\n",
       "4      0.032573                1.000                   0.875                  0.875                   0.875                        0.875                      0.750                0.8375           0.074924   0.071429  0.00  0.022727                   0.002695             0.002695   0.317936           0.020794          0.010959         0.044444         0.066667         0.133333    5.234033e-07        0.000000       0.00000         0.000000      0.000000                        0.001843  0.442923"
      ]
     },
     "execution_count": 27,
     "metadata": {},
     "output_type": "execute_result"
    }
   ],
   "source": [
    "train_num_df.head()"
   ]
  },
  {
   "cell_type": "code",
   "execution_count": 147,
   "metadata": {},
   "outputs": [
    {
     "name": "stdout",
     "output_type": "stream",
     "text": [
      "(69356, 27)\n",
      "(7707, 27)\n"
     ]
    }
   ],
   "source": [
    "print(train_num_df.shape)\n",
    "print(test_num_df.shape)"
   ]
  },
  {
   "cell_type": "markdown",
   "metadata": {},
   "source": [
    "----------------------------------------------------------------------------------------------------------------------"
   ]
  },
  {
   "cell_type": "markdown",
   "metadata": {},
   "source": [
    "## Save preprocessed dataset"
   ]
  },
  {
   "cell_type": "code",
   "execution_count": 30,
   "metadata": {},
   "outputs": [],
   "source": [
    "train_ds = pd.concat([pd.DataFrame(X_train[['id']]).reset_index(drop=True),train_num_df,pd.DataFrame(y_train).reset_index(drop=True)],axis = 1)\n",
    "train_ds.to_csv('preprocessed_train_exp02.csv',index=False)\n",
    "test_ds = pd.concat([pd.DataFrame(X_test[['id']]).reset_index(drop=True),test_num_df,pd.DataFrame(y_test).reset_index(drop=True)],axis = 1)\n",
    "test_ds.to_csv('preprocessed_test_exp02.csv',index=False)"
   ]
  },
  {
   "cell_type": "code",
   "execution_count": 31,
   "metadata": {},
   "outputs": [
    {
     "name": "stdout",
     "output_type": "stream",
     "text": [
      "(69170, 29)\n",
      "(7686, 29)\n"
     ]
    }
   ],
   "source": [
    "print(train_ds.shape)\n",
    "print(test_ds.shape)"
   ]
  },
  {
   "cell_type": "code",
   "execution_count": 32,
   "metadata": {},
   "outputs": [],
   "source": [
    "# now we save the selected list of features\n",
    "pd.Series(train_ds.columns).to_csv('selected_features.csv', index=False)"
   ]
  },
  {
   "cell_type": "code",
   "execution_count": 33,
   "metadata": {},
   "outputs": [
    {
     "data": {
      "text/plain": [
       "0                                 id\n",
       "1                       cleaning_fee\n",
       "2                review_scores_value\n",
       "3             review_scores_location\n",
       "4              review_scores_checkin\n",
       "5             review_scores_accuracy\n",
       "6        review_scores_communication\n",
       "7          review_scores_cleanliness\n",
       "8               review_scores_rating\n",
       "9                  reviews_per_month\n",
       "10                         bathrooms\n",
       "11                              beds\n",
       "12                          bedrooms\n",
       "13         host_total_listings_count\n",
       "14               host_listings_count\n",
       "15                         longitude\n",
       "16                 number_of_reviews\n",
       "17                  availability_365\n",
       "18                   availability_90\n",
       "19                   availability_60\n",
       "20                   availability_30\n",
       "21                    maximum_nights\n",
       "22                    minimum_nights\n",
       "23                      extra_people\n",
       "24                   guests_included\n",
       "25                      accommodates\n",
       "26    calculated_host_listings_count\n",
       "27                          latitude\n",
       "28                             price\n",
       "dtype: object"
      ]
     },
     "execution_count": 33,
     "metadata": {},
     "output_type": "execute_result"
    }
   ],
   "source": [
    "pd.Series(train_ds.columns)"
   ]
  },
  {
   "cell_type": "code",
   "execution_count": null,
   "metadata": {},
   "outputs": [],
   "source": []
  }
 ],
 "metadata": {
  "kernelspec": {
   "display_name": "Python 3",
   "language": "python",
   "name": "python3"
  },
  "language_info": {
   "codemirror_mode": {
    "name": "ipython",
    "version": 3
   },
   "file_extension": ".py",
   "mimetype": "text/x-python",
   "name": "python",
   "nbconvert_exporter": "python",
   "pygments_lexer": "ipython3",
   "version": "3.6.5"
  },
  "toc": {
   "nav_menu": {},
   "number_sections": true,
   "sideBar": true,
   "skip_h1_title": false,
   "toc_cell": false,
   "toc_position": {
    "height": "583px",
    "left": "0px",
    "right": "1324px",
    "top": "107px",
    "width": "212px"
   },
   "toc_section_display": "block",
   "toc_window_display": true
  }
 },
 "nbformat": 4,
 "nbformat_minor": 2
}
