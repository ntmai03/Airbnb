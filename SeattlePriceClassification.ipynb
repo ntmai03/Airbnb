{
 "cells": [
  {
   "cell_type": "markdown",
   "metadata": {},
   "source": [
    "# Import package"
   ]
  },
  {
   "cell_type": "code",
   "execution_count": 1,
   "metadata": {},
   "outputs": [],
   "source": [
    "import warnings\n",
    "warnings.filterwarnings('ignore')"
   ]
  },
  {
   "cell_type": "code",
   "execution_count": 4,
   "metadata": {},
   "outputs": [],
   "source": [
    "#Import linear algebra and data manipulation\n",
    "import numpy as np\n",
    "import pandas as pd\n",
    "\n",
    "#Import plotting packages\n",
    "import matplotlib.pyplot as plt\n",
    "%matplotlib inline\n",
    "import seaborn as sns; sns.set()\n",
    "import matplotlib.pyplot as plt\n",
    "import matplotlib.cm as cmx\n",
    "import matplotlib.colors as colors\n",
    "plt.style.use('fivethirtyeight')\n",
    "\n",
    "#Import common utilities\n",
    "import math\n",
    "from collections import Counter\n",
    "\n",
    "# statsmodels\n",
    "import pylab\n",
    "import scipy.stats as stats\n",
    "import statsmodels.api as sm\n",
    "import statsmodels as statm\n",
    "import statsmodels.formula.api as smf\n",
    "from statsmodels.formula.api import ols\n",
    "\n",
    "#Import machine learning\n",
    "# Predictive Model\n",
    "from sklearn import linear_model\n",
    "from sklearn.preprocessing import PolynomialFeatures\n",
    "from sklearn.preprocessing import Imputer\n",
    "from sklearn.linear_model import RidgeCV\n",
    "from sklearn.linear_model import LassoCV\n",
    "from sklearn.preprocessing import Imputer\n",
    "from sklearn import ensemble\n",
    "from sklearn.ensemble import GradientBoostingRegressor  \n",
    "from sklearn.ensemble import RandomForestRegressor\n",
    "import xgboost \n",
    "\n",
    "# Accuracy Evaluation\n",
    "from sklearn.model_selection import train_test_split #split\n",
    "from sklearn.metrics import r2_score, mean_squared_error #metrics\n",
    "import sklearn.metrics as metrics\n",
    "from sklearn.grid_search import GridSearchCV\n",
    "from sklearn import preprocessing\n",
    "from sklearn.cross_validation import train_test_split\n",
    "from sklearn.metrics import classification_report, confusion_matrix \n",
    "from sklearn.model_selection import cross_val_score\n",
    "\n",
    "# NLP\n",
    "from nltk.corpus import stopwords\n",
    "from wordcloud import WordCloud, STOPWORDS\n",
    "import string\n",
    "import nltk\n",
    "import re\n",
    "from nltk.sentiment.vader import SentimentIntensityAnalyzer"
   ]
  },
  {
   "cell_type": "markdown",
   "metadata": {},
   "source": [
    "# Configuration"
   ]
  },
  {
   "cell_type": "code",
   "execution_count": 3,
   "metadata": {},
   "outputs": [],
   "source": [
    "pd.set_option('display.max_rows', 500)\n",
    "pd.set_option('display.max_columns', 100)\n",
    "pd.set_option('display.width', 505)"
   ]
  },
  {
   "cell_type": "markdown",
   "metadata": {},
   "source": [
    "# Importing data"
   ]
  },
  {
   "cell_type": "code",
   "execution_count": 5,
   "metadata": {},
   "outputs": [
    {
     "data": {
      "text/plain": [
       "(3818, 92)"
      ]
     },
     "execution_count": 5,
     "metadata": {},
     "output_type": "execute_result"
    }
   ],
   "source": [
    "listings_df = pd.read_csv('C:\\\\DataScience\\\\00_AnalysisProjects\\\\AirbnbAnalysis\\\\Data\\\\seattle_listings.csv', sep=',')\n",
    "listings_df.shape"
   ]
  },
  {
   "cell_type": "markdown",
   "metadata": {},
   "source": [
    "# Data Preparation"
   ]
  },
  {
   "cell_type": "markdown",
   "metadata": {},
   "source": [
    "## Numerical features"
   ]
  },
  {
   "cell_type": "markdown",
   "metadata": {},
   "source": [
    "### Convert columns from string to numeric values"
   ]
  },
  {
   "cell_type": "code",
   "execution_count": 6,
   "metadata": {},
   "outputs": [],
   "source": [
    "listings_df['price'] = listings_df['price'].str.replace(\"[$, ]\", \"\").astype(\"float\")\n",
    "listings_df['cleaning_fee'] = listings_df['cleaning_fee'].str.replace(\"[$, ]\", \"\").astype(\"float\")\n",
    "listings_df['extra_people'] = listings_df['extra_people'].str.replace(\"[$, ]\", \"\").astype(\"float\")"
   ]
  },
  {
   "cell_type": "markdown",
   "metadata": {},
   "source": [
    "### Select numerical features"
   ]
  },
  {
   "cell_type": "code",
   "execution_count": 7,
   "metadata": {},
   "outputs": [],
   "source": [
    "selected_cols = ['cleaning_fee', 'review_scores_accuracy', 'review_scores_checkin',\n",
    "       'review_scores_value', 'review_scores_location',\n",
    "       'review_scores_cleanliness', 'review_scores_communication',\n",
    "       'review_scores_rating', 'reviews_per_month', 'bathrooms',\n",
    "       'bedrooms', 'beds', 'latitude', 'availability_30',\n",
    "       'availability_60', 'availability_90', 'availability_365',\n",
    "       'number_of_reviews', 'minimum_nights', 'maximum_nights',\n",
    "       'extra_people', 'calculated_host_listings_count', 'longitude',\n",
    "       'guests_included', 'accommodates', 'price']"
   ]
  },
  {
   "cell_type": "code",
   "execution_count": 8,
   "metadata": {},
   "outputs": [
    {
     "data": {
      "text/plain": [
       "(3818, 26)"
      ]
     },
     "execution_count": 8,
     "metadata": {},
     "output_type": "execute_result"
    }
   ],
   "source": [
    "data_df = listings_df.copy(deep=True)\n",
    "data_df = data_df[selected_cols]\n",
    "data_df.shape"
   ]
  },
  {
   "cell_type": "markdown",
   "metadata": {},
   "source": [
    "### Filling NA values"
   ]
  },
  {
   "cell_type": "code",
   "execution_count": 9,
   "metadata": {},
   "outputs": [],
   "source": [
    "review_columns = ['review_scores_accuracy', 'review_scores_checkin', 'review_scores_value',\n",
    "                  'review_scores_location', 'review_scores_cleanliness','review_scores_communication',\n",
    "                  'review_scores_rating','reviews_per_month', 'cleaning_fee']\n",
    "for col in review_columns:\n",
    "    data_df[col].fillna(data_df[col].mean(), inplace=True)"
   ]
  },
  {
   "cell_type": "code",
   "execution_count": 10,
   "metadata": {},
   "outputs": [],
   "source": [
    "na_columns = ['bathrooms','bedrooms','beds']\n",
    "for col in na_columns:\n",
    "    data_df[col].fillna(data_df[col].mode()[0], inplace=True)"
   ]
  },
  {
   "cell_type": "code",
   "execution_count": 11,
   "metadata": {},
   "outputs": [
    {
     "data": {
      "text/plain": [
       "cleaning_fee                      0\n",
       "review_scores_accuracy            0\n",
       "review_scores_checkin             0\n",
       "review_scores_value               0\n",
       "review_scores_location            0\n",
       "review_scores_cleanliness         0\n",
       "review_scores_communication       0\n",
       "review_scores_rating              0\n",
       "reviews_per_month                 0\n",
       "bathrooms                         0\n",
       "bedrooms                          0\n",
       "beds                              0\n",
       "latitude                          0\n",
       "availability_30                   0\n",
       "availability_60                   0\n",
       "availability_90                   0\n",
       "availability_365                  0\n",
       "number_of_reviews                 0\n",
       "minimum_nights                    0\n",
       "maximum_nights                    0\n",
       "extra_people                      0\n",
       "calculated_host_listings_count    0\n",
       "longitude                         0\n",
       "guests_included                   0\n",
       "accommodates                      0\n",
       "price                             0\n",
       "dtype: int64"
      ]
     },
     "execution_count": 11,
     "metadata": {},
     "output_type": "execute_result"
    }
   ],
   "source": [
    "data_df.isnull().sum()"
   ]
  },
  {
   "cell_type": "markdown",
   "metadata": {},
   "source": [
    "### Classify label"
   ]
  },
  {
   "cell_type": "code",
   "execution_count": 20,
   "metadata": {},
   "outputs": [
    {
     "data": {
      "text/plain": [
       "127.97616553169199"
      ]
     },
     "execution_count": 20,
     "metadata": {},
     "output_type": "execute_result"
    }
   ],
   "source": [
    "mean_price = np.mean(listings_df['price'])\n",
    "mean_price"
   ]
  },
  {
   "cell_type": "code",
   "execution_count": 21,
   "metadata": {},
   "outputs": [],
   "source": [
    "data_df.loc[data_df['price'] <= mean_price, 'price_group'] = 0\n",
    "data_df.loc[data_df['price'] > mean_price, 'price_group'] = 1"
   ]
  },
  {
   "cell_type": "markdown",
   "metadata": {},
   "source": [
    "### Separate features and label"
   ]
  },
  {
   "cell_type": "code",
   "execution_count": 22,
   "metadata": {},
   "outputs": [
    {
     "data": {
      "text/plain": [
       "(3818, 25)"
      ]
     },
     "execution_count": 22,
     "metadata": {},
     "output_type": "execute_result"
    }
   ],
   "source": [
    "selected_cols = list(data_df.columns.values)\n",
    "selected_cols = [e for e in selected_cols if e not in ['price_group','price','log_price']]\n",
    "X_data = data_df.loc[:,selected_cols]\n",
    "Y_data = data_df.loc[:,'price_group']\n",
    "X_data.shape"
   ]
  },
  {
   "cell_type": "markdown",
   "metadata": {},
   "source": [
    "### Normalization"
   ]
  },
  {
   "cell_type": "code",
   "execution_count": 14,
   "metadata": {},
   "outputs": [
    {
     "data": {
      "text/html": [
       "<div>\n",
       "<style scoped>\n",
       "    .dataframe tbody tr th:only-of-type {\n",
       "        vertical-align: middle;\n",
       "    }\n",
       "\n",
       "    .dataframe tbody tr th {\n",
       "        vertical-align: top;\n",
       "    }\n",
       "\n",
       "    .dataframe thead th {\n",
       "        text-align: right;\n",
       "    }\n",
       "</style>\n",
       "<table border=\"1\" class=\"dataframe\">\n",
       "  <thead>\n",
       "    <tr style=\"text-align: right;\">\n",
       "      <th></th>\n",
       "      <th>cleaning_fee</th>\n",
       "      <th>review_scores_accuracy</th>\n",
       "      <th>review_scores_checkin</th>\n",
       "      <th>review_scores_value</th>\n",
       "      <th>review_scores_location</th>\n",
       "      <th>review_scores_cleanliness</th>\n",
       "      <th>review_scores_communication</th>\n",
       "      <th>review_scores_rating</th>\n",
       "      <th>reviews_per_month</th>\n",
       "      <th>bathrooms</th>\n",
       "      <th>bedrooms</th>\n",
       "      <th>beds</th>\n",
       "      <th>latitude</th>\n",
       "      <th>availability_30</th>\n",
       "      <th>availability_60</th>\n",
       "      <th>availability_90</th>\n",
       "      <th>availability_365</th>\n",
       "      <th>number_of_reviews</th>\n",
       "      <th>minimum_nights</th>\n",
       "      <th>maximum_nights</th>\n",
       "      <th>extra_people</th>\n",
       "      <th>calculated_host_listings_count</th>\n",
       "      <th>longitude</th>\n",
       "      <th>guests_included</th>\n",
       "      <th>accommodates</th>\n",
       "    </tr>\n",
       "  </thead>\n",
       "  <tbody>\n",
       "    <tr>\n",
       "      <th>0</th>\n",
       "      <td>-3.031586e-14</td>\n",
       "      <td>5.726658e-01</td>\n",
       "      <td>3.937630e-01</td>\n",
       "      <td>8.023812e-01</td>\n",
       "      <td>-1.063670e+00</td>\n",
       "      <td>6.112031e-01</td>\n",
       "      <td>3.679779e-01</td>\n",
       "      <td>7.654173e-02</td>\n",
       "      <td>1.195309e+00</td>\n",
       "      <td>-0.438461</td>\n",
       "      <td>-0.348068</td>\n",
       "      <td>-0.645342</td>\n",
       "      <td>0.170240</td>\n",
       "      <td>-0.228908</td>\n",
       "      <td>0.179356</td>\n",
       "      <td>0.379264</td>\n",
       "      <td>0.798601</td>\n",
       "      <td>4.897864</td>\n",
       "      <td>-0.083987</td>\n",
       "      <td>-0.246795</td>\n",
       "      <td>-0.322324</td>\n",
       "      <td>-0.160602</td>\n",
       "      <td>-1.194754</td>\n",
       "      <td>0.249756</td>\n",
       "      <td>0.329029</td>\n",
       "    </tr>\n",
       "    <tr>\n",
       "      <th>1</th>\n",
       "      <td>-5.204004e-01</td>\n",
       "      <td>5.726658e-01</td>\n",
       "      <td>3.937630e-01</td>\n",
       "      <td>8.023812e-01</td>\n",
       "      <td>6.831564e-01</td>\n",
       "      <td>6.112031e-01</td>\n",
       "      <td>3.679779e-01</td>\n",
       "      <td>2.426703e-01</td>\n",
       "      <td>-3.595500e-01</td>\n",
       "      <td>-0.438461</td>\n",
       "      <td>-0.348068</td>\n",
       "      <td>-0.645342</td>\n",
       "      <td>0.236078</td>\n",
       "      <td>-0.311063</td>\n",
       "      <td>-1.020585</td>\n",
       "      <td>-1.235563</td>\n",
       "      <td>0.364696</td>\n",
       "      <td>0.550724</td>\n",
       "      <td>-0.022651</td>\n",
       "      <td>-0.410158</td>\n",
       "      <td>-0.606680</td>\n",
       "      <td>0.518255</td>\n",
       "      <td>-1.025923</td>\n",
       "      <td>-0.513098</td>\n",
       "      <td>0.329029</td>\n",
       "    </tr>\n",
       "    <tr>\n",
       "      <th>2</th>\n",
       "      <td>5.711680e+00</td>\n",
       "      <td>5.726658e-01</td>\n",
       "      <td>3.937630e-01</td>\n",
       "      <td>8.023812e-01</td>\n",
       "      <td>6.831564e-01</td>\n",
       "      <td>6.112031e-01</td>\n",
       "      <td>3.679779e-01</td>\n",
       "      <td>4.087988e-01</td>\n",
       "      <td>-5.576595e-01</td>\n",
       "      <td>5.500872</td>\n",
       "      <td>4.183643</td>\n",
       "      <td>4.621311</td>\n",
       "      <td>0.017732</td>\n",
       "      <td>-1.296929</td>\n",
       "      <td>-1.320570</td>\n",
       "      <td>-1.206202</td>\n",
       "      <td>-0.195436</td>\n",
       "      <td>-0.058936</td>\n",
       "      <td>0.100020</td>\n",
       "      <td>-0.445801</td>\n",
       "      <td>0.815098</td>\n",
       "      <td>-0.160602</td>\n",
       "      <td>-1.146171</td>\n",
       "      <td>6.352583</td>\n",
       "      <td>3.869138</td>\n",
       "    </tr>\n",
       "    <tr>\n",
       "      <th>3</th>\n",
       "      <td>-3.031586e-14</td>\n",
       "      <td>1.119073e-14</td>\n",
       "      <td>-1.049403e-13</td>\n",
       "      <td>1.769432e-13</td>\n",
       "      <td>5.275077e-14</td>\n",
       "      <td>6.363495e-14</td>\n",
       "      <td>-1.304567e-13</td>\n",
       "      <td>-1.487322e-13</td>\n",
       "      <td>-1.439645e-14</td>\n",
       "      <td>-0.438461</td>\n",
       "      <td>-1.480996</td>\n",
       "      <td>0.232433</td>\n",
       "      <td>0.220980</td>\n",
       "      <td>-1.379085</td>\n",
       "      <td>-1.577700</td>\n",
       "      <td>-1.705330</td>\n",
       "      <td>-0.802903</td>\n",
       "      <td>-0.589075</td>\n",
       "      <td>-0.083987</td>\n",
       "      <td>0.204680</td>\n",
       "      <td>-0.606680</td>\n",
       "      <td>-0.330316</td>\n",
       "      <td>-1.139743</td>\n",
       "      <td>-0.513098</td>\n",
       "      <td>-0.176701</td>\n",
       "    </tr>\n",
       "    <tr>\n",
       "      <th>4</th>\n",
       "      <td>1.517011e+00</td>\n",
       "      <td>-1.002290e+00</td>\n",
       "      <td>3.937630e-01</td>\n",
       "      <td>-6.624741e-01</td>\n",
       "      <td>-1.063670e+00</td>\n",
       "      <td>-7.666159e-01</td>\n",
       "      <td>3.679779e-01</td>\n",
       "      <td>-4.218439e-01</td>\n",
       "      <td>-7.137458e-01</td>\n",
       "      <td>1.258492</td>\n",
       "      <td>1.917787</td>\n",
       "      <td>1.110209</td>\n",
       "      <td>0.091937</td>\n",
       "      <td>1.085580</td>\n",
       "      <td>0.993601</td>\n",
       "      <td>0.937113</td>\n",
       "      <td>0.948495</td>\n",
       "      <td>0.418189</td>\n",
       "      <td>-0.083987</td>\n",
       "      <td>0.204680</td>\n",
       "      <td>0.246387</td>\n",
       "      <td>-0.330316</td>\n",
       "      <td>-1.240293</td>\n",
       "      <td>3.301169</td>\n",
       "      <td>1.340489</td>\n",
       "    </tr>\n",
       "  </tbody>\n",
       "</table>\n",
       "</div>"
      ],
      "text/plain": [
       "   cleaning_fee  review_scores_accuracy  review_scores_checkin  review_scores_value  review_scores_location  review_scores_cleanliness  review_scores_communication  review_scores_rating  reviews_per_month  bathrooms  bedrooms      beds  latitude  availability_30  availability_60  availability_90  availability_365  number_of_reviews  minimum_nights  maximum_nights  extra_people  calculated_host_listings_count  longitude  guests_included  accommodates\n",
       "0 -3.031586e-14            5.726658e-01           3.937630e-01         8.023812e-01           -1.063670e+00               6.112031e-01                 3.679779e-01          7.654173e-02       1.195309e+00  -0.438461 -0.348068 -0.645342  0.170240        -0.228908         0.179356         0.379264          0.798601           4.897864       -0.083987       -0.246795     -0.322324                       -0.160602  -1.194754         0.249756      0.329029\n",
       "1 -5.204004e-01            5.726658e-01           3.937630e-01         8.023812e-01            6.831564e-01               6.112031e-01                 3.679779e-01          2.426703e-01      -3.595500e-01  -0.438461 -0.348068 -0.645342  0.236078        -0.311063        -1.020585        -1.235563          0.364696           0.550724       -0.022651       -0.410158     -0.606680                        0.518255  -1.025923        -0.513098      0.329029\n",
       "2  5.711680e+00            5.726658e-01           3.937630e-01         8.023812e-01            6.831564e-01               6.112031e-01                 3.679779e-01          4.087988e-01      -5.576595e-01   5.500872  4.183643  4.621311  0.017732        -1.296929        -1.320570        -1.206202         -0.195436          -0.058936        0.100020       -0.445801      0.815098                       -0.160602  -1.146171         6.352583      3.869138\n",
       "3 -3.031586e-14            1.119073e-14          -1.049403e-13         1.769432e-13            5.275077e-14               6.363495e-14                -1.304567e-13         -1.487322e-13      -1.439645e-14  -0.438461 -1.480996  0.232433  0.220980        -1.379085        -1.577700        -1.705330         -0.802903          -0.589075       -0.083987        0.204680     -0.606680                       -0.330316  -1.139743        -0.513098     -0.176701\n",
       "4  1.517011e+00           -1.002290e+00           3.937630e-01        -6.624741e-01           -1.063670e+00              -7.666159e-01                 3.679779e-01         -4.218439e-01      -7.137458e-01   1.258492  1.917787  1.110209  0.091937         1.085580         0.993601         0.937113          0.948495           0.418189       -0.083987        0.204680      0.246387                       -0.330316  -1.240293         3.301169      1.340489"
      ]
     },
     "execution_count": 14,
     "metadata": {},
     "output_type": "execute_result"
    }
   ],
   "source": [
    "def Normalize_Data(df):\n",
    "    for col in df.columns.values:\n",
    "        df[col] = df[col].astype(float)\n",
    "        mean = np.mean(df[col])\n",
    "        std = np.std(df[col])\n",
    "        df[col] = df[col].apply(lambda x: (x-mean)/std)\n",
    "    return df\n",
    "\n",
    "X_data = Normalize_Data(X_data)\n",
    "X_data.head()"
   ]
  },
  {
   "cell_type": "markdown",
   "metadata": {},
   "source": [
    "## Add Categorical features"
   ]
  },
  {
   "cell_type": "markdown",
   "metadata": {},
   "source": [
    "### room_type"
   ]
  },
  {
   "cell_type": "code",
   "execution_count": 16,
   "metadata": {},
   "outputs": [],
   "source": [
    "room_type = listings_df[['room_type']]\n",
    "room_dummies = pd.get_dummies(room_type,prefix='roomtype',prefix_sep='_')\n",
    "room_dummies.head()\n",
    "X_data = pd.concat((X_data,room_dummies.astype(int)),axis=1)"
   ]
  },
  {
   "cell_type": "markdown",
   "metadata": {},
   "source": [
    "# Split data into Training set and Test set\n"
   ]
  },
  {
   "cell_type": "code",
   "execution_count": 23,
   "metadata": {},
   "outputs": [],
   "source": [
    "X_train, X_test, Y_train, Y_test = train_test_split(X_data,Y_data,test_size=0.3,train_size=0.7,random_state=100)"
   ]
  },
  {
   "cell_type": "code",
   "execution_count": 24,
   "metadata": {},
   "outputs": [
    {
     "data": {
      "text/plain": [
       "(2672, 25)"
      ]
     },
     "execution_count": 24,
     "metadata": {},
     "output_type": "execute_result"
    }
   ],
   "source": [
    "X_train.shape"
   ]
  },
  {
   "cell_type": "markdown",
   "metadata": {},
   "source": [
    "# Predictive Model"
   ]
  },
  {
   "cell_type": "markdown",
   "metadata": {},
   "source": [
    "## Logistic Regression"
   ]
  },
  {
   "cell_type": "markdown",
   "metadata": {},
   "source": [
    "#### Train model"
   ]
  },
  {
   "cell_type": "code",
   "execution_count": 26,
   "metadata": {},
   "outputs": [
    {
     "data": {
      "text/plain": [
       "LogisticRegression(C=1.0, class_weight=None, dual=False, fit_intercept=True,\n",
       "          intercept_scaling=1, max_iter=100, multi_class='ovr', n_jobs=1,\n",
       "          penalty='l2', random_state=None, solver='liblinear', tol=0.0001,\n",
       "          verbose=0, warm_start=False)"
      ]
     },
     "execution_count": 26,
     "metadata": {},
     "output_type": "execute_result"
    }
   ],
   "source": [
    "# select a class of model\n",
    "from sklearn.linear_model import LogisticRegression\n",
    "# initiate model\n",
    "lg_model = LogisticRegression()\n",
    "# train model\n",
    "lg_model.fit(X_train,Y_train)"
   ]
  },
  {
   "cell_type": "markdown",
   "metadata": {},
   "source": [
    "#### Predict label"
   ]
  },
  {
   "cell_type": "code",
   "execution_count": 27,
   "metadata": {},
   "outputs": [],
   "source": [
    "Y_train_pred = lg_model.predict(X_train)\n",
    "Y_test_pred = lg_model.predict(X_test)"
   ]
  },
  {
   "cell_type": "markdown",
   "metadata": {},
   "source": [
    "#### Evaluating model accuracy"
   ]
  },
  {
   "cell_type": "markdown",
   "metadata": {},
   "source": [
    "Accuracy score"
   ]
  },
  {
   "cell_type": "code",
   "execution_count": 53,
   "metadata": {},
   "outputs": [
    {
     "name": "stdout",
     "output_type": "stream",
     "text": [
      "Train set: 0.82\n",
      "Test set: 0.81\n"
     ]
    }
   ],
   "source": [
    "print('Train set: {:.2f}'.format(lg_model.score(X_train, Y_train)))\n",
    "print('Test set: {:.2f}'.format(lg_model.score(X_test, Y_test)))"
   ]
  },
  {
   "cell_type": "markdown",
   "metadata": {},
   "source": [
    "Confusion Matrix"
   ]
  },
  {
   "cell_type": "code",
   "execution_count": 34,
   "metadata": {},
   "outputs": [
    {
     "name": "stdout",
     "output_type": "stream",
     "text": [
      "[[681  62]\n",
      " [160 243]]\n"
     ]
    }
   ],
   "source": [
    "from sklearn.metrics import confusion_matrix\n",
    "confusion_matrix = confusion_matrix(Y_test, Y_test_pred)\n",
    "print(confusion_matrix)"
   ]
  },
  {
   "cell_type": "markdown",
   "metadata": {},
   "source": [
    "Compute precision, recall, F-measure and support"
   ]
  },
  {
   "cell_type": "code",
   "execution_count": 37,
   "metadata": {},
   "outputs": [
    {
     "name": "stdout",
     "output_type": "stream",
     "text": [
      "             precision    recall  f1-score   support\n",
      "\n",
      "        0.0       0.81      0.92      0.86       743\n",
      "        1.0       0.80      0.60      0.69       403\n",
      "\n",
      "avg / total       0.81      0.81      0.80      1146\n",
      "\n"
     ]
    }
   ],
   "source": [
    "from sklearn.metrics import classification_report\n",
    "print(classification_report(Y_test, Y_test_pred))"
   ]
  },
  {
   "cell_type": "markdown",
   "metadata": {},
   "source": [
    "Roc Curve"
   ]
  },
  {
   "cell_type": "code",
   "execution_count": 64,
   "metadata": {},
   "outputs": [],
   "source": [
    "# ROC curve\n",
    "def rocAucCurve(classifier, X_test,Y_test ):\n",
    "    from sklearn.metrics import roc_auc_score\n",
    "    from sklearn.metrics import roc_curve\n",
    "    \n",
    "    roc_auc = roc_auc_score(Y_test, classifier.predict(X_test))\n",
    "    fpr, tpr, thresholds = roc_curve(Y_test, classifier.predict_proba(X_test)[:,1])\n",
    "    plt.figure()\n",
    "    plt.plot(fpr, tpr, label='ROC AUC (area = %0.2f)' % roc_auc)\n",
    "    plt.plot([0, 1], [0, 1],'r--')\n",
    "    plt.xlim([0.0, 1.0])\n",
    "    plt.ylim([0.0, 1.05])\n",
    "    plt.xlabel('False Positive Rate')\n",
    "    plt.ylabel('True Positive Rate')\n",
    "    plt.title('Receiver operating characteristic')\n",
    "    plt.legend(loc=\"lower right\")\n",
    "    plt.savefig('Log_ROC')\n",
    "    plt.show()\n"
   ]
  },
  {
   "cell_type": "code",
   "execution_count": 40,
   "metadata": {},
   "outputs": [
    {
     "data": {
      "image/png": "[encoded data removed]",
      "text/plain": [
       "<matplotlib.figure.Figure at 0x23e485d5c50>"
      ]
     },
     "metadata": {},
     "output_type": "display_data"
    }
   ],
   "source": [
    "rocAucCurve(lg_model, X_test,Y_test)"
   ]
  },
  {
   "cell_type": "code",
   "execution_count": 42,
   "metadata": {},
   "outputs": [],
   "source": [
    "from sklearn.metrics import roc_auc_score\n",
    "from sklearn.metrics import roc_curve\n",
    "logit_roc_auc = roc_auc_score(Y_test, classifier.predict(X_test))"
   ]
  },
  {
   "cell_type": "code",
   "execution_count": 43,
   "metadata": {},
   "outputs": [
    {
     "data": {
      "text/plain": [
       "0.75976608812105717"
      ]
     },
     "execution_count": 43,
     "metadata": {},
     "output_type": "execute_result"
    }
   ],
   "source": [
    "logit_roc_auc"
   ]
  },
  {
   "cell_type": "code",
   "execution_count": 44,
   "metadata": {},
   "outputs": [],
   "source": [
    "fpr, tpr, thresholds = roc_curve(Y_test, lg_model.predict_proba(X_test)[:,1])"
   ]
  },
  {
   "cell_type": "markdown",
   "metadata": {},
   "source": [
    "## Boosting Tree "
   ]
  },
  {
   "cell_type": "markdown",
   "metadata": {},
   "source": [
    "#### Train model"
   ]
  },
  {
   "cell_type": "code",
   "execution_count": 47,
   "metadata": {},
   "outputs": [
    {
     "data": {
      "text/plain": [
       "GradientBoostingClassifier(criterion='friedman_mse', init=None,\n",
       "              learning_rate=0.1, loss='deviance', max_depth=3,\n",
       "              max_features=None, max_leaf_nodes=None,\n",
       "              min_impurity_decrease=0.0, min_impurity_split=None,\n",
       "              min_samples_leaf=1, min_samples_split=2,\n",
       "              min_weight_fraction_leaf=0.0, n_estimators=100,\n",
       "              presort='auto', random_state=None, subsample=1.0, verbose=0,\n",
       "              warm_start=False)"
      ]
     },
     "execution_count": 47,
     "metadata": {},
     "output_type": "execute_result"
    }
   ],
   "source": [
    "# select a class of model\n",
    "from sklearn.ensemble import GradientBoostingClassifier\n",
    "# initiate model\n",
    "gb_model = GradientBoostingClassifier()\n",
    "# train model\n",
    "gb_model.fit(X_train, Y_train)"
   ]
  },
  {
   "cell_type": "code",
   "execution_count": 49,
   "metadata": {},
   "outputs": [
    {
     "data": {
      "text/plain": [
       "{'criterion': 'friedman_mse',\n",
       " 'init': None,\n",
       " 'learning_rate': 0.1,\n",
       " 'loss': 'deviance',\n",
       " 'max_depth': 3,\n",
       " 'max_features': None,\n",
       " 'max_leaf_nodes': None,\n",
       " 'min_impurity_decrease': 0.0,\n",
       " 'min_impurity_split': None,\n",
       " 'min_samples_leaf': 1,\n",
       " 'min_samples_split': 2,\n",
       " 'min_weight_fraction_leaf': 0.0,\n",
       " 'n_estimators': 100,\n",
       " 'presort': 'auto',\n",
       " 'random_state': None,\n",
       " 'subsample': 1.0,\n",
       " 'verbose': 0,\n",
       " 'warm_start': False}"
      ]
     },
     "execution_count": 49,
     "metadata": {},
     "output_type": "execute_result"
    }
   ],
   "source": [
    "# default parameters\n",
    "gb_model.get_params()"
   ]
  },
  {
   "cell_type": "markdown",
   "metadata": {},
   "source": [
    "#### Predicting label"
   ]
  },
  {
   "cell_type": "code",
   "execution_count": 50,
   "metadata": {},
   "outputs": [],
   "source": [
    "Y_train_pred = gb_model.predict(X_train)\n",
    "Y_test_pred = gb_model.predict(X_test)"
   ]
  },
  {
   "cell_type": "markdown",
   "metadata": {},
   "source": [
    "#### Evaluating Accuracy"
   ]
  },
  {
   "cell_type": "markdown",
   "metadata": {},
   "source": [
    "Accuracy Score"
   ]
  },
  {
   "cell_type": "code",
   "execution_count": 52,
   "metadata": {},
   "outputs": [
    {
     "name": "stdout",
     "output_type": "stream",
     "text": [
      "Train set: 0.88\n",
      "Test set: 0.84\n"
     ]
    }
   ],
   "source": [
    "print('Train set: {:.2f}'.format(gb_model.score(X_train, Y_train)))\n",
    "print('Test set: {:.2f}'.format(gb_model.score(X_test, Y_test)))"
   ]
  },
  {
   "cell_type": "markdown",
   "metadata": {},
   "source": [
    "Confusion Matrix"
   ]
  },
  {
   "cell_type": "code",
   "execution_count": 54,
   "metadata": {},
   "outputs": [
    {
     "name": "stdout",
     "output_type": "stream",
     "text": [
      "[[690  53]\n",
      " [133 270]]\n"
     ]
    }
   ],
   "source": [
    "from sklearn.metrics import confusion_matrix \n",
    "confusion_matrix = confusion_matrix(Y_test, Y_test_pred)\n",
    "print(confusion_matrix)"
   ]
  },
  {
   "cell_type": "markdown",
   "metadata": {},
   "source": [
    "Compute precision, recall, F-measure and support"
   ]
  },
  {
   "cell_type": "code",
   "execution_count": 55,
   "metadata": {},
   "outputs": [
    {
     "name": "stdout",
     "output_type": "stream",
     "text": [
      "             precision    recall  f1-score   support\n",
      "\n",
      "        0.0       0.84      0.93      0.88       743\n",
      "        1.0       0.84      0.67      0.74       403\n",
      "\n",
      "avg / total       0.84      0.84      0.83      1146\n",
      "\n"
     ]
    }
   ],
   "source": [
    "from sklearn.metrics import classification_report\n",
    "print(classification_report(Y_test, Y_test_pred)) "
   ]
  },
  {
   "cell_type": "markdown",
   "metadata": {},
   "source": [
    "ROC curve"
   ]
  },
  {
   "cell_type": "code",
   "execution_count": 59,
   "metadata": {},
   "outputs": [
    {
     "data": {
      "text/plain": [
       "0.79932137501711586"
      ]
     },
     "execution_count": 59,
     "metadata": {},
     "output_type": "execute_result"
    }
   ],
   "source": [
    "from sklearn.metrics import roc_auc_score\n",
    "gb_roc_auc = roc_auc_score(Y_test, gb_model.predict(X_test))\n",
    "gb_roc_auc"
   ]
  },
  {
   "cell_type": "code",
   "execution_count": null,
   "metadata": {},
   "outputs": [],
   "source": [
    "roc_auc = roc_auc_score(Y_test, classifier.predict(X_test))"
   ]
  },
  {
   "cell_type": "code",
   "execution_count": 66,
   "metadata": {},
   "outputs": [
    {
     "data": {
      "image/png": "[encoded data removed]",
      "text/plain": [
       "<matplotlib.figure.Figure at 0x23e488d9b00>"
      ]
     },
     "metadata": {},
     "output_type": "display_data"
    }
   ],
   "source": [
    "rocAucCurve(gb_model, X_test,Y_test)"
   ]
  },
  {
   "cell_type": "markdown",
   "metadata": {},
   "source": [
    "#### Tuning Model"
   ]
  },
  {
   "cell_type": "code",
   "execution_count": 68,
   "metadata": {},
   "outputs": [
    {
     "name": "stdout",
     "output_type": "stream",
     "text": [
      "Learning rate:  0.05\n",
      "Accuracy score (training): 0.825\n",
      "Accuracy score (validation): 0.817\n",
      "\n",
      "Learning rate:  0.1\n",
      "Accuracy score (training): 0.832\n",
      "Accuracy score (validation): 0.825\n",
      "\n",
      "Learning rate:  0.25\n",
      "Accuracy score (training): 0.861\n",
      "Accuracy score (validation): 0.826\n",
      "\n",
      "Learning rate:  0.5\n",
      "Accuracy score (training): 0.881\n",
      "Accuracy score (validation): 0.829\n",
      "\n",
      "Learning rate:  0.75\n",
      "Accuracy score (training): 0.898\n",
      "Accuracy score (validation): 0.833\n",
      "\n",
      "Learning rate:  1\n",
      "Accuracy score (training): 0.890\n",
      "Accuracy score (validation): 0.816\n",
      "\n"
     ]
    }
   ],
   "source": [
    "learning_rates = [0.05, 0.1, 0.25, 0.5, 0.75, 1]\n",
    "for learning_rate in learning_rates:\n",
    "    gb = GradientBoostingClassifier(n_estimators=100, learning_rate = learning_rate, max_features=2, max_depth = 2, random_state = 42)\n",
    "    gb.fit(X_train, Y_train)\n",
    "    print(\"Learning rate: \", learning_rate)\n",
    "    print(\"Accuracy score (training): {0:.3f}\".format(gb.score(X_train, Y_train)))\n",
    "    print(\"Accuracy score (validation): {0:.3f}\".format(gb.score(X_test, Y_test)))\n",
    "    print()"
   ]
  },
  {
   "cell_type": "code",
   "execution_count": null,
   "metadata": {},
   "outputs": [],
   "source": [
    "Use the best parameters"
   ]
  },
  {
   "cell_type": "code",
   "execution_count": 69,
   "metadata": {},
   "outputs": [
    {
     "data": {
      "text/plain": [
       "GradientBoostingClassifier(criterion='friedman_mse', init=None,\n",
       "              learning_rate=0.75, loss='deviance', max_depth=2,\n",
       "              max_features=2, max_leaf_nodes=None,\n",
       "              min_impurity_decrease=0.0, min_impurity_split=None,\n",
       "              min_samples_leaf=1, min_samples_split=2,\n",
       "              min_weight_fraction_leaf=0.0, n_estimators=100,\n",
       "              presort='auto', random_state=42, subsample=1.0, verbose=0,\n",
       "              warm_start=False)"
      ]
     },
     "execution_count": 69,
     "metadata": {},
     "output_type": "execute_result"
    }
   ],
   "source": [
    "gb_op = GradientBoostingClassifier(n_estimators=100, learning_rate = 0.75, max_features=2, max_depth = 2, random_state = 42)\n",
    "gb_op.fit(X_train,Y_train)"
   ]
  },
  {
   "cell_type": "markdown",
   "metadata": {},
   "source": [
    "Retrain model"
   ]
  },
  {
   "cell_type": "code",
   "execution_count": 70,
   "metadata": {},
   "outputs": [
    {
     "name": "stdout",
     "output_type": "stream",
     "text": [
      "             precision    recall  f1-score   support\n",
      "\n",
      "        0.0       0.85      0.90      0.88       743\n",
      "        1.0       0.80      0.71      0.75       403\n",
      "\n",
      "avg / total       0.83      0.83      0.83      1146\n",
      "\n"
     ]
    },
    {
     "data": {
      "image/png": "[encoded data removed]",
      "text/plain": [
       "<matplotlib.figure.Figure at 0x23e489ae208>"
      ]
     },
     "metadata": {},
     "output_type": "display_data"
    }
   ],
   "source": [
    "Y_test_pred = gb_op.predict(X_test)  \n",
    "from sklearn.metrics import confusion_matrix \n",
    "confusion_matrix = confusion_matrix(Y_test, Y_test_pred)\n",
    "print(classification_report(Y_test, Y_test_pred)) \n",
    "rocAucCurve(gb_op,X_test,Y_test)"
   ]
  },
  {
   "cell_type": "markdown",
   "metadata": {},
   "source": [
    "## Random Forest"
   ]
  },
  {
   "cell_type": "markdown",
   "metadata": {},
   "source": [
    "#### Train model"
   ]
  },
  {
   "cell_type": "code",
   "execution_count": 71,
   "metadata": {},
   "outputs": [
    {
     "data": {
      "text/plain": [
       "RandomForestClassifier(bootstrap=True, class_weight=None, criterion='gini',\n",
       "            max_depth=None, max_features='auto', max_leaf_nodes=None,\n",
       "            min_impurity_decrease=0.0, min_impurity_split=None,\n",
       "            min_samples_leaf=1, min_samples_split=2,\n",
       "            min_weight_fraction_leaf=0.0, n_estimators=10, n_jobs=1,\n",
       "            oob_score=False, random_state=None, verbose=0,\n",
       "            warm_start=False)"
      ]
     },
     "execution_count": 71,
     "metadata": {},
     "output_type": "execute_result"
    }
   ],
   "source": [
    "from sklearn import ensemble\n",
    "from sklearn.ensemble import RandomForestClassifier\n",
    "rf_model = RandomForestClassifier()  \n",
    "rf_model.fit(X_train, Y_train) "
   ]
  },
  {
   "cell_type": "markdown",
   "metadata": {},
   "source": [
    "#### Predicting label"
   ]
  },
  {
   "cell_type": "code",
   "execution_count": 72,
   "metadata": {},
   "outputs": [],
   "source": [
    "Y_train_pred = rf_model.predict(X_train)\n",
    "Y_test_pred = rf_model.predict(X_test)  "
   ]
  },
  {
   "cell_type": "markdown",
   "metadata": {},
   "source": [
    "#### Evaluating model accuracy"
   ]
  },
  {
   "cell_type": "markdown",
   "metadata": {},
   "source": [
    "Accuracy scores"
   ]
  },
  {
   "cell_type": "code",
   "execution_count": 76,
   "metadata": {},
   "outputs": [
    {
     "name": "stdout",
     "output_type": "stream",
     "text": [
      "Train set: 0.99\n",
      "Test set: 0.83\n"
     ]
    }
   ],
   "source": [
    "print('Train set: {:.2f}'.format(rf_model.score(X_train, Y_train)))\n",
    "print('Test set: {:.2f}'.format(rf_model.score(X_test, Y_test)))"
   ]
  },
  {
   "cell_type": "markdown",
   "metadata": {},
   "source": [
    "Confusion Matrix"
   ]
  },
  {
   "cell_type": "code",
   "execution_count": 77,
   "metadata": {},
   "outputs": [
    {
     "name": "stdout",
     "output_type": "stream",
     "text": [
      "[[691  52]\n",
      " [147 256]]\n"
     ]
    }
   ],
   "source": [
    "from sklearn.metrics import confusion_matrix  \n",
    "print(confusion_matrix(Y_test, Y_test_pred))"
   ]
  },
  {
   "cell_type": "markdown",
   "metadata": {},
   "source": [
    "Compute precision, recall, F-measure and support"
   ]
  },
  {
   "cell_type": "code",
   "execution_count": 78,
   "metadata": {},
   "outputs": [
    {
     "name": "stdout",
     "output_type": "stream",
     "text": [
      "             precision    recall  f1-score   support\n",
      "\n",
      "        0.0       0.82      0.93      0.87       743\n",
      "        1.0       0.83      0.64      0.72       403\n",
      "\n",
      "avg / total       0.83      0.83      0.82      1146\n",
      "\n"
     ]
    }
   ],
   "source": [
    "from sklearn.metrics import classification_report  \n",
    "print(classification_report(Y_test, Y_test_pred))  "
   ]
  },
  {
   "cell_type": "markdown",
   "metadata": {},
   "source": [
    "ROC Curve"
   ]
  },
  {
   "cell_type": "code",
   "execution_count": 79,
   "metadata": {},
   "outputs": [
    {
     "data": {
      "image/png": "[encoded data removed]",
      "text/plain": [
       "<matplotlib.figure.Figure at 0x23e489cd048>"
      ]
     },
     "metadata": {},
     "output_type": "display_data"
    }
   ],
   "source": [
    "rocAucCurve(rf_model, X_test,Y_test)"
   ]
  },
  {
   "cell_type": "markdown",
   "metadata": {},
   "source": [
    "#### Hyper parameters Tuning"
   ]
  },
  {
   "cell_type": "code",
   "execution_count": 80,
   "metadata": {},
   "outputs": [],
   "source": [
    "from sklearn.model_selection import RandomizedSearchCV\n",
    "from pprint import pprint\n",
    "from sklearn.model_selection import GridSearchCV\n",
    "param_grid = {\n",
    "    'bootstrap': [True],\n",
    "    'max_depth': [5, 25],\n",
    "    'max_features': [2, 10],\n",
    "    'min_samples_leaf': [3, 10],\n",
    "    'min_samples_split': [2, 10],\n",
    "    'n_estimators': [100, 200]\n",
    "}"
   ]
  },
  {
   "cell_type": "code",
   "execution_count": 81,
   "metadata": {},
   "outputs": [
    {
     "name": "stdout",
     "output_type": "stream",
     "text": [
      "Fitting 10 folds for each of 32 candidates, totalling 320 fits\n",
      "[CV] bootstrap=True, max_depth=5, max_features=2, min_samples_leaf=3, min_samples_split=2, n_estimators=100 \n",
      "[CV]  bootstrap=True, max_depth=5, max_features=2, min_samples_leaf=3, min_samples_split=2, n_estimators=100, total=   0.0s\n",
      "[CV] bootstrap=True, max_depth=5, max_features=2, min_samples_leaf=3, min_samples_split=2, n_estimators=100 \n"
     ]
    },
    {
     "name": "stderr",
     "output_type": "stream",
     "text": [
      "[Parallel(n_jobs=1)]: Done   1 out of   1 | elapsed:    0.1s remaining:    0.0s\n"
     ]
    },
    {
     "name": "stdout",
     "output_type": "stream",
     "text": [
      "[CV]  bootstrap=True, max_depth=5, max_features=2, min_samples_leaf=3, min_samples_split=2, n_estimators=100, total=   0.1s\n",
      "[CV] bootstrap=True, max_depth=5, max_features=2, min_samples_leaf=3, min_samples_split=2, n_estimators=100 \n",
      "[CV]  bootstrap=True, max_depth=5, max_features=2, min_samples_leaf=3, min_samples_split=2, n_estimators=100, total=   0.0s\n",
      "[CV] bootstrap=True, max_depth=5, max_features=2, min_samples_leaf=3, min_samples_split=2, n_estimators=100 \n",
      "[CV]  bootstrap=True, max_depth=5, max_features=2, min_samples_leaf=3, min_samples_split=2, n_estimators=100, total=   0.0s\n",
      "[CV] bootstrap=True, max_depth=5, max_features=2, min_samples_leaf=3, min_samples_split=2, n_estimators=100 \n",
      "[CV]  bootstrap=True, max_depth=5, max_features=2, min_samples_leaf=3, min_samples_split=2, n_estimators=100, total=   0.0s\n",
      "[CV] bootstrap=True, max_depth=5, max_features=2, min_samples_leaf=3, min_samples_split=2, n_estimators=100 \n",
      "[CV]  bootstrap=True, max_depth=5, max_features=2, min_samples_leaf=3, min_samples_split=2, n_estimators=100, total=   0.0s\n",
      "[CV] bootstrap=True, max_depth=5, max_features=2, min_samples_leaf=3, min_samples_split=2, n_estimators=100 \n",
      "[CV]  bootstrap=True, max_depth=5, max_features=2, min_samples_leaf=3, min_samples_split=2, n_estimators=100, total=   0.0s\n",
      "[CV] bootstrap=True, max_depth=5, max_features=2, min_samples_leaf=3, min_samples_split=2, n_estimators=100 \n",
      "[CV]  bootstrap=True, max_depth=5, max_features=2, min_samples_leaf=3, min_samples_split=2, n_estimators=100, total=   0.0s\n",
      "[CV] bootstrap=True, max_depth=5, max_features=2, min_samples_leaf=3, min_samples_split=2, n_estimators=100 \n",
      "[CV]  bootstrap=True, max_depth=5, max_features=2, min_samples_leaf=3, min_samples_split=2, n_estimators=100, total=   0.0s\n",
      "[CV] bootstrap=True, max_depth=5, max_features=2, min_samples_leaf=3, min_samples_split=2, n_estimators=100 \n",
      "[CV]  bootstrap=True, max_depth=5, max_features=2, min_samples_leaf=3, min_samples_split=2, n_estimators=100, total=   0.0s\n",
      "[CV] bootstrap=True, max_depth=5, max_features=2, min_samples_leaf=3, min_samples_split=2, n_estimators=200 \n",
      "[CV]  bootstrap=True, max_depth=5, max_features=2, min_samples_leaf=3, min_samples_split=2, n_estimators=200, total=   0.2s\n",
      "[CV] bootstrap=True, max_depth=5, max_features=2, min_samples_leaf=3, min_samples_split=2, n_estimators=200 \n",
      "[CV]  bootstrap=True, max_depth=5, max_features=2, min_samples_leaf=3, min_samples_split=2, n_estimators=200, total=   0.2s\n",
      "[CV] bootstrap=True, max_depth=5, max_features=2, min_samples_leaf=3, min_samples_split=2, n_estimators=200 \n",
      "[CV]  bootstrap=True, max_depth=5, max_features=2, min_samples_leaf=3, min_samples_split=2, n_estimators=200, total=   0.2s\n",
      "[CV] bootstrap=True, max_depth=5, max_features=2, min_samples_leaf=3, min_samples_split=2, n_estimators=200 \n",
      "[CV]  bootstrap=True, max_depth=5, max_features=2, min_samples_leaf=3, min_samples_split=2, n_estimators=200, total=   0.2s\n",
      "[CV] bootstrap=True, max_depth=5, max_features=2, min_samples_leaf=3, min_samples_split=2, n_estimators=200 \n",
      "[CV]  bootstrap=True, max_depth=5, max_features=2, min_samples_leaf=3, min_samples_split=2, n_estimators=200, total=   0.2s\n",
      "[CV] bootstrap=True, max_depth=5, max_features=2, min_samples_leaf=3, min_samples_split=2, n_estimators=200 \n",
      "[CV]  bootstrap=True, max_depth=5, max_features=2, min_samples_leaf=3, min_samples_split=2, n_estimators=200, total=   0.2s\n",
      "[CV] bootstrap=True, max_depth=5, max_features=2, min_samples_leaf=3, min_samples_split=2, n_estimators=200 \n",
      "[CV]  bootstrap=True, max_depth=5, max_features=2, min_samples_leaf=3, min_samples_split=2, n_estimators=200, total=   0.2s\n",
      "[CV] bootstrap=True, max_depth=5, max_features=2, min_samples_leaf=3, min_samples_split=2, n_estimators=200 \n",
      "[CV]  bootstrap=True, max_depth=5, max_features=2, min_samples_leaf=3, min_samples_split=2, n_estimators=200, total=   0.2s\n",
      "[CV] bootstrap=True, max_depth=5, max_features=2, min_samples_leaf=3, min_samples_split=2, n_estimators=200 \n",
      "[CV]  bootstrap=True, max_depth=5, max_features=2, min_samples_leaf=3, min_samples_split=2, n_estimators=200, total=   0.2s\n",
      "[CV] bootstrap=True, max_depth=5, max_features=2, min_samples_leaf=3, min_samples_split=2, n_estimators=200 \n",
      "[CV]  bootstrap=True, max_depth=5, max_features=2, min_samples_leaf=3, min_samples_split=2, n_estimators=200, total=   0.2s\n",
      "[CV] bootstrap=True, max_depth=5, max_features=2, min_samples_leaf=3, min_samples_split=10, n_estimators=100 \n",
      "[CV]  bootstrap=True, max_depth=5, max_features=2, min_samples_leaf=3, min_samples_split=10, n_estimators=100, total=   0.0s\n",
      "[CV] bootstrap=True, max_depth=5, max_features=2, min_samples_leaf=3, min_samples_split=10, n_estimators=100 \n",
      "[CV]  bootstrap=True, max_depth=5, max_features=2, min_samples_leaf=3, min_samples_split=10, n_estimators=100, total=   0.0s\n",
      "[CV] bootstrap=True, max_depth=5, max_features=2, min_samples_leaf=3, min_samples_split=10, n_estimators=100 \n",
      "[CV]  bootstrap=True, max_depth=5, max_features=2, min_samples_leaf=3, min_samples_split=10, n_estimators=100, total=   0.0s\n",
      "[CV] bootstrap=True, max_depth=5, max_features=2, min_samples_leaf=3, min_samples_split=10, n_estimators=100 \n",
      "[CV]  bootstrap=True, max_depth=5, max_features=2, min_samples_leaf=3, min_samples_split=10, n_estimators=100, total=   0.0s\n",
      "[CV] bootstrap=True, max_depth=5, max_features=2, min_samples_leaf=3, min_samples_split=10, n_estimators=100 \n",
      "[CV]  bootstrap=True, max_depth=5, max_features=2, min_samples_leaf=3, min_samples_split=10, n_estimators=100, total=   0.1s\n",
      "[CV] bootstrap=True, max_depth=5, max_features=2, min_samples_leaf=3, min_samples_split=10, n_estimators=100 \n",
      "[CV]  bootstrap=True, max_depth=5, max_features=2, min_samples_leaf=3, min_samples_split=10, n_estimators=100, total=   0.0s\n",
      "[CV] bootstrap=True, max_depth=5, max_features=2, min_samples_leaf=3, min_samples_split=10, n_estimators=100 \n",
      "[CV]  bootstrap=True, max_depth=5, max_features=2, min_samples_leaf=3, min_samples_split=10, n_estimators=100, total=   0.0s\n",
      "[CV] bootstrap=True, max_depth=5, max_features=2, min_samples_leaf=3, min_samples_split=10, n_estimators=100 \n",
      "[CV]  bootstrap=True, max_depth=5, max_features=2, min_samples_leaf=3, min_samples_split=10, n_estimators=100, total=   0.0s\n",
      "[CV] bootstrap=True, max_depth=5, max_features=2, min_samples_leaf=3, min_samples_split=10, n_estimators=100 \n",
      "[CV]  bootstrap=True, max_depth=5, max_features=2, min_samples_leaf=3, min_samples_split=10, n_estimators=100, total=   0.0s\n",
      "[CV] bootstrap=True, max_depth=5, max_features=2, min_samples_leaf=3, min_samples_split=10, n_estimators=100 \n",
      "[CV]  bootstrap=True, max_depth=5, max_features=2, min_samples_leaf=3, min_samples_split=10, n_estimators=100, total=   0.0s\n",
      "[CV] bootstrap=True, max_depth=5, max_features=2, min_samples_leaf=3, min_samples_split=10, n_estimators=200 \n",
      "[CV]  bootstrap=True, max_depth=5, max_features=2, min_samples_leaf=3, min_samples_split=10, n_estimators=200, total=   0.2s\n",
      "[CV] bootstrap=True, max_depth=5, max_features=2, min_samples_leaf=3, min_samples_split=10, n_estimators=200 \n",
      "[CV]  bootstrap=True, max_depth=5, max_features=2, min_samples_leaf=3, min_samples_split=10, n_estimators=200, total=   0.2s\n",
      "[CV] bootstrap=True, max_depth=5, max_features=2, min_samples_leaf=3, min_samples_split=10, n_estimators=200 \n",
      "[CV]  bootstrap=True, max_depth=5, max_features=2, min_samples_leaf=3, min_samples_split=10, n_estimators=200, total=   0.2s\n",
      "[CV] bootstrap=True, max_depth=5, max_features=2, min_samples_leaf=3, min_samples_split=10, n_estimators=200 \n",
      "[CV]  bootstrap=True, max_depth=5, max_features=2, min_samples_leaf=3, min_samples_split=10, n_estimators=200, total=   0.2s\n",
      "[CV] bootstrap=True, max_depth=5, max_features=2, min_samples_leaf=3, min_samples_split=10, n_estimators=200 \n",
      "[CV]  bootstrap=True, max_depth=5, max_features=2, min_samples_leaf=3, min_samples_split=10, n_estimators=200, total=   0.2s\n",
      "[CV] bootstrap=True, max_depth=5, max_features=2, min_samples_leaf=3, min_samples_split=10, n_estimators=200 \n",
      "[CV]  bootstrap=True, max_depth=5, max_features=2, min_samples_leaf=3, min_samples_split=10, n_estimators=200, total=   0.2s\n",
      "[CV] bootstrap=True, max_depth=5, max_features=2, min_samples_leaf=3, min_samples_split=10, n_estimators=200 \n",
      "[CV]  bootstrap=True, max_depth=5, max_features=2, min_samples_leaf=3, min_samples_split=10, n_estimators=200, total=   0.2s\n",
      "[CV] bootstrap=True, max_depth=5, max_features=2, min_samples_leaf=3, min_samples_split=10, n_estimators=200 \n"
     ]
    },
    {
     "name": "stdout",
     "output_type": "stream",
     "text": [
      "[CV]  bootstrap=True, max_depth=5, max_features=2, min_samples_leaf=3, min_samples_split=10, n_estimators=200, total=   0.2s\n",
      "[CV] bootstrap=True, max_depth=5, max_features=2, min_samples_leaf=3, min_samples_split=10, n_estimators=200 \n",
      "[CV]  bootstrap=True, max_depth=5, max_features=2, min_samples_leaf=3, min_samples_split=10, n_estimators=200, total=   0.2s\n",
      "[CV] bootstrap=True, max_depth=5, max_features=2, min_samples_leaf=3, min_samples_split=10, n_estimators=200 \n",
      "[CV]  bootstrap=True, max_depth=5, max_features=2, min_samples_leaf=3, min_samples_split=10, n_estimators=200, total=   0.2s\n",
      "[CV] bootstrap=True, max_depth=5, max_features=2, min_samples_leaf=10, min_samples_split=2, n_estimators=100 \n",
      "[CV]  bootstrap=True, max_depth=5, max_features=2, min_samples_leaf=10, min_samples_split=2, n_estimators=100, total=   0.0s\n",
      "[CV] bootstrap=True, max_depth=5, max_features=2, min_samples_leaf=10, min_samples_split=2, n_estimators=100 \n",
      "[CV]  bootstrap=True, max_depth=5, max_features=2, min_samples_leaf=10, min_samples_split=2, n_estimators=100, total=   0.0s\n",
      "[CV] bootstrap=True, max_depth=5, max_features=2, min_samples_leaf=10, min_samples_split=2, n_estimators=100 \n",
      "[CV]  bootstrap=True, max_depth=5, max_features=2, min_samples_leaf=10, min_samples_split=2, n_estimators=100, total=   0.0s\n",
      "[CV] bootstrap=True, max_depth=5, max_features=2, min_samples_leaf=10, min_samples_split=2, n_estimators=100 \n",
      "[CV]  bootstrap=True, max_depth=5, max_features=2, min_samples_leaf=10, min_samples_split=2, n_estimators=100, total=   0.0s\n",
      "[CV] bootstrap=True, max_depth=5, max_features=2, min_samples_leaf=10, min_samples_split=2, n_estimators=100 \n",
      "[CV]  bootstrap=True, max_depth=5, max_features=2, min_samples_leaf=10, min_samples_split=2, n_estimators=100, total=   0.0s\n",
      "[CV] bootstrap=True, max_depth=5, max_features=2, min_samples_leaf=10, min_samples_split=2, n_estimators=100 \n",
      "[CV]  bootstrap=True, max_depth=5, max_features=2, min_samples_leaf=10, min_samples_split=2, n_estimators=100, total=   0.0s\n",
      "[CV] bootstrap=True, max_depth=5, max_features=2, min_samples_leaf=10, min_samples_split=2, n_estimators=100 \n",
      "[CV]  bootstrap=True, max_depth=5, max_features=2, min_samples_leaf=10, min_samples_split=2, n_estimators=100, total=   0.0s\n",
      "[CV] bootstrap=True, max_depth=5, max_features=2, min_samples_leaf=10, min_samples_split=2, n_estimators=100 \n",
      "[CV]  bootstrap=True, max_depth=5, max_features=2, min_samples_leaf=10, min_samples_split=2, n_estimators=100, total=   0.1s\n",
      "[CV] bootstrap=True, max_depth=5, max_features=2, min_samples_leaf=10, min_samples_split=2, n_estimators=100 \n",
      "[CV]  bootstrap=True, max_depth=5, max_features=2, min_samples_leaf=10, min_samples_split=2, n_estimators=100, total=   0.0s\n",
      "[CV] bootstrap=True, max_depth=5, max_features=2, min_samples_leaf=10, min_samples_split=2, n_estimators=100 \n",
      "[CV]  bootstrap=True, max_depth=5, max_features=2, min_samples_leaf=10, min_samples_split=2, n_estimators=100, total=   0.0s\n",
      "[CV] bootstrap=True, max_depth=5, max_features=2, min_samples_leaf=10, min_samples_split=2, n_estimators=200 \n",
      "[CV]  bootstrap=True, max_depth=5, max_features=2, min_samples_leaf=10, min_samples_split=2, n_estimators=200, total=   0.2s\n",
      "[CV] bootstrap=True, max_depth=5, max_features=2, min_samples_leaf=10, min_samples_split=2, n_estimators=200 \n",
      "[CV]  bootstrap=True, max_depth=5, max_features=2, min_samples_leaf=10, min_samples_split=2, n_estimators=200, total=   0.2s\n",
      "[CV] bootstrap=True, max_depth=5, max_features=2, min_samples_leaf=10, min_samples_split=2, n_estimators=200 \n",
      "[CV]  bootstrap=True, max_depth=5, max_features=2, min_samples_leaf=10, min_samples_split=2, n_estimators=200, total=   0.2s\n",
      "[CV] bootstrap=True, max_depth=5, max_features=2, min_samples_leaf=10, min_samples_split=2, n_estimators=200 \n",
      "[CV]  bootstrap=True, max_depth=5, max_features=2, min_samples_leaf=10, min_samples_split=2, n_estimators=200, total=   0.2s\n",
      "[CV] bootstrap=True, max_depth=5, max_features=2, min_samples_leaf=10, min_samples_split=2, n_estimators=200 \n",
      "[CV]  bootstrap=True, max_depth=5, max_features=2, min_samples_leaf=10, min_samples_split=2, n_estimators=200, total=   0.2s\n",
      "[CV] bootstrap=True, max_depth=5, max_features=2, min_samples_leaf=10, min_samples_split=2, n_estimators=200 \n",
      "[CV]  bootstrap=True, max_depth=5, max_features=2, min_samples_leaf=10, min_samples_split=2, n_estimators=200, total=   0.2s\n",
      "[CV] bootstrap=True, max_depth=5, max_features=2, min_samples_leaf=10, min_samples_split=2, n_estimators=200 \n",
      "[CV]  bootstrap=True, max_depth=5, max_features=2, min_samples_leaf=10, min_samples_split=2, n_estimators=200, total=   0.2s\n",
      "[CV] bootstrap=True, max_depth=5, max_features=2, min_samples_leaf=10, min_samples_split=2, n_estimators=200 \n",
      "[CV]  bootstrap=True, max_depth=5, max_features=2, min_samples_leaf=10, min_samples_split=2, n_estimators=200, total=   0.2s\n",
      "[CV] bootstrap=True, max_depth=5, max_features=2, min_samples_leaf=10, min_samples_split=2, n_estimators=200 \n",
      "[CV]  bootstrap=True, max_depth=5, max_features=2, min_samples_leaf=10, min_samples_split=2, n_estimators=200, total=   0.2s\n",
      "[CV] bootstrap=True, max_depth=5, max_features=2, min_samples_leaf=10, min_samples_split=2, n_estimators=200 \n",
      "[CV]  bootstrap=True, max_depth=5, max_features=2, min_samples_leaf=10, min_samples_split=2, n_estimators=200, total=   0.2s\n",
      "[CV] bootstrap=True, max_depth=5, max_features=2, min_samples_leaf=10, min_samples_split=10, n_estimators=100 \n",
      "[CV]  bootstrap=True, max_depth=5, max_features=2, min_samples_leaf=10, min_samples_split=10, n_estimators=100, total=   0.1s\n",
      "[CV] bootstrap=True, max_depth=5, max_features=2, min_samples_leaf=10, min_samples_split=10, n_estimators=100 \n",
      "[CV]  bootstrap=True, max_depth=5, max_features=2, min_samples_leaf=10, min_samples_split=10, n_estimators=100, total=   0.1s\n",
      "[CV] bootstrap=True, max_depth=5, max_features=2, min_samples_leaf=10, min_samples_split=10, n_estimators=100 \n",
      "[CV]  bootstrap=True, max_depth=5, max_features=2, min_samples_leaf=10, min_samples_split=10, n_estimators=100, total=   0.1s\n",
      "[CV] bootstrap=True, max_depth=5, max_features=2, min_samples_leaf=10, min_samples_split=10, n_estimators=100 \n",
      "[CV]  bootstrap=True, max_depth=5, max_features=2, min_samples_leaf=10, min_samples_split=10, n_estimators=100, total=   0.1s\n",
      "[CV] bootstrap=True, max_depth=5, max_features=2, min_samples_leaf=10, min_samples_split=10, n_estimators=100 \n",
      "[CV]  bootstrap=True, max_depth=5, max_features=2, min_samples_leaf=10, min_samples_split=10, n_estimators=100, total=   0.1s\n",
      "[CV] bootstrap=True, max_depth=5, max_features=2, min_samples_leaf=10, min_samples_split=10, n_estimators=100 \n",
      "[CV]  bootstrap=True, max_depth=5, max_features=2, min_samples_leaf=10, min_samples_split=10, n_estimators=100, total=   0.1s\n",
      "[CV] bootstrap=True, max_depth=5, max_features=2, min_samples_leaf=10, min_samples_split=10, n_estimators=100 \n",
      "[CV]  bootstrap=True, max_depth=5, max_features=2, min_samples_leaf=10, min_samples_split=10, n_estimators=100, total=   0.1s\n",
      "[CV] bootstrap=True, max_depth=5, max_features=2, min_samples_leaf=10, min_samples_split=10, n_estimators=100 \n",
      "[CV]  bootstrap=True, max_depth=5, max_features=2, min_samples_leaf=10, min_samples_split=10, n_estimators=100, total=   0.1s\n",
      "[CV] bootstrap=True, max_depth=5, max_features=2, min_samples_leaf=10, min_samples_split=10, n_estimators=100 \n",
      "[CV]  bootstrap=True, max_depth=5, max_features=2, min_samples_leaf=10, min_samples_split=10, n_estimators=100, total=   0.1s\n",
      "[CV] bootstrap=True, max_depth=5, max_features=2, min_samples_leaf=10, min_samples_split=10, n_estimators=100 \n",
      "[CV]  bootstrap=True, max_depth=5, max_features=2, min_samples_leaf=10, min_samples_split=10, n_estimators=100, total=   0.1s\n",
      "[CV] bootstrap=True, max_depth=5, max_features=2, min_samples_leaf=10, min_samples_split=10, n_estimators=200 \n",
      "[CV]  bootstrap=True, max_depth=5, max_features=2, min_samples_leaf=10, min_samples_split=10, n_estimators=200, total=   0.2s\n",
      "[CV] bootstrap=True, max_depth=5, max_features=2, min_samples_leaf=10, min_samples_split=10, n_estimators=200 \n",
      "[CV]  bootstrap=True, max_depth=5, max_features=2, min_samples_leaf=10, min_samples_split=10, n_estimators=200, total=   0.3s\n",
      "[CV] bootstrap=True, max_depth=5, max_features=2, min_samples_leaf=10, min_samples_split=10, n_estimators=200 \n"
     ]
    },
    {
     "name": "stdout",
     "output_type": "stream",
     "text": [
      "[CV]  bootstrap=True, max_depth=5, max_features=2, min_samples_leaf=10, min_samples_split=10, n_estimators=200, total=   0.3s\n",
      "[CV] bootstrap=True, max_depth=5, max_features=2, min_samples_leaf=10, min_samples_split=10, n_estimators=200 \n",
      "[CV]  bootstrap=True, max_depth=5, max_features=2, min_samples_leaf=10, min_samples_split=10, n_estimators=200, total=   0.4s\n",
      "[CV] bootstrap=True, max_depth=5, max_features=2, min_samples_leaf=10, min_samples_split=10, n_estimators=200 \n",
      "[CV]  bootstrap=True, max_depth=5, max_features=2, min_samples_leaf=10, min_samples_split=10, n_estimators=200, total=   0.3s\n",
      "[CV] bootstrap=True, max_depth=5, max_features=2, min_samples_leaf=10, min_samples_split=10, n_estimators=200 \n",
      "[CV]  bootstrap=True, max_depth=5, max_features=2, min_samples_leaf=10, min_samples_split=10, n_estimators=200, total=   0.3s\n",
      "[CV] bootstrap=True, max_depth=5, max_features=2, min_samples_leaf=10, min_samples_split=10, n_estimators=200 \n",
      "[CV]  bootstrap=True, max_depth=5, max_features=2, min_samples_leaf=10, min_samples_split=10, n_estimators=200, total=   0.3s\n",
      "[CV] bootstrap=True, max_depth=5, max_features=2, min_samples_leaf=10, min_samples_split=10, n_estimators=200 \n",
      "[CV]  bootstrap=True, max_depth=5, max_features=2, min_samples_leaf=10, min_samples_split=10, n_estimators=200, total=   0.2s\n",
      "[CV] bootstrap=True, max_depth=5, max_features=2, min_samples_leaf=10, min_samples_split=10, n_estimators=200 \n",
      "[CV]  bootstrap=True, max_depth=5, max_features=2, min_samples_leaf=10, min_samples_split=10, n_estimators=200, total=   0.2s\n",
      "[CV] bootstrap=True, max_depth=5, max_features=2, min_samples_leaf=10, min_samples_split=10, n_estimators=200 \n",
      "[CV]  bootstrap=True, max_depth=5, max_features=2, min_samples_leaf=10, min_samples_split=10, n_estimators=200, total=   0.2s\n",
      "[CV] bootstrap=True, max_depth=5, max_features=10, min_samples_leaf=3, min_samples_split=2, n_estimators=100 \n",
      "[CV]  bootstrap=True, max_depth=5, max_features=10, min_samples_leaf=3, min_samples_split=2, n_estimators=100, total=   0.3s\n",
      "[CV] bootstrap=True, max_depth=5, max_features=10, min_samples_leaf=3, min_samples_split=2, n_estimators=100 \n",
      "[CV]  bootstrap=True, max_depth=5, max_features=10, min_samples_leaf=3, min_samples_split=2, n_estimators=100, total=   0.3s\n",
      "[CV] bootstrap=True, max_depth=5, max_features=10, min_samples_leaf=3, min_samples_split=2, n_estimators=100 \n",
      "[CV]  bootstrap=True, max_depth=5, max_features=10, min_samples_leaf=3, min_samples_split=2, n_estimators=100, total=   0.3s\n",
      "[CV] bootstrap=True, max_depth=5, max_features=10, min_samples_leaf=3, min_samples_split=2, n_estimators=100 \n",
      "[CV]  bootstrap=True, max_depth=5, max_features=10, min_samples_leaf=3, min_samples_split=2, n_estimators=100, total=   0.2s\n",
      "[CV] bootstrap=True, max_depth=5, max_features=10, min_samples_leaf=3, min_samples_split=2, n_estimators=100 \n",
      "[CV]  bootstrap=True, max_depth=5, max_features=10, min_samples_leaf=3, min_samples_split=2, n_estimators=100, total=   0.2s\n",
      "[CV] bootstrap=True, max_depth=5, max_features=10, min_samples_leaf=3, min_samples_split=2, n_estimators=100 \n",
      "[CV]  bootstrap=True, max_depth=5, max_features=10, min_samples_leaf=3, min_samples_split=2, n_estimators=100, total=   0.2s\n",
      "[CV] bootstrap=True, max_depth=5, max_features=10, min_samples_leaf=3, min_samples_split=2, n_estimators=100 \n",
      "[CV]  bootstrap=True, max_depth=5, max_features=10, min_samples_leaf=3, min_samples_split=2, n_estimators=100, total=   0.2s\n",
      "[CV] bootstrap=True, max_depth=5, max_features=10, min_samples_leaf=3, min_samples_split=2, n_estimators=100 \n",
      "[CV]  bootstrap=True, max_depth=5, max_features=10, min_samples_leaf=3, min_samples_split=2, n_estimators=100, total=   0.2s\n",
      "[CV] bootstrap=True, max_depth=5, max_features=10, min_samples_leaf=3, min_samples_split=2, n_estimators=100 \n",
      "[CV]  bootstrap=True, max_depth=5, max_features=10, min_samples_leaf=3, min_samples_split=2, n_estimators=100, total=   0.2s\n",
      "[CV] bootstrap=True, max_depth=5, max_features=10, min_samples_leaf=3, min_samples_split=2, n_estimators=100 \n",
      "[CV]  bootstrap=True, max_depth=5, max_features=10, min_samples_leaf=3, min_samples_split=2, n_estimators=100, total=   0.2s\n",
      "[CV] bootstrap=True, max_depth=5, max_features=10, min_samples_leaf=3, min_samples_split=2, n_estimators=200 \n",
      "[CV]  bootstrap=True, max_depth=5, max_features=10, min_samples_leaf=3, min_samples_split=2, n_estimators=200, total=   0.6s\n",
      "[CV] bootstrap=True, max_depth=5, max_features=10, min_samples_leaf=3, min_samples_split=2, n_estimators=200 \n",
      "[CV]  bootstrap=True, max_depth=5, max_features=10, min_samples_leaf=3, min_samples_split=2, n_estimators=200, total=   0.7s\n",
      "[CV] bootstrap=True, max_depth=5, max_features=10, min_samples_leaf=3, min_samples_split=2, n_estimators=200 \n",
      "[CV]  bootstrap=True, max_depth=5, max_features=10, min_samples_leaf=3, min_samples_split=2, n_estimators=200, total=   0.6s\n",
      "[CV] bootstrap=True, max_depth=5, max_features=10, min_samples_leaf=3, min_samples_split=2, n_estimators=200 \n",
      "[CV]  bootstrap=True, max_depth=5, max_features=10, min_samples_leaf=3, min_samples_split=2, n_estimators=200, total=   0.6s\n",
      "[CV] bootstrap=True, max_depth=5, max_features=10, min_samples_leaf=3, min_samples_split=2, n_estimators=200 \n",
      "[CV]  bootstrap=True, max_depth=5, max_features=10, min_samples_leaf=3, min_samples_split=2, n_estimators=200, total=   0.6s\n",
      "[CV] bootstrap=True, max_depth=5, max_features=10, min_samples_leaf=3, min_samples_split=2, n_estimators=200 \n",
      "[CV]  bootstrap=True, max_depth=5, max_features=10, min_samples_leaf=3, min_samples_split=2, n_estimators=200, total=   0.6s\n",
      "[CV] bootstrap=True, max_depth=5, max_features=10, min_samples_leaf=3, min_samples_split=2, n_estimators=200 \n",
      "[CV]  bootstrap=True, max_depth=5, max_features=10, min_samples_leaf=3, min_samples_split=2, n_estimators=200, total=   0.6s\n",
      "[CV] bootstrap=True, max_depth=5, max_features=10, min_samples_leaf=3, min_samples_split=2, n_estimators=200 \n",
      "[CV]  bootstrap=True, max_depth=5, max_features=10, min_samples_leaf=3, min_samples_split=2, n_estimators=200, total=   0.6s\n",
      "[CV] bootstrap=True, max_depth=5, max_features=10, min_samples_leaf=3, min_samples_split=2, n_estimators=200 \n",
      "[CV]  bootstrap=True, max_depth=5, max_features=10, min_samples_leaf=3, min_samples_split=2, n_estimators=200, total=   0.6s\n",
      "[CV] bootstrap=True, max_depth=5, max_features=10, min_samples_leaf=3, min_samples_split=2, n_estimators=200 \n",
      "[CV]  bootstrap=True, max_depth=5, max_features=10, min_samples_leaf=3, min_samples_split=2, n_estimators=200, total=   0.6s\n",
      "[CV] bootstrap=True, max_depth=5, max_features=10, min_samples_leaf=3, min_samples_split=10, n_estimators=100 \n",
      "[CV]  bootstrap=True, max_depth=5, max_features=10, min_samples_leaf=3, min_samples_split=10, n_estimators=100, total=   0.3s\n",
      "[CV] bootstrap=True, max_depth=5, max_features=10, min_samples_leaf=3, min_samples_split=10, n_estimators=100 \n",
      "[CV]  bootstrap=True, max_depth=5, max_features=10, min_samples_leaf=3, min_samples_split=10, n_estimators=100, total=   0.2s\n",
      "[CV] bootstrap=True, max_depth=5, max_features=10, min_samples_leaf=3, min_samples_split=10, n_estimators=100 \n",
      "[CV]  bootstrap=True, max_depth=5, max_features=10, min_samples_leaf=3, min_samples_split=10, n_estimators=100, total=   0.2s\n",
      "[CV] bootstrap=True, max_depth=5, max_features=10, min_samples_leaf=3, min_samples_split=10, n_estimators=100 \n",
      "[CV]  bootstrap=True, max_depth=5, max_features=10, min_samples_leaf=3, min_samples_split=10, n_estimators=100, total=   0.3s\n",
      "[CV] bootstrap=True, max_depth=5, max_features=10, min_samples_leaf=3, min_samples_split=10, n_estimators=100 \n",
      "[CV]  bootstrap=True, max_depth=5, max_features=10, min_samples_leaf=3, min_samples_split=10, n_estimators=100, total=   0.3s\n",
      "[CV] bootstrap=True, max_depth=5, max_features=10, min_samples_leaf=3, min_samples_split=10, n_estimators=100 \n",
      "[CV]  bootstrap=True, max_depth=5, max_features=10, min_samples_leaf=3, min_samples_split=10, n_estimators=100, total=   0.3s\n",
      "[CV] bootstrap=True, max_depth=5, max_features=10, min_samples_leaf=3, min_samples_split=10, n_estimators=100 \n",
      "[CV]  bootstrap=True, max_depth=5, max_features=10, min_samples_leaf=3, min_samples_split=10, n_estimators=100, total=   0.3s\n",
      "[CV] bootstrap=True, max_depth=5, max_features=10, min_samples_leaf=3, min_samples_split=10, n_estimators=100 \n"
     ]
    },
    {
     "name": "stdout",
     "output_type": "stream",
     "text": [
      "[CV]  bootstrap=True, max_depth=5, max_features=10, min_samples_leaf=3, min_samples_split=10, n_estimators=100, total=   0.4s\n",
      "[CV] bootstrap=True, max_depth=5, max_features=10, min_samples_leaf=3, min_samples_split=10, n_estimators=100 \n",
      "[CV]  bootstrap=True, max_depth=5, max_features=10, min_samples_leaf=3, min_samples_split=10, n_estimators=100, total=   0.3s\n",
      "[CV] bootstrap=True, max_depth=5, max_features=10, min_samples_leaf=3, min_samples_split=10, n_estimators=100 \n",
      "[CV]  bootstrap=True, max_depth=5, max_features=10, min_samples_leaf=3, min_samples_split=10, n_estimators=100, total=   0.3s\n",
      "[CV] bootstrap=True, max_depth=5, max_features=10, min_samples_leaf=3, min_samples_split=10, n_estimators=200 \n",
      "[CV]  bootstrap=True, max_depth=5, max_features=10, min_samples_leaf=3, min_samples_split=10, n_estimators=200, total=   0.6s\n",
      "[CV] bootstrap=True, max_depth=5, max_features=10, min_samples_leaf=3, min_samples_split=10, n_estimators=200 \n",
      "[CV]  bootstrap=True, max_depth=5, max_features=10, min_samples_leaf=3, min_samples_split=10, n_estimators=200, total=   0.5s\n",
      "[CV] bootstrap=True, max_depth=5, max_features=10, min_samples_leaf=3, min_samples_split=10, n_estimators=200 \n",
      "[CV]  bootstrap=True, max_depth=5, max_features=10, min_samples_leaf=3, min_samples_split=10, n_estimators=200, total=   0.6s\n",
      "[CV] bootstrap=True, max_depth=5, max_features=10, min_samples_leaf=3, min_samples_split=10, n_estimators=200 \n",
      "[CV]  bootstrap=True, max_depth=5, max_features=10, min_samples_leaf=3, min_samples_split=10, n_estimators=200, total=   0.6s\n",
      "[CV] bootstrap=True, max_depth=5, max_features=10, min_samples_leaf=3, min_samples_split=10, n_estimators=200 \n",
      "[CV]  bootstrap=True, max_depth=5, max_features=10, min_samples_leaf=3, min_samples_split=10, n_estimators=200, total=   0.6s\n",
      "[CV] bootstrap=True, max_depth=5, max_features=10, min_samples_leaf=3, min_samples_split=10, n_estimators=200 \n",
      "[CV]  bootstrap=True, max_depth=5, max_features=10, min_samples_leaf=3, min_samples_split=10, n_estimators=200, total=   0.6s\n",
      "[CV] bootstrap=True, max_depth=5, max_features=10, min_samples_leaf=3, min_samples_split=10, n_estimators=200 \n",
      "[CV]  bootstrap=True, max_depth=5, max_features=10, min_samples_leaf=3, min_samples_split=10, n_estimators=200, total=   0.6s\n",
      "[CV] bootstrap=True, max_depth=5, max_features=10, min_samples_leaf=3, min_samples_split=10, n_estimators=200 \n",
      "[CV]  bootstrap=True, max_depth=5, max_features=10, min_samples_leaf=3, min_samples_split=10, n_estimators=200, total=   0.6s\n",
      "[CV] bootstrap=True, max_depth=5, max_features=10, min_samples_leaf=3, min_samples_split=10, n_estimators=200 \n",
      "[CV]  bootstrap=True, max_depth=5, max_features=10, min_samples_leaf=3, min_samples_split=10, n_estimators=200, total=   0.6s\n",
      "[CV] bootstrap=True, max_depth=5, max_features=10, min_samples_leaf=3, min_samples_split=10, n_estimators=200 \n",
      "[CV]  bootstrap=True, max_depth=5, max_features=10, min_samples_leaf=3, min_samples_split=10, n_estimators=200, total=   0.6s\n",
      "[CV] bootstrap=True, max_depth=5, max_features=10, min_samples_leaf=10, min_samples_split=2, n_estimators=100 \n",
      "[CV]  bootstrap=True, max_depth=5, max_features=10, min_samples_leaf=10, min_samples_split=2, n_estimators=100, total=   0.2s\n",
      "[CV] bootstrap=True, max_depth=5, max_features=10, min_samples_leaf=10, min_samples_split=2, n_estimators=100 \n",
      "[CV]  bootstrap=True, max_depth=5, max_features=10, min_samples_leaf=10, min_samples_split=2, n_estimators=100, total=   0.2s\n",
      "[CV] bootstrap=True, max_depth=5, max_features=10, min_samples_leaf=10, min_samples_split=2, n_estimators=100 \n",
      "[CV]  bootstrap=True, max_depth=5, max_features=10, min_samples_leaf=10, min_samples_split=2, n_estimators=100, total=   0.2s\n",
      "[CV] bootstrap=True, max_depth=5, max_features=10, min_samples_leaf=10, min_samples_split=2, n_estimators=100 \n",
      "[CV]  bootstrap=True, max_depth=5, max_features=10, min_samples_leaf=10, min_samples_split=2, n_estimators=100, total=   0.2s\n",
      "[CV] bootstrap=True, max_depth=5, max_features=10, min_samples_leaf=10, min_samples_split=2, n_estimators=100 \n",
      "[CV]  bootstrap=True, max_depth=5, max_features=10, min_samples_leaf=10, min_samples_split=2, n_estimators=100, total=   0.2s\n",
      "[CV] bootstrap=True, max_depth=5, max_features=10, min_samples_leaf=10, min_samples_split=2, n_estimators=100 \n",
      "[CV]  bootstrap=True, max_depth=5, max_features=10, min_samples_leaf=10, min_samples_split=2, n_estimators=100, total=   0.2s\n",
      "[CV] bootstrap=True, max_depth=5, max_features=10, min_samples_leaf=10, min_samples_split=2, n_estimators=100 \n",
      "[CV]  bootstrap=True, max_depth=5, max_features=10, min_samples_leaf=10, min_samples_split=2, n_estimators=100, total=   0.2s\n",
      "[CV] bootstrap=True, max_depth=5, max_features=10, min_samples_leaf=10, min_samples_split=2, n_estimators=100 \n",
      "[CV]  bootstrap=True, max_depth=5, max_features=10, min_samples_leaf=10, min_samples_split=2, n_estimators=100, total=   0.2s\n",
      "[CV] bootstrap=True, max_depth=5, max_features=10, min_samples_leaf=10, min_samples_split=2, n_estimators=100 \n",
      "[CV]  bootstrap=True, max_depth=5, max_features=10, min_samples_leaf=10, min_samples_split=2, n_estimators=100, total=   0.3s\n",
      "[CV] bootstrap=True, max_depth=5, max_features=10, min_samples_leaf=10, min_samples_split=2, n_estimators=100 \n",
      "[CV]  bootstrap=True, max_depth=5, max_features=10, min_samples_leaf=10, min_samples_split=2, n_estimators=100, total=   0.3s\n",
      "[CV] bootstrap=True, max_depth=5, max_features=10, min_samples_leaf=10, min_samples_split=2, n_estimators=200 \n",
      "[CV]  bootstrap=True, max_depth=5, max_features=10, min_samples_leaf=10, min_samples_split=2, n_estimators=200, total=   0.6s\n",
      "[CV] bootstrap=True, max_depth=5, max_features=10, min_samples_leaf=10, min_samples_split=2, n_estimators=200 \n",
      "[CV]  bootstrap=True, max_depth=5, max_features=10, min_samples_leaf=10, min_samples_split=2, n_estimators=200, total=   0.6s\n",
      "[CV] bootstrap=True, max_depth=5, max_features=10, min_samples_leaf=10, min_samples_split=2, n_estimators=200 \n",
      "[CV]  bootstrap=True, max_depth=5, max_features=10, min_samples_leaf=10, min_samples_split=2, n_estimators=200, total=   0.5s\n",
      "[CV] bootstrap=True, max_depth=5, max_features=10, min_samples_leaf=10, min_samples_split=2, n_estimators=200 \n",
      "[CV]  bootstrap=True, max_depth=5, max_features=10, min_samples_leaf=10, min_samples_split=2, n_estimators=200, total=   0.6s\n",
      "[CV] bootstrap=True, max_depth=5, max_features=10, min_samples_leaf=10, min_samples_split=2, n_estimators=200 \n",
      "[CV]  bootstrap=True, max_depth=5, max_features=10, min_samples_leaf=10, min_samples_split=2, n_estimators=200, total=   0.7s\n",
      "[CV] bootstrap=True, max_depth=5, max_features=10, min_samples_leaf=10, min_samples_split=2, n_estimators=200 \n",
      "[CV]  bootstrap=True, max_depth=5, max_features=10, min_samples_leaf=10, min_samples_split=2, n_estimators=200, total=   0.8s\n",
      "[CV] bootstrap=True, max_depth=5, max_features=10, min_samples_leaf=10, min_samples_split=2, n_estimators=200 \n",
      "[CV]  bootstrap=True, max_depth=5, max_features=10, min_samples_leaf=10, min_samples_split=2, n_estimators=200, total=   0.6s\n",
      "[CV] bootstrap=True, max_depth=5, max_features=10, min_samples_leaf=10, min_samples_split=2, n_estimators=200 \n",
      "[CV]  bootstrap=True, max_depth=5, max_features=10, min_samples_leaf=10, min_samples_split=2, n_estimators=200, total=   0.6s\n",
      "[CV] bootstrap=True, max_depth=5, max_features=10, min_samples_leaf=10, min_samples_split=2, n_estimators=200 \n",
      "[CV]  bootstrap=True, max_depth=5, max_features=10, min_samples_leaf=10, min_samples_split=2, n_estimators=200, total=   0.5s\n",
      "[CV] bootstrap=True, max_depth=5, max_features=10, min_samples_leaf=10, min_samples_split=2, n_estimators=200 \n",
      "[CV]  bootstrap=True, max_depth=5, max_features=10, min_samples_leaf=10, min_samples_split=2, n_estimators=200, total=   0.6s\n",
      "[CV] bootstrap=True, max_depth=5, max_features=10, min_samples_leaf=10, min_samples_split=10, n_estimators=100 \n",
      "[CV]  bootstrap=True, max_depth=5, max_features=10, min_samples_leaf=10, min_samples_split=10, n_estimators=100, total=   0.2s\n",
      "[CV] bootstrap=True, max_depth=5, max_features=10, min_samples_leaf=10, min_samples_split=10, n_estimators=100 \n",
      "[CV]  bootstrap=True, max_depth=5, max_features=10, min_samples_leaf=10, min_samples_split=10, n_estimators=100, total=   0.2s\n",
      "[CV] bootstrap=True, max_depth=5, max_features=10, min_samples_leaf=10, min_samples_split=10, n_estimators=100 \n"
     ]
    },
    {
     "name": "stdout",
     "output_type": "stream",
     "text": [
      "[CV]  bootstrap=True, max_depth=5, max_features=10, min_samples_leaf=10, min_samples_split=10, n_estimators=100, total=   0.3s\n",
      "[CV] bootstrap=True, max_depth=5, max_features=10, min_samples_leaf=10, min_samples_split=10, n_estimators=100 \n",
      "[CV]  bootstrap=True, max_depth=5, max_features=10, min_samples_leaf=10, min_samples_split=10, n_estimators=100, total=   0.3s\n",
      "[CV] bootstrap=True, max_depth=5, max_features=10, min_samples_leaf=10, min_samples_split=10, n_estimators=100 \n",
      "[CV]  bootstrap=True, max_depth=5, max_features=10, min_samples_leaf=10, min_samples_split=10, n_estimators=100, total=   0.2s\n",
      "[CV] bootstrap=True, max_depth=5, max_features=10, min_samples_leaf=10, min_samples_split=10, n_estimators=100 \n",
      "[CV]  bootstrap=True, max_depth=5, max_features=10, min_samples_leaf=10, min_samples_split=10, n_estimators=100, total=   0.2s\n",
      "[CV] bootstrap=True, max_depth=5, max_features=10, min_samples_leaf=10, min_samples_split=10, n_estimators=100 \n",
      "[CV]  bootstrap=True, max_depth=5, max_features=10, min_samples_leaf=10, min_samples_split=10, n_estimators=100, total=   0.2s\n",
      "[CV] bootstrap=True, max_depth=5, max_features=10, min_samples_leaf=10, min_samples_split=10, n_estimators=100 \n",
      "[CV]  bootstrap=True, max_depth=5, max_features=10, min_samples_leaf=10, min_samples_split=10, n_estimators=100, total=   0.2s\n",
      "[CV] bootstrap=True, max_depth=5, max_features=10, min_samples_leaf=10, min_samples_split=10, n_estimators=100 \n",
      "[CV]  bootstrap=True, max_depth=5, max_features=10, min_samples_leaf=10, min_samples_split=10, n_estimators=100, total=   0.2s\n",
      "[CV] bootstrap=True, max_depth=5, max_features=10, min_samples_leaf=10, min_samples_split=10, n_estimators=100 \n",
      "[CV]  bootstrap=True, max_depth=5, max_features=10, min_samples_leaf=10, min_samples_split=10, n_estimators=100, total=   0.2s\n",
      "[CV] bootstrap=True, max_depth=5, max_features=10, min_samples_leaf=10, min_samples_split=10, n_estimators=200 \n",
      "[CV]  bootstrap=True, max_depth=5, max_features=10, min_samples_leaf=10, min_samples_split=10, n_estimators=200, total=   0.6s\n",
      "[CV] bootstrap=True, max_depth=5, max_features=10, min_samples_leaf=10, min_samples_split=10, n_estimators=200 \n",
      "[CV]  bootstrap=True, max_depth=5, max_features=10, min_samples_leaf=10, min_samples_split=10, n_estimators=200, total=   0.5s\n",
      "[CV] bootstrap=True, max_depth=5, max_features=10, min_samples_leaf=10, min_samples_split=10, n_estimators=200 \n",
      "[CV]  bootstrap=True, max_depth=5, max_features=10, min_samples_leaf=10, min_samples_split=10, n_estimators=200, total=   0.5s\n",
      "[CV] bootstrap=True, max_depth=5, max_features=10, min_samples_leaf=10, min_samples_split=10, n_estimators=200 \n",
      "[CV]  bootstrap=True, max_depth=5, max_features=10, min_samples_leaf=10, min_samples_split=10, n_estimators=200, total=   0.6s\n",
      "[CV] bootstrap=True, max_depth=5, max_features=10, min_samples_leaf=10, min_samples_split=10, n_estimators=200 \n",
      "[CV]  bootstrap=True, max_depth=5, max_features=10, min_samples_leaf=10, min_samples_split=10, n_estimators=200, total=   0.6s\n",
      "[CV] bootstrap=True, max_depth=5, max_features=10, min_samples_leaf=10, min_samples_split=10, n_estimators=200 \n",
      "[CV]  bootstrap=True, max_depth=5, max_features=10, min_samples_leaf=10, min_samples_split=10, n_estimators=200, total=   0.5s\n",
      "[CV] bootstrap=True, max_depth=5, max_features=10, min_samples_leaf=10, min_samples_split=10, n_estimators=200 \n",
      "[CV]  bootstrap=True, max_depth=5, max_features=10, min_samples_leaf=10, min_samples_split=10, n_estimators=200, total=   0.5s\n",
      "[CV] bootstrap=True, max_depth=5, max_features=10, min_samples_leaf=10, min_samples_split=10, n_estimators=200 \n",
      "[CV]  bootstrap=True, max_depth=5, max_features=10, min_samples_leaf=10, min_samples_split=10, n_estimators=200, total=   0.5s\n",
      "[CV] bootstrap=True, max_depth=5, max_features=10, min_samples_leaf=10, min_samples_split=10, n_estimators=200 \n",
      "[CV]  bootstrap=True, max_depth=5, max_features=10, min_samples_leaf=10, min_samples_split=10, n_estimators=200, total=   0.6s\n",
      "[CV] bootstrap=True, max_depth=5, max_features=10, min_samples_leaf=10, min_samples_split=10, n_estimators=200 \n",
      "[CV]  bootstrap=True, max_depth=5, max_features=10, min_samples_leaf=10, min_samples_split=10, n_estimators=200, total=   0.5s\n",
      "[CV] bootstrap=True, max_depth=25, max_features=2, min_samples_leaf=3, min_samples_split=2, n_estimators=100 \n",
      "[CV]  bootstrap=True, max_depth=25, max_features=2, min_samples_leaf=3, min_samples_split=2, n_estimators=100, total=   0.2s\n",
      "[CV] bootstrap=True, max_depth=25, max_features=2, min_samples_leaf=3, min_samples_split=2, n_estimators=100 \n",
      "[CV]  bootstrap=True, max_depth=25, max_features=2, min_samples_leaf=3, min_samples_split=2, n_estimators=100, total=   0.2s\n",
      "[CV] bootstrap=True, max_depth=25, max_features=2, min_samples_leaf=3, min_samples_split=2, n_estimators=100 \n",
      "[CV]  bootstrap=True, max_depth=25, max_features=2, min_samples_leaf=3, min_samples_split=2, n_estimators=100, total=   0.2s\n",
      "[CV] bootstrap=True, max_depth=25, max_features=2, min_samples_leaf=3, min_samples_split=2, n_estimators=100 \n",
      "[CV]  bootstrap=True, max_depth=25, max_features=2, min_samples_leaf=3, min_samples_split=2, n_estimators=100, total=   0.2s\n",
      "[CV] bootstrap=True, max_depth=25, max_features=2, min_samples_leaf=3, min_samples_split=2, n_estimators=100 \n",
      "[CV]  bootstrap=True, max_depth=25, max_features=2, min_samples_leaf=3, min_samples_split=2, n_estimators=100, total=   0.2s\n",
      "[CV] bootstrap=True, max_depth=25, max_features=2, min_samples_leaf=3, min_samples_split=2, n_estimators=100 \n",
      "[CV]  bootstrap=True, max_depth=25, max_features=2, min_samples_leaf=3, min_samples_split=2, n_estimators=100, total=   0.2s\n",
      "[CV] bootstrap=True, max_depth=25, max_features=2, min_samples_leaf=3, min_samples_split=2, n_estimators=100 \n",
      "[CV]  bootstrap=True, max_depth=25, max_features=2, min_samples_leaf=3, min_samples_split=2, n_estimators=100, total=   0.1s\n",
      "[CV] bootstrap=True, max_depth=25, max_features=2, min_samples_leaf=3, min_samples_split=2, n_estimators=100 \n",
      "[CV]  bootstrap=True, max_depth=25, max_features=2, min_samples_leaf=3, min_samples_split=2, n_estimators=100, total=   0.1s\n",
      "[CV] bootstrap=True, max_depth=25, max_features=2, min_samples_leaf=3, min_samples_split=2, n_estimators=100 \n",
      "[CV]  bootstrap=True, max_depth=25, max_features=2, min_samples_leaf=3, min_samples_split=2, n_estimators=100, total=   0.1s\n",
      "[CV] bootstrap=True, max_depth=25, max_features=2, min_samples_leaf=3, min_samples_split=2, n_estimators=100 \n",
      "[CV]  bootstrap=True, max_depth=25, max_features=2, min_samples_leaf=3, min_samples_split=2, n_estimators=100, total=   0.2s\n",
      "[CV] bootstrap=True, max_depth=25, max_features=2, min_samples_leaf=3, min_samples_split=2, n_estimators=200 \n",
      "[CV]  bootstrap=True, max_depth=25, max_features=2, min_samples_leaf=3, min_samples_split=2, n_estimators=200, total=   0.4s\n",
      "[CV] bootstrap=True, max_depth=25, max_features=2, min_samples_leaf=3, min_samples_split=2, n_estimators=200 \n",
      "[CV]  bootstrap=True, max_depth=25, max_features=2, min_samples_leaf=3, min_samples_split=2, n_estimators=200, total=   0.3s\n",
      "[CV] bootstrap=True, max_depth=25, max_features=2, min_samples_leaf=3, min_samples_split=2, n_estimators=200 \n",
      "[CV]  bootstrap=True, max_depth=25, max_features=2, min_samples_leaf=3, min_samples_split=2, n_estimators=200, total=   0.3s\n",
      "[CV] bootstrap=True, max_depth=25, max_features=2, min_samples_leaf=3, min_samples_split=2, n_estimators=200 \n",
      "[CV]  bootstrap=True, max_depth=25, max_features=2, min_samples_leaf=3, min_samples_split=2, n_estimators=200, total=   0.3s\n",
      "[CV] bootstrap=True, max_depth=25, max_features=2, min_samples_leaf=3, min_samples_split=2, n_estimators=200 \n",
      "[CV]  bootstrap=True, max_depth=25, max_features=2, min_samples_leaf=3, min_samples_split=2, n_estimators=200, total=   0.3s\n",
      "[CV] bootstrap=True, max_depth=25, max_features=2, min_samples_leaf=3, min_samples_split=2, n_estimators=200 \n",
      "[CV]  bootstrap=True, max_depth=25, max_features=2, min_samples_leaf=3, min_samples_split=2, n_estimators=200, total=   0.3s\n",
      "[CV] bootstrap=True, max_depth=25, max_features=2, min_samples_leaf=3, min_samples_split=2, n_estimators=200 \n",
      "[CV]  bootstrap=True, max_depth=25, max_features=2, min_samples_leaf=3, min_samples_split=2, n_estimators=200, total=   0.3s\n",
      "[CV] bootstrap=True, max_depth=25, max_features=2, min_samples_leaf=3, min_samples_split=2, n_estimators=200 \n"
     ]
    },
    {
     "name": "stdout",
     "output_type": "stream",
     "text": [
      "[CV]  bootstrap=True, max_depth=25, max_features=2, min_samples_leaf=3, min_samples_split=2, n_estimators=200, total=   0.3s\n",
      "[CV] bootstrap=True, max_depth=25, max_features=2, min_samples_leaf=3, min_samples_split=2, n_estimators=200 \n",
      "[CV]  bootstrap=True, max_depth=25, max_features=2, min_samples_leaf=3, min_samples_split=2, n_estimators=200, total=   0.3s\n",
      "[CV] bootstrap=True, max_depth=25, max_features=2, min_samples_leaf=3, min_samples_split=2, n_estimators=200 \n",
      "[CV]  bootstrap=True, max_depth=25, max_features=2, min_samples_leaf=3, min_samples_split=2, n_estimators=200, total=   0.4s\n",
      "[CV] bootstrap=True, max_depth=25, max_features=2, min_samples_leaf=3, min_samples_split=10, n_estimators=100 \n",
      "[CV]  bootstrap=True, max_depth=25, max_features=2, min_samples_leaf=3, min_samples_split=10, n_estimators=100, total=   0.1s\n",
      "[CV] bootstrap=True, max_depth=25, max_features=2, min_samples_leaf=3, min_samples_split=10, n_estimators=100 \n",
      "[CV]  bootstrap=True, max_depth=25, max_features=2, min_samples_leaf=3, min_samples_split=10, n_estimators=100, total=   0.1s\n",
      "[CV] bootstrap=True, max_depth=25, max_features=2, min_samples_leaf=3, min_samples_split=10, n_estimators=100 \n",
      "[CV]  bootstrap=True, max_depth=25, max_features=2, min_samples_leaf=3, min_samples_split=10, n_estimators=100, total=   0.1s\n",
      "[CV] bootstrap=True, max_depth=25, max_features=2, min_samples_leaf=3, min_samples_split=10, n_estimators=100 \n",
      "[CV]  bootstrap=True, max_depth=25, max_features=2, min_samples_leaf=3, min_samples_split=10, n_estimators=100, total=   0.1s\n",
      "[CV] bootstrap=True, max_depth=25, max_features=2, min_samples_leaf=3, min_samples_split=10, n_estimators=100 \n",
      "[CV]  bootstrap=True, max_depth=25, max_features=2, min_samples_leaf=3, min_samples_split=10, n_estimators=100, total=   0.1s\n",
      "[CV] bootstrap=True, max_depth=25, max_features=2, min_samples_leaf=3, min_samples_split=10, n_estimators=100 \n",
      "[CV]  bootstrap=True, max_depth=25, max_features=2, min_samples_leaf=3, min_samples_split=10, n_estimators=100, total=   0.1s\n",
      "[CV] bootstrap=True, max_depth=25, max_features=2, min_samples_leaf=3, min_samples_split=10, n_estimators=100 \n",
      "[CV]  bootstrap=True, max_depth=25, max_features=2, min_samples_leaf=3, min_samples_split=10, n_estimators=100, total=   0.1s\n",
      "[CV] bootstrap=True, max_depth=25, max_features=2, min_samples_leaf=3, min_samples_split=10, n_estimators=100 \n",
      "[CV]  bootstrap=True, max_depth=25, max_features=2, min_samples_leaf=3, min_samples_split=10, n_estimators=100, total=   0.1s\n",
      "[CV] bootstrap=True, max_depth=25, max_features=2, min_samples_leaf=3, min_samples_split=10, n_estimators=100 \n",
      "[CV]  bootstrap=True, max_depth=25, max_features=2, min_samples_leaf=3, min_samples_split=10, n_estimators=100, total=   0.1s\n",
      "[CV] bootstrap=True, max_depth=25, max_features=2, min_samples_leaf=3, min_samples_split=10, n_estimators=100 \n",
      "[CV]  bootstrap=True, max_depth=25, max_features=2, min_samples_leaf=3, min_samples_split=10, n_estimators=100, total=   0.1s\n",
      "[CV] bootstrap=True, max_depth=25, max_features=2, min_samples_leaf=3, min_samples_split=10, n_estimators=200 \n",
      "[CV]  bootstrap=True, max_depth=25, max_features=2, min_samples_leaf=3, min_samples_split=10, n_estimators=200, total=   0.3s\n",
      "[CV] bootstrap=True, max_depth=25, max_features=2, min_samples_leaf=3, min_samples_split=10, n_estimators=200 \n",
      "[CV]  bootstrap=True, max_depth=25, max_features=2, min_samples_leaf=3, min_samples_split=10, n_estimators=200, total=   0.3s\n",
      "[CV] bootstrap=True, max_depth=25, max_features=2, min_samples_leaf=3, min_samples_split=10, n_estimators=200 \n",
      "[CV]  bootstrap=True, max_depth=25, max_features=2, min_samples_leaf=3, min_samples_split=10, n_estimators=200, total=   0.3s\n",
      "[CV] bootstrap=True, max_depth=25, max_features=2, min_samples_leaf=3, min_samples_split=10, n_estimators=200 \n",
      "[CV]  bootstrap=True, max_depth=25, max_features=2, min_samples_leaf=3, min_samples_split=10, n_estimators=200, total=   0.3s\n",
      "[CV] bootstrap=True, max_depth=25, max_features=2, min_samples_leaf=3, min_samples_split=10, n_estimators=200 \n",
      "[CV]  bootstrap=True, max_depth=25, max_features=2, min_samples_leaf=3, min_samples_split=10, n_estimators=200, total=   0.4s\n",
      "[CV] bootstrap=True, max_depth=25, max_features=2, min_samples_leaf=3, min_samples_split=10, n_estimators=200 \n",
      "[CV]  bootstrap=True, max_depth=25, max_features=2, min_samples_leaf=3, min_samples_split=10, n_estimators=200, total=   0.3s\n",
      "[CV] bootstrap=True, max_depth=25, max_features=2, min_samples_leaf=3, min_samples_split=10, n_estimators=200 \n",
      "[CV]  bootstrap=True, max_depth=25, max_features=2, min_samples_leaf=3, min_samples_split=10, n_estimators=200, total=   0.3s\n",
      "[CV] bootstrap=True, max_depth=25, max_features=2, min_samples_leaf=3, min_samples_split=10, n_estimators=200 \n",
      "[CV]  bootstrap=True, max_depth=25, max_features=2, min_samples_leaf=3, min_samples_split=10, n_estimators=200, total=   0.3s\n",
      "[CV] bootstrap=True, max_depth=25, max_features=2, min_samples_leaf=3, min_samples_split=10, n_estimators=200 \n",
      "[CV]  bootstrap=True, max_depth=25, max_features=2, min_samples_leaf=3, min_samples_split=10, n_estimators=200, total=   0.3s\n",
      "[CV] bootstrap=True, max_depth=25, max_features=2, min_samples_leaf=3, min_samples_split=10, n_estimators=200 \n",
      "[CV]  bootstrap=True, max_depth=25, max_features=2, min_samples_leaf=3, min_samples_split=10, n_estimators=200, total=   0.3s\n",
      "[CV] bootstrap=True, max_depth=25, max_features=2, min_samples_leaf=10, min_samples_split=2, n_estimators=100 \n",
      "[CV]  bootstrap=True, max_depth=25, max_features=2, min_samples_leaf=10, min_samples_split=2, n_estimators=100, total=   0.1s\n",
      "[CV] bootstrap=True, max_depth=25, max_features=2, min_samples_leaf=10, min_samples_split=2, n_estimators=100 \n",
      "[CV]  bootstrap=True, max_depth=25, max_features=2, min_samples_leaf=10, min_samples_split=2, n_estimators=100, total=   0.1s\n",
      "[CV] bootstrap=True, max_depth=25, max_features=2, min_samples_leaf=10, min_samples_split=2, n_estimators=100 \n",
      "[CV]  bootstrap=True, max_depth=25, max_features=2, min_samples_leaf=10, min_samples_split=2, n_estimators=100, total=   0.1s\n",
      "[CV] bootstrap=True, max_depth=25, max_features=2, min_samples_leaf=10, min_samples_split=2, n_estimators=100 \n",
      "[CV]  bootstrap=True, max_depth=25, max_features=2, min_samples_leaf=10, min_samples_split=2, n_estimators=100, total=   0.1s\n",
      "[CV] bootstrap=True, max_depth=25, max_features=2, min_samples_leaf=10, min_samples_split=2, n_estimators=100 \n",
      "[CV]  bootstrap=True, max_depth=25, max_features=2, min_samples_leaf=10, min_samples_split=2, n_estimators=100, total=   0.1s\n",
      "[CV] bootstrap=True, max_depth=25, max_features=2, min_samples_leaf=10, min_samples_split=2, n_estimators=100 \n",
      "[CV]  bootstrap=True, max_depth=25, max_features=2, min_samples_leaf=10, min_samples_split=2, n_estimators=100, total=   0.1s\n",
      "[CV] bootstrap=True, max_depth=25, max_features=2, min_samples_leaf=10, min_samples_split=2, n_estimators=100 \n",
      "[CV]  bootstrap=True, max_depth=25, max_features=2, min_samples_leaf=10, min_samples_split=2, n_estimators=100, total=   0.1s\n",
      "[CV] bootstrap=True, max_depth=25, max_features=2, min_samples_leaf=10, min_samples_split=2, n_estimators=100 \n",
      "[CV]  bootstrap=True, max_depth=25, max_features=2, min_samples_leaf=10, min_samples_split=2, n_estimators=100, total=   0.1s\n",
      "[CV] bootstrap=True, max_depth=25, max_features=2, min_samples_leaf=10, min_samples_split=2, n_estimators=100 \n",
      "[CV]  bootstrap=True, max_depth=25, max_features=2, min_samples_leaf=10, min_samples_split=2, n_estimators=100, total=   0.1s\n",
      "[CV] bootstrap=True, max_depth=25, max_features=2, min_samples_leaf=10, min_samples_split=2, n_estimators=100 \n",
      "[CV]  bootstrap=True, max_depth=25, max_features=2, min_samples_leaf=10, min_samples_split=2, n_estimators=100, total=   0.1s\n",
      "[CV] bootstrap=True, max_depth=25, max_features=2, min_samples_leaf=10, min_samples_split=2, n_estimators=200 \n",
      "[CV]  bootstrap=True, max_depth=25, max_features=2, min_samples_leaf=10, min_samples_split=2, n_estimators=200, total=   0.3s\n",
      "[CV] bootstrap=True, max_depth=25, max_features=2, min_samples_leaf=10, min_samples_split=2, n_estimators=200 \n",
      "[CV]  bootstrap=True, max_depth=25, max_features=2, min_samples_leaf=10, min_samples_split=2, n_estimators=200, total=   0.4s\n",
      "[CV] bootstrap=True, max_depth=25, max_features=2, min_samples_leaf=10, min_samples_split=2, n_estimators=200 \n"
     ]
    },
    {
     "name": "stdout",
     "output_type": "stream",
     "text": [
      "[CV]  bootstrap=True, max_depth=25, max_features=2, min_samples_leaf=10, min_samples_split=2, n_estimators=200, total=   0.4s\n",
      "[CV] bootstrap=True, max_depth=25, max_features=2, min_samples_leaf=10, min_samples_split=2, n_estimators=200 \n",
      "[CV]  bootstrap=True, max_depth=25, max_features=2, min_samples_leaf=10, min_samples_split=2, n_estimators=200, total=   0.4s\n",
      "[CV] bootstrap=True, max_depth=25, max_features=2, min_samples_leaf=10, min_samples_split=2, n_estimators=200 \n",
      "[CV]  bootstrap=True, max_depth=25, max_features=2, min_samples_leaf=10, min_samples_split=2, n_estimators=200, total=   0.4s\n",
      "[CV] bootstrap=True, max_depth=25, max_features=2, min_samples_leaf=10, min_samples_split=2, n_estimators=200 \n",
      "[CV]  bootstrap=True, max_depth=25, max_features=2, min_samples_leaf=10, min_samples_split=2, n_estimators=200, total=   0.4s\n",
      "[CV] bootstrap=True, max_depth=25, max_features=2, min_samples_leaf=10, min_samples_split=2, n_estimators=200 \n",
      "[CV]  bootstrap=True, max_depth=25, max_features=2, min_samples_leaf=10, min_samples_split=2, n_estimators=200, total=   0.3s\n",
      "[CV] bootstrap=True, max_depth=25, max_features=2, min_samples_leaf=10, min_samples_split=2, n_estimators=200 \n",
      "[CV]  bootstrap=True, max_depth=25, max_features=2, min_samples_leaf=10, min_samples_split=2, n_estimators=200, total=   0.3s\n",
      "[CV] bootstrap=True, max_depth=25, max_features=2, min_samples_leaf=10, min_samples_split=2, n_estimators=200 \n",
      "[CV]  bootstrap=True, max_depth=25, max_features=2, min_samples_leaf=10, min_samples_split=2, n_estimators=200, total=   0.3s\n",
      "[CV] bootstrap=True, max_depth=25, max_features=2, min_samples_leaf=10, min_samples_split=2, n_estimators=200 \n",
      "[CV]  bootstrap=True, max_depth=25, max_features=2, min_samples_leaf=10, min_samples_split=2, n_estimators=200, total=   0.3s\n",
      "[CV] bootstrap=True, max_depth=25, max_features=2, min_samples_leaf=10, min_samples_split=10, n_estimators=100 \n",
      "[CV]  bootstrap=True, max_depth=25, max_features=2, min_samples_leaf=10, min_samples_split=10, n_estimators=100, total=   0.1s\n",
      "[CV] bootstrap=True, max_depth=25, max_features=2, min_samples_leaf=10, min_samples_split=10, n_estimators=100 \n",
      "[CV]  bootstrap=True, max_depth=25, max_features=2, min_samples_leaf=10, min_samples_split=10, n_estimators=100, total=   0.1s\n",
      "[CV] bootstrap=True, max_depth=25, max_features=2, min_samples_leaf=10, min_samples_split=10, n_estimators=100 \n",
      "[CV]  bootstrap=True, max_depth=25, max_features=2, min_samples_leaf=10, min_samples_split=10, n_estimators=100, total=   0.1s\n",
      "[CV] bootstrap=True, max_depth=25, max_features=2, min_samples_leaf=10, min_samples_split=10, n_estimators=100 \n",
      "[CV]  bootstrap=True, max_depth=25, max_features=2, min_samples_leaf=10, min_samples_split=10, n_estimators=100, total=   0.1s\n",
      "[CV] bootstrap=True, max_depth=25, max_features=2, min_samples_leaf=10, min_samples_split=10, n_estimators=100 \n",
      "[CV]  bootstrap=True, max_depth=25, max_features=2, min_samples_leaf=10, min_samples_split=10, n_estimators=100, total=   0.1s\n",
      "[CV] bootstrap=True, max_depth=25, max_features=2, min_samples_leaf=10, min_samples_split=10, n_estimators=100 \n",
      "[CV]  bootstrap=True, max_depth=25, max_features=2, min_samples_leaf=10, min_samples_split=10, n_estimators=100, total=   0.1s\n",
      "[CV] bootstrap=True, max_depth=25, max_features=2, min_samples_leaf=10, min_samples_split=10, n_estimators=100 \n",
      "[CV]  bootstrap=True, max_depth=25, max_features=2, min_samples_leaf=10, min_samples_split=10, n_estimators=100, total=   0.1s\n",
      "[CV] bootstrap=True, max_depth=25, max_features=2, min_samples_leaf=10, min_samples_split=10, n_estimators=100 \n",
      "[CV]  bootstrap=True, max_depth=25, max_features=2, min_samples_leaf=10, min_samples_split=10, n_estimators=100, total=   0.1s\n",
      "[CV] bootstrap=True, max_depth=25, max_features=2, min_samples_leaf=10, min_samples_split=10, n_estimators=100 \n",
      "[CV]  bootstrap=True, max_depth=25, max_features=2, min_samples_leaf=10, min_samples_split=10, n_estimators=100, total=   0.1s\n",
      "[CV] bootstrap=True, max_depth=25, max_features=2, min_samples_leaf=10, min_samples_split=10, n_estimators=100 \n",
      "[CV]  bootstrap=True, max_depth=25, max_features=2, min_samples_leaf=10, min_samples_split=10, n_estimators=100, total=   0.1s\n",
      "[CV] bootstrap=True, max_depth=25, max_features=2, min_samples_leaf=10, min_samples_split=10, n_estimators=200 \n",
      "[CV]  bootstrap=True, max_depth=25, max_features=2, min_samples_leaf=10, min_samples_split=10, n_estimators=200, total=   0.3s\n",
      "[CV] bootstrap=True, max_depth=25, max_features=2, min_samples_leaf=10, min_samples_split=10, n_estimators=200 \n",
      "[CV]  bootstrap=True, max_depth=25, max_features=2, min_samples_leaf=10, min_samples_split=10, n_estimators=200, total=   0.3s\n",
      "[CV] bootstrap=True, max_depth=25, max_features=2, min_samples_leaf=10, min_samples_split=10, n_estimators=200 \n",
      "[CV]  bootstrap=True, max_depth=25, max_features=2, min_samples_leaf=10, min_samples_split=10, n_estimators=200, total=   0.3s\n",
      "[CV] bootstrap=True, max_depth=25, max_features=2, min_samples_leaf=10, min_samples_split=10, n_estimators=200 \n",
      "[CV]  bootstrap=True, max_depth=25, max_features=2, min_samples_leaf=10, min_samples_split=10, n_estimators=200, total=   0.3s\n",
      "[CV] bootstrap=True, max_depth=25, max_features=2, min_samples_leaf=10, min_samples_split=10, n_estimators=200 \n",
      "[CV]  bootstrap=True, max_depth=25, max_features=2, min_samples_leaf=10, min_samples_split=10, n_estimators=200, total=   0.3s\n",
      "[CV] bootstrap=True, max_depth=25, max_features=2, min_samples_leaf=10, min_samples_split=10, n_estimators=200 \n",
      "[CV]  bootstrap=True, max_depth=25, max_features=2, min_samples_leaf=10, min_samples_split=10, n_estimators=200, total=   0.4s\n",
      "[CV] bootstrap=True, max_depth=25, max_features=2, min_samples_leaf=10, min_samples_split=10, n_estimators=200 \n",
      "[CV]  bootstrap=True, max_depth=25, max_features=2, min_samples_leaf=10, min_samples_split=10, n_estimators=200, total=   0.4s\n",
      "[CV] bootstrap=True, max_depth=25, max_features=2, min_samples_leaf=10, min_samples_split=10, n_estimators=200 \n",
      "[CV]  bootstrap=True, max_depth=25, max_features=2, min_samples_leaf=10, min_samples_split=10, n_estimators=200, total=   0.3s\n",
      "[CV] bootstrap=True, max_depth=25, max_features=2, min_samples_leaf=10, min_samples_split=10, n_estimators=200 \n",
      "[CV]  bootstrap=True, max_depth=25, max_features=2, min_samples_leaf=10, min_samples_split=10, n_estimators=200, total=   0.3s\n",
      "[CV] bootstrap=True, max_depth=25, max_features=2, min_samples_leaf=10, min_samples_split=10, n_estimators=200 \n",
      "[CV]  bootstrap=True, max_depth=25, max_features=2, min_samples_leaf=10, min_samples_split=10, n_estimators=200, total=   0.3s\n",
      "[CV] bootstrap=True, max_depth=25, max_features=10, min_samples_leaf=3, min_samples_split=2, n_estimators=100 \n",
      "[CV]  bootstrap=True, max_depth=25, max_features=10, min_samples_leaf=3, min_samples_split=2, n_estimators=100, total=   0.4s\n",
      "[CV] bootstrap=True, max_depth=25, max_features=10, min_samples_leaf=3, min_samples_split=2, n_estimators=100 \n",
      "[CV]  bootstrap=True, max_depth=25, max_features=10, min_samples_leaf=3, min_samples_split=2, n_estimators=100, total=   0.4s\n",
      "[CV] bootstrap=True, max_depth=25, max_features=10, min_samples_leaf=3, min_samples_split=2, n_estimators=100 \n",
      "[CV]  bootstrap=True, max_depth=25, max_features=10, min_samples_leaf=3, min_samples_split=2, n_estimators=100, total=   0.5s\n",
      "[CV] bootstrap=True, max_depth=25, max_features=10, min_samples_leaf=3, min_samples_split=2, n_estimators=100 \n",
      "[CV]  bootstrap=True, max_depth=25, max_features=10, min_samples_leaf=3, min_samples_split=2, n_estimators=100, total=   0.5s\n",
      "[CV] bootstrap=True, max_depth=25, max_features=10, min_samples_leaf=3, min_samples_split=2, n_estimators=100 \n",
      "[CV]  bootstrap=True, max_depth=25, max_features=10, min_samples_leaf=3, min_samples_split=2, n_estimators=100, total=   0.4s\n",
      "[CV] bootstrap=True, max_depth=25, max_features=10, min_samples_leaf=3, min_samples_split=2, n_estimators=100 \n",
      "[CV]  bootstrap=True, max_depth=25, max_features=10, min_samples_leaf=3, min_samples_split=2, n_estimators=100, total=   0.4s\n",
      "[CV] bootstrap=True, max_depth=25, max_features=10, min_samples_leaf=3, min_samples_split=2, n_estimators=100 \n",
      "[CV]  bootstrap=True, max_depth=25, max_features=10, min_samples_leaf=3, min_samples_split=2, n_estimators=100, total=   0.4s\n",
      "[CV] bootstrap=True, max_depth=25, max_features=10, min_samples_leaf=3, min_samples_split=2, n_estimators=100 \n"
     ]
    },
    {
     "name": "stdout",
     "output_type": "stream",
     "text": [
      "[CV]  bootstrap=True, max_depth=25, max_features=10, min_samples_leaf=3, min_samples_split=2, n_estimators=100, total=   0.4s\n",
      "[CV] bootstrap=True, max_depth=25, max_features=10, min_samples_leaf=3, min_samples_split=2, n_estimators=100 \n",
      "[CV]  bootstrap=True, max_depth=25, max_features=10, min_samples_leaf=3, min_samples_split=2, n_estimators=100, total=   0.4s\n",
      "[CV] bootstrap=True, max_depth=25, max_features=10, min_samples_leaf=3, min_samples_split=2, n_estimators=100 \n",
      "[CV]  bootstrap=True, max_depth=25, max_features=10, min_samples_leaf=3, min_samples_split=2, n_estimators=100, total=   0.4s\n",
      "[CV] bootstrap=True, max_depth=25, max_features=10, min_samples_leaf=3, min_samples_split=2, n_estimators=200 \n",
      "[CV]  bootstrap=True, max_depth=25, max_features=10, min_samples_leaf=3, min_samples_split=2, n_estimators=200, total=   0.9s\n",
      "[CV] bootstrap=True, max_depth=25, max_features=10, min_samples_leaf=3, min_samples_split=2, n_estimators=200 \n",
      "[CV]  bootstrap=True, max_depth=25, max_features=10, min_samples_leaf=3, min_samples_split=2, n_estimators=200, total=   0.9s\n",
      "[CV] bootstrap=True, max_depth=25, max_features=10, min_samples_leaf=3, min_samples_split=2, n_estimators=200 \n",
      "[CV]  bootstrap=True, max_depth=25, max_features=10, min_samples_leaf=3, min_samples_split=2, n_estimators=200, total=   0.9s\n",
      "[CV] bootstrap=True, max_depth=25, max_features=10, min_samples_leaf=3, min_samples_split=2, n_estimators=200 \n",
      "[CV]  bootstrap=True, max_depth=25, max_features=10, min_samples_leaf=3, min_samples_split=2, n_estimators=200, total=   0.9s\n",
      "[CV] bootstrap=True, max_depth=25, max_features=10, min_samples_leaf=3, min_samples_split=2, n_estimators=200 \n",
      "[CV]  bootstrap=True, max_depth=25, max_features=10, min_samples_leaf=3, min_samples_split=2, n_estimators=200, total=   0.9s\n",
      "[CV] bootstrap=True, max_depth=25, max_features=10, min_samples_leaf=3, min_samples_split=2, n_estimators=200 \n",
      "[CV]  bootstrap=True, max_depth=25, max_features=10, min_samples_leaf=3, min_samples_split=2, n_estimators=200, total=   0.9s\n",
      "[CV] bootstrap=True, max_depth=25, max_features=10, min_samples_leaf=3, min_samples_split=2, n_estimators=200 \n",
      "[CV]  bootstrap=True, max_depth=25, max_features=10, min_samples_leaf=3, min_samples_split=2, n_estimators=200, total=   0.9s\n",
      "[CV] bootstrap=True, max_depth=25, max_features=10, min_samples_leaf=3, min_samples_split=2, n_estimators=200 \n",
      "[CV]  bootstrap=True, max_depth=25, max_features=10, min_samples_leaf=3, min_samples_split=2, n_estimators=200, total=   0.9s\n",
      "[CV] bootstrap=True, max_depth=25, max_features=10, min_samples_leaf=3, min_samples_split=2, n_estimators=200 \n",
      "[CV]  bootstrap=True, max_depth=25, max_features=10, min_samples_leaf=3, min_samples_split=2, n_estimators=200, total=   0.9s\n",
      "[CV] bootstrap=True, max_depth=25, max_features=10, min_samples_leaf=3, min_samples_split=2, n_estimators=200 \n",
      "[CV]  bootstrap=True, max_depth=25, max_features=10, min_samples_leaf=3, min_samples_split=2, n_estimators=200, total=   1.0s\n",
      "[CV] bootstrap=True, max_depth=25, max_features=10, min_samples_leaf=3, min_samples_split=10, n_estimators=100 \n",
      "[CV]  bootstrap=True, max_depth=25, max_features=10, min_samples_leaf=3, min_samples_split=10, n_estimators=100, total=   0.5s\n",
      "[CV] bootstrap=True, max_depth=25, max_features=10, min_samples_leaf=3, min_samples_split=10, n_estimators=100 \n",
      "[CV]  bootstrap=True, max_depth=25, max_features=10, min_samples_leaf=3, min_samples_split=10, n_estimators=100, total=   0.5s\n",
      "[CV] bootstrap=True, max_depth=25, max_features=10, min_samples_leaf=3, min_samples_split=10, n_estimators=100 \n",
      "[CV]  bootstrap=True, max_depth=25, max_features=10, min_samples_leaf=3, min_samples_split=10, n_estimators=100, total=   0.5s\n",
      "[CV] bootstrap=True, max_depth=25, max_features=10, min_samples_leaf=3, min_samples_split=10, n_estimators=100 \n",
      "[CV]  bootstrap=True, max_depth=25, max_features=10, min_samples_leaf=3, min_samples_split=10, n_estimators=100, total=   0.4s\n",
      "[CV] bootstrap=True, max_depth=25, max_features=10, min_samples_leaf=3, min_samples_split=10, n_estimators=100 \n",
      "[CV]  bootstrap=True, max_depth=25, max_features=10, min_samples_leaf=3, min_samples_split=10, n_estimators=100, total=   0.4s\n",
      "[CV] bootstrap=True, max_depth=25, max_features=10, min_samples_leaf=3, min_samples_split=10, n_estimators=100 \n",
      "[CV]  bootstrap=True, max_depth=25, max_features=10, min_samples_leaf=3, min_samples_split=10, n_estimators=100, total=   0.4s\n",
      "[CV] bootstrap=True, max_depth=25, max_features=10, min_samples_leaf=3, min_samples_split=10, n_estimators=100 \n",
      "[CV]  bootstrap=True, max_depth=25, max_features=10, min_samples_leaf=3, min_samples_split=10, n_estimators=100, total=   0.4s\n",
      "[CV] bootstrap=True, max_depth=25, max_features=10, min_samples_leaf=3, min_samples_split=10, n_estimators=100 \n",
      "[CV]  bootstrap=True, max_depth=25, max_features=10, min_samples_leaf=3, min_samples_split=10, n_estimators=100, total=   0.4s\n",
      "[CV] bootstrap=True, max_depth=25, max_features=10, min_samples_leaf=3, min_samples_split=10, n_estimators=100 \n",
      "[CV]  bootstrap=True, max_depth=25, max_features=10, min_samples_leaf=3, min_samples_split=10, n_estimators=100, total=   0.4s\n",
      "[CV] bootstrap=True, max_depth=25, max_features=10, min_samples_leaf=3, min_samples_split=10, n_estimators=100 \n",
      "[CV]  bootstrap=True, max_depth=25, max_features=10, min_samples_leaf=3, min_samples_split=10, n_estimators=100, total=   0.5s\n",
      "[CV] bootstrap=True, max_depth=25, max_features=10, min_samples_leaf=3, min_samples_split=10, n_estimators=200 \n",
      "[CV]  bootstrap=True, max_depth=25, max_features=10, min_samples_leaf=3, min_samples_split=10, n_estimators=200, total=   0.9s\n",
      "[CV] bootstrap=True, max_depth=25, max_features=10, min_samples_leaf=3, min_samples_split=10, n_estimators=200 \n",
      "[CV]  bootstrap=True, max_depth=25, max_features=10, min_samples_leaf=3, min_samples_split=10, n_estimators=200, total=   1.0s\n",
      "[CV] bootstrap=True, max_depth=25, max_features=10, min_samples_leaf=3, min_samples_split=10, n_estimators=200 \n",
      "[CV]  bootstrap=True, max_depth=25, max_features=10, min_samples_leaf=3, min_samples_split=10, n_estimators=200, total=   1.0s\n",
      "[CV] bootstrap=True, max_depth=25, max_features=10, min_samples_leaf=3, min_samples_split=10, n_estimators=200 \n",
      "[CV]  bootstrap=True, max_depth=25, max_features=10, min_samples_leaf=3, min_samples_split=10, n_estimators=200, total=   1.2s\n",
      "[CV] bootstrap=True, max_depth=25, max_features=10, min_samples_leaf=3, min_samples_split=10, n_estimators=200 \n",
      "[CV]  bootstrap=True, max_depth=25, max_features=10, min_samples_leaf=3, min_samples_split=10, n_estimators=200, total=   1.0s\n",
      "[CV] bootstrap=True, max_depth=25, max_features=10, min_samples_leaf=3, min_samples_split=10, n_estimators=200 \n",
      "[CV]  bootstrap=True, max_depth=25, max_features=10, min_samples_leaf=3, min_samples_split=10, n_estimators=200, total=   1.0s\n",
      "[CV] bootstrap=True, max_depth=25, max_features=10, min_samples_leaf=3, min_samples_split=10, n_estimators=200 \n",
      "[CV]  bootstrap=True, max_depth=25, max_features=10, min_samples_leaf=3, min_samples_split=10, n_estimators=200, total=   0.9s\n",
      "[CV] bootstrap=True, max_depth=25, max_features=10, min_samples_leaf=3, min_samples_split=10, n_estimators=200 \n",
      "[CV]  bootstrap=True, max_depth=25, max_features=10, min_samples_leaf=3, min_samples_split=10, n_estimators=200, total=   0.9s\n",
      "[CV] bootstrap=True, max_depth=25, max_features=10, min_samples_leaf=3, min_samples_split=10, n_estimators=200 \n",
      "[CV]  bootstrap=True, max_depth=25, max_features=10, min_samples_leaf=3, min_samples_split=10, n_estimators=200, total=   1.0s\n",
      "[CV] bootstrap=True, max_depth=25, max_features=10, min_samples_leaf=3, min_samples_split=10, n_estimators=200 \n",
      "[CV]  bootstrap=True, max_depth=25, max_features=10, min_samples_leaf=3, min_samples_split=10, n_estimators=200, total=   1.2s\n",
      "[CV] bootstrap=True, max_depth=25, max_features=10, min_samples_leaf=10, min_samples_split=2, n_estimators=100 \n",
      "[CV]  bootstrap=True, max_depth=25, max_features=10, min_samples_leaf=10, min_samples_split=2, n_estimators=100, total=   0.4s\n",
      "[CV] bootstrap=True, max_depth=25, max_features=10, min_samples_leaf=10, min_samples_split=2, n_estimators=100 \n",
      "[CV]  bootstrap=True, max_depth=25, max_features=10, min_samples_leaf=10, min_samples_split=2, n_estimators=100, total=   0.4s\n",
      "[CV] bootstrap=True, max_depth=25, max_features=10, min_samples_leaf=10, min_samples_split=2, n_estimators=100 \n"
     ]
    },
    {
     "name": "stdout",
     "output_type": "stream",
     "text": [
      "[CV]  bootstrap=True, max_depth=25, max_features=10, min_samples_leaf=10, min_samples_split=2, n_estimators=100, total=   0.4s\n",
      "[CV] bootstrap=True, max_depth=25, max_features=10, min_samples_leaf=10, min_samples_split=2, n_estimators=100 \n",
      "[CV]  bootstrap=True, max_depth=25, max_features=10, min_samples_leaf=10, min_samples_split=2, n_estimators=100, total=   0.3s\n",
      "[CV] bootstrap=True, max_depth=25, max_features=10, min_samples_leaf=10, min_samples_split=2, n_estimators=100 \n",
      "[CV]  bootstrap=True, max_depth=25, max_features=10, min_samples_leaf=10, min_samples_split=2, n_estimators=100, total=   0.3s\n",
      "[CV] bootstrap=True, max_depth=25, max_features=10, min_samples_leaf=10, min_samples_split=2, n_estimators=100 \n",
      "[CV]  bootstrap=True, max_depth=25, max_features=10, min_samples_leaf=10, min_samples_split=2, n_estimators=100, total=   0.3s\n",
      "[CV] bootstrap=True, max_depth=25, max_features=10, min_samples_leaf=10, min_samples_split=2, n_estimators=100 \n",
      "[CV]  bootstrap=True, max_depth=25, max_features=10, min_samples_leaf=10, min_samples_split=2, n_estimators=100, total=   0.3s\n",
      "[CV] bootstrap=True, max_depth=25, max_features=10, min_samples_leaf=10, min_samples_split=2, n_estimators=100 \n",
      "[CV]  bootstrap=True, max_depth=25, max_features=10, min_samples_leaf=10, min_samples_split=2, n_estimators=100, total=   0.3s\n",
      "[CV] bootstrap=True, max_depth=25, max_features=10, min_samples_leaf=10, min_samples_split=2, n_estimators=100 \n",
      "[CV]  bootstrap=True, max_depth=25, max_features=10, min_samples_leaf=10, min_samples_split=2, n_estimators=100, total=   0.3s\n",
      "[CV] bootstrap=True, max_depth=25, max_features=10, min_samples_leaf=10, min_samples_split=2, n_estimators=100 \n",
      "[CV]  bootstrap=True, max_depth=25, max_features=10, min_samples_leaf=10, min_samples_split=2, n_estimators=100, total=   0.4s\n",
      "[CV] bootstrap=True, max_depth=25, max_features=10, min_samples_leaf=10, min_samples_split=2, n_estimators=200 \n",
      "[CV]  bootstrap=True, max_depth=25, max_features=10, min_samples_leaf=10, min_samples_split=2, n_estimators=200, total=   0.8s\n",
      "[CV] bootstrap=True, max_depth=25, max_features=10, min_samples_leaf=10, min_samples_split=2, n_estimators=200 \n",
      "[CV]  bootstrap=True, max_depth=25, max_features=10, min_samples_leaf=10, min_samples_split=2, n_estimators=200, total=   0.8s\n",
      "[CV] bootstrap=True, max_depth=25, max_features=10, min_samples_leaf=10, min_samples_split=2, n_estimators=200 \n",
      "[CV]  bootstrap=True, max_depth=25, max_features=10, min_samples_leaf=10, min_samples_split=2, n_estimators=200, total=   0.8s\n",
      "[CV] bootstrap=True, max_depth=25, max_features=10, min_samples_leaf=10, min_samples_split=2, n_estimators=200 \n",
      "[CV]  bootstrap=True, max_depth=25, max_features=10, min_samples_leaf=10, min_samples_split=2, n_estimators=200, total=   0.8s\n",
      "[CV] bootstrap=True, max_depth=25, max_features=10, min_samples_leaf=10, min_samples_split=2, n_estimators=200 \n",
      "[CV]  bootstrap=True, max_depth=25, max_features=10, min_samples_leaf=10, min_samples_split=2, n_estimators=200, total=   0.8s\n",
      "[CV] bootstrap=True, max_depth=25, max_features=10, min_samples_leaf=10, min_samples_split=2, n_estimators=200 \n",
      "[CV]  bootstrap=True, max_depth=25, max_features=10, min_samples_leaf=10, min_samples_split=2, n_estimators=200, total=   0.8s\n",
      "[CV] bootstrap=True, max_depth=25, max_features=10, min_samples_leaf=10, min_samples_split=2, n_estimators=200 \n",
      "[CV]  bootstrap=True, max_depth=25, max_features=10, min_samples_leaf=10, min_samples_split=2, n_estimators=200, total=   0.8s\n",
      "[CV] bootstrap=True, max_depth=25, max_features=10, min_samples_leaf=10, min_samples_split=2, n_estimators=200 \n",
      "[CV]  bootstrap=True, max_depth=25, max_features=10, min_samples_leaf=10, min_samples_split=2, n_estimators=200, total=   0.9s\n",
      "[CV] bootstrap=True, max_depth=25, max_features=10, min_samples_leaf=10, min_samples_split=2, n_estimators=200 \n",
      "[CV]  bootstrap=True, max_depth=25, max_features=10, min_samples_leaf=10, min_samples_split=2, n_estimators=200, total=   1.0s\n",
      "[CV] bootstrap=True, max_depth=25, max_features=10, min_samples_leaf=10, min_samples_split=2, n_estimators=200 \n",
      "[CV]  bootstrap=True, max_depth=25, max_features=10, min_samples_leaf=10, min_samples_split=2, n_estimators=200, total=   0.9s\n",
      "[CV] bootstrap=True, max_depth=25, max_features=10, min_samples_leaf=10, min_samples_split=10, n_estimators=100 \n",
      "[CV]  bootstrap=True, max_depth=25, max_features=10, min_samples_leaf=10, min_samples_split=10, n_estimators=100, total=   0.4s\n",
      "[CV] bootstrap=True, max_depth=25, max_features=10, min_samples_leaf=10, min_samples_split=10, n_estimators=100 \n",
      "[CV]  bootstrap=True, max_depth=25, max_features=10, min_samples_leaf=10, min_samples_split=10, n_estimators=100, total=   0.4s\n",
      "[CV] bootstrap=True, max_depth=25, max_features=10, min_samples_leaf=10, min_samples_split=10, n_estimators=100 \n",
      "[CV]  bootstrap=True, max_depth=25, max_features=10, min_samples_leaf=10, min_samples_split=10, n_estimators=100, total=   0.4s\n",
      "[CV] bootstrap=True, max_depth=25, max_features=10, min_samples_leaf=10, min_samples_split=10, n_estimators=100 \n",
      "[CV]  bootstrap=True, max_depth=25, max_features=10, min_samples_leaf=10, min_samples_split=10, n_estimators=100, total=   0.4s\n",
      "[CV] bootstrap=True, max_depth=25, max_features=10, min_samples_leaf=10, min_samples_split=10, n_estimators=100 \n",
      "[CV]  bootstrap=True, max_depth=25, max_features=10, min_samples_leaf=10, min_samples_split=10, n_estimators=100, total=   0.4s\n",
      "[CV] bootstrap=True, max_depth=25, max_features=10, min_samples_leaf=10, min_samples_split=10, n_estimators=100 \n",
      "[CV]  bootstrap=True, max_depth=25, max_features=10, min_samples_leaf=10, min_samples_split=10, n_estimators=100, total=   0.4s\n",
      "[CV] bootstrap=True, max_depth=25, max_features=10, min_samples_leaf=10, min_samples_split=10, n_estimators=100 \n",
      "[CV]  bootstrap=True, max_depth=25, max_features=10, min_samples_leaf=10, min_samples_split=10, n_estimators=100, total=   0.5s\n",
      "[CV] bootstrap=True, max_depth=25, max_features=10, min_samples_leaf=10, min_samples_split=10, n_estimators=100 \n",
      "[CV]  bootstrap=True, max_depth=25, max_features=10, min_samples_leaf=10, min_samples_split=10, n_estimators=100, total=   0.4s\n",
      "[CV] bootstrap=True, max_depth=25, max_features=10, min_samples_leaf=10, min_samples_split=10, n_estimators=100 \n",
      "[CV]  bootstrap=True, max_depth=25, max_features=10, min_samples_leaf=10, min_samples_split=10, n_estimators=100, total=   0.4s\n",
      "[CV] bootstrap=True, max_depth=25, max_features=10, min_samples_leaf=10, min_samples_split=10, n_estimators=100 \n",
      "[CV]  bootstrap=True, max_depth=25, max_features=10, min_samples_leaf=10, min_samples_split=10, n_estimators=100, total=   0.3s\n",
      "[CV] bootstrap=True, max_depth=25, max_features=10, min_samples_leaf=10, min_samples_split=10, n_estimators=200 \n",
      "[CV]  bootstrap=True, max_depth=25, max_features=10, min_samples_leaf=10, min_samples_split=10, n_estimators=200, total=   0.8s\n",
      "[CV] bootstrap=True, max_depth=25, max_features=10, min_samples_leaf=10, min_samples_split=10, n_estimators=200 \n",
      "[CV]  bootstrap=True, max_depth=25, max_features=10, min_samples_leaf=10, min_samples_split=10, n_estimators=200, total=   0.8s\n",
      "[CV] bootstrap=True, max_depth=25, max_features=10, min_samples_leaf=10, min_samples_split=10, n_estimators=200 \n",
      "[CV]  bootstrap=True, max_depth=25, max_features=10, min_samples_leaf=10, min_samples_split=10, n_estimators=200, total=   0.8s\n",
      "[CV] bootstrap=True, max_depth=25, max_features=10, min_samples_leaf=10, min_samples_split=10, n_estimators=200 \n",
      "[CV]  bootstrap=True, max_depth=25, max_features=10, min_samples_leaf=10, min_samples_split=10, n_estimators=200, total=   1.0s\n",
      "[CV] bootstrap=True, max_depth=25, max_features=10, min_samples_leaf=10, min_samples_split=10, n_estimators=200 \n",
      "[CV]  bootstrap=True, max_depth=25, max_features=10, min_samples_leaf=10, min_samples_split=10, n_estimators=200, total=   1.0s\n",
      "[CV] bootstrap=True, max_depth=25, max_features=10, min_samples_leaf=10, min_samples_split=10, n_estimators=200 \n",
      "[CV]  bootstrap=True, max_depth=25, max_features=10, min_samples_leaf=10, min_samples_split=10, n_estimators=200, total=   0.9s\n",
      "[CV] bootstrap=True, max_depth=25, max_features=10, min_samples_leaf=10, min_samples_split=10, n_estimators=200 \n",
      "[CV]  bootstrap=True, max_depth=25, max_features=10, min_samples_leaf=10, min_samples_split=10, n_estimators=200, total=   0.9s\n",
      "[CV] bootstrap=True, max_depth=25, max_features=10, min_samples_leaf=10, min_samples_split=10, n_estimators=200 \n"
     ]
    },
    {
     "name": "stdout",
     "output_type": "stream",
     "text": [
      "[CV]  bootstrap=True, max_depth=25, max_features=10, min_samples_leaf=10, min_samples_split=10, n_estimators=200, total=   1.1s\n",
      "[CV] bootstrap=True, max_depth=25, max_features=10, min_samples_leaf=10, min_samples_split=10, n_estimators=200 \n",
      "[CV]  bootstrap=True, max_depth=25, max_features=10, min_samples_leaf=10, min_samples_split=10, n_estimators=200, total=   1.0s\n",
      "[CV] bootstrap=True, max_depth=25, max_features=10, min_samples_leaf=10, min_samples_split=10, n_estimators=200 \n",
      "[CV]  bootstrap=True, max_depth=25, max_features=10, min_samples_leaf=10, min_samples_split=10, n_estimators=200, total=   1.0s\n"
     ]
    },
    {
     "name": "stderr",
     "output_type": "stream",
     "text": [
      "[Parallel(n_jobs=1)]: Done 320 out of 320 | elapsed:  2.7min finished\n"
     ]
    },
    {
     "data": {
      "text/plain": [
       "GridSearchCV(cv=10, error_score='raise',\n",
       "       estimator=RandomForestClassifier(bootstrap=True, class_weight=None, criterion='gini',\n",
       "            max_depth=None, max_features='auto', max_leaf_nodes=None,\n",
       "            min_impurity_decrease=0.0, min_impurity_split=None,\n",
       "            min_samples_leaf=1, min_samples_split=2,\n",
       "            min_weight_fraction_leaf=0.0, n_estimators=10, n_jobs=1,\n",
       "            oob_score=False, random_state=None, verbose=0,\n",
       "            warm_start=False),\n",
       "       fit_params=None, iid=True, n_jobs=1,\n",
       "       param_grid={'bootstrap': [True], 'max_depth': [5, 25], 'max_features': [2, 10], 'min_samples_leaf': [3, 10], 'min_samples_split': [2, 10], 'n_estimators': [100, 200]},\n",
       "       pre_dispatch='2*n_jobs', refit=True, return_train_score='warn',\n",
       "       scoring=None, verbose=2)"
      ]
     },
     "execution_count": 81,
     "metadata": {},
     "output_type": "execute_result"
    }
   ],
   "source": [
    "# Create a based model\n",
    "rf = RandomForestClassifier()\n",
    "# Instantiate the grid search model\n",
    "grid_search = GridSearchCV(estimator = rf, param_grid = param_grid, cv = 10, n_jobs = 1, verbose = 2)\n",
    "grid_search.fit(X_train, Y_train)"
   ]
  },
  {
   "cell_type": "code",
   "execution_count": 82,
   "metadata": {},
   "outputs": [
    {
     "data": {
      "text/plain": [
       "{'bootstrap': True,\n",
       " 'max_depth': 25,\n",
       " 'max_features': 10,\n",
       " 'min_samples_leaf': 3,\n",
       " 'min_samples_split': 2,\n",
       " 'n_estimators': 200}"
      ]
     },
     "execution_count": 82,
     "metadata": {},
     "output_type": "execute_result"
    }
   ],
   "source": [
    "grid_search.best_params_"
   ]
  },
  {
   "cell_type": "code",
   "execution_count": 83,
   "metadata": {},
   "outputs": [
    {
     "name": "stdout",
     "output_type": "stream",
     "text": [
      "[[684  59]\n",
      " [134 269]]\n",
      "             precision    recall  f1-score   support\n",
      "\n",
      "        0.0       0.84      0.92      0.88       743\n",
      "        1.0       0.82      0.67      0.74       403\n",
      "\n",
      "avg / total       0.83      0.83      0.83      1146\n",
      "\n"
     ]
    },
    {
     "data": {
      "image/png": "[encoded data removed]",
      "text/plain": [
       "<matplotlib.figure.Figure at 0x23e48bc9940>"
      ]
     },
     "metadata": {},
     "output_type": "display_data"
    }
   ],
   "source": [
    "# retrain optimized model\n",
    "rf_model=RandomForestClassifier(n_estimators=200,max_depth=25, max_features=10,bootstrap=True,min_samples_leaf=3,min_samples_split=2)\n",
    "rf_model.fit(X_train,Y_train)\n",
    "Y_train_pred = rf_model.predict(X_train)\n",
    "Y_test_pred = rf_model.predict(X_test)  \n",
    "print(confusion_matrix(Y_test, Y_test_pred)) \n",
    "print(classification_report(Y_test, Y_test_pred)) \n",
    "rocAucCurve(rf_model,X_test,Y_test)"
   ]
  },
  {
   "cell_type": "markdown",
   "metadata": {},
   "source": [
    "## PCA"
   ]
  },
  {
   "cell_type": "code",
   "execution_count": 87,
   "metadata": {},
   "outputs": [
    {
     "data": {
      "text/plain": [
       "PCA(copy=True, iterated_power='auto', n_components=28, random_state=None,\n",
       "  svd_solver='auto', tol=0.0, whiten=False)"
      ]
     },
     "execution_count": 87,
     "metadata": {},
     "output_type": "execute_result"
    }
   ],
   "source": [
    "# split data into features and label\n",
    "X_data = data_df.loc[:,selected_cols]\n",
    "X_data['roomtype_Entire home/apt'] = room_dummies['roomtype_Entire home/apt']\n",
    "X_data['roomtype_Private room'] = room_dummies['roomtype_Private room']\n",
    "X_data['roomtype_Shared room'] = room_dummies['roomtype_Shared room']\n",
    "Y_data = data_df.loc[:,'price']\n",
    "# standardize the dataset\n",
    "from sklearn.preprocessing import StandardScaler\n",
    "X_std = StandardScaler().fit_transform(X_data)\n",
    "\n",
    "# call PCA\n",
    "from sklearn.decomposition import PCA  \n",
    "pca = PCA(n_components = 28)\n",
    "pca.fit(X_std)"
   ]
  },
  {
   "cell_type": "code",
   "execution_count": 88,
   "metadata": {},
   "outputs": [
    {
     "name": "stdout",
     "output_type": "stream",
     "text": [
      "6.854382038116455\n",
      "18.428656578063965\n"
     ]
    }
   ],
   "source": [
    "import time\n",
    "from sklearn.pipeline import Pipeline\n",
    "\n",
    "X_train, X_test, y_train, y_test = train_test_split(X_data,\n",
    "                                                Y_data, \n",
    "                                                test_size=0.3,\n",
    "                                                train_size = 0.7,\n",
    "                                                random_state=42)\n",
    "pipe1 = Pipeline([\n",
    "    ('standardize', StandardScaler()),\n",
    "    ('pca', PCA(n_components = 17)),\n",
    "    ('logistic', linear_model.LogisticRegression(C = 1e5))\n",
    "])\n",
    "start = time.time()\n",
    "\n",
    "pipe1.fit(X_train, y_train)\n",
    "y_pred1 = pipe1.predict(X_test)\n",
    "end = time.time()\n",
    "print(end - start)\n",
    "\n",
    "# pipeline without PCA\n",
    "pipe2 = Pipeline([\n",
    "    ('standardize', StandardScaler()),\n",
    "    ('logistic', linear_model.LogisticRegression(C = 1e5))\n",
    "])\n",
    "start = time.time()\n",
    "\n",
    "pipe2.fit(X_train, y_train)\n",
    "y_pred2 = pipe2.predict(X_test)\n",
    "end = time.time()\n",
    "print(end - start)"
   ]
  },
  {
   "cell_type": "code",
   "execution_count": 89,
   "metadata": {},
   "outputs": [
    {
     "name": "stdout",
     "output_type": "stream",
     "text": [
      "Logistic Regression Accuracy with PCA: 56  /  1146 = 4.886561954624781 %\n",
      "\n",
      "Logistic Regression Accuracy without PCA: 53  /  1146 = 4.62478184991274 %\n",
      "\n"
     ]
    }
   ],
   "source": [
    "print('Logistic Regression Accuracy with PCA:',sum(y_test == y_pred1),\" / \", sum(y_test==y_test) ,'=' , sum(y_test == y_pred1)/sum(y_test==y_test)*100 , \"%\\n\")\n",
    "print('Logistic Regression Accuracy without PCA:',sum(y_test == y_pred2),\" / \", sum(y_test==y_test) ,'=' , sum(y_test == y_pred2)/sum(y_test==y_test)*100 , \"%\\n\")"
   ]
  },
  {
   "cell_type": "markdown",
   "metadata": {},
   "source": [
    "### PCA using Label encoding"
   ]
  },
  {
   "cell_type": "code",
   "execution_count": 95,
   "metadata": {},
   "outputs": [
    {
     "name": "stdout",
     "output_type": "stream",
     "text": [
      "0.7129225730895996\n",
      "16.61331033706665\n"
     ]
    }
   ],
   "source": [
    "import time\n",
    "from sklearn.pipeline import Pipeline\n",
    "\n",
    "X_train, X_test, y_train, y_test = train_test_split(X_data,\n",
    "                                                Y_data, \n",
    "                                                test_size=0.3,\n",
    "                                                train_size = 0.7,\n",
    "                                                random_state=42)\n",
    "pipe1 = Pipeline([\n",
    "    ('standardize', StandardScaler()),\n",
    "    ('pca', PCA(n_components = 4)),\n",
    "    ('logistic', linear_model.LogisticRegression(C = 1e5))\n",
    "])\n",
    "start = time.time()\n",
    "\n",
    "pipe1.fit(X_train, y_train)\n",
    "y_pred1 = pipe1.predict(X_test)\n",
    "end = time.time()\n",
    "print(end - start)\n",
    "\n",
    "# pipeline without PCA\n",
    "pipe2 = Pipeline([\n",
    "    ('standardize', StandardScaler()),\n",
    "    ('logistic', linear_model.LogisticRegression(C = 1e5))\n",
    "])\n",
    "start = time.time()\n",
    "\n",
    "pipe2.fit(X_train, y_train)\n",
    "y_pred2 = pipe2.predict(X_test)\n",
    "end = time.time()\n",
    "print(end - start)"
   ]
  },
  {
   "cell_type": "code",
   "execution_count": 96,
   "metadata": {},
   "outputs": [
    {
     "name": "stdout",
     "output_type": "stream",
     "text": [
      "Logistic Regression Accuracy with PCA: 70  /  1146 = 6.108202443280978 %\n",
      "\n",
      "Logistic Regression Accuracy without PCA: 53  /  1146 = 4.62478184991274 %\n",
      "\n"
     ]
    }
   ],
   "source": [
    "print('Logistic Regression Accuracy with PCA:',sum(y_test == y_pred1),\" / \", sum(y_test==y_test) ,'=' , sum(y_test == y_pred1)/sum(y_test==y_test)*100 , \"%\\n\")\n",
    "print('Logistic Regression Accuracy without PCA:',sum(y_test == y_pred2),\" / \", sum(y_test==y_test) ,'=' , sum(y_test == y_pred2)/sum(y_test==y_test)*100 , \"%\\n\")"
   ]
  },
  {
   "cell_type": "code",
   "execution_count": null,
   "metadata": {},
   "outputs": [],
   "source": []
  }
 ],
 "metadata": {
  "kernelspec": {
   "display_name": "Python 3",
   "language": "python",
   "name": "python3"
  },
  "language_info": {
   "codemirror_mode": {
    "name": "ipython",
    "version": 3
   },
   "file_extension": ".py",
   "mimetype": "text/x-python",
   "name": "python",
   "nbconvert_exporter": "python",
   "pygments_lexer": "ipython3",
   "version": "3.6.5"
  }
 },
 "nbformat": 4,
 "nbformat_minor": 2
}
