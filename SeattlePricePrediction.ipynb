{
 "cells": [
  {
   "cell_type": "markdown",
   "metadata": {},
   "source": [
    "# Import package"
   ]
  },
  {
   "cell_type": "code",
   "execution_count": 3,
   "metadata": {},
   "outputs": [],
   "source": [
    "import warnings\n",
    "warnings.filterwarnings('ignore')"
   ]
  },
  {
   "cell_type": "code",
   "execution_count": 5,
   "metadata": {},
   "outputs": [],
   "source": [
    "#Import linear algebra and data manipulation\n",
    "import numpy as np\n",
    "import pandas as pd\n",
    "\n",
    "#Import plotting packages\n",
    "import matplotlib.pyplot as plt\n",
    "%matplotlib inline\n",
    "import seaborn as sns; sns.set()\n",
    "import matplotlib.pyplot as plt\n",
    "import matplotlib.cm as cmx\n",
    "import matplotlib.colors as colors\n",
    "plt.style.use('fivethirtyeight')\n",
    "\n",
    "#Import common utilities\n",
    "import math\n",
    "from collections import Counter\n",
    "\n",
    "# statsmodels\n",
    "import pylab\n",
    "import scipy.stats as stats\n",
    "import statsmodels.api as sm\n",
    "import statsmodels as statm\n",
    "import statsmodels.formula.api as smf\n",
    "from statsmodels.formula.api import ols\n",
    "\n",
    "#Import machine learning\n",
    "# Predictive Model\n",
    "from sklearn import linear_model\n",
    "from sklearn.preprocessing import PolynomialFeatures\n",
    "from sklearn.preprocessing import Imputer\n",
    "from sklearn.linear_model import RidgeCV\n",
    "from sklearn.linear_model import LassoCV\n",
    "from sklearn.preprocessing import Imputer\n",
    "from sklearn import ensemble\n",
    "from sklearn.ensemble import GradientBoostingRegressor  \n",
    "from sklearn.ensemble import RandomForestRegressor\n",
    "import xgboost \n",
    "\n",
    "# Accuracy Evaluation\n",
    "from sklearn.model_selection import train_test_split #split\n",
    "from sklearn.metrics import r2_score, mean_squared_error #metrics\n",
    "import sklearn.metrics as metrics\n",
    "from sklearn.grid_search import GridSearchCV\n",
    "from sklearn import preprocessing\n",
    "from sklearn.cross_validation import train_test_split\n",
    "from sklearn.metrics import classification_report, confusion_matrix \n",
    "from sklearn.model_selection import cross_val_score\n",
    "\n",
    "# NLP\n",
    "from nltk.corpus import stopwords\n",
    "from wordcloud import WordCloud, STOPWORDS\n",
    "import string\n",
    "import nltk\n",
    "import re\n",
    "from nltk.sentiment.vader import SentimentIntensityAnalyzer"
   ]
  },
  {
   "cell_type": "markdown",
   "metadata": {},
   "source": [
    "# Configuration"
   ]
  },
  {
   "cell_type": "code",
   "execution_count": 6,
   "metadata": {},
   "outputs": [],
   "source": [
    "pd.set_option('display.max_rows', 500)\n",
    "pd.set_option('display.max_columns', 100)\n",
    "pd.set_option('display.width', 505)"
   ]
  },
  {
   "cell_type": "markdown",
   "metadata": {},
   "source": [
    "# Importing data"
   ]
  },
  {
   "cell_type": "code",
   "execution_count": 7,
   "metadata": {},
   "outputs": [
    {
     "data": {
      "text/plain": [
       "(3818, 92)"
      ]
     },
     "execution_count": 7,
     "metadata": {},
     "output_type": "execute_result"
    }
   ],
   "source": [
    "listings_df = pd.read_csv('C:\\\\DataScience\\\\00_AnalysisProjects\\\\AirbnbAnalysis\\\\Data\\\\seattle_listings.csv', sep=',')\n",
    "listings_df.shape"
   ]
  },
  {
   "cell_type": "markdown",
   "metadata": {},
   "source": [
    "# Data Preparation"
   ]
  },
  {
   "cell_type": "markdown",
   "metadata": {},
   "source": [
    "## Numerical features"
   ]
  },
  {
   "cell_type": "markdown",
   "metadata": {},
   "source": [
    "### Convert columns from string to numeric values "
   ]
  },
  {
   "cell_type": "code",
   "execution_count": 8,
   "metadata": {},
   "outputs": [],
   "source": [
    "listings_df['price'] = listings_df['price'].str.replace(\"[$, ]\", \"\").astype(\"float\")\n",
    "listings_df['cleaning_fee'] = listings_df['cleaning_fee'].str.replace(\"[$, ]\", \"\").astype(\"float\")\n",
    "listings_df['extra_people'] = listings_df['extra_people'].str.replace(\"[$, ]\", \"\").astype(\"float\")"
   ]
  },
  {
   "cell_type": "markdown",
   "metadata": {},
   "source": [
    "### Select numerical features"
   ]
  },
  {
   "cell_type": "code",
   "execution_count": 9,
   "metadata": {},
   "outputs": [],
   "source": [
    "selected_cols = ['cleaning_fee', 'review_scores_accuracy', 'review_scores_checkin',\n",
    "       'review_scores_value', 'review_scores_location',\n",
    "       'review_scores_cleanliness', 'review_scores_communication',\n",
    "       'review_scores_rating', 'reviews_per_month', 'bathrooms',\n",
    "       'bedrooms', 'beds', 'latitude', 'availability_30',\n",
    "       'availability_60', 'availability_90', 'availability_365',\n",
    "       'number_of_reviews', 'minimum_nights', 'maximum_nights',\n",
    "       'extra_people', 'calculated_host_listings_count', 'longitude',\n",
    "       'guests_included', 'accommodates', 'price']"
   ]
  },
  {
   "cell_type": "code",
   "execution_count": 10,
   "metadata": {},
   "outputs": [
    {
     "data": {
      "text/plain": [
       "(3818, 26)"
      ]
     },
     "execution_count": 10,
     "metadata": {},
     "output_type": "execute_result"
    }
   ],
   "source": [
    "data_df = listings_df.copy(deep=True)\n",
    "data_df = data_df[selected_cols]\n",
    "data_df.shape"
   ]
  },
  {
   "cell_type": "markdown",
   "metadata": {},
   "source": [
    "### Dealing with NA values "
   ]
  },
  {
   "cell_type": "markdown",
   "metadata": {},
   "source": [
    "Check missing values for each feature"
   ]
  },
  {
   "cell_type": "code",
   "execution_count": 11,
   "metadata": {},
   "outputs": [
    {
     "data": {
      "text/plain": [
       "cleaning_fee                      1030\n",
       "review_scores_accuracy             658\n",
       "review_scores_checkin              658\n",
       "review_scores_value                656\n",
       "review_scores_location             655\n",
       "review_scores_cleanliness          653\n",
       "review_scores_communication        651\n",
       "review_scores_rating               647\n",
       "reviews_per_month                  627\n",
       "bathrooms                           16\n",
       "bedrooms                             6\n",
       "beds                                 1\n",
       "accommodates                         0\n",
       "price                                0\n",
       "availability_30                      0\n",
       "availability_60                      0\n",
       "availability_90                      0\n",
       "availability_365                     0\n",
       "number_of_reviews                    0\n",
       "minimum_nights                       0\n",
       "maximum_nights                       0\n",
       "extra_people                         0\n",
       "calculated_host_listings_count       0\n",
       "longitude                            0\n",
       "guests_included                      0\n",
       "latitude                             0\n",
       "dtype: int64"
      ]
     },
     "execution_count": 11,
     "metadata": {},
     "output_type": "execute_result"
    }
   ],
   "source": [
    "data_df.isnull().sum().sort_values(ascending=False)"
   ]
  },
  {
   "cell_type": "markdown",
   "metadata": {},
   "source": [
    "Filling mean for NA values for cleaning fee and review features"
   ]
  },
  {
   "cell_type": "code",
   "execution_count": 12,
   "metadata": {},
   "outputs": [],
   "source": [
    "review_columns = ['review_scores_accuracy', 'review_scores_checkin', 'review_scores_value',\n",
    "                  'review_scores_location', 'review_scores_cleanliness','review_scores_communication',\n",
    "                  'review_scores_rating','reviews_per_month', 'cleaning_fee']\n",
    "for col in review_columns:\n",
    "    data_df[col].fillna(data_df[col].mean(), inplace=True)"
   ]
  },
  {
   "cell_type": "markdown",
   "metadata": {},
   "source": [
    "data_df.isnull().sum()"
   ]
  },
  {
   "cell_type": "markdown",
   "metadata": {},
   "source": [
    "Filling mode for bathrooms, bedrooms and beds"
   ]
  },
  {
   "cell_type": "code",
   "execution_count": 18,
   "metadata": {},
   "outputs": [],
   "source": [
    "na_columns = ['bathrooms','bedrooms','beds']\n",
    "for col in na_columns:\n",
    "    data_df[col].fillna(data_df[col].mode()[0], inplace=True)"
   ]
  },
  {
   "cell_type": "markdown",
   "metadata": {},
   "source": [
    "Recheck missing values for each feature"
   ]
  },
  {
   "cell_type": "code",
   "execution_count": 19,
   "metadata": {},
   "outputs": [
    {
     "data": {
      "text/plain": [
       "cleaning_fee                      0\n",
       "review_scores_accuracy            0\n",
       "review_scores_checkin             0\n",
       "review_scores_value               0\n",
       "review_scores_location            0\n",
       "review_scores_cleanliness         0\n",
       "review_scores_communication       0\n",
       "review_scores_rating              0\n",
       "reviews_per_month                 0\n",
       "bathrooms                         0\n",
       "bedrooms                          0\n",
       "beds                              0\n",
       "latitude                          0\n",
       "availability_30                   0\n",
       "availability_60                   0\n",
       "availability_90                   0\n",
       "availability_365                  0\n",
       "number_of_reviews                 0\n",
       "minimum_nights                    0\n",
       "maximum_nights                    0\n",
       "extra_people                      0\n",
       "calculated_host_listings_count    0\n",
       "longitude                         0\n",
       "guests_included                   0\n",
       "accommodates                      0\n",
       "price                             0\n",
       "dtype: int64"
      ]
     },
     "execution_count": 19,
     "metadata": {},
     "output_type": "execute_result"
    }
   ],
   "source": [
    "data_df.isnull().sum()"
   ]
  },
  {
   "cell_type": "markdown",
   "metadata": {},
   "source": [
    "### Add log_price"
   ]
  },
  {
   "cell_type": "code",
   "execution_count": 20,
   "metadata": {},
   "outputs": [],
   "source": [
    "data_df['log_price'] = data_df['price'].apply(lambda x:math.log(x))"
   ]
  },
  {
   "cell_type": "markdown",
   "metadata": {},
   "source": [
    "### Separate features and label"
   ]
  },
  {
   "cell_type": "code",
   "execution_count": 21,
   "metadata": {},
   "outputs": [
    {
     "data": {
      "text/plain": [
       "(3818, 25)"
      ]
     },
     "execution_count": 21,
     "metadata": {},
     "output_type": "execute_result"
    }
   ],
   "source": [
    "selected_cols = list(data_df.columns.values)\n",
    "selected_cols = [e for e in selected_cols if e not in ['price','log_price']]\n",
    "X_data = data_df.loc[:,selected_cols]\n",
    "Y_data = data_df.loc[:,'log_price']\n",
    "X_data.shape"
   ]
  },
  {
   "cell_type": "markdown",
   "metadata": {},
   "source": [
    "### Normalization"
   ]
  },
  {
   "cell_type": "code",
   "execution_count": 22,
   "metadata": {},
   "outputs": [
    {
     "data": {
      "text/html": [
       "<div>\n",
       "<style scoped>\n",
       "    .dataframe tbody tr th:only-of-type {\n",
       "        vertical-align: middle;\n",
       "    }\n",
       "\n",
       "    .dataframe tbody tr th {\n",
       "        vertical-align: top;\n",
       "    }\n",
       "\n",
       "    .dataframe thead th {\n",
       "        text-align: right;\n",
       "    }\n",
       "</style>\n",
       "<table border=\"1\" class=\"dataframe\">\n",
       "  <thead>\n",
       "    <tr style=\"text-align: right;\">\n",
       "      <th></th>\n",
       "      <th>cleaning_fee</th>\n",
       "      <th>review_scores_accuracy</th>\n",
       "      <th>review_scores_checkin</th>\n",
       "      <th>review_scores_value</th>\n",
       "      <th>review_scores_location</th>\n",
       "      <th>review_scores_cleanliness</th>\n",
       "      <th>review_scores_communication</th>\n",
       "      <th>review_scores_rating</th>\n",
       "      <th>reviews_per_month</th>\n",
       "      <th>bathrooms</th>\n",
       "      <th>bedrooms</th>\n",
       "      <th>beds</th>\n",
       "      <th>latitude</th>\n",
       "      <th>availability_30</th>\n",
       "      <th>availability_60</th>\n",
       "      <th>availability_90</th>\n",
       "      <th>availability_365</th>\n",
       "      <th>number_of_reviews</th>\n",
       "      <th>minimum_nights</th>\n",
       "      <th>maximum_nights</th>\n",
       "      <th>extra_people</th>\n",
       "      <th>calculated_host_listings_count</th>\n",
       "      <th>longitude</th>\n",
       "      <th>guests_included</th>\n",
       "      <th>accommodates</th>\n",
       "    </tr>\n",
       "  </thead>\n",
       "  <tbody>\n",
       "    <tr>\n",
       "      <th>0</th>\n",
       "      <td>-3.031586e-14</td>\n",
       "      <td>5.726658e-01</td>\n",
       "      <td>3.937630e-01</td>\n",
       "      <td>8.023812e-01</td>\n",
       "      <td>-1.063670e+00</td>\n",
       "      <td>6.112031e-01</td>\n",
       "      <td>3.679779e-01</td>\n",
       "      <td>7.654173e-02</td>\n",
       "      <td>1.195309e+00</td>\n",
       "      <td>-0.438461</td>\n",
       "      <td>-0.348068</td>\n",
       "      <td>-0.645342</td>\n",
       "      <td>0.170240</td>\n",
       "      <td>-0.228908</td>\n",
       "      <td>0.179356</td>\n",
       "      <td>0.379264</td>\n",
       "      <td>0.798601</td>\n",
       "      <td>4.897864</td>\n",
       "      <td>-0.083987</td>\n",
       "      <td>-0.246795</td>\n",
       "      <td>-0.322324</td>\n",
       "      <td>-0.160602</td>\n",
       "      <td>-1.194754</td>\n",
       "      <td>0.249756</td>\n",
       "      <td>0.329029</td>\n",
       "    </tr>\n",
       "    <tr>\n",
       "      <th>1</th>\n",
       "      <td>-5.204004e-01</td>\n",
       "      <td>5.726658e-01</td>\n",
       "      <td>3.937630e-01</td>\n",
       "      <td>8.023812e-01</td>\n",
       "      <td>6.831564e-01</td>\n",
       "      <td>6.112031e-01</td>\n",
       "      <td>3.679779e-01</td>\n",
       "      <td>2.426703e-01</td>\n",
       "      <td>-3.595500e-01</td>\n",
       "      <td>-0.438461</td>\n",
       "      <td>-0.348068</td>\n",
       "      <td>-0.645342</td>\n",
       "      <td>0.236078</td>\n",
       "      <td>-0.311063</td>\n",
       "      <td>-1.020585</td>\n",
       "      <td>-1.235563</td>\n",
       "      <td>0.364696</td>\n",
       "      <td>0.550724</td>\n",
       "      <td>-0.022651</td>\n",
       "      <td>-0.410158</td>\n",
       "      <td>-0.606680</td>\n",
       "      <td>0.518255</td>\n",
       "      <td>-1.025923</td>\n",
       "      <td>-0.513098</td>\n",
       "      <td>0.329029</td>\n",
       "    </tr>\n",
       "    <tr>\n",
       "      <th>2</th>\n",
       "      <td>5.711680e+00</td>\n",
       "      <td>5.726658e-01</td>\n",
       "      <td>3.937630e-01</td>\n",
       "      <td>8.023812e-01</td>\n",
       "      <td>6.831564e-01</td>\n",
       "      <td>6.112031e-01</td>\n",
       "      <td>3.679779e-01</td>\n",
       "      <td>4.087988e-01</td>\n",
       "      <td>-5.576595e-01</td>\n",
       "      <td>5.500872</td>\n",
       "      <td>4.183643</td>\n",
       "      <td>4.621311</td>\n",
       "      <td>0.017732</td>\n",
       "      <td>-1.296929</td>\n",
       "      <td>-1.320570</td>\n",
       "      <td>-1.206202</td>\n",
       "      <td>-0.195436</td>\n",
       "      <td>-0.058936</td>\n",
       "      <td>0.100020</td>\n",
       "      <td>-0.445801</td>\n",
       "      <td>0.815098</td>\n",
       "      <td>-0.160602</td>\n",
       "      <td>-1.146171</td>\n",
       "      <td>6.352583</td>\n",
       "      <td>3.869138</td>\n",
       "    </tr>\n",
       "    <tr>\n",
       "      <th>3</th>\n",
       "      <td>-3.031586e-14</td>\n",
       "      <td>1.119073e-14</td>\n",
       "      <td>-1.049403e-13</td>\n",
       "      <td>1.769432e-13</td>\n",
       "      <td>5.275077e-14</td>\n",
       "      <td>6.363495e-14</td>\n",
       "      <td>-1.304567e-13</td>\n",
       "      <td>-1.487322e-13</td>\n",
       "      <td>-1.439645e-14</td>\n",
       "      <td>-0.438461</td>\n",
       "      <td>-1.480996</td>\n",
       "      <td>0.232433</td>\n",
       "      <td>0.220980</td>\n",
       "      <td>-1.379085</td>\n",
       "      <td>-1.577700</td>\n",
       "      <td>-1.705330</td>\n",
       "      <td>-0.802903</td>\n",
       "      <td>-0.589075</td>\n",
       "      <td>-0.083987</td>\n",
       "      <td>0.204680</td>\n",
       "      <td>-0.606680</td>\n",
       "      <td>-0.330316</td>\n",
       "      <td>-1.139743</td>\n",
       "      <td>-0.513098</td>\n",
       "      <td>-0.176701</td>\n",
       "    </tr>\n",
       "    <tr>\n",
       "      <th>4</th>\n",
       "      <td>1.517011e+00</td>\n",
       "      <td>-1.002290e+00</td>\n",
       "      <td>3.937630e-01</td>\n",
       "      <td>-6.624741e-01</td>\n",
       "      <td>-1.063670e+00</td>\n",
       "      <td>-7.666159e-01</td>\n",
       "      <td>3.679779e-01</td>\n",
       "      <td>-4.218439e-01</td>\n",
       "      <td>-7.137458e-01</td>\n",
       "      <td>1.258492</td>\n",
       "      <td>1.917787</td>\n",
       "      <td>1.110209</td>\n",
       "      <td>0.091937</td>\n",
       "      <td>1.085580</td>\n",
       "      <td>0.993601</td>\n",
       "      <td>0.937113</td>\n",
       "      <td>0.948495</td>\n",
       "      <td>0.418189</td>\n",
       "      <td>-0.083987</td>\n",
       "      <td>0.204680</td>\n",
       "      <td>0.246387</td>\n",
       "      <td>-0.330316</td>\n",
       "      <td>-1.240293</td>\n",
       "      <td>3.301169</td>\n",
       "      <td>1.340489</td>\n",
       "    </tr>\n",
       "  </tbody>\n",
       "</table>\n",
       "</div>"
      ],
      "text/plain": [
       "   cleaning_fee  review_scores_accuracy  review_scores_checkin  review_scores_value  review_scores_location  review_scores_cleanliness  review_scores_communication  review_scores_rating  reviews_per_month  bathrooms  bedrooms      beds  latitude  availability_30  availability_60  availability_90  availability_365  number_of_reviews  minimum_nights  maximum_nights  extra_people  calculated_host_listings_count  longitude  guests_included  accommodates\n",
       "0 -3.031586e-14            5.726658e-01           3.937630e-01         8.023812e-01           -1.063670e+00               6.112031e-01                 3.679779e-01          7.654173e-02       1.195309e+00  -0.438461 -0.348068 -0.645342  0.170240        -0.228908         0.179356         0.379264          0.798601           4.897864       -0.083987       -0.246795     -0.322324                       -0.160602  -1.194754         0.249756      0.329029\n",
       "1 -5.204004e-01            5.726658e-01           3.937630e-01         8.023812e-01            6.831564e-01               6.112031e-01                 3.679779e-01          2.426703e-01      -3.595500e-01  -0.438461 -0.348068 -0.645342  0.236078        -0.311063        -1.020585        -1.235563          0.364696           0.550724       -0.022651       -0.410158     -0.606680                        0.518255  -1.025923        -0.513098      0.329029\n",
       "2  5.711680e+00            5.726658e-01           3.937630e-01         8.023812e-01            6.831564e-01               6.112031e-01                 3.679779e-01          4.087988e-01      -5.576595e-01   5.500872  4.183643  4.621311  0.017732        -1.296929        -1.320570        -1.206202         -0.195436          -0.058936        0.100020       -0.445801      0.815098                       -0.160602  -1.146171         6.352583      3.869138\n",
       "3 -3.031586e-14            1.119073e-14          -1.049403e-13         1.769432e-13            5.275077e-14               6.363495e-14                -1.304567e-13         -1.487322e-13      -1.439645e-14  -0.438461 -1.480996  0.232433  0.220980        -1.379085        -1.577700        -1.705330         -0.802903          -0.589075       -0.083987        0.204680     -0.606680                       -0.330316  -1.139743        -0.513098     -0.176701\n",
       "4  1.517011e+00           -1.002290e+00           3.937630e-01        -6.624741e-01           -1.063670e+00              -7.666159e-01                 3.679779e-01         -4.218439e-01      -7.137458e-01   1.258492  1.917787  1.110209  0.091937         1.085580         0.993601         0.937113          0.948495           0.418189       -0.083987        0.204680      0.246387                       -0.330316  -1.240293         3.301169      1.340489"
      ]
     },
     "execution_count": 22,
     "metadata": {},
     "output_type": "execute_result"
    }
   ],
   "source": [
    "def Normalize_Data(df):\n",
    "    for col in df.columns.values:\n",
    "        df[col] = df[col].astype(float)\n",
    "        mean = np.mean(df[col])\n",
    "        std = np.std(df[col])\n",
    "        df[col] = df[col].apply(lambda x: (x-mean)/std)\n",
    "    return df\n",
    "\n",
    "X_data = Normalize_Data(X_data)\n",
    "X_data.head()"
   ]
  },
  {
   "cell_type": "markdown",
   "metadata": {},
   "source": [
    "## Add Categorical features"
   ]
  },
  {
   "cell_type": "markdown",
   "metadata": {},
   "source": [
    "### room_type"
   ]
  },
  {
   "cell_type": "code",
   "execution_count": 26,
   "metadata": {},
   "outputs": [
    {
     "data": {
      "text/html": [
       "<div>\n",
       "<style scoped>\n",
       "    .dataframe tbody tr th:only-of-type {\n",
       "        vertical-align: middle;\n",
       "    }\n",
       "\n",
       "    .dataframe tbody tr th {\n",
       "        vertical-align: top;\n",
       "    }\n",
       "\n",
       "    .dataframe thead th {\n",
       "        text-align: right;\n",
       "    }\n",
       "</style>\n",
       "<table border=\"1\" class=\"dataframe\">\n",
       "  <thead>\n",
       "    <tr style=\"text-align: right;\">\n",
       "      <th></th>\n",
       "      <th>roomtype_Entire home/apt</th>\n",
       "      <th>roomtype_Private room</th>\n",
       "      <th>roomtype_Shared room</th>\n",
       "    </tr>\n",
       "  </thead>\n",
       "  <tbody>\n",
       "    <tr>\n",
       "      <th>0</th>\n",
       "      <td>1</td>\n",
       "      <td>0</td>\n",
       "      <td>0</td>\n",
       "    </tr>\n",
       "    <tr>\n",
       "      <th>1</th>\n",
       "      <td>1</td>\n",
       "      <td>0</td>\n",
       "      <td>0</td>\n",
       "    </tr>\n",
       "    <tr>\n",
       "      <th>2</th>\n",
       "      <td>1</td>\n",
       "      <td>0</td>\n",
       "      <td>0</td>\n",
       "    </tr>\n",
       "    <tr>\n",
       "      <th>3</th>\n",
       "      <td>1</td>\n",
       "      <td>0</td>\n",
       "      <td>0</td>\n",
       "    </tr>\n",
       "    <tr>\n",
       "      <th>4</th>\n",
       "      <td>1</td>\n",
       "      <td>0</td>\n",
       "      <td>0</td>\n",
       "    </tr>\n",
       "  </tbody>\n",
       "</table>\n",
       "</div>"
      ],
      "text/plain": [
       "   roomtype_Entire home/apt  roomtype_Private room  roomtype_Shared room\n",
       "0                         1                      0                     0\n",
       "1                         1                      0                     0\n",
       "2                         1                      0                     0\n",
       "3                         1                      0                     0\n",
       "4                         1                      0                     0"
      ]
     },
     "execution_count": 26,
     "metadata": {},
     "output_type": "execute_result"
    }
   ],
   "source": [
    "room_type = listings_df[['room_type']]\n",
    "room_dummies = pd.get_dummies(room_type,prefix='roomtype',prefix_sep='_')\n",
    "room_dummies.head()"
   ]
  },
  {
   "cell_type": "code",
   "execution_count": 27,
   "metadata": {},
   "outputs": [],
   "source": [
    "X_data = pd.concat((X_data,room_dummies.astype(int)),axis=1)"
   ]
  },
  {
   "cell_type": "markdown",
   "metadata": {},
   "source": [
    "# Split data into Training set and Test set"
   ]
  },
  {
   "cell_type": "code",
   "execution_count": 28,
   "metadata": {},
   "outputs": [],
   "source": [
    "X_train, X_test, Y_train, Y_test = train_test_split(X_data,Y_data,test_size=0.3,train_size=0.7,random_state=100)"
   ]
  },
  {
   "cell_type": "code",
   "execution_count": 29,
   "metadata": {},
   "outputs": [
    {
     "data": {
      "text/plain": [
       "(2672, 28)"
      ]
     },
     "execution_count": 29,
     "metadata": {},
     "output_type": "execute_result"
    }
   ],
   "source": [
    "X_train.shape"
   ]
  },
  {
   "cell_type": "markdown",
   "metadata": {},
   "source": [
    "# Predictive Model"
   ]
  },
  {
   "cell_type": "markdown",
   "metadata": {},
   "source": [
    "## Multiple Linear Regression"
   ]
  },
  {
   "cell_type": "markdown",
   "metadata": {},
   "source": [
    "### Linear Regression using stats package"
   ]
  },
  {
   "cell_type": "markdown",
   "metadata": {},
   "source": [
    "#### Fit the model"
   ]
  },
  {
   "cell_type": "code",
   "execution_count": 34,
   "metadata": {},
   "outputs": [],
   "source": [
    "# Add constant to data\n",
    "X = sm.add_constant(X_train)\n",
    "# Fit the linear model\n",
    "lr_model = sm.OLS(Y_train, X)\n",
    "results = lr_model.fit()"
   ]
  },
  {
   "cell_type": "markdown",
   "metadata": {},
   "source": [
    "#### View the result of the model"
   ]
  },
  {
   "cell_type": "code",
   "execution_count": 35,
   "metadata": {},
   "outputs": [
    {
     "data": {
      "text/html": [
       "<table class=\"simpletable\">\n",
       "<caption>OLS Regression Results</caption>\n",
       "<tr>\n",
       "  <th>Dep. Variable:</th>        <td>log_price</td>    <th>  R-squared:         </th> <td>   0.653</td>\n",
       "</tr>\n",
       "<tr>\n",
       "  <th>Model:</th>                   <td>OLS</td>       <th>  Adj. R-squared:    </th> <td>   0.650</td>\n",
       "</tr>\n",
       "<tr>\n",
       "  <th>Method:</th>             <td>Least Squares</td>  <th>  F-statistic:       </th> <td>   184.4</td>\n",
       "</tr>\n",
       "<tr>\n",
       "  <th>Date:</th>             <td>Mon, 22 Apr 2019</td> <th>  Prob (F-statistic):</th>  <td>  0.00</td> \n",
       "</tr>\n",
       "<tr>\n",
       "  <th>Time:</th>                 <td>10:24:44</td>     <th>  Log-Likelihood:    </th> <td> -829.02</td>\n",
       "</tr>\n",
       "<tr>\n",
       "  <th>No. Observations:</th>      <td>  2672</td>      <th>  AIC:               </th> <td>   1714.</td>\n",
       "</tr>\n",
       "<tr>\n",
       "  <th>Df Residuals:</th>          <td>  2644</td>      <th>  BIC:               </th> <td>   1879.</td>\n",
       "</tr>\n",
       "<tr>\n",
       "  <th>Df Model:</th>              <td>    27</td>      <th>                     </th>     <td> </td>   \n",
       "</tr>\n",
       "<tr>\n",
       "  <th>Covariance Type:</th>      <td>nonrobust</td>    <th>                     </th>     <td> </td>   \n",
       "</tr>\n",
       "</table>\n",
       "<table class=\"simpletable\">\n",
       "<tr>\n",
       "                 <td></td>                   <th>coef</th>     <th>std err</th>      <th>t</th>      <th>P>|t|</th>  <th>[0.025</th>    <th>0.975]</th>  \n",
       "</tr>\n",
       "<tr>\n",
       "  <th>const</th>                          <td>    3.3237</td> <td>    0.011</td> <td>  308.309</td> <td> 0.000</td> <td>    3.303</td> <td>    3.345</td>\n",
       "</tr>\n",
       "<tr>\n",
       "  <th>cleaning_fee</th>                   <td>    0.0848</td> <td>    0.009</td> <td>    9.596</td> <td> 0.000</td> <td>    0.067</td> <td>    0.102</td>\n",
       "</tr>\n",
       "<tr>\n",
       "  <th>review_scores_accuracy</th>         <td>    0.0227</td> <td>    0.009</td> <td>    2.546</td> <td> 0.011</td> <td>    0.005</td> <td>    0.040</td>\n",
       "</tr>\n",
       "<tr>\n",
       "  <th>review_scores_checkin</th>          <td>   -0.0276</td> <td>    0.009</td> <td>   -2.947</td> <td> 0.003</td> <td>   -0.046</td> <td>   -0.009</td>\n",
       "</tr>\n",
       "<tr>\n",
       "  <th>review_scores_value</th>            <td>   -0.0648</td> <td>    0.009</td> <td>   -6.864</td> <td> 0.000</td> <td>   -0.083</td> <td>   -0.046</td>\n",
       "</tr>\n",
       "<tr>\n",
       "  <th>review_scores_location</th>         <td>    0.0511</td> <td>    0.007</td> <td>    7.039</td> <td> 0.000</td> <td>    0.037</td> <td>    0.065</td>\n",
       "</tr>\n",
       "<tr>\n",
       "  <th>review_scores_cleanliness</th>      <td>    0.0078</td> <td>    0.009</td> <td>    0.856</td> <td> 0.392</td> <td>   -0.010</td> <td>    0.026</td>\n",
       "</tr>\n",
       "<tr>\n",
       "  <th>review_scores_communication</th>    <td>    0.0145</td> <td>    0.009</td> <td>    1.546</td> <td> 0.122</td> <td>   -0.004</td> <td>    0.033</td>\n",
       "</tr>\n",
       "<tr>\n",
       "  <th>review_scores_rating</th>           <td>    0.0379</td> <td>    0.011</td> <td>    3.396</td> <td> 0.001</td> <td>    0.016</td> <td>    0.060</td>\n",
       "</tr>\n",
       "<tr>\n",
       "  <th>reviews_per_month</th>              <td>   -0.0550</td> <td>    0.008</td> <td>   -6.750</td> <td> 0.000</td> <td>   -0.071</td> <td>   -0.039</td>\n",
       "</tr>\n",
       "<tr>\n",
       "  <th>bathrooms</th>                      <td>    0.0546</td> <td>    0.008</td> <td>    6.633</td> <td> 0.000</td> <td>    0.038</td> <td>    0.071</td>\n",
       "</tr>\n",
       "<tr>\n",
       "  <th>bedrooms</th>                       <td>    0.1017</td> <td>    0.012</td> <td>    8.433</td> <td> 0.000</td> <td>    0.078</td> <td>    0.125</td>\n",
       "</tr>\n",
       "<tr>\n",
       "  <th>beds</th>                           <td>   -0.0450</td> <td>    0.014</td> <td>   -3.325</td> <td> 0.001</td> <td>   -0.072</td> <td>   -0.018</td>\n",
       "</tr>\n",
       "<tr>\n",
       "  <th>latitude</th>                       <td>   -0.0233</td> <td>    0.007</td> <td>   -3.550</td> <td> 0.000</td> <td>   -0.036</td> <td>   -0.010</td>\n",
       "</tr>\n",
       "<tr>\n",
       "  <th>availability_30</th>                <td>    0.0192</td> <td>    0.021</td> <td>    0.935</td> <td> 0.350</td> <td>   -0.021</td> <td>    0.060</td>\n",
       "</tr>\n",
       "<tr>\n",
       "  <th>availability_60</th>                <td>    0.0438</td> <td>    0.043</td> <td>    1.020</td> <td> 0.308</td> <td>   -0.040</td> <td>    0.128</td>\n",
       "</tr>\n",
       "<tr>\n",
       "  <th>availability_90</th>                <td>   -0.0486</td> <td>    0.033</td> <td>   -1.489</td> <td> 0.137</td> <td>   -0.113</td> <td>    0.015</td>\n",
       "</tr>\n",
       "<tr>\n",
       "  <th>availability_365</th>               <td>    0.0265</td> <td>    0.009</td> <td>    3.088</td> <td> 0.002</td> <td>    0.010</td> <td>    0.043</td>\n",
       "</tr>\n",
       "<tr>\n",
       "  <th>number_of_reviews</th>              <td>   -0.0017</td> <td>    0.008</td> <td>   -0.203</td> <td> 0.840</td> <td>   -0.018</td> <td>    0.015</td>\n",
       "</tr>\n",
       "<tr>\n",
       "  <th>minimum_nights</th>                 <td>   -0.0525</td> <td>    0.044</td> <td>   -1.191</td> <td> 0.234</td> <td>   -0.139</td> <td>    0.034</td>\n",
       "</tr>\n",
       "<tr>\n",
       "  <th>maximum_nights</th>                 <td>   -0.0055</td> <td>    0.023</td> <td>   -0.240</td> <td> 0.810</td> <td>   -0.050</td> <td>    0.039</td>\n",
       "</tr>\n",
       "<tr>\n",
       "  <th>extra_people</th>                   <td>    0.0111</td> <td>    0.007</td> <td>    1.606</td> <td> 0.108</td> <td>   -0.002</td> <td>    0.025</td>\n",
       "</tr>\n",
       "<tr>\n",
       "  <th>calculated_host_listings_count</th> <td>   -0.0271</td> <td>    0.007</td> <td>   -3.727</td> <td> 0.000</td> <td>   -0.041</td> <td>   -0.013</td>\n",
       "</tr>\n",
       "<tr>\n",
       "  <th>longitude</th>                      <td>   -0.0211</td> <td>    0.007</td> <td>   -3.207</td> <td> 0.001</td> <td>   -0.034</td> <td>   -0.008</td>\n",
       "</tr>\n",
       "<tr>\n",
       "  <th>guests_included</th>                <td>    0.0237</td> <td>    0.008</td> <td>    2.822</td> <td> 0.005</td> <td>    0.007</td> <td>    0.040</td>\n",
       "</tr>\n",
       "<tr>\n",
       "  <th>accommodates</th>                   <td>    0.1334</td> <td>    0.016</td> <td>    8.408</td> <td> 0.000</td> <td>    0.102</td> <td>    0.164</td>\n",
       "</tr>\n",
       "<tr>\n",
       "  <th>roomtype_Entire home/apt</th>       <td>    1.5101</td> <td>    0.013</td> <td>  112.747</td> <td> 0.000</td> <td>    1.484</td> <td>    1.536</td>\n",
       "</tr>\n",
       "<tr>\n",
       "  <th>roomtype_Private room</th>          <td>    1.0772</td> <td>    0.014</td> <td>   78.519</td> <td> 0.000</td> <td>    1.050</td> <td>    1.104</td>\n",
       "</tr>\n",
       "<tr>\n",
       "  <th>roomtype_Shared room</th>           <td>    0.7364</td> <td>    0.030</td> <td>   24.369</td> <td> 0.000</td> <td>    0.677</td> <td>    0.796</td>\n",
       "</tr>\n",
       "</table>\n",
       "<table class=\"simpletable\">\n",
       "<tr>\n",
       "  <th>Omnibus:</th>       <td>127.206</td> <th>  Durbin-Watson:     </th> <td>   2.040</td>\n",
       "</tr>\n",
       "<tr>\n",
       "  <th>Prob(Omnibus):</th> <td> 0.000</td>  <th>  Jarque-Bera (JB):  </th> <td> 200.598</td>\n",
       "</tr>\n",
       "<tr>\n",
       "  <th>Skew:</th>          <td> 0.408</td>  <th>  Prob(JB):          </th> <td>2.76e-44</td>\n",
       "</tr>\n",
       "<tr>\n",
       "  <th>Kurtosis:</th>      <td> 4.066</td>  <th>  Cond. No.          </th> <td>3.59e+15</td>\n",
       "</tr>\n",
       "</table><br/><br/>Warnings:<br/>[1] Standard Errors assume that the covariance matrix of the errors is correctly specified.<br/>[2] The smallest eigenvalue is 8.26e-28. This might indicate that there are<br/>strong multicollinearity problems or that the design matrix is singular."
      ],
      "text/plain": [
       "<class 'statsmodels.iolib.summary.Summary'>\n",
       "\"\"\"\n",
       "                            OLS Regression Results                            \n",
       "==============================================================================\n",
       "Dep. Variable:              log_price   R-squared:                       0.653\n",
       "Model:                            OLS   Adj. R-squared:                  0.650\n",
       "Method:                 Least Squares   F-statistic:                     184.4\n",
       "Date:                Mon, 22 Apr 2019   Prob (F-statistic):               0.00\n",
       "Time:                        10:24:44   Log-Likelihood:                -829.02\n",
       "No. Observations:                2672   AIC:                             1714.\n",
       "Df Residuals:                    2644   BIC:                             1879.\n",
       "Df Model:                          27                                         \n",
       "Covariance Type:            nonrobust                                         \n",
       "==================================================================================================\n",
       "                                     coef    std err          t      P>|t|      [0.025      0.975]\n",
       "--------------------------------------------------------------------------------------------------\n",
       "const                              3.3237      0.011    308.309      0.000       3.303       3.345\n",
       "cleaning_fee                       0.0848      0.009      9.596      0.000       0.067       0.102\n",
       "review_scores_accuracy             0.0227      0.009      2.546      0.011       0.005       0.040\n",
       "review_scores_checkin             -0.0276      0.009     -2.947      0.003      -0.046      -0.009\n",
       "review_scores_value               -0.0648      0.009     -6.864      0.000      -0.083      -0.046\n",
       "review_scores_location             0.0511      0.007      7.039      0.000       0.037       0.065\n",
       "review_scores_cleanliness          0.0078      0.009      0.856      0.392      -0.010       0.026\n",
       "review_scores_communication        0.0145      0.009      1.546      0.122      -0.004       0.033\n",
       "review_scores_rating               0.0379      0.011      3.396      0.001       0.016       0.060\n",
       "reviews_per_month                 -0.0550      0.008     -6.750      0.000      -0.071      -0.039\n",
       "bathrooms                          0.0546      0.008      6.633      0.000       0.038       0.071\n",
       "bedrooms                           0.1017      0.012      8.433      0.000       0.078       0.125\n",
       "beds                              -0.0450      0.014     -3.325      0.001      -0.072      -0.018\n",
       "latitude                          -0.0233      0.007     -3.550      0.000      -0.036      -0.010\n",
       "availability_30                    0.0192      0.021      0.935      0.350      -0.021       0.060\n",
       "availability_60                    0.0438      0.043      1.020      0.308      -0.040       0.128\n",
       "availability_90                   -0.0486      0.033     -1.489      0.137      -0.113       0.015\n",
       "availability_365                   0.0265      0.009      3.088      0.002       0.010       0.043\n",
       "number_of_reviews                 -0.0017      0.008     -0.203      0.840      -0.018       0.015\n",
       "minimum_nights                    -0.0525      0.044     -1.191      0.234      -0.139       0.034\n",
       "maximum_nights                    -0.0055      0.023     -0.240      0.810      -0.050       0.039\n",
       "extra_people                       0.0111      0.007      1.606      0.108      -0.002       0.025\n",
       "calculated_host_listings_count    -0.0271      0.007     -3.727      0.000      -0.041      -0.013\n",
       "longitude                         -0.0211      0.007     -3.207      0.001      -0.034      -0.008\n",
       "guests_included                    0.0237      0.008      2.822      0.005       0.007       0.040\n",
       "accommodates                       0.1334      0.016      8.408      0.000       0.102       0.164\n",
       "roomtype_Entire home/apt           1.5101      0.013    112.747      0.000       1.484       1.536\n",
       "roomtype_Private room              1.0772      0.014     78.519      0.000       1.050       1.104\n",
       "roomtype_Shared room               0.7364      0.030     24.369      0.000       0.677       0.796\n",
       "==============================================================================\n",
       "Omnibus:                      127.206   Durbin-Watson:                   2.040\n",
       "Prob(Omnibus):                  0.000   Jarque-Bera (JB):              200.598\n",
       "Skew:                           0.408   Prob(JB):                     2.76e-44\n",
       "Kurtosis:                       4.066   Cond. No.                     3.59e+15\n",
       "==============================================================================\n",
       "\n",
       "Warnings:\n",
       "[1] Standard Errors assume that the covariance matrix of the errors is correctly specified.\n",
       "[2] The smallest eigenvalue is 8.26e-28. This might indicate that there are\n",
       "strong multicollinearity problems or that the design matrix is singular.\n",
       "\"\"\""
      ]
     },
     "execution_count": 35,
     "metadata": {},
     "output_type": "execute_result"
    }
   ],
   "source": [
    "results.summary()"
   ]
  },
  {
   "cell_type": "markdown",
   "metadata": {},
   "source": [
    "### Linear Regression using sklearn package"
   ]
  },
  {
   "cell_type": "markdown",
   "metadata": {},
   "source": [
    "#### Fit the model"
   ]
  },
  {
   "cell_type": "code",
   "execution_count": 49,
   "metadata": {},
   "outputs": [
    {
     "data": {
      "text/plain": [
       "LinearRegression(copy_X=True, fit_intercept=True, n_jobs=1, normalize=False)"
      ]
     },
     "execution_count": 49,
     "metadata": {},
     "output_type": "execute_result"
    }
   ],
   "source": [
    "# Choose a class of model\n",
    "from sklearn.linear_model import LinearRegression\n",
    "# Choose model hyperparameters\n",
    "lr_model = LinearRegression(fit_intercept=True)\n",
    "# Train the model\n",
    "lr_model.fit(X_train, Y_train)"
   ]
  },
  {
   "cell_type": "markdown",
   "metadata": {},
   "source": [
    "#### Prediction"
   ]
  },
  {
   "cell_type": "code",
   "execution_count": 50,
   "metadata": {},
   "outputs": [],
   "source": [
    "Y_train_pred = lr_model.predict(X_train)\n",
    "Y_test_pred = lr_model.predict(X_test)"
   ]
  },
  {
   "cell_type": "markdown",
   "metadata": {},
   "source": [
    "#### Evaluating Model Accuracy"
   ]
  },
  {
   "cell_type": "code",
   "execution_count": 51,
   "metadata": {},
   "outputs": [
    {
     "name": "stdout",
     "output_type": "stream",
     "text": [
      "R^2 Train: 0.653, Test: 0.616\n",
      "RMSE Train: 0.330, Test: 0.358\n"
     ]
    }
   ],
   "source": [
    "print('R^2 Train: %.3f, Test: %.3f' % (\n",
    "        lr_model.score(X_train, Y_train),\n",
    "        lr_model.score(X_test, Y_test)))\n",
    "print('RMSE Train: %.3f, Test: %.3f' % (\n",
    "        np.sqrt(metrics.mean_squared_error(Y_train, Y_train_pred)),\n",
    "        np.sqrt(metrics.mean_squared_error(Y_test, Y_test_pred))))"
   ]
  },
  {
   "cell_type": "markdown",
   "metadata": {},
   "source": [
    "#### Cross Validation"
   ]
  },
  {
   "cell_type": "code",
   "execution_count": 40,
   "metadata": {},
   "outputs": [
    {
     "name": "stdout",
     "output_type": "stream",
     "text": [
      "R2 score:  [ 0.75078605  0.68957667  0.66968749  0.39811602  0.52575544  0.50283046\n",
      "  0.43918393  0.61915471  0.58887069  0.62317457]\n",
      "Average R2 score:  0.58\n",
      "Average RMSE score:  0.35\n"
     ]
    }
   ],
   "source": [
    "clr_model = LinearRegression(fit_intercept=True)\n",
    "cv_scores = cross_val_score(lr_model,X_data,Y_data,scoring='r2',cv=10)\n",
    "rmse = np.sqrt(-cross_val_score(clr_model,X_data, Y_data,scoring=\"neg_mean_squared_error\", cv =10))\n",
    "print('R2 score: ', cv_scores)\n",
    "print('Average R2 score: ', np.round(np.mean(cv_scores),2))\n",
    "print('Average RMSE score: ',np.round(np.mean(rmse),2))"
   ]
  },
  {
   "cell_type": "markdown",
   "metadata": {},
   "source": [
    "## Gradient Boosting Tree"
   ]
  },
  {
   "cell_type": "markdown",
   "metadata": {},
   "source": [
    "#### Fit the model"
   ]
  },
  {
   "cell_type": "code",
   "execution_count": 41,
   "metadata": {},
   "outputs": [
    {
     "data": {
      "text/plain": [
       "{'alpha': 0.9,\n",
       " 'criterion': 'friedman_mse',\n",
       " 'init': None,\n",
       " 'learning_rate': 0.1,\n",
       " 'loss': 'ls',\n",
       " 'max_depth': 3,\n",
       " 'max_features': None,\n",
       " 'max_leaf_nodes': None,\n",
       " 'min_impurity_decrease': 0.0,\n",
       " 'min_impurity_split': None,\n",
       " 'min_samples_leaf': 1,\n",
       " 'min_samples_split': 2,\n",
       " 'min_weight_fraction_leaf': 0.0,\n",
       " 'n_estimators': 100,\n",
       " 'presort': 'auto',\n",
       " 'random_state': 42,\n",
       " 'subsample': 1.0,\n",
       " 'verbose': 0,\n",
       " 'warm_start': False}"
      ]
     },
     "execution_count": 41,
     "metadata": {},
     "output_type": "execute_result"
    }
   ],
   "source": [
    "# Choose a class of model\n",
    "from sklearn.ensemble import GradientBoostingRegressor\n",
    "# Train model, using default paramenters\n",
    "gbt_model = GradientBoostingRegressor(n_estimators = 100, random_state = 42)\n",
    "gbt_model.fit(X_train, Y_train)\n",
    "# Print Default parameters of the model used\n",
    "gbt_model.get_params()"
   ]
  },
  {
   "cell_type": "markdown",
   "metadata": {},
   "source": [
    "#### Predicting label"
   ]
  },
  {
   "cell_type": "code",
   "execution_count": 43,
   "metadata": {},
   "outputs": [],
   "source": [
    "Y_train_pred = gbt_model.predict(X_train)\n",
    "Y_test_pred = gbt_model.predict(X_test)"
   ]
  },
  {
   "cell_type": "markdown",
   "metadata": {},
   "source": [
    "#### Evaluating model accuracy"
   ]
  },
  {
   "cell_type": "code",
   "execution_count": 52,
   "metadata": {},
   "outputs": [
    {
     "name": "stdout",
     "output_type": "stream",
     "text": [
      "R^2 Train: 0.785, Test: 0.726\n",
      "RMSE Train: 0.330, Test: 0.358\n"
     ]
    }
   ],
   "source": [
    "print('R^2 Train: %.3f, Test: %.3f' % (\n",
    "        gbt_model.score(X_train, Y_train),\n",
    "        gbt_model.score(X_test, Y_test)))\n",
    "print('RMSE Train: %.3f, Test: %.3f' % (\n",
    "        np.sqrt(metrics.mean_squared_error(Y_train, Y_train_pred)),\n",
    "        np.sqrt(metrics.mean_squared_error(Y_test, Y_test_pred))))"
   ]
  },
  {
   "cell_type": "markdown",
   "metadata": {},
   "source": [
    "#### Cross Validation"
   ]
  },
  {
   "cell_type": "code",
   "execution_count": 45,
   "metadata": {},
   "outputs": [
    {
     "name": "stdout",
     "output_type": "stream",
     "text": [
      "R2 score:  [ 0.77625834  0.73539758  0.7000007   0.50450005  0.60310357  0.67701347\n",
      "  0.74112371  0.66633235  0.65951682  0.67000645]\n",
      "Average R2 score:  0.67\n",
      "Average RMSE score:  0.31\n"
     ]
    }
   ],
   "source": [
    "cgbt_model = GradientBoostingRegressor(n_estimators = 100)\n",
    "cv_scores = cross_val_score(cgbt_model,X_data,Y_data,scoring='r2',cv=10)\n",
    "rmse = np.sqrt(-cross_val_score(cgbt_model,X_data, Y_data,scoring=\"neg_mean_squared_error\", cv =10))\n",
    "print('R2 score: ', cv_scores)\n",
    "print('Average R2 score: ', np.round(np.mean(cv_scores),2))\n",
    "print('Average RMSE score: ',np.round(np.mean(rmse),2))"
   ]
  },
  {
   "cell_type": "markdown",
   "metadata": {},
   "source": [
    "#### Tuning model"
   ]
  },
  {
   "cell_type": "code",
   "execution_count": 75,
   "metadata": {},
   "outputs": [
    {
     "name": "stdout",
     "output_type": "stream",
     "text": [
      "Fitting 10 folds for each of 32 candidates, totalling 320 fits\n",
      "[CV] max_depth=3, max_features=2, min_samples_leaf=1, min_samples_split=2, n_estimators=100 \n",
      "[CV]  max_depth=3, max_features=2, min_samples_leaf=1, min_samples_split=2, n_estimators=100, total=   0.0s\n",
      "[CV] max_depth=3, max_features=2, min_samples_leaf=1, min_samples_split=2, n_estimators=100 \n",
      "[CV]  max_depth=3, max_features=2, min_samples_leaf=1, min_samples_split=2, n_estimators=100, total=   0.0s\n",
      "[CV] max_depth=3, max_features=2, min_samples_leaf=1, min_samples_split=2, n_estimators=100 \n",
      "[CV]  max_depth=3, max_features=2, min_samples_leaf=1, min_samples_split=2, n_estimators=100, total=   0.0s\n",
      "[CV] max_depth=3, max_features=2, min_samples_leaf=1, min_samples_split=2, n_estimators=100 \n",
      "[CV]  max_depth=3, max_features=2, min_samples_leaf=1, min_samples_split=2, n_estimators=100, total=   0.0s\n",
      "[CV] max_depth=3, max_features=2, min_samples_leaf=1, min_samples_split=2, n_estimators=100 \n"
     ]
    },
    {
     "name": "stderr",
     "output_type": "stream",
     "text": [
      "[Parallel(n_jobs=1)]: Done   1 out of   1 | elapsed:    0.0s remaining:    0.0s\n"
     ]
    },
    {
     "name": "stdout",
     "output_type": "stream",
     "text": [
      "[CV]  max_depth=3, max_features=2, min_samples_leaf=1, min_samples_split=2, n_estimators=100, total=   0.0s\n",
      "[CV] max_depth=3, max_features=2, min_samples_leaf=1, min_samples_split=2, n_estimators=100 \n",
      "[CV]  max_depth=3, max_features=2, min_samples_leaf=1, min_samples_split=2, n_estimators=100, total=   0.0s\n",
      "[CV] max_depth=3, max_features=2, min_samples_leaf=1, min_samples_split=2, n_estimators=100 \n",
      "[CV]  max_depth=3, max_features=2, min_samples_leaf=1, min_samples_split=2, n_estimators=100, total=   0.0s\n",
      "[CV] max_depth=3, max_features=2, min_samples_leaf=1, min_samples_split=2, n_estimators=100 \n",
      "[CV]  max_depth=3, max_features=2, min_samples_leaf=1, min_samples_split=2, n_estimators=100, total=   0.0s\n",
      "[CV] max_depth=3, max_features=2, min_samples_leaf=1, min_samples_split=2, n_estimators=100 \n",
      "[CV]  max_depth=3, max_features=2, min_samples_leaf=1, min_samples_split=2, n_estimators=100, total=   0.0s\n",
      "[CV] max_depth=3, max_features=2, min_samples_leaf=1, min_samples_split=2, n_estimators=100 \n",
      "[CV]  max_depth=3, max_features=2, min_samples_leaf=1, min_samples_split=2, n_estimators=100, total=   0.0s\n",
      "[CV] max_depth=3, max_features=2, min_samples_leaf=1, min_samples_split=2, n_estimators=500 \n",
      "[CV]  max_depth=3, max_features=2, min_samples_leaf=1, min_samples_split=2, n_estimators=500, total=   0.1s\n",
      "[CV] max_depth=3, max_features=2, min_samples_leaf=1, min_samples_split=2, n_estimators=500 \n",
      "[CV]  max_depth=3, max_features=2, min_samples_leaf=1, min_samples_split=2, n_estimators=500, total=   0.1s\n",
      "[CV] max_depth=3, max_features=2, min_samples_leaf=1, min_samples_split=2, n_estimators=500 \n",
      "[CV]  max_depth=3, max_features=2, min_samples_leaf=1, min_samples_split=2, n_estimators=500, total=   0.1s\n",
      "[CV] max_depth=3, max_features=2, min_samples_leaf=1, min_samples_split=2, n_estimators=500 \n",
      "[CV]  max_depth=3, max_features=2, min_samples_leaf=1, min_samples_split=2, n_estimators=500, total=   0.1s\n",
      "[CV] max_depth=3, max_features=2, min_samples_leaf=1, min_samples_split=2, n_estimators=500 \n",
      "[CV]  max_depth=3, max_features=2, min_samples_leaf=1, min_samples_split=2, n_estimators=500, total=   0.1s\n",
      "[CV] max_depth=3, max_features=2, min_samples_leaf=1, min_samples_split=2, n_estimators=500 \n",
      "[CV]  max_depth=3, max_features=2, min_samples_leaf=1, min_samples_split=2, n_estimators=500, total=   0.1s\n",
      "[CV] max_depth=3, max_features=2, min_samples_leaf=1, min_samples_split=2, n_estimators=500 \n",
      "[CV]  max_depth=3, max_features=2, min_samples_leaf=1, min_samples_split=2, n_estimators=500, total=   0.1s\n",
      "[CV] max_depth=3, max_features=2, min_samples_leaf=1, min_samples_split=2, n_estimators=500 \n",
      "[CV]  max_depth=3, max_features=2, min_samples_leaf=1, min_samples_split=2, n_estimators=500, total=   0.1s\n",
      "[CV] max_depth=3, max_features=2, min_samples_leaf=1, min_samples_split=2, n_estimators=500 \n",
      "[CV]  max_depth=3, max_features=2, min_samples_leaf=1, min_samples_split=2, n_estimators=500, total=   0.1s\n",
      "[CV] max_depth=3, max_features=2, min_samples_leaf=1, min_samples_split=2, n_estimators=500 \n",
      "[CV]  max_depth=3, max_features=2, min_samples_leaf=1, min_samples_split=2, n_estimators=500, total=   0.1s\n",
      "[CV] max_depth=3, max_features=2, min_samples_leaf=1, min_samples_split=30, n_estimators=100 \n",
      "[CV]  max_depth=3, max_features=2, min_samples_leaf=1, min_samples_split=30, n_estimators=100, total=   0.0s\n",
      "[CV] max_depth=3, max_features=2, min_samples_leaf=1, min_samples_split=30, n_estimators=100 \n",
      "[CV]  max_depth=3, max_features=2, min_samples_leaf=1, min_samples_split=30, n_estimators=100, total=   0.0s\n",
      "[CV] max_depth=3, max_features=2, min_samples_leaf=1, min_samples_split=30, n_estimators=100 \n",
      "[CV]  max_depth=3, max_features=2, min_samples_leaf=1, min_samples_split=30, n_estimators=100, total=   0.0s\n",
      "[CV] max_depth=3, max_features=2, min_samples_leaf=1, min_samples_split=30, n_estimators=100 \n",
      "[CV]  max_depth=3, max_features=2, min_samples_leaf=1, min_samples_split=30, n_estimators=100, total=   0.0s\n",
      "[CV] max_depth=3, max_features=2, min_samples_leaf=1, min_samples_split=30, n_estimators=100 \n",
      "[CV]  max_depth=3, max_features=2, min_samples_leaf=1, min_samples_split=30, n_estimators=100, total=   0.0s\n",
      "[CV] max_depth=3, max_features=2, min_samples_leaf=1, min_samples_split=30, n_estimators=100 \n",
      "[CV]  max_depth=3, max_features=2, min_samples_leaf=1, min_samples_split=30, n_estimators=100, total=   0.0s\n",
      "[CV] max_depth=3, max_features=2, min_samples_leaf=1, min_samples_split=30, n_estimators=100 \n",
      "[CV]  max_depth=3, max_features=2, min_samples_leaf=1, min_samples_split=30, n_estimators=100, total=   0.0s\n",
      "[CV] max_depth=3, max_features=2, min_samples_leaf=1, min_samples_split=30, n_estimators=100 \n",
      "[CV]  max_depth=3, max_features=2, min_samples_leaf=1, min_samples_split=30, n_estimators=100, total=   0.0s\n",
      "[CV] max_depth=3, max_features=2, min_samples_leaf=1, min_samples_split=30, n_estimators=100 \n",
      "[CV]  max_depth=3, max_features=2, min_samples_leaf=1, min_samples_split=30, n_estimators=100, total=   0.0s\n",
      "[CV] max_depth=3, max_features=2, min_samples_leaf=1, min_samples_split=30, n_estimators=100 \n",
      "[CV]  max_depth=3, max_features=2, min_samples_leaf=1, min_samples_split=30, n_estimators=100, total=   0.0s\n",
      "[CV] max_depth=3, max_features=2, min_samples_leaf=1, min_samples_split=30, n_estimators=500 \n",
      "[CV]  max_depth=3, max_features=2, min_samples_leaf=1, min_samples_split=30, n_estimators=500, total=   0.1s\n",
      "[CV] max_depth=3, max_features=2, min_samples_leaf=1, min_samples_split=30, n_estimators=500 \n",
      "[CV]  max_depth=3, max_features=2, min_samples_leaf=1, min_samples_split=30, n_estimators=500, total=   0.1s\n",
      "[CV] max_depth=3, max_features=2, min_samples_leaf=1, min_samples_split=30, n_estimators=500 \n",
      "[CV]  max_depth=3, max_features=2, min_samples_leaf=1, min_samples_split=30, n_estimators=500, total=   0.1s\n",
      "[CV] max_depth=3, max_features=2, min_samples_leaf=1, min_samples_split=30, n_estimators=500 \n",
      "[CV]  max_depth=3, max_features=2, min_samples_leaf=1, min_samples_split=30, n_estimators=500, total=   0.1s\n",
      "[CV] max_depth=3, max_features=2, min_samples_leaf=1, min_samples_split=30, n_estimators=500 \n",
      "[CV]  max_depth=3, max_features=2, min_samples_leaf=1, min_samples_split=30, n_estimators=500, total=   0.1s\n",
      "[CV] max_depth=3, max_features=2, min_samples_leaf=1, min_samples_split=30, n_estimators=500 \n",
      "[CV]  max_depth=3, max_features=2, min_samples_leaf=1, min_samples_split=30, n_estimators=500, total=   0.1s\n",
      "[CV] max_depth=3, max_features=2, min_samples_leaf=1, min_samples_split=30, n_estimators=500 \n",
      "[CV]  max_depth=3, max_features=2, min_samples_leaf=1, min_samples_split=30, n_estimators=500, total=   0.1s\n",
      "[CV] max_depth=3, max_features=2, min_samples_leaf=1, min_samples_split=30, n_estimators=500 \n",
      "[CV]  max_depth=3, max_features=2, min_samples_leaf=1, min_samples_split=30, n_estimators=500, total=   0.1s\n",
      "[CV] max_depth=3, max_features=2, min_samples_leaf=1, min_samples_split=30, n_estimators=500 \n",
      "[CV]  max_depth=3, max_features=2, min_samples_leaf=1, min_samples_split=30, n_estimators=500, total=   0.1s\n",
      "[CV] max_depth=3, max_features=2, min_samples_leaf=1, min_samples_split=30, n_estimators=500 \n",
      "[CV]  max_depth=3, max_features=2, min_samples_leaf=1, min_samples_split=30, n_estimators=500, total=   0.1s\n",
      "[CV] max_depth=3, max_features=2, min_samples_leaf=30, min_samples_split=2, n_estimators=100 \n",
      "[CV]  max_depth=3, max_features=2, min_samples_leaf=30, min_samples_split=2, n_estimators=100, total=   0.0s\n",
      "[CV] max_depth=3, max_features=2, min_samples_leaf=30, min_samples_split=2, n_estimators=100 \n",
      "[CV]  max_depth=3, max_features=2, min_samples_leaf=30, min_samples_split=2, n_estimators=100, total=   0.0s\n",
      "[CV] max_depth=3, max_features=2, min_samples_leaf=30, min_samples_split=2, n_estimators=100 \n",
      "[CV]  max_depth=3, max_features=2, min_samples_leaf=30, min_samples_split=2, n_estimators=100, total=   0.0s\n",
      "[CV] max_depth=3, max_features=2, min_samples_leaf=30, min_samples_split=2, n_estimators=100 \n",
      "[CV]  max_depth=3, max_features=2, min_samples_leaf=30, min_samples_split=2, n_estimators=100, total=   0.0s\n",
      "[CV] max_depth=3, max_features=2, min_samples_leaf=30, min_samples_split=2, n_estimators=100 \n",
      "[CV]  max_depth=3, max_features=2, min_samples_leaf=30, min_samples_split=2, n_estimators=100, total=   0.0s\n",
      "[CV] max_depth=3, max_features=2, min_samples_leaf=30, min_samples_split=2, n_estimators=100 \n"
     ]
    },
    {
     "name": "stdout",
     "output_type": "stream",
     "text": [
      "[CV]  max_depth=3, max_features=2, min_samples_leaf=30, min_samples_split=2, n_estimators=100, total=   0.0s\n",
      "[CV] max_depth=3, max_features=2, min_samples_leaf=30, min_samples_split=2, n_estimators=100 \n",
      "[CV]  max_depth=3, max_features=2, min_samples_leaf=30, min_samples_split=2, n_estimators=100, total=   0.0s\n",
      "[CV] max_depth=3, max_features=2, min_samples_leaf=30, min_samples_split=2, n_estimators=100 \n",
      "[CV]  max_depth=3, max_features=2, min_samples_leaf=30, min_samples_split=2, n_estimators=100, total=   0.0s\n",
      "[CV] max_depth=3, max_features=2, min_samples_leaf=30, min_samples_split=2, n_estimators=100 \n",
      "[CV]  max_depth=3, max_features=2, min_samples_leaf=30, min_samples_split=2, n_estimators=100, total=   0.0s\n",
      "[CV] max_depth=3, max_features=2, min_samples_leaf=30, min_samples_split=2, n_estimators=100 \n",
      "[CV]  max_depth=3, max_features=2, min_samples_leaf=30, min_samples_split=2, n_estimators=100, total=   0.0s\n",
      "[CV] max_depth=3, max_features=2, min_samples_leaf=30, min_samples_split=2, n_estimators=500 \n",
      "[CV]  max_depth=3, max_features=2, min_samples_leaf=30, min_samples_split=2, n_estimators=500, total=   0.1s\n",
      "[CV] max_depth=3, max_features=2, min_samples_leaf=30, min_samples_split=2, n_estimators=500 \n",
      "[CV]  max_depth=3, max_features=2, min_samples_leaf=30, min_samples_split=2, n_estimators=500, total=   0.1s\n",
      "[CV] max_depth=3, max_features=2, min_samples_leaf=30, min_samples_split=2, n_estimators=500 \n",
      "[CV]  max_depth=3, max_features=2, min_samples_leaf=30, min_samples_split=2, n_estimators=500, total=   0.1s\n",
      "[CV] max_depth=3, max_features=2, min_samples_leaf=30, min_samples_split=2, n_estimators=500 \n",
      "[CV]  max_depth=3, max_features=2, min_samples_leaf=30, min_samples_split=2, n_estimators=500, total=   0.1s\n",
      "[CV] max_depth=3, max_features=2, min_samples_leaf=30, min_samples_split=2, n_estimators=500 \n",
      "[CV]  max_depth=3, max_features=2, min_samples_leaf=30, min_samples_split=2, n_estimators=500, total=   0.1s\n",
      "[CV] max_depth=3, max_features=2, min_samples_leaf=30, min_samples_split=2, n_estimators=500 \n",
      "[CV]  max_depth=3, max_features=2, min_samples_leaf=30, min_samples_split=2, n_estimators=500, total=   0.1s\n",
      "[CV] max_depth=3, max_features=2, min_samples_leaf=30, min_samples_split=2, n_estimators=500 \n",
      "[CV]  max_depth=3, max_features=2, min_samples_leaf=30, min_samples_split=2, n_estimators=500, total=   0.1s\n",
      "[CV] max_depth=3, max_features=2, min_samples_leaf=30, min_samples_split=2, n_estimators=500 \n",
      "[CV]  max_depth=3, max_features=2, min_samples_leaf=30, min_samples_split=2, n_estimators=500, total=   0.1s\n",
      "[CV] max_depth=3, max_features=2, min_samples_leaf=30, min_samples_split=2, n_estimators=500 \n",
      "[CV]  max_depth=3, max_features=2, min_samples_leaf=30, min_samples_split=2, n_estimators=500, total=   0.1s\n",
      "[CV] max_depth=3, max_features=2, min_samples_leaf=30, min_samples_split=2, n_estimators=500 \n",
      "[CV]  max_depth=3, max_features=2, min_samples_leaf=30, min_samples_split=2, n_estimators=500, total=   0.1s\n",
      "[CV] max_depth=3, max_features=2, min_samples_leaf=30, min_samples_split=30, n_estimators=100 \n",
      "[CV]  max_depth=3, max_features=2, min_samples_leaf=30, min_samples_split=30, n_estimators=100, total=   0.0s\n",
      "[CV] max_depth=3, max_features=2, min_samples_leaf=30, min_samples_split=30, n_estimators=100 \n",
      "[CV]  max_depth=3, max_features=2, min_samples_leaf=30, min_samples_split=30, n_estimators=100, total=   0.0s\n",
      "[CV] max_depth=3, max_features=2, min_samples_leaf=30, min_samples_split=30, n_estimators=100 \n",
      "[CV]  max_depth=3, max_features=2, min_samples_leaf=30, min_samples_split=30, n_estimators=100, total=   0.0s\n",
      "[CV] max_depth=3, max_features=2, min_samples_leaf=30, min_samples_split=30, n_estimators=100 \n",
      "[CV]  max_depth=3, max_features=2, min_samples_leaf=30, min_samples_split=30, n_estimators=100, total=   0.0s\n",
      "[CV] max_depth=3, max_features=2, min_samples_leaf=30, min_samples_split=30, n_estimators=100 \n",
      "[CV]  max_depth=3, max_features=2, min_samples_leaf=30, min_samples_split=30, n_estimators=100, total=   0.0s\n",
      "[CV] max_depth=3, max_features=2, min_samples_leaf=30, min_samples_split=30, n_estimators=100 \n",
      "[CV]  max_depth=3, max_features=2, min_samples_leaf=30, min_samples_split=30, n_estimators=100, total=   0.0s\n",
      "[CV] max_depth=3, max_features=2, min_samples_leaf=30, min_samples_split=30, n_estimators=100 \n",
      "[CV]  max_depth=3, max_features=2, min_samples_leaf=30, min_samples_split=30, n_estimators=100, total=   0.0s\n",
      "[CV] max_depth=3, max_features=2, min_samples_leaf=30, min_samples_split=30, n_estimators=100 \n",
      "[CV]  max_depth=3, max_features=2, min_samples_leaf=30, min_samples_split=30, n_estimators=100, total=   0.0s\n",
      "[CV] max_depth=3, max_features=2, min_samples_leaf=30, min_samples_split=30, n_estimators=100 \n",
      "[CV]  max_depth=3, max_features=2, min_samples_leaf=30, min_samples_split=30, n_estimators=100, total=   0.0s\n",
      "[CV] max_depth=3, max_features=2, min_samples_leaf=30, min_samples_split=30, n_estimators=100 \n",
      "[CV]  max_depth=3, max_features=2, min_samples_leaf=30, min_samples_split=30, n_estimators=100, total=   0.0s\n",
      "[CV] max_depth=3, max_features=2, min_samples_leaf=30, min_samples_split=30, n_estimators=500 \n",
      "[CV]  max_depth=3, max_features=2, min_samples_leaf=30, min_samples_split=30, n_estimators=500, total=   0.1s\n",
      "[CV] max_depth=3, max_features=2, min_samples_leaf=30, min_samples_split=30, n_estimators=500 \n",
      "[CV]  max_depth=3, max_features=2, min_samples_leaf=30, min_samples_split=30, n_estimators=500, total=   0.1s\n",
      "[CV] max_depth=3, max_features=2, min_samples_leaf=30, min_samples_split=30, n_estimators=500 \n",
      "[CV]  max_depth=3, max_features=2, min_samples_leaf=30, min_samples_split=30, n_estimators=500, total=   0.1s\n",
      "[CV] max_depth=3, max_features=2, min_samples_leaf=30, min_samples_split=30, n_estimators=500 \n",
      "[CV]  max_depth=3, max_features=2, min_samples_leaf=30, min_samples_split=30, n_estimators=500, total=   0.1s\n",
      "[CV] max_depth=3, max_features=2, min_samples_leaf=30, min_samples_split=30, n_estimators=500 \n",
      "[CV]  max_depth=3, max_features=2, min_samples_leaf=30, min_samples_split=30, n_estimators=500, total=   0.1s\n",
      "[CV] max_depth=3, max_features=2, min_samples_leaf=30, min_samples_split=30, n_estimators=500 \n",
      "[CV]  max_depth=3, max_features=2, min_samples_leaf=30, min_samples_split=30, n_estimators=500, total=   0.1s\n",
      "[CV] max_depth=3, max_features=2, min_samples_leaf=30, min_samples_split=30, n_estimators=500 \n",
      "[CV]  max_depth=3, max_features=2, min_samples_leaf=30, min_samples_split=30, n_estimators=500, total=   0.1s\n",
      "[CV] max_depth=3, max_features=2, min_samples_leaf=30, min_samples_split=30, n_estimators=500 \n",
      "[CV]  max_depth=3, max_features=2, min_samples_leaf=30, min_samples_split=30, n_estimators=500, total=   0.1s\n",
      "[CV] max_depth=3, max_features=2, min_samples_leaf=30, min_samples_split=30, n_estimators=500 \n",
      "[CV]  max_depth=3, max_features=2, min_samples_leaf=30, min_samples_split=30, n_estimators=500, total=   0.1s\n",
      "[CV] max_depth=3, max_features=2, min_samples_leaf=30, min_samples_split=30, n_estimators=500 \n",
      "[CV]  max_depth=3, max_features=2, min_samples_leaf=30, min_samples_split=30, n_estimators=500, total=   0.1s\n",
      "[CV] max_depth=3, max_features=25, min_samples_leaf=1, min_samples_split=2, n_estimators=100 \n",
      "[CV]  max_depth=3, max_features=25, min_samples_leaf=1, min_samples_split=2, n_estimators=100, total=   0.1s\n",
      "[CV] max_depth=3, max_features=25, min_samples_leaf=1, min_samples_split=2, n_estimators=100 \n",
      "[CV]  max_depth=3, max_features=25, min_samples_leaf=1, min_samples_split=2, n_estimators=100, total=   0.1s\n",
      "[CV] max_depth=3, max_features=25, min_samples_leaf=1, min_samples_split=2, n_estimators=100 \n",
      "[CV]  max_depth=3, max_features=25, min_samples_leaf=1, min_samples_split=2, n_estimators=100, total=   0.1s\n",
      "[CV] max_depth=3, max_features=25, min_samples_leaf=1, min_samples_split=2, n_estimators=100 \n",
      "[CV]  max_depth=3, max_features=25, min_samples_leaf=1, min_samples_split=2, n_estimators=100, total=   0.1s\n",
      "[CV] max_depth=3, max_features=25, min_samples_leaf=1, min_samples_split=2, n_estimators=100 \n",
      "[CV]  max_depth=3, max_features=25, min_samples_leaf=1, min_samples_split=2, n_estimators=100, total=   0.1s\n",
      "[CV] max_depth=3, max_features=25, min_samples_leaf=1, min_samples_split=2, n_estimators=100 \n",
      "[CV]  max_depth=3, max_features=25, min_samples_leaf=1, min_samples_split=2, n_estimators=100, total=   0.1s\n",
      "[CV] max_depth=3, max_features=25, min_samples_leaf=1, min_samples_split=2, n_estimators=100 \n",
      "[CV]  max_depth=3, max_features=25, min_samples_leaf=1, min_samples_split=2, n_estimators=100, total=   0.1s\n",
      "[CV] max_depth=3, max_features=25, min_samples_leaf=1, min_samples_split=2, n_estimators=100 \n"
     ]
    },
    {
     "name": "stdout",
     "output_type": "stream",
     "text": [
      "[CV]  max_depth=3, max_features=25, min_samples_leaf=1, min_samples_split=2, n_estimators=100, total=   0.1s\n",
      "[CV] max_depth=3, max_features=25, min_samples_leaf=1, min_samples_split=2, n_estimators=100 \n",
      "[CV]  max_depth=3, max_features=25, min_samples_leaf=1, min_samples_split=2, n_estimators=100, total=   0.1s\n",
      "[CV] max_depth=3, max_features=25, min_samples_leaf=1, min_samples_split=2, n_estimators=100 \n",
      "[CV]  max_depth=3, max_features=25, min_samples_leaf=1, min_samples_split=2, n_estimators=100, total=   0.1s\n",
      "[CV] max_depth=3, max_features=25, min_samples_leaf=1, min_samples_split=2, n_estimators=500 \n",
      "[CV]  max_depth=3, max_features=25, min_samples_leaf=1, min_samples_split=2, n_estimators=500, total=   0.7s\n",
      "[CV] max_depth=3, max_features=25, min_samples_leaf=1, min_samples_split=2, n_estimators=500 \n",
      "[CV]  max_depth=3, max_features=25, min_samples_leaf=1, min_samples_split=2, n_estimators=500, total=   0.7s\n",
      "[CV] max_depth=3, max_features=25, min_samples_leaf=1, min_samples_split=2, n_estimators=500 \n",
      "[CV]  max_depth=3, max_features=25, min_samples_leaf=1, min_samples_split=2, n_estimators=500, total=   0.8s\n",
      "[CV] max_depth=3, max_features=25, min_samples_leaf=1, min_samples_split=2, n_estimators=500 \n",
      "[CV]  max_depth=3, max_features=25, min_samples_leaf=1, min_samples_split=2, n_estimators=500, total=   1.1s\n",
      "[CV] max_depth=3, max_features=25, min_samples_leaf=1, min_samples_split=2, n_estimators=500 \n",
      "[CV]  max_depth=3, max_features=25, min_samples_leaf=1, min_samples_split=2, n_estimators=500, total=   0.9s\n",
      "[CV] max_depth=3, max_features=25, min_samples_leaf=1, min_samples_split=2, n_estimators=500 \n",
      "[CV]  max_depth=3, max_features=25, min_samples_leaf=1, min_samples_split=2, n_estimators=500, total=   0.9s\n",
      "[CV] max_depth=3, max_features=25, min_samples_leaf=1, min_samples_split=2, n_estimators=500 \n",
      "[CV]  max_depth=3, max_features=25, min_samples_leaf=1, min_samples_split=2, n_estimators=500, total=   0.9s\n",
      "[CV] max_depth=3, max_features=25, min_samples_leaf=1, min_samples_split=2, n_estimators=500 \n",
      "[CV]  max_depth=3, max_features=25, min_samples_leaf=1, min_samples_split=2, n_estimators=500, total=   0.9s\n",
      "[CV] max_depth=3, max_features=25, min_samples_leaf=1, min_samples_split=2, n_estimators=500 \n",
      "[CV]  max_depth=3, max_features=25, min_samples_leaf=1, min_samples_split=2, n_estimators=500, total=   0.9s\n",
      "[CV] max_depth=3, max_features=25, min_samples_leaf=1, min_samples_split=2, n_estimators=500 \n",
      "[CV]  max_depth=3, max_features=25, min_samples_leaf=1, min_samples_split=2, n_estimators=500, total=   0.9s\n",
      "[CV] max_depth=3, max_features=25, min_samples_leaf=1, min_samples_split=30, n_estimators=100 \n",
      "[CV]  max_depth=3, max_features=25, min_samples_leaf=1, min_samples_split=30, n_estimators=100, total=   0.1s\n",
      "[CV] max_depth=3, max_features=25, min_samples_leaf=1, min_samples_split=30, n_estimators=100 \n",
      "[CV]  max_depth=3, max_features=25, min_samples_leaf=1, min_samples_split=30, n_estimators=100, total=   0.1s\n",
      "[CV] max_depth=3, max_features=25, min_samples_leaf=1, min_samples_split=30, n_estimators=100 \n",
      "[CV]  max_depth=3, max_features=25, min_samples_leaf=1, min_samples_split=30, n_estimators=100, total=   0.1s\n",
      "[CV] max_depth=3, max_features=25, min_samples_leaf=1, min_samples_split=30, n_estimators=100 \n",
      "[CV]  max_depth=3, max_features=25, min_samples_leaf=1, min_samples_split=30, n_estimators=100, total=   0.1s\n",
      "[CV] max_depth=3, max_features=25, min_samples_leaf=1, min_samples_split=30, n_estimators=100 \n",
      "[CV]  max_depth=3, max_features=25, min_samples_leaf=1, min_samples_split=30, n_estimators=100, total=   0.1s\n",
      "[CV] max_depth=3, max_features=25, min_samples_leaf=1, min_samples_split=30, n_estimators=100 \n",
      "[CV]  max_depth=3, max_features=25, min_samples_leaf=1, min_samples_split=30, n_estimators=100, total=   0.1s\n",
      "[CV] max_depth=3, max_features=25, min_samples_leaf=1, min_samples_split=30, n_estimators=100 \n",
      "[CV]  max_depth=3, max_features=25, min_samples_leaf=1, min_samples_split=30, n_estimators=100, total=   0.1s\n",
      "[CV] max_depth=3, max_features=25, min_samples_leaf=1, min_samples_split=30, n_estimators=100 \n",
      "[CV]  max_depth=3, max_features=25, min_samples_leaf=1, min_samples_split=30, n_estimators=100, total=   0.1s\n",
      "[CV] max_depth=3, max_features=25, min_samples_leaf=1, min_samples_split=30, n_estimators=100 \n",
      "[CV]  max_depth=3, max_features=25, min_samples_leaf=1, min_samples_split=30, n_estimators=100, total=   0.2s\n",
      "[CV] max_depth=3, max_features=25, min_samples_leaf=1, min_samples_split=30, n_estimators=100 \n",
      "[CV]  max_depth=3, max_features=25, min_samples_leaf=1, min_samples_split=30, n_estimators=100, total=   0.1s\n",
      "[CV] max_depth=3, max_features=25, min_samples_leaf=1, min_samples_split=30, n_estimators=500 \n",
      "[CV]  max_depth=3, max_features=25, min_samples_leaf=1, min_samples_split=30, n_estimators=500, total=   0.9s\n",
      "[CV] max_depth=3, max_features=25, min_samples_leaf=1, min_samples_split=30, n_estimators=500 \n",
      "[CV]  max_depth=3, max_features=25, min_samples_leaf=1, min_samples_split=30, n_estimators=500, total=   0.8s\n",
      "[CV] max_depth=3, max_features=25, min_samples_leaf=1, min_samples_split=30, n_estimators=500 \n",
      "[CV]  max_depth=3, max_features=25, min_samples_leaf=1, min_samples_split=30, n_estimators=500, total=   0.8s\n",
      "[CV] max_depth=3, max_features=25, min_samples_leaf=1, min_samples_split=30, n_estimators=500 \n",
      "[CV]  max_depth=3, max_features=25, min_samples_leaf=1, min_samples_split=30, n_estimators=500, total=   0.9s\n",
      "[CV] max_depth=3, max_features=25, min_samples_leaf=1, min_samples_split=30, n_estimators=500 \n",
      "[CV]  max_depth=3, max_features=25, min_samples_leaf=1, min_samples_split=30, n_estimators=500, total=   0.9s\n",
      "[CV] max_depth=3, max_features=25, min_samples_leaf=1, min_samples_split=30, n_estimators=500 \n",
      "[CV]  max_depth=3, max_features=25, min_samples_leaf=1, min_samples_split=30, n_estimators=500, total=   0.9s\n",
      "[CV] max_depth=3, max_features=25, min_samples_leaf=1, min_samples_split=30, n_estimators=500 \n",
      "[CV]  max_depth=3, max_features=25, min_samples_leaf=1, min_samples_split=30, n_estimators=500, total=   1.0s\n",
      "[CV] max_depth=3, max_features=25, min_samples_leaf=1, min_samples_split=30, n_estimators=500 \n",
      "[CV]  max_depth=3, max_features=25, min_samples_leaf=1, min_samples_split=30, n_estimators=500, total=   1.0s\n",
      "[CV] max_depth=3, max_features=25, min_samples_leaf=1, min_samples_split=30, n_estimators=500 \n",
      "[CV]  max_depth=3, max_features=25, min_samples_leaf=1, min_samples_split=30, n_estimators=500, total=   0.9s\n",
      "[CV] max_depth=3, max_features=25, min_samples_leaf=1, min_samples_split=30, n_estimators=500 \n",
      "[CV]  max_depth=3, max_features=25, min_samples_leaf=1, min_samples_split=30, n_estimators=500, total=   0.8s\n",
      "[CV] max_depth=3, max_features=25, min_samples_leaf=30, min_samples_split=2, n_estimators=100 \n",
      "[CV]  max_depth=3, max_features=25, min_samples_leaf=30, min_samples_split=2, n_estimators=100, total=   0.1s\n",
      "[CV] max_depth=3, max_features=25, min_samples_leaf=30, min_samples_split=2, n_estimators=100 \n",
      "[CV]  max_depth=3, max_features=25, min_samples_leaf=30, min_samples_split=2, n_estimators=100, total=   0.1s\n",
      "[CV] max_depth=3, max_features=25, min_samples_leaf=30, min_samples_split=2, n_estimators=100 \n",
      "[CV]  max_depth=3, max_features=25, min_samples_leaf=30, min_samples_split=2, n_estimators=100, total=   0.1s\n",
      "[CV] max_depth=3, max_features=25, min_samples_leaf=30, min_samples_split=2, n_estimators=100 \n",
      "[CV]  max_depth=3, max_features=25, min_samples_leaf=30, min_samples_split=2, n_estimators=100, total=   0.1s\n",
      "[CV] max_depth=3, max_features=25, min_samples_leaf=30, min_samples_split=2, n_estimators=100 \n",
      "[CV]  max_depth=3, max_features=25, min_samples_leaf=30, min_samples_split=2, n_estimators=100, total=   0.1s\n",
      "[CV] max_depth=3, max_features=25, min_samples_leaf=30, min_samples_split=2, n_estimators=100 \n",
      "[CV]  max_depth=3, max_features=25, min_samples_leaf=30, min_samples_split=2, n_estimators=100, total=   0.1s\n",
      "[CV] max_depth=3, max_features=25, min_samples_leaf=30, min_samples_split=2, n_estimators=100 \n",
      "[CV]  max_depth=3, max_features=25, min_samples_leaf=30, min_samples_split=2, n_estimators=100, total=   0.1s\n",
      "[CV] max_depth=3, max_features=25, min_samples_leaf=30, min_samples_split=2, n_estimators=100 \n",
      "[CV]  max_depth=3, max_features=25, min_samples_leaf=30, min_samples_split=2, n_estimators=100, total=   0.1s\n",
      "[CV] max_depth=3, max_features=25, min_samples_leaf=30, min_samples_split=2, n_estimators=100 \n"
     ]
    },
    {
     "name": "stdout",
     "output_type": "stream",
     "text": [
      "[CV]  max_depth=3, max_features=25, min_samples_leaf=30, min_samples_split=2, n_estimators=100, total=   0.1s\n",
      "[CV] max_depth=3, max_features=25, min_samples_leaf=30, min_samples_split=2, n_estimators=100 \n",
      "[CV]  max_depth=3, max_features=25, min_samples_leaf=30, min_samples_split=2, n_estimators=100, total=   0.1s\n",
      "[CV] max_depth=3, max_features=25, min_samples_leaf=30, min_samples_split=2, n_estimators=500 \n",
      "[CV]  max_depth=3, max_features=25, min_samples_leaf=30, min_samples_split=2, n_estimators=500, total=   0.9s\n",
      "[CV] max_depth=3, max_features=25, min_samples_leaf=30, min_samples_split=2, n_estimators=500 \n",
      "[CV]  max_depth=3, max_features=25, min_samples_leaf=30, min_samples_split=2, n_estimators=500, total=   1.0s\n",
      "[CV] max_depth=3, max_features=25, min_samples_leaf=30, min_samples_split=2, n_estimators=500 \n",
      "[CV]  max_depth=3, max_features=25, min_samples_leaf=30, min_samples_split=2, n_estimators=500, total=   1.0s\n",
      "[CV] max_depth=3, max_features=25, min_samples_leaf=30, min_samples_split=2, n_estimators=500 \n",
      "[CV]  max_depth=3, max_features=25, min_samples_leaf=30, min_samples_split=2, n_estimators=500, total=   0.8s\n",
      "[CV] max_depth=3, max_features=25, min_samples_leaf=30, min_samples_split=2, n_estimators=500 \n",
      "[CV]  max_depth=3, max_features=25, min_samples_leaf=30, min_samples_split=2, n_estimators=500, total=   0.8s\n",
      "[CV] max_depth=3, max_features=25, min_samples_leaf=30, min_samples_split=2, n_estimators=500 \n",
      "[CV]  max_depth=3, max_features=25, min_samples_leaf=30, min_samples_split=2, n_estimators=500, total=   0.8s\n",
      "[CV] max_depth=3, max_features=25, min_samples_leaf=30, min_samples_split=2, n_estimators=500 \n",
      "[CV]  max_depth=3, max_features=25, min_samples_leaf=30, min_samples_split=2, n_estimators=500, total=   0.8s\n",
      "[CV] max_depth=3, max_features=25, min_samples_leaf=30, min_samples_split=2, n_estimators=500 \n",
      "[CV]  max_depth=3, max_features=25, min_samples_leaf=30, min_samples_split=2, n_estimators=500, total=   0.9s\n",
      "[CV] max_depth=3, max_features=25, min_samples_leaf=30, min_samples_split=2, n_estimators=500 \n",
      "[CV]  max_depth=3, max_features=25, min_samples_leaf=30, min_samples_split=2, n_estimators=500, total=   0.9s\n",
      "[CV] max_depth=3, max_features=25, min_samples_leaf=30, min_samples_split=2, n_estimators=500 \n",
      "[CV]  max_depth=3, max_features=25, min_samples_leaf=30, min_samples_split=2, n_estimators=500, total=   0.9s\n",
      "[CV] max_depth=3, max_features=25, min_samples_leaf=30, min_samples_split=30, n_estimators=100 \n",
      "[CV]  max_depth=3, max_features=25, min_samples_leaf=30, min_samples_split=30, n_estimators=100, total=   0.2s\n",
      "[CV] max_depth=3, max_features=25, min_samples_leaf=30, min_samples_split=30, n_estimators=100 \n",
      "[CV]  max_depth=3, max_features=25, min_samples_leaf=30, min_samples_split=30, n_estimators=100, total=   0.2s\n",
      "[CV] max_depth=3, max_features=25, min_samples_leaf=30, min_samples_split=30, n_estimators=100 \n",
      "[CV]  max_depth=3, max_features=25, min_samples_leaf=30, min_samples_split=30, n_estimators=100, total=   0.2s\n",
      "[CV] max_depth=3, max_features=25, min_samples_leaf=30, min_samples_split=30, n_estimators=100 \n",
      "[CV]  max_depth=3, max_features=25, min_samples_leaf=30, min_samples_split=30, n_estimators=100, total=   0.2s\n",
      "[CV] max_depth=3, max_features=25, min_samples_leaf=30, min_samples_split=30, n_estimators=100 \n",
      "[CV]  max_depth=3, max_features=25, min_samples_leaf=30, min_samples_split=30, n_estimators=100, total=   0.2s\n",
      "[CV] max_depth=3, max_features=25, min_samples_leaf=30, min_samples_split=30, n_estimators=100 \n",
      "[CV]  max_depth=3, max_features=25, min_samples_leaf=30, min_samples_split=30, n_estimators=100, total=   0.1s\n",
      "[CV] max_depth=3, max_features=25, min_samples_leaf=30, min_samples_split=30, n_estimators=100 \n",
      "[CV]  max_depth=3, max_features=25, min_samples_leaf=30, min_samples_split=30, n_estimators=100, total=   0.1s\n",
      "[CV] max_depth=3, max_features=25, min_samples_leaf=30, min_samples_split=30, n_estimators=100 \n",
      "[CV]  max_depth=3, max_features=25, min_samples_leaf=30, min_samples_split=30, n_estimators=100, total=   0.1s\n",
      "[CV] max_depth=3, max_features=25, min_samples_leaf=30, min_samples_split=30, n_estimators=100 \n",
      "[CV]  max_depth=3, max_features=25, min_samples_leaf=30, min_samples_split=30, n_estimators=100, total=   0.1s\n",
      "[CV] max_depth=3, max_features=25, min_samples_leaf=30, min_samples_split=30, n_estimators=100 \n",
      "[CV]  max_depth=3, max_features=25, min_samples_leaf=30, min_samples_split=30, n_estimators=100, total=   0.1s\n",
      "[CV] max_depth=3, max_features=25, min_samples_leaf=30, min_samples_split=30, n_estimators=500 \n",
      "[CV]  max_depth=3, max_features=25, min_samples_leaf=30, min_samples_split=30, n_estimators=500, total=   0.8s\n",
      "[CV] max_depth=3, max_features=25, min_samples_leaf=30, min_samples_split=30, n_estimators=500 \n",
      "[CV]  max_depth=3, max_features=25, min_samples_leaf=30, min_samples_split=30, n_estimators=500, total=   0.8s\n",
      "[CV] max_depth=3, max_features=25, min_samples_leaf=30, min_samples_split=30, n_estimators=500 \n",
      "[CV]  max_depth=3, max_features=25, min_samples_leaf=30, min_samples_split=30, n_estimators=500, total=   0.8s\n",
      "[CV] max_depth=3, max_features=25, min_samples_leaf=30, min_samples_split=30, n_estimators=500 \n",
      "[CV]  max_depth=3, max_features=25, min_samples_leaf=30, min_samples_split=30, n_estimators=500, total=   0.8s\n",
      "[CV] max_depth=3, max_features=25, min_samples_leaf=30, min_samples_split=30, n_estimators=500 \n",
      "[CV]  max_depth=3, max_features=25, min_samples_leaf=30, min_samples_split=30, n_estimators=500, total=   0.8s\n",
      "[CV] max_depth=3, max_features=25, min_samples_leaf=30, min_samples_split=30, n_estimators=500 \n",
      "[CV]  max_depth=3, max_features=25, min_samples_leaf=30, min_samples_split=30, n_estimators=500, total=   0.8s\n",
      "[CV] max_depth=3, max_features=25, min_samples_leaf=30, min_samples_split=30, n_estimators=500 \n",
      "[CV]  max_depth=3, max_features=25, min_samples_leaf=30, min_samples_split=30, n_estimators=500, total=   0.8s\n",
      "[CV] max_depth=3, max_features=25, min_samples_leaf=30, min_samples_split=30, n_estimators=500 \n",
      "[CV]  max_depth=3, max_features=25, min_samples_leaf=30, min_samples_split=30, n_estimators=500, total=   0.8s\n",
      "[CV] max_depth=3, max_features=25, min_samples_leaf=30, min_samples_split=30, n_estimators=500 \n",
      "[CV]  max_depth=3, max_features=25, min_samples_leaf=30, min_samples_split=30, n_estimators=500, total=   0.8s\n",
      "[CV] max_depth=3, max_features=25, min_samples_leaf=30, min_samples_split=30, n_estimators=500 \n",
      "[CV]  max_depth=3, max_features=25, min_samples_leaf=30, min_samples_split=30, n_estimators=500, total=   0.8s\n",
      "[CV] max_depth=20, max_features=2, min_samples_leaf=1, min_samples_split=2, n_estimators=100 \n",
      "[CV]  max_depth=20, max_features=2, min_samples_leaf=1, min_samples_split=2, n_estimators=100, total=   0.5s\n",
      "[CV] max_depth=20, max_features=2, min_samples_leaf=1, min_samples_split=2, n_estimators=100 \n",
      "[CV]  max_depth=20, max_features=2, min_samples_leaf=1, min_samples_split=2, n_estimators=100, total=   0.5s\n",
      "[CV] max_depth=20, max_features=2, min_samples_leaf=1, min_samples_split=2, n_estimators=100 \n",
      "[CV]  max_depth=20, max_features=2, min_samples_leaf=1, min_samples_split=2, n_estimators=100, total=   0.5s\n",
      "[CV] max_depth=20, max_features=2, min_samples_leaf=1, min_samples_split=2, n_estimators=100 \n",
      "[CV]  max_depth=20, max_features=2, min_samples_leaf=1, min_samples_split=2, n_estimators=100, total=   0.5s\n",
      "[CV] max_depth=20, max_features=2, min_samples_leaf=1, min_samples_split=2, n_estimators=100 \n",
      "[CV]  max_depth=20, max_features=2, min_samples_leaf=1, min_samples_split=2, n_estimators=100, total=   0.5s\n",
      "[CV] max_depth=20, max_features=2, min_samples_leaf=1, min_samples_split=2, n_estimators=100 \n",
      "[CV]  max_depth=20, max_features=2, min_samples_leaf=1, min_samples_split=2, n_estimators=100, total=   0.5s\n",
      "[CV] max_depth=20, max_features=2, min_samples_leaf=1, min_samples_split=2, n_estimators=100 \n",
      "[CV]  max_depth=20, max_features=2, min_samples_leaf=1, min_samples_split=2, n_estimators=100, total=   0.7s\n",
      "[CV] max_depth=20, max_features=2, min_samples_leaf=1, min_samples_split=2, n_estimators=100 \n",
      "[CV]  max_depth=20, max_features=2, min_samples_leaf=1, min_samples_split=2, n_estimators=100, total=   0.7s\n",
      "[CV] max_depth=20, max_features=2, min_samples_leaf=1, min_samples_split=2, n_estimators=100 \n"
     ]
    },
    {
     "name": "stdout",
     "output_type": "stream",
     "text": [
      "[CV]  max_depth=20, max_features=2, min_samples_leaf=1, min_samples_split=2, n_estimators=100, total=   0.6s\n",
      "[CV] max_depth=20, max_features=2, min_samples_leaf=1, min_samples_split=2, n_estimators=100 \n",
      "[CV]  max_depth=20, max_features=2, min_samples_leaf=1, min_samples_split=2, n_estimators=100, total=   0.5s\n",
      "[CV] max_depth=20, max_features=2, min_samples_leaf=1, min_samples_split=2, n_estimators=500 \n",
      "[CV]  max_depth=20, max_features=2, min_samples_leaf=1, min_samples_split=2, n_estimators=500, total=   0.5s\n",
      "[CV] max_depth=20, max_features=2, min_samples_leaf=1, min_samples_split=2, n_estimators=500 \n",
      "[CV]  max_depth=20, max_features=2, min_samples_leaf=1, min_samples_split=2, n_estimators=500, total=   0.5s\n",
      "[CV] max_depth=20, max_features=2, min_samples_leaf=1, min_samples_split=2, n_estimators=500 \n",
      "[CV]  max_depth=20, max_features=2, min_samples_leaf=1, min_samples_split=2, n_estimators=500, total=   0.5s\n",
      "[CV] max_depth=20, max_features=2, min_samples_leaf=1, min_samples_split=2, n_estimators=500 \n",
      "[CV]  max_depth=20, max_features=2, min_samples_leaf=1, min_samples_split=2, n_estimators=500, total=   0.5s\n",
      "[CV] max_depth=20, max_features=2, min_samples_leaf=1, min_samples_split=2, n_estimators=500 \n",
      "[CV]  max_depth=20, max_features=2, min_samples_leaf=1, min_samples_split=2, n_estimators=500, total=   0.5s\n",
      "[CV] max_depth=20, max_features=2, min_samples_leaf=1, min_samples_split=2, n_estimators=500 \n",
      "[CV]  max_depth=20, max_features=2, min_samples_leaf=1, min_samples_split=2, n_estimators=500, total=   0.6s\n",
      "[CV] max_depth=20, max_features=2, min_samples_leaf=1, min_samples_split=2, n_estimators=500 \n",
      "[CV]  max_depth=20, max_features=2, min_samples_leaf=1, min_samples_split=2, n_estimators=500, total=   0.5s\n",
      "[CV] max_depth=20, max_features=2, min_samples_leaf=1, min_samples_split=2, n_estimators=500 \n",
      "[CV]  max_depth=20, max_features=2, min_samples_leaf=1, min_samples_split=2, n_estimators=500, total=   0.5s\n",
      "[CV] max_depth=20, max_features=2, min_samples_leaf=1, min_samples_split=2, n_estimators=500 \n",
      "[CV]  max_depth=20, max_features=2, min_samples_leaf=1, min_samples_split=2, n_estimators=500, total=   0.6s\n",
      "[CV] max_depth=20, max_features=2, min_samples_leaf=1, min_samples_split=2, n_estimators=500 \n",
      "[CV]  max_depth=20, max_features=2, min_samples_leaf=1, min_samples_split=2, n_estimators=500, total=   0.6s\n",
      "[CV] max_depth=20, max_features=2, min_samples_leaf=1, min_samples_split=30, n_estimators=100 \n",
      "[CV]  max_depth=20, max_features=2, min_samples_leaf=1, min_samples_split=30, n_estimators=100, total=   0.1s\n",
      "[CV] max_depth=20, max_features=2, min_samples_leaf=1, min_samples_split=30, n_estimators=100 \n",
      "[CV]  max_depth=20, max_features=2, min_samples_leaf=1, min_samples_split=30, n_estimators=100, total=   0.1s\n",
      "[CV] max_depth=20, max_features=2, min_samples_leaf=1, min_samples_split=30, n_estimators=100 \n",
      "[CV]  max_depth=20, max_features=2, min_samples_leaf=1, min_samples_split=30, n_estimators=100, total=   0.1s\n",
      "[CV] max_depth=20, max_features=2, min_samples_leaf=1, min_samples_split=30, n_estimators=100 \n",
      "[CV]  max_depth=20, max_features=2, min_samples_leaf=1, min_samples_split=30, n_estimators=100, total=   0.1s\n",
      "[CV] max_depth=20, max_features=2, min_samples_leaf=1, min_samples_split=30, n_estimators=100 \n",
      "[CV]  max_depth=20, max_features=2, min_samples_leaf=1, min_samples_split=30, n_estimators=100, total=   0.1s\n",
      "[CV] max_depth=20, max_features=2, min_samples_leaf=1, min_samples_split=30, n_estimators=100 \n",
      "[CV]  max_depth=20, max_features=2, min_samples_leaf=1, min_samples_split=30, n_estimators=100, total=   0.1s\n",
      "[CV] max_depth=20, max_features=2, min_samples_leaf=1, min_samples_split=30, n_estimators=100 \n",
      "[CV]  max_depth=20, max_features=2, min_samples_leaf=1, min_samples_split=30, n_estimators=100, total=   0.1s\n",
      "[CV] max_depth=20, max_features=2, min_samples_leaf=1, min_samples_split=30, n_estimators=100 \n",
      "[CV]  max_depth=20, max_features=2, min_samples_leaf=1, min_samples_split=30, n_estimators=100, total=   0.1s\n",
      "[CV] max_depth=20, max_features=2, min_samples_leaf=1, min_samples_split=30, n_estimators=100 \n",
      "[CV]  max_depth=20, max_features=2, min_samples_leaf=1, min_samples_split=30, n_estimators=100, total=   0.1s\n",
      "[CV] max_depth=20, max_features=2, min_samples_leaf=1, min_samples_split=30, n_estimators=100 \n",
      "[CV]  max_depth=20, max_features=2, min_samples_leaf=1, min_samples_split=30, n_estimators=100, total=   0.1s\n",
      "[CV] max_depth=20, max_features=2, min_samples_leaf=1, min_samples_split=30, n_estimators=500 \n",
      "[CV]  max_depth=20, max_features=2, min_samples_leaf=1, min_samples_split=30, n_estimators=500, total=   0.9s\n",
      "[CV] max_depth=20, max_features=2, min_samples_leaf=1, min_samples_split=30, n_estimators=500 \n",
      "[CV]  max_depth=20, max_features=2, min_samples_leaf=1, min_samples_split=30, n_estimators=500, total=   0.9s\n",
      "[CV] max_depth=20, max_features=2, min_samples_leaf=1, min_samples_split=30, n_estimators=500 \n",
      "[CV]  max_depth=20, max_features=2, min_samples_leaf=1, min_samples_split=30, n_estimators=500, total=   0.9s\n",
      "[CV] max_depth=20, max_features=2, min_samples_leaf=1, min_samples_split=30, n_estimators=500 \n",
      "[CV]  max_depth=20, max_features=2, min_samples_leaf=1, min_samples_split=30, n_estimators=500, total=   0.9s\n",
      "[CV] max_depth=20, max_features=2, min_samples_leaf=1, min_samples_split=30, n_estimators=500 \n",
      "[CV]  max_depth=20, max_features=2, min_samples_leaf=1, min_samples_split=30, n_estimators=500, total=   1.1s\n",
      "[CV] max_depth=20, max_features=2, min_samples_leaf=1, min_samples_split=30, n_estimators=500 \n",
      "[CV]  max_depth=20, max_features=2, min_samples_leaf=1, min_samples_split=30, n_estimators=500, total=   0.9s\n",
      "[CV] max_depth=20, max_features=2, min_samples_leaf=1, min_samples_split=30, n_estimators=500 \n",
      "[CV]  max_depth=20, max_features=2, min_samples_leaf=1, min_samples_split=30, n_estimators=500, total=   0.9s\n",
      "[CV] max_depth=20, max_features=2, min_samples_leaf=1, min_samples_split=30, n_estimators=500 \n",
      "[CV]  max_depth=20, max_features=2, min_samples_leaf=1, min_samples_split=30, n_estimators=500, total=   0.9s\n",
      "[CV] max_depth=20, max_features=2, min_samples_leaf=1, min_samples_split=30, n_estimators=500 \n",
      "[CV]  max_depth=20, max_features=2, min_samples_leaf=1, min_samples_split=30, n_estimators=500, total=   0.9s\n",
      "[CV] max_depth=20, max_features=2, min_samples_leaf=1, min_samples_split=30, n_estimators=500 \n",
      "[CV]  max_depth=20, max_features=2, min_samples_leaf=1, min_samples_split=30, n_estimators=500, total=   0.9s\n",
      "[CV] max_depth=20, max_features=2, min_samples_leaf=30, min_samples_split=2, n_estimators=100 \n",
      "[CV]  max_depth=20, max_features=2, min_samples_leaf=30, min_samples_split=2, n_estimators=100, total=   0.0s\n",
      "[CV] max_depth=20, max_features=2, min_samples_leaf=30, min_samples_split=2, n_estimators=100 \n",
      "[CV]  max_depth=20, max_features=2, min_samples_leaf=30, min_samples_split=2, n_estimators=100, total=   0.0s\n",
      "[CV] max_depth=20, max_features=2, min_samples_leaf=30, min_samples_split=2, n_estimators=100 \n",
      "[CV]  max_depth=20, max_features=2, min_samples_leaf=30, min_samples_split=2, n_estimators=100, total=   0.0s\n",
      "[CV] max_depth=20, max_features=2, min_samples_leaf=30, min_samples_split=2, n_estimators=100 \n",
      "[CV]  max_depth=20, max_features=2, min_samples_leaf=30, min_samples_split=2, n_estimators=100, total=   0.0s\n",
      "[CV] max_depth=20, max_features=2, min_samples_leaf=30, min_samples_split=2, n_estimators=100 \n",
      "[CV]  max_depth=20, max_features=2, min_samples_leaf=30, min_samples_split=2, n_estimators=100, total=   0.0s\n",
      "[CV] max_depth=20, max_features=2, min_samples_leaf=30, min_samples_split=2, n_estimators=100 \n",
      "[CV]  max_depth=20, max_features=2, min_samples_leaf=30, min_samples_split=2, n_estimators=100, total=   0.0s\n",
      "[CV] max_depth=20, max_features=2, min_samples_leaf=30, min_samples_split=2, n_estimators=100 \n",
      "[CV]  max_depth=20, max_features=2, min_samples_leaf=30, min_samples_split=2, n_estimators=100, total=   0.0s\n",
      "[CV] max_depth=20, max_features=2, min_samples_leaf=30, min_samples_split=2, n_estimators=100 \n",
      "[CV]  max_depth=20, max_features=2, min_samples_leaf=30, min_samples_split=2, n_estimators=100, total=   0.0s\n",
      "[CV] max_depth=20, max_features=2, min_samples_leaf=30, min_samples_split=2, n_estimators=100 \n",
      "[CV]  max_depth=20, max_features=2, min_samples_leaf=30, min_samples_split=2, n_estimators=100, total=   0.0s\n",
      "[CV] max_depth=20, max_features=2, min_samples_leaf=30, min_samples_split=2, n_estimators=100 \n"
     ]
    },
    {
     "name": "stdout",
     "output_type": "stream",
     "text": [
      "[CV]  max_depth=20, max_features=2, min_samples_leaf=30, min_samples_split=2, n_estimators=100, total=   0.0s\n",
      "[CV] max_depth=20, max_features=2, min_samples_leaf=30, min_samples_split=2, n_estimators=500 \n",
      "[CV]  max_depth=20, max_features=2, min_samples_leaf=30, min_samples_split=2, n_estimators=500, total=   0.5s\n",
      "[CV] max_depth=20, max_features=2, min_samples_leaf=30, min_samples_split=2, n_estimators=500 \n",
      "[CV]  max_depth=20, max_features=2, min_samples_leaf=30, min_samples_split=2, n_estimators=500, total=   0.5s\n",
      "[CV] max_depth=20, max_features=2, min_samples_leaf=30, min_samples_split=2, n_estimators=500 \n",
      "[CV]  max_depth=20, max_features=2, min_samples_leaf=30, min_samples_split=2, n_estimators=500, total=   0.5s\n",
      "[CV] max_depth=20, max_features=2, min_samples_leaf=30, min_samples_split=2, n_estimators=500 \n",
      "[CV]  max_depth=20, max_features=2, min_samples_leaf=30, min_samples_split=2, n_estimators=500, total=   0.5s\n",
      "[CV] max_depth=20, max_features=2, min_samples_leaf=30, min_samples_split=2, n_estimators=500 \n",
      "[CV]  max_depth=20, max_features=2, min_samples_leaf=30, min_samples_split=2, n_estimators=500, total=   0.5s\n",
      "[CV] max_depth=20, max_features=2, min_samples_leaf=30, min_samples_split=2, n_estimators=500 \n",
      "[CV]  max_depth=20, max_features=2, min_samples_leaf=30, min_samples_split=2, n_estimators=500, total=   0.5s\n",
      "[CV] max_depth=20, max_features=2, min_samples_leaf=30, min_samples_split=2, n_estimators=500 \n",
      "[CV]  max_depth=20, max_features=2, min_samples_leaf=30, min_samples_split=2, n_estimators=500, total=   0.5s\n",
      "[CV] max_depth=20, max_features=2, min_samples_leaf=30, min_samples_split=2, n_estimators=500 \n",
      "[CV]  max_depth=20, max_features=2, min_samples_leaf=30, min_samples_split=2, n_estimators=500, total=   0.5s\n",
      "[CV] max_depth=20, max_features=2, min_samples_leaf=30, min_samples_split=2, n_estimators=500 \n",
      "[CV]  max_depth=20, max_features=2, min_samples_leaf=30, min_samples_split=2, n_estimators=500, total=   0.5s\n",
      "[CV] max_depth=20, max_features=2, min_samples_leaf=30, min_samples_split=2, n_estimators=500 \n",
      "[CV]  max_depth=20, max_features=2, min_samples_leaf=30, min_samples_split=2, n_estimators=500, total=   0.5s\n",
      "[CV] max_depth=20, max_features=2, min_samples_leaf=30, min_samples_split=30, n_estimators=100 \n",
      "[CV]  max_depth=20, max_features=2, min_samples_leaf=30, min_samples_split=30, n_estimators=100, total=   0.0s\n",
      "[CV] max_depth=20, max_features=2, min_samples_leaf=30, min_samples_split=30, n_estimators=100 \n",
      "[CV]  max_depth=20, max_features=2, min_samples_leaf=30, min_samples_split=30, n_estimators=100, total=   0.0s\n",
      "[CV] max_depth=20, max_features=2, min_samples_leaf=30, min_samples_split=30, n_estimators=100 \n",
      "[CV]  max_depth=20, max_features=2, min_samples_leaf=30, min_samples_split=30, n_estimators=100, total=   0.0s\n",
      "[CV] max_depth=20, max_features=2, min_samples_leaf=30, min_samples_split=30, n_estimators=100 \n",
      "[CV]  max_depth=20, max_features=2, min_samples_leaf=30, min_samples_split=30, n_estimators=100, total=   0.0s\n",
      "[CV] max_depth=20, max_features=2, min_samples_leaf=30, min_samples_split=30, n_estimators=100 \n",
      "[CV]  max_depth=20, max_features=2, min_samples_leaf=30, min_samples_split=30, n_estimators=100, total=   0.0s\n",
      "[CV] max_depth=20, max_features=2, min_samples_leaf=30, min_samples_split=30, n_estimators=100 \n",
      "[CV]  max_depth=20, max_features=2, min_samples_leaf=30, min_samples_split=30, n_estimators=100, total=   0.0s\n",
      "[CV] max_depth=20, max_features=2, min_samples_leaf=30, min_samples_split=30, n_estimators=100 \n",
      "[CV]  max_depth=20, max_features=2, min_samples_leaf=30, min_samples_split=30, n_estimators=100, total=   0.0s\n",
      "[CV] max_depth=20, max_features=2, min_samples_leaf=30, min_samples_split=30, n_estimators=100 \n",
      "[CV]  max_depth=20, max_features=2, min_samples_leaf=30, min_samples_split=30, n_estimators=100, total=   0.0s\n",
      "[CV] max_depth=20, max_features=2, min_samples_leaf=30, min_samples_split=30, n_estimators=100 \n",
      "[CV]  max_depth=20, max_features=2, min_samples_leaf=30, min_samples_split=30, n_estimators=100, total=   0.0s\n",
      "[CV] max_depth=20, max_features=2, min_samples_leaf=30, min_samples_split=30, n_estimators=100 \n",
      "[CV]  max_depth=20, max_features=2, min_samples_leaf=30, min_samples_split=30, n_estimators=100, total=   0.0s\n",
      "[CV] max_depth=20, max_features=2, min_samples_leaf=30, min_samples_split=30, n_estimators=500 \n",
      "[CV]  max_depth=20, max_features=2, min_samples_leaf=30, min_samples_split=30, n_estimators=500, total=   0.7s\n",
      "[CV] max_depth=20, max_features=2, min_samples_leaf=30, min_samples_split=30, n_estimators=500 \n",
      "[CV]  max_depth=20, max_features=2, min_samples_leaf=30, min_samples_split=30, n_estimators=500, total=   0.6s\n",
      "[CV] max_depth=20, max_features=2, min_samples_leaf=30, min_samples_split=30, n_estimators=500 \n",
      "[CV]  max_depth=20, max_features=2, min_samples_leaf=30, min_samples_split=30, n_estimators=500, total=   0.5s\n",
      "[CV] max_depth=20, max_features=2, min_samples_leaf=30, min_samples_split=30, n_estimators=500 \n",
      "[CV]  max_depth=20, max_features=2, min_samples_leaf=30, min_samples_split=30, n_estimators=500, total=   0.5s\n",
      "[CV] max_depth=20, max_features=2, min_samples_leaf=30, min_samples_split=30, n_estimators=500 \n",
      "[CV]  max_depth=20, max_features=2, min_samples_leaf=30, min_samples_split=30, n_estimators=500, total=   0.5s\n",
      "[CV] max_depth=20, max_features=2, min_samples_leaf=30, min_samples_split=30, n_estimators=500 \n",
      "[CV]  max_depth=20, max_features=2, min_samples_leaf=30, min_samples_split=30, n_estimators=500, total=   0.6s\n",
      "[CV] max_depth=20, max_features=2, min_samples_leaf=30, min_samples_split=30, n_estimators=500 \n",
      "[CV]  max_depth=20, max_features=2, min_samples_leaf=30, min_samples_split=30, n_estimators=500, total=   0.5s\n",
      "[CV] max_depth=20, max_features=2, min_samples_leaf=30, min_samples_split=30, n_estimators=500 \n",
      "[CV]  max_depth=20, max_features=2, min_samples_leaf=30, min_samples_split=30, n_estimators=500, total=   0.6s\n",
      "[CV] max_depth=20, max_features=2, min_samples_leaf=30, min_samples_split=30, n_estimators=500 \n",
      "[CV]  max_depth=20, max_features=2, min_samples_leaf=30, min_samples_split=30, n_estimators=500, total=   0.6s\n",
      "[CV] max_depth=20, max_features=2, min_samples_leaf=30, min_samples_split=30, n_estimators=500 \n",
      "[CV]  max_depth=20, max_features=2, min_samples_leaf=30, min_samples_split=30, n_estimators=500, total=   0.5s\n",
      "[CV] max_depth=20, max_features=25, min_samples_leaf=1, min_samples_split=2, n_estimators=100 \n",
      "[CV]  max_depth=20, max_features=25, min_samples_leaf=1, min_samples_split=2, n_estimators=100, total=   3.6s\n",
      "[CV] max_depth=20, max_features=25, min_samples_leaf=1, min_samples_split=2, n_estimators=100 \n",
      "[CV]  max_depth=20, max_features=25, min_samples_leaf=1, min_samples_split=2, n_estimators=100, total=   3.7s\n",
      "[CV] max_depth=20, max_features=25, min_samples_leaf=1, min_samples_split=2, n_estimators=100 \n",
      "[CV]  max_depth=20, max_features=25, min_samples_leaf=1, min_samples_split=2, n_estimators=100, total=   4.0s\n",
      "[CV] max_depth=20, max_features=25, min_samples_leaf=1, min_samples_split=2, n_estimators=100 \n",
      "[CV]  max_depth=20, max_features=25, min_samples_leaf=1, min_samples_split=2, n_estimators=100, total=   3.9s\n",
      "[CV] max_depth=20, max_features=25, min_samples_leaf=1, min_samples_split=2, n_estimators=100 \n",
      "[CV]  max_depth=20, max_features=25, min_samples_leaf=1, min_samples_split=2, n_estimators=100, total=   3.8s\n",
      "[CV] max_depth=20, max_features=25, min_samples_leaf=1, min_samples_split=2, n_estimators=100 \n",
      "[CV]  max_depth=20, max_features=25, min_samples_leaf=1, min_samples_split=2, n_estimators=100, total=   4.3s\n",
      "[CV] max_depth=20, max_features=25, min_samples_leaf=1, min_samples_split=2, n_estimators=100 \n",
      "[CV]  max_depth=20, max_features=25, min_samples_leaf=1, min_samples_split=2, n_estimators=100, total=   4.3s\n",
      "[CV] max_depth=20, max_features=25, min_samples_leaf=1, min_samples_split=2, n_estimators=100 \n",
      "[CV]  max_depth=20, max_features=25, min_samples_leaf=1, min_samples_split=2, n_estimators=100, total=   4.0s\n",
      "[CV] max_depth=20, max_features=25, min_samples_leaf=1, min_samples_split=2, n_estimators=100 \n",
      "[CV]  max_depth=20, max_features=25, min_samples_leaf=1, min_samples_split=2, n_estimators=100, total=   3.8s\n",
      "[CV] max_depth=20, max_features=25, min_samples_leaf=1, min_samples_split=2, n_estimators=100 \n"
     ]
    },
    {
     "name": "stdout",
     "output_type": "stream",
     "text": [
      "[CV]  max_depth=20, max_features=25, min_samples_leaf=1, min_samples_split=2, n_estimators=100, total=   3.9s\n",
      "[CV] max_depth=20, max_features=25, min_samples_leaf=1, min_samples_split=2, n_estimators=500 \n",
      "[CV]  max_depth=20, max_features=25, min_samples_leaf=1, min_samples_split=2, n_estimators=500, total=   4.1s\n",
      "[CV] max_depth=20, max_features=25, min_samples_leaf=1, min_samples_split=2, n_estimators=500 \n",
      "[CV]  max_depth=20, max_features=25, min_samples_leaf=1, min_samples_split=2, n_estimators=500, total=   3.7s\n",
      "[CV] max_depth=20, max_features=25, min_samples_leaf=1, min_samples_split=2, n_estimators=500 \n",
      "[CV]  max_depth=20, max_features=25, min_samples_leaf=1, min_samples_split=2, n_estimators=500, total=   3.8s\n",
      "[CV] max_depth=20, max_features=25, min_samples_leaf=1, min_samples_split=2, n_estimators=500 \n",
      "[CV]  max_depth=20, max_features=25, min_samples_leaf=1, min_samples_split=2, n_estimators=500, total=   3.9s\n",
      "[CV] max_depth=20, max_features=25, min_samples_leaf=1, min_samples_split=2, n_estimators=500 \n",
      "[CV]  max_depth=20, max_features=25, min_samples_leaf=1, min_samples_split=2, n_estimators=500, total=   4.0s\n",
      "[CV] max_depth=20, max_features=25, min_samples_leaf=1, min_samples_split=2, n_estimators=500 \n",
      "[CV]  max_depth=20, max_features=25, min_samples_leaf=1, min_samples_split=2, n_estimators=500, total=   3.9s\n",
      "[CV] max_depth=20, max_features=25, min_samples_leaf=1, min_samples_split=2, n_estimators=500 \n",
      "[CV]  max_depth=20, max_features=25, min_samples_leaf=1, min_samples_split=2, n_estimators=500, total=   3.9s\n",
      "[CV] max_depth=20, max_features=25, min_samples_leaf=1, min_samples_split=2, n_estimators=500 \n",
      "[CV]  max_depth=20, max_features=25, min_samples_leaf=1, min_samples_split=2, n_estimators=500, total=   3.9s\n",
      "[CV] max_depth=20, max_features=25, min_samples_leaf=1, min_samples_split=2, n_estimators=500 \n",
      "[CV]  max_depth=20, max_features=25, min_samples_leaf=1, min_samples_split=2, n_estimators=500, total=   4.0s\n",
      "[CV] max_depth=20, max_features=25, min_samples_leaf=1, min_samples_split=2, n_estimators=500 \n",
      "[CV]  max_depth=20, max_features=25, min_samples_leaf=1, min_samples_split=2, n_estimators=500, total=   3.8s\n",
      "[CV] max_depth=20, max_features=25, min_samples_leaf=1, min_samples_split=30, n_estimators=100 \n",
      "[CV]  max_depth=20, max_features=25, min_samples_leaf=1, min_samples_split=30, n_estimators=100, total=   1.5s\n",
      "[CV] max_depth=20, max_features=25, min_samples_leaf=1, min_samples_split=30, n_estimators=100 \n",
      "[CV]  max_depth=20, max_features=25, min_samples_leaf=1, min_samples_split=30, n_estimators=100, total=   1.5s\n",
      "[CV] max_depth=20, max_features=25, min_samples_leaf=1, min_samples_split=30, n_estimators=100 \n",
      "[CV]  max_depth=20, max_features=25, min_samples_leaf=1, min_samples_split=30, n_estimators=100, total=   1.5s\n",
      "[CV] max_depth=20, max_features=25, min_samples_leaf=1, min_samples_split=30, n_estimators=100 \n",
      "[CV]  max_depth=20, max_features=25, min_samples_leaf=1, min_samples_split=30, n_estimators=100, total=   1.4s\n",
      "[CV] max_depth=20, max_features=25, min_samples_leaf=1, min_samples_split=30, n_estimators=100 \n",
      "[CV]  max_depth=20, max_features=25, min_samples_leaf=1, min_samples_split=30, n_estimators=100, total=   1.7s\n",
      "[CV] max_depth=20, max_features=25, min_samples_leaf=1, min_samples_split=30, n_estimators=100 \n",
      "[CV]  max_depth=20, max_features=25, min_samples_leaf=1, min_samples_split=30, n_estimators=100, total=   1.8s\n",
      "[CV] max_depth=20, max_features=25, min_samples_leaf=1, min_samples_split=30, n_estimators=100 \n",
      "[CV]  max_depth=20, max_features=25, min_samples_leaf=1, min_samples_split=30, n_estimators=100, total=   1.5s\n",
      "[CV] max_depth=20, max_features=25, min_samples_leaf=1, min_samples_split=30, n_estimators=100 \n",
      "[CV]  max_depth=20, max_features=25, min_samples_leaf=1, min_samples_split=30, n_estimators=100, total=   1.5s\n",
      "[CV] max_depth=20, max_features=25, min_samples_leaf=1, min_samples_split=30, n_estimators=100 \n",
      "[CV]  max_depth=20, max_features=25, min_samples_leaf=1, min_samples_split=30, n_estimators=100, total=   1.6s\n",
      "[CV] max_depth=20, max_features=25, min_samples_leaf=1, min_samples_split=30, n_estimators=100 \n",
      "[CV]  max_depth=20, max_features=25, min_samples_leaf=1, min_samples_split=30, n_estimators=100, total=   1.5s\n",
      "[CV] max_depth=20, max_features=25, min_samples_leaf=1, min_samples_split=30, n_estimators=500 \n",
      "[CV]  max_depth=20, max_features=25, min_samples_leaf=1, min_samples_split=30, n_estimators=500, total=   7.2s\n",
      "[CV] max_depth=20, max_features=25, min_samples_leaf=1, min_samples_split=30, n_estimators=500 \n",
      "[CV]  max_depth=20, max_features=25, min_samples_leaf=1, min_samples_split=30, n_estimators=500, total=   6.3s\n",
      "[CV] max_depth=20, max_features=25, min_samples_leaf=1, min_samples_split=30, n_estimators=500 \n",
      "[CV]  max_depth=20, max_features=25, min_samples_leaf=1, min_samples_split=30, n_estimators=500, total=   6.3s\n",
      "[CV] max_depth=20, max_features=25, min_samples_leaf=1, min_samples_split=30, n_estimators=500 \n",
      "[CV]  max_depth=20, max_features=25, min_samples_leaf=1, min_samples_split=30, n_estimators=500, total=   6.5s\n",
      "[CV] max_depth=20, max_features=25, min_samples_leaf=1, min_samples_split=30, n_estimators=500 \n",
      "[CV]  max_depth=20, max_features=25, min_samples_leaf=1, min_samples_split=30, n_estimators=500, total=   6.0s\n",
      "[CV] max_depth=20, max_features=25, min_samples_leaf=1, min_samples_split=30, n_estimators=500 \n",
      "[CV]  max_depth=20, max_features=25, min_samples_leaf=1, min_samples_split=30, n_estimators=500, total=   6.3s\n",
      "[CV] max_depth=20, max_features=25, min_samples_leaf=1, min_samples_split=30, n_estimators=500 \n",
      "[CV]  max_depth=20, max_features=25, min_samples_leaf=1, min_samples_split=30, n_estimators=500, total=   6.0s\n",
      "[CV] max_depth=20, max_features=25, min_samples_leaf=1, min_samples_split=30, n_estimators=500 \n",
      "[CV]  max_depth=20, max_features=25, min_samples_leaf=1, min_samples_split=30, n_estimators=500, total=   6.0s\n",
      "[CV] max_depth=20, max_features=25, min_samples_leaf=1, min_samples_split=30, n_estimators=500 \n",
      "[CV]  max_depth=20, max_features=25, min_samples_leaf=1, min_samples_split=30, n_estimators=500, total=   6.3s\n",
      "[CV] max_depth=20, max_features=25, min_samples_leaf=1, min_samples_split=30, n_estimators=500 \n",
      "[CV]  max_depth=20, max_features=25, min_samples_leaf=1, min_samples_split=30, n_estimators=500, total=   5.8s\n",
      "[CV] max_depth=20, max_features=25, min_samples_leaf=30, min_samples_split=2, n_estimators=100 \n",
      "[CV]  max_depth=20, max_features=25, min_samples_leaf=30, min_samples_split=2, n_estimators=100, total=   0.8s\n",
      "[CV] max_depth=20, max_features=25, min_samples_leaf=30, min_samples_split=2, n_estimators=100 \n",
      "[CV]  max_depth=20, max_features=25, min_samples_leaf=30, min_samples_split=2, n_estimators=100, total=   0.8s\n",
      "[CV] max_depth=20, max_features=25, min_samples_leaf=30, min_samples_split=2, n_estimators=100 \n",
      "[CV]  max_depth=20, max_features=25, min_samples_leaf=30, min_samples_split=2, n_estimators=100, total=   0.8s\n",
      "[CV] max_depth=20, max_features=25, min_samples_leaf=30, min_samples_split=2, n_estimators=100 \n",
      "[CV]  max_depth=20, max_features=25, min_samples_leaf=30, min_samples_split=2, n_estimators=100, total=   0.8s\n",
      "[CV] max_depth=20, max_features=25, min_samples_leaf=30, min_samples_split=2, n_estimators=100 \n",
      "[CV]  max_depth=20, max_features=25, min_samples_leaf=30, min_samples_split=2, n_estimators=100, total=   0.8s\n",
      "[CV] max_depth=20, max_features=25, min_samples_leaf=30, min_samples_split=2, n_estimators=100 \n",
      "[CV]  max_depth=20, max_features=25, min_samples_leaf=30, min_samples_split=2, n_estimators=100, total=   0.8s\n",
      "[CV] max_depth=20, max_features=25, min_samples_leaf=30, min_samples_split=2, n_estimators=100 \n",
      "[CV]  max_depth=20, max_features=25, min_samples_leaf=30, min_samples_split=2, n_estimators=100, total=   0.9s\n",
      "[CV] max_depth=20, max_features=25, min_samples_leaf=30, min_samples_split=2, n_estimators=100 \n",
      "[CV]  max_depth=20, max_features=25, min_samples_leaf=30, min_samples_split=2, n_estimators=100, total=   1.1s\n",
      "[CV] max_depth=20, max_features=25, min_samples_leaf=30, min_samples_split=2, n_estimators=100 \n",
      "[CV]  max_depth=20, max_features=25, min_samples_leaf=30, min_samples_split=2, n_estimators=100, total=   0.9s\n",
      "[CV] max_depth=20, max_features=25, min_samples_leaf=30, min_samples_split=2, n_estimators=100 \n"
     ]
    },
    {
     "name": "stdout",
     "output_type": "stream",
     "text": [
      "[CV]  max_depth=20, max_features=25, min_samples_leaf=30, min_samples_split=2, n_estimators=100, total=   0.8s\n",
      "[CV] max_depth=20, max_features=25, min_samples_leaf=30, min_samples_split=2, n_estimators=500 \n",
      "[CV]  max_depth=20, max_features=25, min_samples_leaf=30, min_samples_split=2, n_estimators=500, total=   4.9s\n",
      "[CV] max_depth=20, max_features=25, min_samples_leaf=30, min_samples_split=2, n_estimators=500 \n",
      "[CV]  max_depth=20, max_features=25, min_samples_leaf=30, min_samples_split=2, n_estimators=500, total=   4.8s\n",
      "[CV] max_depth=20, max_features=25, min_samples_leaf=30, min_samples_split=2, n_estimators=500 \n",
      "[CV]  max_depth=20, max_features=25, min_samples_leaf=30, min_samples_split=2, n_estimators=500, total=   5.2s\n",
      "[CV] max_depth=20, max_features=25, min_samples_leaf=30, min_samples_split=2, n_estimators=500 \n",
      "[CV]  max_depth=20, max_features=25, min_samples_leaf=30, min_samples_split=2, n_estimators=500, total=   4.8s\n",
      "[CV] max_depth=20, max_features=25, min_samples_leaf=30, min_samples_split=2, n_estimators=500 \n",
      "[CV]  max_depth=20, max_features=25, min_samples_leaf=30, min_samples_split=2, n_estimators=500, total=   4.8s\n",
      "[CV] max_depth=20, max_features=25, min_samples_leaf=30, min_samples_split=2, n_estimators=500 \n",
      "[CV]  max_depth=20, max_features=25, min_samples_leaf=30, min_samples_split=2, n_estimators=500, total=   5.3s\n",
      "[CV] max_depth=20, max_features=25, min_samples_leaf=30, min_samples_split=2, n_estimators=500 \n",
      "[CV]  max_depth=20, max_features=25, min_samples_leaf=30, min_samples_split=2, n_estimators=500, total=   4.9s\n",
      "[CV] max_depth=20, max_features=25, min_samples_leaf=30, min_samples_split=2, n_estimators=500 \n",
      "[CV]  max_depth=20, max_features=25, min_samples_leaf=30, min_samples_split=2, n_estimators=500, total=   5.1s\n",
      "[CV] max_depth=20, max_features=25, min_samples_leaf=30, min_samples_split=2, n_estimators=500 \n",
      "[CV]  max_depth=20, max_features=25, min_samples_leaf=30, min_samples_split=2, n_estimators=500, total=   5.3s\n",
      "[CV] max_depth=20, max_features=25, min_samples_leaf=30, min_samples_split=2, n_estimators=500 \n",
      "[CV]  max_depth=20, max_features=25, min_samples_leaf=30, min_samples_split=2, n_estimators=500, total=   5.0s\n",
      "[CV] max_depth=20, max_features=25, min_samples_leaf=30, min_samples_split=30, n_estimators=100 \n",
      "[CV]  max_depth=20, max_features=25, min_samples_leaf=30, min_samples_split=30, n_estimators=100, total=   0.8s\n",
      "[CV] max_depth=20, max_features=25, min_samples_leaf=30, min_samples_split=30, n_estimators=100 \n",
      "[CV]  max_depth=20, max_features=25, min_samples_leaf=30, min_samples_split=30, n_estimators=100, total=   0.8s\n",
      "[CV] max_depth=20, max_features=25, min_samples_leaf=30, min_samples_split=30, n_estimators=100 \n",
      "[CV]  max_depth=20, max_features=25, min_samples_leaf=30, min_samples_split=30, n_estimators=100, total=   0.9s\n",
      "[CV] max_depth=20, max_features=25, min_samples_leaf=30, min_samples_split=30, n_estimators=100 \n",
      "[CV]  max_depth=20, max_features=25, min_samples_leaf=30, min_samples_split=30, n_estimators=100, total=   0.8s\n",
      "[CV] max_depth=20, max_features=25, min_samples_leaf=30, min_samples_split=30, n_estimators=100 \n",
      "[CV]  max_depth=20, max_features=25, min_samples_leaf=30, min_samples_split=30, n_estimators=100, total=   0.8s\n",
      "[CV] max_depth=20, max_features=25, min_samples_leaf=30, min_samples_split=30, n_estimators=100 \n",
      "[CV]  max_depth=20, max_features=25, min_samples_leaf=30, min_samples_split=30, n_estimators=100, total=   0.8s\n",
      "[CV] max_depth=20, max_features=25, min_samples_leaf=30, min_samples_split=30, n_estimators=100 \n",
      "[CV]  max_depth=20, max_features=25, min_samples_leaf=30, min_samples_split=30, n_estimators=100, total=   0.9s\n",
      "[CV] max_depth=20, max_features=25, min_samples_leaf=30, min_samples_split=30, n_estimators=100 \n",
      "[CV]  max_depth=20, max_features=25, min_samples_leaf=30, min_samples_split=30, n_estimators=100, total=   0.9s\n",
      "[CV] max_depth=20, max_features=25, min_samples_leaf=30, min_samples_split=30, n_estimators=100 \n",
      "[CV]  max_depth=20, max_features=25, min_samples_leaf=30, min_samples_split=30, n_estimators=100, total=   0.9s\n",
      "[CV] max_depth=20, max_features=25, min_samples_leaf=30, min_samples_split=30, n_estimators=100 \n",
      "[CV]  max_depth=20, max_features=25, min_samples_leaf=30, min_samples_split=30, n_estimators=100, total=   1.0s\n",
      "[CV] max_depth=20, max_features=25, min_samples_leaf=30, min_samples_split=30, n_estimators=500 \n",
      "[CV]  max_depth=20, max_features=25, min_samples_leaf=30, min_samples_split=30, n_estimators=500, total=   5.0s\n",
      "[CV] max_depth=20, max_features=25, min_samples_leaf=30, min_samples_split=30, n_estimators=500 \n",
      "[CV]  max_depth=20, max_features=25, min_samples_leaf=30, min_samples_split=30, n_estimators=500, total=   5.1s\n",
      "[CV] max_depth=20, max_features=25, min_samples_leaf=30, min_samples_split=30, n_estimators=500 \n",
      "[CV]  max_depth=20, max_features=25, min_samples_leaf=30, min_samples_split=30, n_estimators=500, total=   5.2s\n",
      "[CV] max_depth=20, max_features=25, min_samples_leaf=30, min_samples_split=30, n_estimators=500 \n",
      "[CV]  max_depth=20, max_features=25, min_samples_leaf=30, min_samples_split=30, n_estimators=500, total=   4.9s\n",
      "[CV] max_depth=20, max_features=25, min_samples_leaf=30, min_samples_split=30, n_estimators=500 \n",
      "[CV]  max_depth=20, max_features=25, min_samples_leaf=30, min_samples_split=30, n_estimators=500, total=   4.8s\n",
      "[CV] max_depth=20, max_features=25, min_samples_leaf=30, min_samples_split=30, n_estimators=500 \n",
      "[CV]  max_depth=20, max_features=25, min_samples_leaf=30, min_samples_split=30, n_estimators=500, total=   4.9s\n",
      "[CV] max_depth=20, max_features=25, min_samples_leaf=30, min_samples_split=30, n_estimators=500 \n",
      "[CV]  max_depth=20, max_features=25, min_samples_leaf=30, min_samples_split=30, n_estimators=500, total=   5.1s\n",
      "[CV] max_depth=20, max_features=25, min_samples_leaf=30, min_samples_split=30, n_estimators=500 \n",
      "[CV]  max_depth=20, max_features=25, min_samples_leaf=30, min_samples_split=30, n_estimators=500, total=   5.0s\n",
      "[CV] max_depth=20, max_features=25, min_samples_leaf=30, min_samples_split=30, n_estimators=500 \n",
      "[CV]  max_depth=20, max_features=25, min_samples_leaf=30, min_samples_split=30, n_estimators=500, total=   5.0s\n",
      "[CV] max_depth=20, max_features=25, min_samples_leaf=30, min_samples_split=30, n_estimators=500 \n",
      "[CV]  max_depth=20, max_features=25, min_samples_leaf=30, min_samples_split=30, n_estimators=500, total=   5.2s\n"
     ]
    },
    {
     "name": "stderr",
     "output_type": "stream",
     "text": [
      "[Parallel(n_jobs=1)]: Done 320 out of 320 | elapsed:  6.5min finished\n"
     ]
    },
    {
     "data": {
      "text/plain": [
       "GridSearchCV(cv=10, error_score='raise',\n",
       "       estimator=GradientBoostingRegressor(alpha=0.9, criterion='friedman_mse', init=None,\n",
       "             learning_rate=0.1, loss='ls', max_depth=3, max_features=3,\n",
       "             max_leaf_nodes=None, min_impurity_decrease=0.0,\n",
       "             min_impurity_split=None, min_samples_leaf=20,\n",
       "             min_samples_split=2, min_weight_fraction_leaf=0.0,\n",
       "             n_estimators=500, presort='auto', random_state=None,\n",
       "             subsample=1.0, verbose=0, warm_start=False),\n",
       "       fit_params=None, iid=True, n_jobs=1,\n",
       "       param_grid={'max_depth': [3, 20], 'max_features': [2, 25], 'min_samples_leaf': [1, 30], 'min_samples_split': [2, 30], 'n_estimators': [100, 500]},\n",
       "       pre_dispatch='2*n_jobs', refit=True, return_train_score='warn',\n",
       "       scoring=None, verbose=2)"
      ]
     },
     "execution_count": 75,
     "metadata": {},
     "output_type": "execute_result"
    }
   ],
   "source": [
    "from sklearn.model_selection import GridSearchCV\n",
    "param_grid = {\n",
    "    # 'bootstrap': [True],\n",
    "    'max_depth': [3, 20],\n",
    "    'max_features': [2, 25],\n",
    "    'min_samples_leaf': [2, 20],\n",
    "    'min_samples_split': [2, 20],\n",
    "    'n_estimators': [100, 500]\n",
    "}\n",
    "# Instantiate the grid search model\n",
    "grid_search = GridSearchCV(estimator = gbt_model, param_grid = param_grid, cv = 10, n_jobs = 1, verbose = 2) \n",
    "# Fit the grid search to the data\n",
    "grid_search.fit(X_train, Y_train)    "
   ]
  },
  {
   "cell_type": "code",
   "execution_count": 76,
   "metadata": {},
   "outputs": [
    {
     "data": {
      "text/plain": [
       "{'max_depth': 20,\n",
       " 'max_features': 2,\n",
       " 'min_samples_leaf': 30,\n",
       " 'min_samples_split': 30,\n",
       " 'n_estimators': 100}"
      ]
     },
     "execution_count": 76,
     "metadata": {},
     "output_type": "execute_result"
    }
   ],
   "source": [
    "grid_search.best_params_"
   ]
  },
  {
   "cell_type": "code",
   "execution_count": 95,
   "metadata": {},
   "outputs": [
    {
     "name": "stdout",
     "output_type": "stream",
     "text": [
      "Learning rate: 0.050, Train: 0.795, Test: 0.730\n",
      "Learning rate: 0.100, Train: 0.830, Test: 0.730\n",
      "Learning rate: 0.250, Train: 0.881, Test: 0.710\n",
      "Learning rate: 0.500, Train: 0.919, Test: 0.690\n",
      "Learning rate: 0.750, Train: 0.938, Test: 0.634\n",
      "Learning rate: 1.000, Train: 0.954, Test: 0.581\n"
     ]
    }
   ],
   "source": [
    "learning_rates = [0.05, 0.1, 0.25, 0.5, 0.75, 1]\n",
    "for learning_rate in learning_rates:\n",
    "    # Retrain with the best parameters\n",
    "    gbt_model = GradientBoostingRegressor(n_estimators = 500,learning_rate=learning_rate, random_state = 42, max_depth=3,max_features=3,min_samples_leaf=20,min_samples_split=2)\n",
    "    gbt_model.fit(X_train, Y_train)\n",
    "    # Predicting label\n",
    "    Y_train_pred = gbt_model.predict(X_train)\n",
    "    Y_test_pred = gbt_model.predict(X_test)\n",
    "    # Evaluating Model Accuracy \n",
    "    print('Learning rate: %.3f, Train: %.3f, Test: %.3f' % (learning_rate,gbt_model.score(X_train, Y_train),gbt_model.score(X_test, Y_test)))"
   ]
  },
  {
   "cell_type": "code",
   "execution_count": 96,
   "metadata": {
    "scrolled": true
   },
   "outputs": [],
   "source": [
    "# Retrain model, using the best paramenters\n",
    "gbt_model = GradientBoostingRegressor(n_estimators = 500, learning_rate = 0.05,random_state = 42, max_depth=3,max_features=3,min_samples_leaf=20,min_samples_split=2)"
   ]
  },
  {
   "cell_type": "code",
   "execution_count": 97,
   "metadata": {},
   "outputs": [
    {
     "name": "stdout",
     "output_type": "stream",
     "text": [
      "R^2 Train: 0.795, Test: 0.730\n",
      "RMSE Train: 0.253, Test: 0.300\n"
     ]
    }
   ],
   "source": [
    "gbt_model.fit(X_train, Y_train)\n",
    "# Predicting label\n",
    "Y_train_pred = gbt_model.predict(X_train)\n",
    "Y_test_pred = gbt_model.predict(X_test)\n",
    "# Evaluating model accuracy\n",
    "print('R^2 Train: %.3f, Test: %.3f' % (\n",
    "        gbt_model.score(X_train, Y_train),\n",
    "        gbt_model.score(X_test, Y_test)))\n",
    "print('RMSE Train: %.3f, Test: %.3f' % (\n",
    "        np.sqrt(metrics.mean_squared_error(Y_train, Y_train_pred)),\n",
    "        np.sqrt(metrics.mean_squared_error(Y_test, Y_test_pred))))"
   ]
  },
  {
   "cell_type": "code",
   "execution_count": 98,
   "metadata": {},
   "outputs": [
    {
     "name": "stdout",
     "output_type": "stream",
     "text": [
      "R2 score:  [ 0.78799017  0.75791602  0.71300678  0.51148863  0.61221544  0.69034223\n",
      "  0.75567406  0.68765541  0.66008486  0.68659336]\n",
      "Average R2 score:  0.69\n",
      "Average RMSE score:  0.3\n"
     ]
    }
   ],
   "source": [
    "# Cross Validation\n",
    "gbt_model = GradientBoostingRegressor(n_estimators = 500,learning_rate=0.05, max_depth=3,max_features=3,min_samples_leaf=20,min_samples_split=2)\n",
    "cv_scores = cross_val_score(gbt_model,X_data,Y_data,scoring='r2',cv=10)\n",
    "rmse = np.sqrt(-cross_val_score(gbt_model,X_data, Y_data,scoring=\"neg_mean_squared_error\", cv =10))\n",
    "print('R2 score: ', cv_scores)\n",
    "print('Average R2 score: ', np.round(np.mean(cv_scores),2))\n",
    "print('Average RMSE score: ',np.round(np.mean(rmse),2))"
   ]
  },
  {
   "cell_type": "markdown",
   "metadata": {},
   "source": [
    "### XGBoost"
   ]
  },
  {
   "cell_type": "markdown",
   "metadata": {},
   "source": [
    "#### Train the model"
   ]
  },
  {
   "cell_type": "code",
   "execution_count": 53,
   "metadata": {},
   "outputs": [
    {
     "data": {
      "text/plain": [
       "{'base_score': 0.5,\n",
       " 'booster': 'gbtree',\n",
       " 'colsample_bylevel': 1,\n",
       " 'colsample_bytree': 1,\n",
       " 'gamma': 0,\n",
       " 'importance_type': 'gain',\n",
       " 'learning_rate': 0.1,\n",
       " 'max_delta_step': 0,\n",
       " 'max_depth': 3,\n",
       " 'min_child_weight': 1,\n",
       " 'missing': None,\n",
       " 'n_estimators': 100,\n",
       " 'n_jobs': 1,\n",
       " 'nthread': None,\n",
       " 'objective': 'reg:linear',\n",
       " 'random_state': 0,\n",
       " 'reg_alpha': 0,\n",
       " 'reg_lambda': 1,\n",
       " 'scale_pos_weight': 1,\n",
       " 'seed': None,\n",
       " 'silent': True,\n",
       " 'subsample': 1}"
      ]
     },
     "execution_count": 53,
     "metadata": {},
     "output_type": "execute_result"
    }
   ],
   "source": [
    "# Choose a class of model\n",
    "import xgboost \n",
    "# Train model, using default paramenters\n",
    "xgb_model = xgboost.XGBRegressor(n_estimators = 100)\n",
    "xgb_model.fit(X_train, Y_train)\n",
    "# Print Default parameters of the model used\n",
    "xgb_model.get_params()"
   ]
  },
  {
   "cell_type": "markdown",
   "metadata": {},
   "source": [
    "#### Predicting"
   ]
  },
  {
   "cell_type": "code",
   "execution_count": 54,
   "metadata": {},
   "outputs": [],
   "source": [
    "Y_train_pred = xgb_model.predict(X_train)\n",
    "Y_test_pred = xgb_model.predict(X_test)"
   ]
  },
  {
   "cell_type": "markdown",
   "metadata": {},
   "source": [
    "#### Evaluating model accuracy"
   ]
  },
  {
   "cell_type": "code",
   "execution_count": 55,
   "metadata": {},
   "outputs": [
    {
     "name": "stdout",
     "output_type": "stream",
     "text": [
      "MSE train: 0.069, test: 0.093\n",
      "R^2 train 1: 0.779, test: 0.721\n",
      "R^2 train 2: 0.779, test: 0.721\n"
     ]
    }
   ],
   "source": [
    "print('MSE train: %.3f, test: %.3f' % (\n",
    "        mean_squared_error(Y_train, Y_train_pred),\n",
    "        mean_squared_error(Y_test, Y_test_pred)))\n",
    "print('R^2 train 1: %.3f, test: %.3f' % (\n",
    "        r2_score(Y_train, Y_train_pred),\n",
    "        r2_score(Y_test, Y_test_pred)))\n",
    "print('R^2 train 2: %.3f, test: %.3f' % (\n",
    "        xgb_model.score(X_train, Y_train),\n",
    "        xgb_model.score(X_test, Y_test)))"
   ]
  },
  {
   "cell_type": "markdown",
   "metadata": {},
   "source": [
    "#### Cross Validation"
   ]
  },
  {
   "cell_type": "code",
   "execution_count": 56,
   "metadata": {},
   "outputs": [
    {
     "name": "stdout",
     "output_type": "stream",
     "text": [
      "R2 score:  [ 0.78083357  0.74263535  0.69330163  0.51472412  0.61109405  0.68843936\n",
      "  0.73947753  0.65889818  0.65739508  0.66629175]\n",
      "Average R2 score:  0.68\n",
      "Average RMSE score:  0.31\n"
     ]
    }
   ],
   "source": [
    "cxgb_model = xgboost.XGBRegressor(n_estimators = 100)\n",
    "cv_scores = cross_val_score(cxgb_model,X_data,Y_data,scoring='r2',cv=10)\n",
    "rmse = np.sqrt(-cross_val_score(cxgb_model,X_data, Y_data,scoring=\"neg_mean_squared_error\", cv =10))\n",
    "print('R2 score: ', cv_scores)\n",
    "print('Average R2 score: ', np.round(np.mean(cv_scores),2))\n",
    "print('Average RMSE score: ',np.round(np.mean(rmse),2))"
   ]
  },
  {
   "cell_type": "markdown",
   "metadata": {},
   "source": [
    "#### Tuning Model"
   ]
  },
  {
   "cell_type": "code",
   "execution_count": 81,
   "metadata": {},
   "outputs": [
    {
     "name": "stdout",
     "output_type": "stream",
     "text": [
      "Fitting 10 folds for each of 32 candidates, totalling 320 fits\n",
      "[CV] max_depth=3, max_features=2, min_samples_leaf=2, min_samples_split=2, n_estimators=100 \n",
      "[CV]  max_depth=3, max_features=2, min_samples_leaf=2, min_samples_split=2, n_estimators=100, total=   0.2s\n",
      "[CV] max_depth=3, max_features=2, min_samples_leaf=2, min_samples_split=2, n_estimators=100 \n"
     ]
    },
    {
     "name": "stderr",
     "output_type": "stream",
     "text": [
      "[Parallel(n_jobs=1)]: Done   1 out of   1 | elapsed:    0.2s remaining:    0.0s\n"
     ]
    },
    {
     "name": "stdout",
     "output_type": "stream",
     "text": [
      "[CV]  max_depth=3, max_features=2, min_samples_leaf=2, min_samples_split=2, n_estimators=100, total=   0.2s\n",
      "[CV] max_depth=3, max_features=2, min_samples_leaf=2, min_samples_split=2, n_estimators=100 \n",
      "[CV]  max_depth=3, max_features=2, min_samples_leaf=2, min_samples_split=2, n_estimators=100, total=   0.2s\n",
      "[CV] max_depth=3, max_features=2, min_samples_leaf=2, min_samples_split=2, n_estimators=100 \n",
      "[CV]  max_depth=3, max_features=2, min_samples_leaf=2, min_samples_split=2, n_estimators=100, total=   0.2s\n",
      "[CV] max_depth=3, max_features=2, min_samples_leaf=2, min_samples_split=2, n_estimators=100 \n",
      "[CV]  max_depth=3, max_features=2, min_samples_leaf=2, min_samples_split=2, n_estimators=100, total=   0.2s\n",
      "[CV] max_depth=3, max_features=2, min_samples_leaf=2, min_samples_split=2, n_estimators=100 \n",
      "[CV]  max_depth=3, max_features=2, min_samples_leaf=2, min_samples_split=2, n_estimators=100, total=   0.2s\n",
      "[CV] max_depth=3, max_features=2, min_samples_leaf=2, min_samples_split=2, n_estimators=100 \n",
      "[CV]  max_depth=3, max_features=2, min_samples_leaf=2, min_samples_split=2, n_estimators=100, total=   0.2s\n",
      "[CV] max_depth=3, max_features=2, min_samples_leaf=2, min_samples_split=2, n_estimators=100 \n",
      "[CV]  max_depth=3, max_features=2, min_samples_leaf=2, min_samples_split=2, n_estimators=100, total=   0.2s\n",
      "[CV] max_depth=3, max_features=2, min_samples_leaf=2, min_samples_split=2, n_estimators=100 \n",
      "[CV]  max_depth=3, max_features=2, min_samples_leaf=2, min_samples_split=2, n_estimators=100, total=   0.2s\n",
      "[CV] max_depth=3, max_features=2, min_samples_leaf=2, min_samples_split=2, n_estimators=100 \n",
      "[CV]  max_depth=3, max_features=2, min_samples_leaf=2, min_samples_split=2, n_estimators=100, total=   0.2s\n",
      "[CV] max_depth=3, max_features=2, min_samples_leaf=2, min_samples_split=2, n_estimators=500 \n",
      "[CV]  max_depth=3, max_features=2, min_samples_leaf=2, min_samples_split=2, n_estimators=500, total=   1.3s\n",
      "[CV] max_depth=3, max_features=2, min_samples_leaf=2, min_samples_split=2, n_estimators=500 \n",
      "[CV]  max_depth=3, max_features=2, min_samples_leaf=2, min_samples_split=2, n_estimators=500, total=   1.4s\n",
      "[CV] max_depth=3, max_features=2, min_samples_leaf=2, min_samples_split=2, n_estimators=500 \n",
      "[CV]  max_depth=3, max_features=2, min_samples_leaf=2, min_samples_split=2, n_estimators=500, total=   1.3s\n",
      "[CV] max_depth=3, max_features=2, min_samples_leaf=2, min_samples_split=2, n_estimators=500 \n",
      "[CV]  max_depth=3, max_features=2, min_samples_leaf=2, min_samples_split=2, n_estimators=500, total=   1.3s\n",
      "[CV] max_depth=3, max_features=2, min_samples_leaf=2, min_samples_split=2, n_estimators=500 \n",
      "[CV]  max_depth=3, max_features=2, min_samples_leaf=2, min_samples_split=2, n_estimators=500, total=   1.3s\n",
      "[CV] max_depth=3, max_features=2, min_samples_leaf=2, min_samples_split=2, n_estimators=500 \n",
      "[CV]  max_depth=3, max_features=2, min_samples_leaf=2, min_samples_split=2, n_estimators=500, total=   1.2s\n",
      "[CV] max_depth=3, max_features=2, min_samples_leaf=2, min_samples_split=2, n_estimators=500 \n",
      "[CV]  max_depth=3, max_features=2, min_samples_leaf=2, min_samples_split=2, n_estimators=500, total=   1.7s\n",
      "[CV] max_depth=3, max_features=2, min_samples_leaf=2, min_samples_split=2, n_estimators=500 \n",
      "[CV]  max_depth=3, max_features=2, min_samples_leaf=2, min_samples_split=2, n_estimators=500, total=   1.4s\n",
      "[CV] max_depth=3, max_features=2, min_samples_leaf=2, min_samples_split=2, n_estimators=500 \n",
      "[CV]  max_depth=3, max_features=2, min_samples_leaf=2, min_samples_split=2, n_estimators=500, total=   1.6s\n",
      "[CV] max_depth=3, max_features=2, min_samples_leaf=2, min_samples_split=2, n_estimators=500 \n",
      "[CV]  max_depth=3, max_features=2, min_samples_leaf=2, min_samples_split=2, n_estimators=500, total=   1.8s\n",
      "[CV] max_depth=3, max_features=2, min_samples_leaf=2, min_samples_split=20, n_estimators=100 \n",
      "[CV]  max_depth=3, max_features=2, min_samples_leaf=2, min_samples_split=20, n_estimators=100, total=   0.2s\n",
      "[CV] max_depth=3, max_features=2, min_samples_leaf=2, min_samples_split=20, n_estimators=100 \n",
      "[CV]  max_depth=3, max_features=2, min_samples_leaf=2, min_samples_split=20, n_estimators=100, total=   0.2s\n",
      "[CV] max_depth=3, max_features=2, min_samples_leaf=2, min_samples_split=20, n_estimators=100 \n",
      "[CV]  max_depth=3, max_features=2, min_samples_leaf=2, min_samples_split=20, n_estimators=100, total=   0.2s\n",
      "[CV] max_depth=3, max_features=2, min_samples_leaf=2, min_samples_split=20, n_estimators=100 \n",
      "[CV]  max_depth=3, max_features=2, min_samples_leaf=2, min_samples_split=20, n_estimators=100, total=   0.2s\n",
      "[CV] max_depth=3, max_features=2, min_samples_leaf=2, min_samples_split=20, n_estimators=100 \n",
      "[CV]  max_depth=3, max_features=2, min_samples_leaf=2, min_samples_split=20, n_estimators=100, total=   0.2s\n",
      "[CV] max_depth=3, max_features=2, min_samples_leaf=2, min_samples_split=20, n_estimators=100 \n",
      "[CV]  max_depth=3, max_features=2, min_samples_leaf=2, min_samples_split=20, n_estimators=100, total=   0.2s\n",
      "[CV] max_depth=3, max_features=2, min_samples_leaf=2, min_samples_split=20, n_estimators=100 \n",
      "[CV]  max_depth=3, max_features=2, min_samples_leaf=2, min_samples_split=20, n_estimators=100, total=   0.2s\n",
      "[CV] max_depth=3, max_features=2, min_samples_leaf=2, min_samples_split=20, n_estimators=100 \n",
      "[CV]  max_depth=3, max_features=2, min_samples_leaf=2, min_samples_split=20, n_estimators=100, total=   0.2s\n",
      "[CV] max_depth=3, max_features=2, min_samples_leaf=2, min_samples_split=20, n_estimators=100 \n",
      "[CV]  max_depth=3, max_features=2, min_samples_leaf=2, min_samples_split=20, n_estimators=100, total=   0.2s\n",
      "[CV] max_depth=3, max_features=2, min_samples_leaf=2, min_samples_split=20, n_estimators=100 \n",
      "[CV]  max_depth=3, max_features=2, min_samples_leaf=2, min_samples_split=20, n_estimators=100, total=   0.2s\n",
      "[CV] max_depth=3, max_features=2, min_samples_leaf=2, min_samples_split=20, n_estimators=500 \n",
      "[CV]  max_depth=3, max_features=2, min_samples_leaf=2, min_samples_split=20, n_estimators=500, total=   1.6s\n",
      "[CV] max_depth=3, max_features=2, min_samples_leaf=2, min_samples_split=20, n_estimators=500 \n",
      "[CV]  max_depth=3, max_features=2, min_samples_leaf=2, min_samples_split=20, n_estimators=500, total=   1.5s\n",
      "[CV] max_depth=3, max_features=2, min_samples_leaf=2, min_samples_split=20, n_estimators=500 \n",
      "[CV]  max_depth=3, max_features=2, min_samples_leaf=2, min_samples_split=20, n_estimators=500, total=   1.5s\n",
      "[CV] max_depth=3, max_features=2, min_samples_leaf=2, min_samples_split=20, n_estimators=500 \n",
      "[CV]  max_depth=3, max_features=2, min_samples_leaf=2, min_samples_split=20, n_estimators=500, total=   1.5s\n",
      "[CV] max_depth=3, max_features=2, min_samples_leaf=2, min_samples_split=20, n_estimators=500 \n",
      "[CV]  max_depth=3, max_features=2, min_samples_leaf=2, min_samples_split=20, n_estimators=500, total=   1.4s\n",
      "[CV] max_depth=3, max_features=2, min_samples_leaf=2, min_samples_split=20, n_estimators=500 \n",
      "[CV]  max_depth=3, max_features=2, min_samples_leaf=2, min_samples_split=20, n_estimators=500, total=   1.4s\n",
      "[CV] max_depth=3, max_features=2, min_samples_leaf=2, min_samples_split=20, n_estimators=500 \n",
      "[CV]  max_depth=3, max_features=2, min_samples_leaf=2, min_samples_split=20, n_estimators=500, total=   1.7s\n",
      "[CV] max_depth=3, max_features=2, min_samples_leaf=2, min_samples_split=20, n_estimators=500 \n",
      "[CV]  max_depth=3, max_features=2, min_samples_leaf=2, min_samples_split=20, n_estimators=500, total=   1.6s\n",
      "[CV] max_depth=3, max_features=2, min_samples_leaf=2, min_samples_split=20, n_estimators=500 \n",
      "[CV]  max_depth=3, max_features=2, min_samples_leaf=2, min_samples_split=20, n_estimators=500, total=   1.4s\n",
      "[CV] max_depth=3, max_features=2, min_samples_leaf=2, min_samples_split=20, n_estimators=500 \n",
      "[CV]  max_depth=3, max_features=2, min_samples_leaf=2, min_samples_split=20, n_estimators=500, total=   1.4s\n",
      "[CV] max_depth=3, max_features=2, min_samples_leaf=20, min_samples_split=2, n_estimators=100 \n",
      "[CV]  max_depth=3, max_features=2, min_samples_leaf=20, min_samples_split=2, n_estimators=100, total=   0.2s\n",
      "[CV] max_depth=3, max_features=2, min_samples_leaf=20, min_samples_split=2, n_estimators=100 \n",
      "[CV]  max_depth=3, max_features=2, min_samples_leaf=20, min_samples_split=2, n_estimators=100, total=   0.2s\n",
      "[CV] max_depth=3, max_features=2, min_samples_leaf=20, min_samples_split=2, n_estimators=100 \n"
     ]
    },
    {
     "name": "stdout",
     "output_type": "stream",
     "text": [
      "[CV]  max_depth=3, max_features=2, min_samples_leaf=20, min_samples_split=2, n_estimators=100, total=   0.2s\n",
      "[CV] max_depth=3, max_features=2, min_samples_leaf=20, min_samples_split=2, n_estimators=100 \n",
      "[CV]  max_depth=3, max_features=2, min_samples_leaf=20, min_samples_split=2, n_estimators=100, total=   0.2s\n",
      "[CV] max_depth=3, max_features=2, min_samples_leaf=20, min_samples_split=2, n_estimators=100 \n",
      "[CV]  max_depth=3, max_features=2, min_samples_leaf=20, min_samples_split=2, n_estimators=100, total=   0.2s\n",
      "[CV] max_depth=3, max_features=2, min_samples_leaf=20, min_samples_split=2, n_estimators=100 \n",
      "[CV]  max_depth=3, max_features=2, min_samples_leaf=20, min_samples_split=2, n_estimators=100, total=   0.2s\n",
      "[CV] max_depth=3, max_features=2, min_samples_leaf=20, min_samples_split=2, n_estimators=100 \n",
      "[CV]  max_depth=3, max_features=2, min_samples_leaf=20, min_samples_split=2, n_estimators=100, total=   0.2s\n",
      "[CV] max_depth=3, max_features=2, min_samples_leaf=20, min_samples_split=2, n_estimators=100 \n",
      "[CV]  max_depth=3, max_features=2, min_samples_leaf=20, min_samples_split=2, n_estimators=100, total=   0.2s\n",
      "[CV] max_depth=3, max_features=2, min_samples_leaf=20, min_samples_split=2, n_estimators=100 \n",
      "[CV]  max_depth=3, max_features=2, min_samples_leaf=20, min_samples_split=2, n_estimators=100, total=   0.2s\n",
      "[CV] max_depth=3, max_features=2, min_samples_leaf=20, min_samples_split=2, n_estimators=100 \n",
      "[CV]  max_depth=3, max_features=2, min_samples_leaf=20, min_samples_split=2, n_estimators=100, total=   0.2s\n",
      "[CV] max_depth=3, max_features=2, min_samples_leaf=20, min_samples_split=2, n_estimators=500 \n",
      "[CV]  max_depth=3, max_features=2, min_samples_leaf=20, min_samples_split=2, n_estimators=500, total=   1.5s\n",
      "[CV] max_depth=3, max_features=2, min_samples_leaf=20, min_samples_split=2, n_estimators=500 \n",
      "[CV]  max_depth=3, max_features=2, min_samples_leaf=20, min_samples_split=2, n_estimators=500, total=   1.4s\n",
      "[CV] max_depth=3, max_features=2, min_samples_leaf=20, min_samples_split=2, n_estimators=500 \n",
      "[CV]  max_depth=3, max_features=2, min_samples_leaf=20, min_samples_split=2, n_estimators=500, total=   1.5s\n",
      "[CV] max_depth=3, max_features=2, min_samples_leaf=20, min_samples_split=2, n_estimators=500 \n",
      "[CV]  max_depth=3, max_features=2, min_samples_leaf=20, min_samples_split=2, n_estimators=500, total=   1.4s\n",
      "[CV] max_depth=3, max_features=2, min_samples_leaf=20, min_samples_split=2, n_estimators=500 \n",
      "[CV]  max_depth=3, max_features=2, min_samples_leaf=20, min_samples_split=2, n_estimators=500, total=   1.7s\n",
      "[CV] max_depth=3, max_features=2, min_samples_leaf=20, min_samples_split=2, n_estimators=500 \n",
      "[CV]  max_depth=3, max_features=2, min_samples_leaf=20, min_samples_split=2, n_estimators=500, total=   1.5s\n",
      "[CV] max_depth=3, max_features=2, min_samples_leaf=20, min_samples_split=2, n_estimators=500 \n",
      "[CV]  max_depth=3, max_features=2, min_samples_leaf=20, min_samples_split=2, n_estimators=500, total=   1.4s\n",
      "[CV] max_depth=3, max_features=2, min_samples_leaf=20, min_samples_split=2, n_estimators=500 \n",
      "[CV]  max_depth=3, max_features=2, min_samples_leaf=20, min_samples_split=2, n_estimators=500, total=   1.4s\n",
      "[CV] max_depth=3, max_features=2, min_samples_leaf=20, min_samples_split=2, n_estimators=500 \n",
      "[CV]  max_depth=3, max_features=2, min_samples_leaf=20, min_samples_split=2, n_estimators=500, total=   1.5s\n",
      "[CV] max_depth=3, max_features=2, min_samples_leaf=20, min_samples_split=2, n_estimators=500 \n",
      "[CV]  max_depth=3, max_features=2, min_samples_leaf=20, min_samples_split=2, n_estimators=500, total=   1.4s\n",
      "[CV] max_depth=3, max_features=2, min_samples_leaf=20, min_samples_split=20, n_estimators=100 \n",
      "[CV]  max_depth=3, max_features=2, min_samples_leaf=20, min_samples_split=20, n_estimators=100, total=   0.2s\n",
      "[CV] max_depth=3, max_features=2, min_samples_leaf=20, min_samples_split=20, n_estimators=100 \n",
      "[CV]  max_depth=3, max_features=2, min_samples_leaf=20, min_samples_split=20, n_estimators=100, total=   0.2s\n",
      "[CV] max_depth=3, max_features=2, min_samples_leaf=20, min_samples_split=20, n_estimators=100 \n",
      "[CV]  max_depth=3, max_features=2, min_samples_leaf=20, min_samples_split=20, n_estimators=100, total=   0.2s\n",
      "[CV] max_depth=3, max_features=2, min_samples_leaf=20, min_samples_split=20, n_estimators=100 \n",
      "[CV]  max_depth=3, max_features=2, min_samples_leaf=20, min_samples_split=20, n_estimators=100, total=   0.2s\n",
      "[CV] max_depth=3, max_features=2, min_samples_leaf=20, min_samples_split=20, n_estimators=100 \n",
      "[CV]  max_depth=3, max_features=2, min_samples_leaf=20, min_samples_split=20, n_estimators=100, total=   0.2s\n",
      "[CV] max_depth=3, max_features=2, min_samples_leaf=20, min_samples_split=20, n_estimators=100 \n",
      "[CV]  max_depth=3, max_features=2, min_samples_leaf=20, min_samples_split=20, n_estimators=100, total=   0.2s\n",
      "[CV] max_depth=3, max_features=2, min_samples_leaf=20, min_samples_split=20, n_estimators=100 \n",
      "[CV]  max_depth=3, max_features=2, min_samples_leaf=20, min_samples_split=20, n_estimators=100, total=   0.2s\n",
      "[CV] max_depth=3, max_features=2, min_samples_leaf=20, min_samples_split=20, n_estimators=100 \n",
      "[CV]  max_depth=3, max_features=2, min_samples_leaf=20, min_samples_split=20, n_estimators=100, total=   0.2s\n",
      "[CV] max_depth=3, max_features=2, min_samples_leaf=20, min_samples_split=20, n_estimators=100 \n",
      "[CV]  max_depth=3, max_features=2, min_samples_leaf=20, min_samples_split=20, n_estimators=100, total=   0.2s\n",
      "[CV] max_depth=3, max_features=2, min_samples_leaf=20, min_samples_split=20, n_estimators=100 \n",
      "[CV]  max_depth=3, max_features=2, min_samples_leaf=20, min_samples_split=20, n_estimators=100, total=   0.2s\n",
      "[CV] max_depth=3, max_features=2, min_samples_leaf=20, min_samples_split=20, n_estimators=500 \n",
      "[CV]  max_depth=3, max_features=2, min_samples_leaf=20, min_samples_split=20, n_estimators=500, total=   1.5s\n",
      "[CV] max_depth=3, max_features=2, min_samples_leaf=20, min_samples_split=20, n_estimators=500 \n",
      "[CV]  max_depth=3, max_features=2, min_samples_leaf=20, min_samples_split=20, n_estimators=500, total=   1.5s\n",
      "[CV] max_depth=3, max_features=2, min_samples_leaf=20, min_samples_split=20, n_estimators=500 \n",
      "[CV]  max_depth=3, max_features=2, min_samples_leaf=20, min_samples_split=20, n_estimators=500, total=   1.7s\n",
      "[CV] max_depth=3, max_features=2, min_samples_leaf=20, min_samples_split=20, n_estimators=500 \n",
      "[CV]  max_depth=3, max_features=2, min_samples_leaf=20, min_samples_split=20, n_estimators=500, total=   1.6s\n",
      "[CV] max_depth=3, max_features=2, min_samples_leaf=20, min_samples_split=20, n_estimators=500 \n",
      "[CV]  max_depth=3, max_features=2, min_samples_leaf=20, min_samples_split=20, n_estimators=500, total=   1.5s\n",
      "[CV] max_depth=3, max_features=2, min_samples_leaf=20, min_samples_split=20, n_estimators=500 \n",
      "[CV]  max_depth=3, max_features=2, min_samples_leaf=20, min_samples_split=20, n_estimators=500, total=   1.4s\n",
      "[CV] max_depth=3, max_features=2, min_samples_leaf=20, min_samples_split=20, n_estimators=500 \n",
      "[CV]  max_depth=3, max_features=2, min_samples_leaf=20, min_samples_split=20, n_estimators=500, total=   1.4s\n",
      "[CV] max_depth=3, max_features=2, min_samples_leaf=20, min_samples_split=20, n_estimators=500 \n",
      "[CV]  max_depth=3, max_features=2, min_samples_leaf=20, min_samples_split=20, n_estimators=500, total=   1.5s\n",
      "[CV] max_depth=3, max_features=2, min_samples_leaf=20, min_samples_split=20, n_estimators=500 \n",
      "[CV]  max_depth=3, max_features=2, min_samples_leaf=20, min_samples_split=20, n_estimators=500, total=   1.4s\n",
      "[CV] max_depth=3, max_features=2, min_samples_leaf=20, min_samples_split=20, n_estimators=500 \n",
      "[CV]  max_depth=3, max_features=2, min_samples_leaf=20, min_samples_split=20, n_estimators=500, total=   1.4s\n",
      "[CV] max_depth=3, max_features=25, min_samples_leaf=2, min_samples_split=2, n_estimators=100 \n",
      "[CV]  max_depth=3, max_features=25, min_samples_leaf=2, min_samples_split=2, n_estimators=100, total=   0.2s\n",
      "[CV] max_depth=3, max_features=25, min_samples_leaf=2, min_samples_split=2, n_estimators=100 \n",
      "[CV]  max_depth=3, max_features=25, min_samples_leaf=2, min_samples_split=2, n_estimators=100, total=   0.2s\n",
      "[CV] max_depth=3, max_features=25, min_samples_leaf=2, min_samples_split=2, n_estimators=100 \n",
      "[CV]  max_depth=3, max_features=25, min_samples_leaf=2, min_samples_split=2, n_estimators=100, total=   0.2s\n",
      "[CV] max_depth=3, max_features=25, min_samples_leaf=2, min_samples_split=2, n_estimators=100 \n"
     ]
    },
    {
     "name": "stdout",
     "output_type": "stream",
     "text": [
      "[CV]  max_depth=3, max_features=25, min_samples_leaf=2, min_samples_split=2, n_estimators=100, total=   0.2s\n",
      "[CV] max_depth=3, max_features=25, min_samples_leaf=2, min_samples_split=2, n_estimators=100 \n",
      "[CV]  max_depth=3, max_features=25, min_samples_leaf=2, min_samples_split=2, n_estimators=100, total=   0.2s\n",
      "[CV] max_depth=3, max_features=25, min_samples_leaf=2, min_samples_split=2, n_estimators=100 \n",
      "[CV]  max_depth=3, max_features=25, min_samples_leaf=2, min_samples_split=2, n_estimators=100, total=   0.2s\n",
      "[CV] max_depth=3, max_features=25, min_samples_leaf=2, min_samples_split=2, n_estimators=100 \n",
      "[CV]  max_depth=3, max_features=25, min_samples_leaf=2, min_samples_split=2, n_estimators=100, total=   0.2s\n",
      "[CV] max_depth=3, max_features=25, min_samples_leaf=2, min_samples_split=2, n_estimators=100 \n",
      "[CV]  max_depth=3, max_features=25, min_samples_leaf=2, min_samples_split=2, n_estimators=100, total=   0.2s\n",
      "[CV] max_depth=3, max_features=25, min_samples_leaf=2, min_samples_split=2, n_estimators=100 \n",
      "[CV]  max_depth=3, max_features=25, min_samples_leaf=2, min_samples_split=2, n_estimators=100, total=   0.2s\n",
      "[CV] max_depth=3, max_features=25, min_samples_leaf=2, min_samples_split=2, n_estimators=100 \n",
      "[CV]  max_depth=3, max_features=25, min_samples_leaf=2, min_samples_split=2, n_estimators=100, total=   0.2s\n",
      "[CV] max_depth=3, max_features=25, min_samples_leaf=2, min_samples_split=2, n_estimators=500 \n",
      "[CV]  max_depth=3, max_features=25, min_samples_leaf=2, min_samples_split=2, n_estimators=500, total=   1.7s\n",
      "[CV] max_depth=3, max_features=25, min_samples_leaf=2, min_samples_split=2, n_estimators=500 \n",
      "[CV]  max_depth=3, max_features=25, min_samples_leaf=2, min_samples_split=2, n_estimators=500, total=   1.5s\n",
      "[CV] max_depth=3, max_features=25, min_samples_leaf=2, min_samples_split=2, n_estimators=500 \n",
      "[CV]  max_depth=3, max_features=25, min_samples_leaf=2, min_samples_split=2, n_estimators=500, total=   1.4s\n",
      "[CV] max_depth=3, max_features=25, min_samples_leaf=2, min_samples_split=2, n_estimators=500 \n",
      "[CV]  max_depth=3, max_features=25, min_samples_leaf=2, min_samples_split=2, n_estimators=500, total=   1.4s\n",
      "[CV] max_depth=3, max_features=25, min_samples_leaf=2, min_samples_split=2, n_estimators=500 \n",
      "[CV]  max_depth=3, max_features=25, min_samples_leaf=2, min_samples_split=2, n_estimators=500, total=   1.4s\n",
      "[CV] max_depth=3, max_features=25, min_samples_leaf=2, min_samples_split=2, n_estimators=500 \n",
      "[CV]  max_depth=3, max_features=25, min_samples_leaf=2, min_samples_split=2, n_estimators=500, total=   1.5s\n",
      "[CV] max_depth=3, max_features=25, min_samples_leaf=2, min_samples_split=2, n_estimators=500 \n",
      "[CV]  max_depth=3, max_features=25, min_samples_leaf=2, min_samples_split=2, n_estimators=500, total=   1.4s\n",
      "[CV] max_depth=3, max_features=25, min_samples_leaf=2, min_samples_split=2, n_estimators=500 \n",
      "[CV]  max_depth=3, max_features=25, min_samples_leaf=2, min_samples_split=2, n_estimators=500, total=   1.4s\n",
      "[CV] max_depth=3, max_features=25, min_samples_leaf=2, min_samples_split=2, n_estimators=500 \n",
      "[CV]  max_depth=3, max_features=25, min_samples_leaf=2, min_samples_split=2, n_estimators=500, total=   1.4s\n",
      "[CV] max_depth=3, max_features=25, min_samples_leaf=2, min_samples_split=2, n_estimators=500 \n",
      "[CV]  max_depth=3, max_features=25, min_samples_leaf=2, min_samples_split=2, n_estimators=500, total=   1.4s\n",
      "[CV] max_depth=3, max_features=25, min_samples_leaf=2, min_samples_split=20, n_estimators=100 \n",
      "[CV]  max_depth=3, max_features=25, min_samples_leaf=2, min_samples_split=20, n_estimators=100, total=   0.2s\n",
      "[CV] max_depth=3, max_features=25, min_samples_leaf=2, min_samples_split=20, n_estimators=100 \n",
      "[CV]  max_depth=3, max_features=25, min_samples_leaf=2, min_samples_split=20, n_estimators=100, total=   0.2s\n",
      "[CV] max_depth=3, max_features=25, min_samples_leaf=2, min_samples_split=20, n_estimators=100 \n",
      "[CV]  max_depth=3, max_features=25, min_samples_leaf=2, min_samples_split=20, n_estimators=100, total=   0.3s\n",
      "[CV] max_depth=3, max_features=25, min_samples_leaf=2, min_samples_split=20, n_estimators=100 \n",
      "[CV]  max_depth=3, max_features=25, min_samples_leaf=2, min_samples_split=20, n_estimators=100, total=   0.3s\n",
      "[CV] max_depth=3, max_features=25, min_samples_leaf=2, min_samples_split=20, n_estimators=100 \n",
      "[CV]  max_depth=3, max_features=25, min_samples_leaf=2, min_samples_split=20, n_estimators=100, total=   0.3s\n",
      "[CV] max_depth=3, max_features=25, min_samples_leaf=2, min_samples_split=20, n_estimators=100 \n",
      "[CV]  max_depth=3, max_features=25, min_samples_leaf=2, min_samples_split=20, n_estimators=100, total=   0.3s\n",
      "[CV] max_depth=3, max_features=25, min_samples_leaf=2, min_samples_split=20, n_estimators=100 \n",
      "[CV]  max_depth=3, max_features=25, min_samples_leaf=2, min_samples_split=20, n_estimators=100, total=   0.2s\n",
      "[CV] max_depth=3, max_features=25, min_samples_leaf=2, min_samples_split=20, n_estimators=100 \n",
      "[CV]  max_depth=3, max_features=25, min_samples_leaf=2, min_samples_split=20, n_estimators=100, total=   0.2s\n",
      "[CV] max_depth=3, max_features=25, min_samples_leaf=2, min_samples_split=20, n_estimators=100 \n",
      "[CV]  max_depth=3, max_features=25, min_samples_leaf=2, min_samples_split=20, n_estimators=100, total=   0.2s\n",
      "[CV] max_depth=3, max_features=25, min_samples_leaf=2, min_samples_split=20, n_estimators=100 \n",
      "[CV]  max_depth=3, max_features=25, min_samples_leaf=2, min_samples_split=20, n_estimators=100, total=   0.2s\n",
      "[CV] max_depth=3, max_features=25, min_samples_leaf=2, min_samples_split=20, n_estimators=500 \n",
      "[CV]  max_depth=3, max_features=25, min_samples_leaf=2, min_samples_split=20, n_estimators=500, total=   1.4s\n",
      "[CV] max_depth=3, max_features=25, min_samples_leaf=2, min_samples_split=20, n_estimators=500 \n",
      "[CV]  max_depth=3, max_features=25, min_samples_leaf=2, min_samples_split=20, n_estimators=500, total=   1.4s\n",
      "[CV] max_depth=3, max_features=25, min_samples_leaf=2, min_samples_split=20, n_estimators=500 \n",
      "[CV]  max_depth=3, max_features=25, min_samples_leaf=2, min_samples_split=20, n_estimators=500, total=   1.5s\n",
      "[CV] max_depth=3, max_features=25, min_samples_leaf=2, min_samples_split=20, n_estimators=500 \n",
      "[CV]  max_depth=3, max_features=25, min_samples_leaf=2, min_samples_split=20, n_estimators=500, total=   1.6s\n",
      "[CV] max_depth=3, max_features=25, min_samples_leaf=2, min_samples_split=20, n_estimators=500 \n",
      "[CV]  max_depth=3, max_features=25, min_samples_leaf=2, min_samples_split=20, n_estimators=500, total=   1.4s\n",
      "[CV] max_depth=3, max_features=25, min_samples_leaf=2, min_samples_split=20, n_estimators=500 \n",
      "[CV]  max_depth=3, max_features=25, min_samples_leaf=2, min_samples_split=20, n_estimators=500, total=   1.4s\n",
      "[CV] max_depth=3, max_features=25, min_samples_leaf=2, min_samples_split=20, n_estimators=500 \n",
      "[CV]  max_depth=3, max_features=25, min_samples_leaf=2, min_samples_split=20, n_estimators=500, total=   1.5s\n",
      "[CV] max_depth=3, max_features=25, min_samples_leaf=2, min_samples_split=20, n_estimators=500 \n",
      "[CV]  max_depth=3, max_features=25, min_samples_leaf=2, min_samples_split=20, n_estimators=500, total=   1.4s\n",
      "[CV] max_depth=3, max_features=25, min_samples_leaf=2, min_samples_split=20, n_estimators=500 \n",
      "[CV]  max_depth=3, max_features=25, min_samples_leaf=2, min_samples_split=20, n_estimators=500, total=   1.7s\n",
      "[CV] max_depth=3, max_features=25, min_samples_leaf=2, min_samples_split=20, n_estimators=500 \n",
      "[CV]  max_depth=3, max_features=25, min_samples_leaf=2, min_samples_split=20, n_estimators=500, total=   1.4s\n",
      "[CV] max_depth=3, max_features=25, min_samples_leaf=20, min_samples_split=2, n_estimators=100 \n",
      "[CV]  max_depth=3, max_features=25, min_samples_leaf=20, min_samples_split=2, n_estimators=100, total=   0.2s\n",
      "[CV] max_depth=3, max_features=25, min_samples_leaf=20, min_samples_split=2, n_estimators=100 \n",
      "[CV]  max_depth=3, max_features=25, min_samples_leaf=20, min_samples_split=2, n_estimators=100, total=   0.2s\n",
      "[CV] max_depth=3, max_features=25, min_samples_leaf=20, min_samples_split=2, n_estimators=100 \n",
      "[CV]  max_depth=3, max_features=25, min_samples_leaf=20, min_samples_split=2, n_estimators=100, total=   0.2s\n",
      "[CV] max_depth=3, max_features=25, min_samples_leaf=20, min_samples_split=2, n_estimators=100 \n",
      "[CV]  max_depth=3, max_features=25, min_samples_leaf=20, min_samples_split=2, n_estimators=100, total=   0.2s\n",
      "[CV] max_depth=3, max_features=25, min_samples_leaf=20, min_samples_split=2, n_estimators=100 \n"
     ]
    },
    {
     "name": "stdout",
     "output_type": "stream",
     "text": [
      "[CV]  max_depth=3, max_features=25, min_samples_leaf=20, min_samples_split=2, n_estimators=100, total=   0.2s\n",
      "[CV] max_depth=3, max_features=25, min_samples_leaf=20, min_samples_split=2, n_estimators=100 \n",
      "[CV]  max_depth=3, max_features=25, min_samples_leaf=20, min_samples_split=2, n_estimators=100, total=   0.2s\n",
      "[CV] max_depth=3, max_features=25, min_samples_leaf=20, min_samples_split=2, n_estimators=100 \n",
      "[CV]  max_depth=3, max_features=25, min_samples_leaf=20, min_samples_split=2, n_estimators=100, total=   0.2s\n",
      "[CV] max_depth=3, max_features=25, min_samples_leaf=20, min_samples_split=2, n_estimators=100 \n",
      "[CV]  max_depth=3, max_features=25, min_samples_leaf=20, min_samples_split=2, n_estimators=100, total=   0.3s\n",
      "[CV] max_depth=3, max_features=25, min_samples_leaf=20, min_samples_split=2, n_estimators=100 \n",
      "[CV]  max_depth=3, max_features=25, min_samples_leaf=20, min_samples_split=2, n_estimators=100, total=   0.2s\n",
      "[CV] max_depth=3, max_features=25, min_samples_leaf=20, min_samples_split=2, n_estimators=100 \n",
      "[CV]  max_depth=3, max_features=25, min_samples_leaf=20, min_samples_split=2, n_estimators=100, total=   0.2s\n",
      "[CV] max_depth=3, max_features=25, min_samples_leaf=20, min_samples_split=2, n_estimators=500 \n",
      "[CV]  max_depth=3, max_features=25, min_samples_leaf=20, min_samples_split=2, n_estimators=500, total=   1.4s\n",
      "[CV] max_depth=3, max_features=25, min_samples_leaf=20, min_samples_split=2, n_estimators=500 \n",
      "[CV]  max_depth=3, max_features=25, min_samples_leaf=20, min_samples_split=2, n_estimators=500, total=   1.4s\n",
      "[CV] max_depth=3, max_features=25, min_samples_leaf=20, min_samples_split=2, n_estimators=500 \n",
      "[CV]  max_depth=3, max_features=25, min_samples_leaf=20, min_samples_split=2, n_estimators=500, total=   1.4s\n",
      "[CV] max_depth=3, max_features=25, min_samples_leaf=20, min_samples_split=2, n_estimators=500 \n",
      "[CV]  max_depth=3, max_features=25, min_samples_leaf=20, min_samples_split=2, n_estimators=500, total=   1.4s\n",
      "[CV] max_depth=3, max_features=25, min_samples_leaf=20, min_samples_split=2, n_estimators=500 \n",
      "[CV]  max_depth=3, max_features=25, min_samples_leaf=20, min_samples_split=2, n_estimators=500, total=   1.4s\n",
      "[CV] max_depth=3, max_features=25, min_samples_leaf=20, min_samples_split=2, n_estimators=500 \n",
      "[CV]  max_depth=3, max_features=25, min_samples_leaf=20, min_samples_split=2, n_estimators=500, total=   1.4s\n",
      "[CV] max_depth=3, max_features=25, min_samples_leaf=20, min_samples_split=2, n_estimators=500 \n",
      "[CV]  max_depth=3, max_features=25, min_samples_leaf=20, min_samples_split=2, n_estimators=500, total=   1.7s\n",
      "[CV] max_depth=3, max_features=25, min_samples_leaf=20, min_samples_split=2, n_estimators=500 \n",
      "[CV]  max_depth=3, max_features=25, min_samples_leaf=20, min_samples_split=2, n_estimators=500, total=   1.4s\n",
      "[CV] max_depth=3, max_features=25, min_samples_leaf=20, min_samples_split=2, n_estimators=500 \n",
      "[CV]  max_depth=3, max_features=25, min_samples_leaf=20, min_samples_split=2, n_estimators=500, total=   1.4s\n",
      "[CV] max_depth=3, max_features=25, min_samples_leaf=20, min_samples_split=2, n_estimators=500 \n",
      "[CV]  max_depth=3, max_features=25, min_samples_leaf=20, min_samples_split=2, n_estimators=500, total=   1.4s\n",
      "[CV] max_depth=3, max_features=25, min_samples_leaf=20, min_samples_split=20, n_estimators=100 \n",
      "[CV]  max_depth=3, max_features=25, min_samples_leaf=20, min_samples_split=20, n_estimators=100, total=   0.2s\n",
      "[CV] max_depth=3, max_features=25, min_samples_leaf=20, min_samples_split=20, n_estimators=100 \n",
      "[CV]  max_depth=3, max_features=25, min_samples_leaf=20, min_samples_split=20, n_estimators=100, total=   0.2s\n",
      "[CV] max_depth=3, max_features=25, min_samples_leaf=20, min_samples_split=20, n_estimators=100 \n",
      "[CV]  max_depth=3, max_features=25, min_samples_leaf=20, min_samples_split=20, n_estimators=100, total=   0.2s\n",
      "[CV] max_depth=3, max_features=25, min_samples_leaf=20, min_samples_split=20, n_estimators=100 \n",
      "[CV]  max_depth=3, max_features=25, min_samples_leaf=20, min_samples_split=20, n_estimators=100, total=   0.2s\n",
      "[CV] max_depth=3, max_features=25, min_samples_leaf=20, min_samples_split=20, n_estimators=100 \n",
      "[CV]  max_depth=3, max_features=25, min_samples_leaf=20, min_samples_split=20, n_estimators=100, total=   0.2s\n",
      "[CV] max_depth=3, max_features=25, min_samples_leaf=20, min_samples_split=20, n_estimators=100 \n",
      "[CV]  max_depth=3, max_features=25, min_samples_leaf=20, min_samples_split=20, n_estimators=100, total=   0.2s\n",
      "[CV] max_depth=3, max_features=25, min_samples_leaf=20, min_samples_split=20, n_estimators=100 \n",
      "[CV]  max_depth=3, max_features=25, min_samples_leaf=20, min_samples_split=20, n_estimators=100, total=   0.2s\n",
      "[CV] max_depth=3, max_features=25, min_samples_leaf=20, min_samples_split=20, n_estimators=100 \n",
      "[CV]  max_depth=3, max_features=25, min_samples_leaf=20, min_samples_split=20, n_estimators=100, total=   0.2s\n",
      "[CV] max_depth=3, max_features=25, min_samples_leaf=20, min_samples_split=20, n_estimators=100 \n",
      "[CV]  max_depth=3, max_features=25, min_samples_leaf=20, min_samples_split=20, n_estimators=100, total=   0.2s\n",
      "[CV] max_depth=3, max_features=25, min_samples_leaf=20, min_samples_split=20, n_estimators=100 \n",
      "[CV]  max_depth=3, max_features=25, min_samples_leaf=20, min_samples_split=20, n_estimators=100, total=   0.2s\n",
      "[CV] max_depth=3, max_features=25, min_samples_leaf=20, min_samples_split=20, n_estimators=500 \n",
      "[CV]  max_depth=3, max_features=25, min_samples_leaf=20, min_samples_split=20, n_estimators=500, total=   1.4s\n",
      "[CV] max_depth=3, max_features=25, min_samples_leaf=20, min_samples_split=20, n_estimators=500 \n",
      "[CV]  max_depth=3, max_features=25, min_samples_leaf=20, min_samples_split=20, n_estimators=500, total=   1.4s\n",
      "[CV] max_depth=3, max_features=25, min_samples_leaf=20, min_samples_split=20, n_estimators=500 \n",
      "[CV]  max_depth=3, max_features=25, min_samples_leaf=20, min_samples_split=20, n_estimators=500, total=   1.4s\n",
      "[CV] max_depth=3, max_features=25, min_samples_leaf=20, min_samples_split=20, n_estimators=500 \n",
      "[CV]  max_depth=3, max_features=25, min_samples_leaf=20, min_samples_split=20, n_estimators=500, total=   1.5s\n",
      "[CV] max_depth=3, max_features=25, min_samples_leaf=20, min_samples_split=20, n_estimators=500 \n",
      "[CV]  max_depth=3, max_features=25, min_samples_leaf=20, min_samples_split=20, n_estimators=500, total=   1.6s\n",
      "[CV] max_depth=3, max_features=25, min_samples_leaf=20, min_samples_split=20, n_estimators=500 \n",
      "[CV]  max_depth=3, max_features=25, min_samples_leaf=20, min_samples_split=20, n_estimators=500, total=   1.7s\n",
      "[CV] max_depth=3, max_features=25, min_samples_leaf=20, min_samples_split=20, n_estimators=500 \n",
      "[CV]  max_depth=3, max_features=25, min_samples_leaf=20, min_samples_split=20, n_estimators=500, total=   1.5s\n",
      "[CV] max_depth=3, max_features=25, min_samples_leaf=20, min_samples_split=20, n_estimators=500 \n",
      "[CV]  max_depth=3, max_features=25, min_samples_leaf=20, min_samples_split=20, n_estimators=500, total=   1.5s\n",
      "[CV] max_depth=3, max_features=25, min_samples_leaf=20, min_samples_split=20, n_estimators=500 \n",
      "[CV]  max_depth=3, max_features=25, min_samples_leaf=20, min_samples_split=20, n_estimators=500, total=   1.5s\n",
      "[CV] max_depth=3, max_features=25, min_samples_leaf=20, min_samples_split=20, n_estimators=500 \n",
      "[CV]  max_depth=3, max_features=25, min_samples_leaf=20, min_samples_split=20, n_estimators=500, total=   1.5s\n",
      "[CV] max_depth=20, max_features=2, min_samples_leaf=2, min_samples_split=2, n_estimators=100 \n",
      "[CV]  max_depth=20, max_features=2, min_samples_leaf=2, min_samples_split=2, n_estimators=100, total=   1.8s\n",
      "[CV] max_depth=20, max_features=2, min_samples_leaf=2, min_samples_split=2, n_estimators=100 \n",
      "[CV]  max_depth=20, max_features=2, min_samples_leaf=2, min_samples_split=2, n_estimators=100, total=   1.8s\n",
      "[CV] max_depth=20, max_features=2, min_samples_leaf=2, min_samples_split=2, n_estimators=100 \n",
      "[CV]  max_depth=20, max_features=2, min_samples_leaf=2, min_samples_split=2, n_estimators=100, total=   1.8s\n",
      "[CV] max_depth=20, max_features=2, min_samples_leaf=2, min_samples_split=2, n_estimators=100 \n",
      "[CV]  max_depth=20, max_features=2, min_samples_leaf=2, min_samples_split=2, n_estimators=100, total=   2.1s\n",
      "[CV] max_depth=20, max_features=2, min_samples_leaf=2, min_samples_split=2, n_estimators=100 \n"
     ]
    },
    {
     "name": "stdout",
     "output_type": "stream",
     "text": [
      "[CV]  max_depth=20, max_features=2, min_samples_leaf=2, min_samples_split=2, n_estimators=100, total=   1.8s\n",
      "[CV] max_depth=20, max_features=2, min_samples_leaf=2, min_samples_split=2, n_estimators=100 \n",
      "[CV]  max_depth=20, max_features=2, min_samples_leaf=2, min_samples_split=2, n_estimators=100, total=   1.8s\n",
      "[CV] max_depth=20, max_features=2, min_samples_leaf=2, min_samples_split=2, n_estimators=100 \n",
      "[CV]  max_depth=20, max_features=2, min_samples_leaf=2, min_samples_split=2, n_estimators=100, total=   1.8s\n",
      "[CV] max_depth=20, max_features=2, min_samples_leaf=2, min_samples_split=2, n_estimators=100 \n",
      "[CV]  max_depth=20, max_features=2, min_samples_leaf=2, min_samples_split=2, n_estimators=100, total=   1.8s\n",
      "[CV] max_depth=20, max_features=2, min_samples_leaf=2, min_samples_split=2, n_estimators=100 \n",
      "[CV]  max_depth=20, max_features=2, min_samples_leaf=2, min_samples_split=2, n_estimators=100, total=   1.8s\n",
      "[CV] max_depth=20, max_features=2, min_samples_leaf=2, min_samples_split=2, n_estimators=100 \n",
      "[CV]  max_depth=20, max_features=2, min_samples_leaf=2, min_samples_split=2, n_estimators=100, total=   2.1s\n",
      "[CV] max_depth=20, max_features=2, min_samples_leaf=2, min_samples_split=2, n_estimators=500 \n",
      "[CV]  max_depth=20, max_features=2, min_samples_leaf=2, min_samples_split=2, n_estimators=500, total=   3.1s\n",
      "[CV] max_depth=20, max_features=2, min_samples_leaf=2, min_samples_split=2, n_estimators=500 \n",
      "[CV]  max_depth=20, max_features=2, min_samples_leaf=2, min_samples_split=2, n_estimators=500, total=   3.3s\n",
      "[CV] max_depth=20, max_features=2, min_samples_leaf=2, min_samples_split=2, n_estimators=500 \n",
      "[CV]  max_depth=20, max_features=2, min_samples_leaf=2, min_samples_split=2, n_estimators=500, total=   3.1s\n",
      "[CV] max_depth=20, max_features=2, min_samples_leaf=2, min_samples_split=2, n_estimators=500 \n",
      "[CV]  max_depth=20, max_features=2, min_samples_leaf=2, min_samples_split=2, n_estimators=500, total=   3.1s\n",
      "[CV] max_depth=20, max_features=2, min_samples_leaf=2, min_samples_split=2, n_estimators=500 \n",
      "[CV]  max_depth=20, max_features=2, min_samples_leaf=2, min_samples_split=2, n_estimators=500, total=   3.1s\n",
      "[CV] max_depth=20, max_features=2, min_samples_leaf=2, min_samples_split=2, n_estimators=500 \n",
      "[CV]  max_depth=20, max_features=2, min_samples_leaf=2, min_samples_split=2, n_estimators=500, total=   3.5s\n",
      "[CV] max_depth=20, max_features=2, min_samples_leaf=2, min_samples_split=2, n_estimators=500 \n",
      "[CV]  max_depth=20, max_features=2, min_samples_leaf=2, min_samples_split=2, n_estimators=500, total=   3.2s\n",
      "[CV] max_depth=20, max_features=2, min_samples_leaf=2, min_samples_split=2, n_estimators=500 \n",
      "[CV]  max_depth=20, max_features=2, min_samples_leaf=2, min_samples_split=2, n_estimators=500, total=   3.2s\n",
      "[CV] max_depth=20, max_features=2, min_samples_leaf=2, min_samples_split=2, n_estimators=500 \n",
      "[CV]  max_depth=20, max_features=2, min_samples_leaf=2, min_samples_split=2, n_estimators=500, total=   3.0s\n",
      "[CV] max_depth=20, max_features=2, min_samples_leaf=2, min_samples_split=2, n_estimators=500 \n",
      "[CV]  max_depth=20, max_features=2, min_samples_leaf=2, min_samples_split=2, n_estimators=500, total=   2.9s\n",
      "[CV] max_depth=20, max_features=2, min_samples_leaf=2, min_samples_split=20, n_estimators=100 \n",
      "[CV]  max_depth=20, max_features=2, min_samples_leaf=2, min_samples_split=20, n_estimators=100, total=   2.0s\n",
      "[CV] max_depth=20, max_features=2, min_samples_leaf=2, min_samples_split=20, n_estimators=100 \n",
      "[CV]  max_depth=20, max_features=2, min_samples_leaf=2, min_samples_split=20, n_estimators=100, total=   1.9s\n",
      "[CV] max_depth=20, max_features=2, min_samples_leaf=2, min_samples_split=20, n_estimators=100 \n",
      "[CV]  max_depth=20, max_features=2, min_samples_leaf=2, min_samples_split=20, n_estimators=100, total=   1.8s\n",
      "[CV] max_depth=20, max_features=2, min_samples_leaf=2, min_samples_split=20, n_estimators=100 \n",
      "[CV]  max_depth=20, max_features=2, min_samples_leaf=2, min_samples_split=20, n_estimators=100, total=   1.8s\n",
      "[CV] max_depth=20, max_features=2, min_samples_leaf=2, min_samples_split=20, n_estimators=100 \n",
      "[CV]  max_depth=20, max_features=2, min_samples_leaf=2, min_samples_split=20, n_estimators=100, total=   1.8s\n",
      "[CV] max_depth=20, max_features=2, min_samples_leaf=2, min_samples_split=20, n_estimators=100 \n",
      "[CV]  max_depth=20, max_features=2, min_samples_leaf=2, min_samples_split=20, n_estimators=100, total=   1.8s\n",
      "[CV] max_depth=20, max_features=2, min_samples_leaf=2, min_samples_split=20, n_estimators=100 \n",
      "[CV]  max_depth=20, max_features=2, min_samples_leaf=2, min_samples_split=20, n_estimators=100, total=   1.8s\n",
      "[CV] max_depth=20, max_features=2, min_samples_leaf=2, min_samples_split=20, n_estimators=100 \n",
      "[CV]  max_depth=20, max_features=2, min_samples_leaf=2, min_samples_split=20, n_estimators=100, total=   1.8s\n",
      "[CV] max_depth=20, max_features=2, min_samples_leaf=2, min_samples_split=20, n_estimators=100 \n",
      "[CV]  max_depth=20, max_features=2, min_samples_leaf=2, min_samples_split=20, n_estimators=100, total=   2.0s\n",
      "[CV] max_depth=20, max_features=2, min_samples_leaf=2, min_samples_split=20, n_estimators=100 \n",
      "[CV]  max_depth=20, max_features=2, min_samples_leaf=2, min_samples_split=20, n_estimators=100, total=   1.9s\n",
      "[CV] max_depth=20, max_features=2, min_samples_leaf=2, min_samples_split=20, n_estimators=500 \n",
      "[CV]  max_depth=20, max_features=2, min_samples_leaf=2, min_samples_split=20, n_estimators=500, total=   2.9s\n",
      "[CV] max_depth=20, max_features=2, min_samples_leaf=2, min_samples_split=20, n_estimators=500 \n",
      "[CV]  max_depth=20, max_features=2, min_samples_leaf=2, min_samples_split=20, n_estimators=500, total=   3.0s\n",
      "[CV] max_depth=20, max_features=2, min_samples_leaf=2, min_samples_split=20, n_estimators=500 \n",
      "[CV]  max_depth=20, max_features=2, min_samples_leaf=2, min_samples_split=20, n_estimators=500, total=   3.0s\n",
      "[CV] max_depth=20, max_features=2, min_samples_leaf=2, min_samples_split=20, n_estimators=500 \n",
      "[CV]  max_depth=20, max_features=2, min_samples_leaf=2, min_samples_split=20, n_estimators=500, total=   3.0s\n",
      "[CV] max_depth=20, max_features=2, min_samples_leaf=2, min_samples_split=20, n_estimators=500 \n",
      "[CV]  max_depth=20, max_features=2, min_samples_leaf=2, min_samples_split=20, n_estimators=500, total=   3.3s\n",
      "[CV] max_depth=20, max_features=2, min_samples_leaf=2, min_samples_split=20, n_estimators=500 \n",
      "[CV]  max_depth=20, max_features=2, min_samples_leaf=2, min_samples_split=20, n_estimators=500, total=   4.6s\n",
      "[CV] max_depth=20, max_features=2, min_samples_leaf=2, min_samples_split=20, n_estimators=500 \n",
      "[CV]  max_depth=20, max_features=2, min_samples_leaf=2, min_samples_split=20, n_estimators=500, total=   4.8s\n",
      "[CV] max_depth=20, max_features=2, min_samples_leaf=2, min_samples_split=20, n_estimators=500 \n",
      "[CV]  max_depth=20, max_features=2, min_samples_leaf=2, min_samples_split=20, n_estimators=500, total=   3.7s\n",
      "[CV] max_depth=20, max_features=2, min_samples_leaf=2, min_samples_split=20, n_estimators=500 \n",
      "[CV]  max_depth=20, max_features=2, min_samples_leaf=2, min_samples_split=20, n_estimators=500, total=   3.5s\n",
      "[CV] max_depth=20, max_features=2, min_samples_leaf=2, min_samples_split=20, n_estimators=500 \n",
      "[CV]  max_depth=20, max_features=2, min_samples_leaf=2, min_samples_split=20, n_estimators=500, total=   3.4s\n",
      "[CV] max_depth=20, max_features=2, min_samples_leaf=20, min_samples_split=2, n_estimators=100 \n",
      "[CV]  max_depth=20, max_features=2, min_samples_leaf=20, min_samples_split=2, n_estimators=100, total=   1.8s\n",
      "[CV] max_depth=20, max_features=2, min_samples_leaf=20, min_samples_split=2, n_estimators=100 \n",
      "[CV]  max_depth=20, max_features=2, min_samples_leaf=20, min_samples_split=2, n_estimators=100, total=   1.8s\n",
      "[CV] max_depth=20, max_features=2, min_samples_leaf=20, min_samples_split=2, n_estimators=100 \n",
      "[CV]  max_depth=20, max_features=2, min_samples_leaf=20, min_samples_split=2, n_estimators=100, total=   1.9s\n",
      "[CV] max_depth=20, max_features=2, min_samples_leaf=20, min_samples_split=2, n_estimators=100 \n",
      "[CV]  max_depth=20, max_features=2, min_samples_leaf=20, min_samples_split=2, n_estimators=100, total=   2.3s\n",
      "[CV] max_depth=20, max_features=2, min_samples_leaf=20, min_samples_split=2, n_estimators=100 \n",
      "[CV]  max_depth=20, max_features=2, min_samples_leaf=20, min_samples_split=2, n_estimators=100, total=   2.2s\n",
      "[CV] max_depth=20, max_features=2, min_samples_leaf=20, min_samples_split=2, n_estimators=100 \n"
     ]
    },
    {
     "name": "stdout",
     "output_type": "stream",
     "text": [
      "[CV]  max_depth=20, max_features=2, min_samples_leaf=20, min_samples_split=2, n_estimators=100, total=   1.9s\n",
      "[CV] max_depth=20, max_features=2, min_samples_leaf=20, min_samples_split=2, n_estimators=100 \n",
      "[CV]  max_depth=20, max_features=2, min_samples_leaf=20, min_samples_split=2, n_estimators=100, total=   2.1s\n",
      "[CV] max_depth=20, max_features=2, min_samples_leaf=20, min_samples_split=2, n_estimators=100 \n",
      "[CV]  max_depth=20, max_features=2, min_samples_leaf=20, min_samples_split=2, n_estimators=100, total=   1.9s\n",
      "[CV] max_depth=20, max_features=2, min_samples_leaf=20, min_samples_split=2, n_estimators=100 \n",
      "[CV]  max_depth=20, max_features=2, min_samples_leaf=20, min_samples_split=2, n_estimators=100, total=   2.0s\n",
      "[CV] max_depth=20, max_features=2, min_samples_leaf=20, min_samples_split=2, n_estimators=100 \n",
      "[CV]  max_depth=20, max_features=2, min_samples_leaf=20, min_samples_split=2, n_estimators=100, total=   1.8s\n",
      "[CV] max_depth=20, max_features=2, min_samples_leaf=20, min_samples_split=2, n_estimators=500 \n",
      "[CV]  max_depth=20, max_features=2, min_samples_leaf=20, min_samples_split=2, n_estimators=500, total=   3.3s\n",
      "[CV] max_depth=20, max_features=2, min_samples_leaf=20, min_samples_split=2, n_estimators=500 \n",
      "[CV]  max_depth=20, max_features=2, min_samples_leaf=20, min_samples_split=2, n_estimators=500, total=   3.4s\n",
      "[CV] max_depth=20, max_features=2, min_samples_leaf=20, min_samples_split=2, n_estimators=500 \n",
      "[CV]  max_depth=20, max_features=2, min_samples_leaf=20, min_samples_split=2, n_estimators=500, total=   3.1s\n",
      "[CV] max_depth=20, max_features=2, min_samples_leaf=20, min_samples_split=2, n_estimators=500 \n",
      "[CV]  max_depth=20, max_features=2, min_samples_leaf=20, min_samples_split=2, n_estimators=500, total=   3.2s\n",
      "[CV] max_depth=20, max_features=2, min_samples_leaf=20, min_samples_split=2, n_estimators=500 \n",
      "[CV]  max_depth=20, max_features=2, min_samples_leaf=20, min_samples_split=2, n_estimators=500, total=   3.1s\n",
      "[CV] max_depth=20, max_features=2, min_samples_leaf=20, min_samples_split=2, n_estimators=500 \n",
      "[CV]  max_depth=20, max_features=2, min_samples_leaf=20, min_samples_split=2, n_estimators=500, total=   3.5s\n",
      "[CV] max_depth=20, max_features=2, min_samples_leaf=20, min_samples_split=2, n_estimators=500 \n",
      "[CV]  max_depth=20, max_features=2, min_samples_leaf=20, min_samples_split=2, n_estimators=500, total=   3.0s\n",
      "[CV] max_depth=20, max_features=2, min_samples_leaf=20, min_samples_split=2, n_estimators=500 \n",
      "[CV]  max_depth=20, max_features=2, min_samples_leaf=20, min_samples_split=2, n_estimators=500, total=   3.0s\n",
      "[CV] max_depth=20, max_features=2, min_samples_leaf=20, min_samples_split=2, n_estimators=500 \n",
      "[CV]  max_depth=20, max_features=2, min_samples_leaf=20, min_samples_split=2, n_estimators=500, total=   3.1s\n",
      "[CV] max_depth=20, max_features=2, min_samples_leaf=20, min_samples_split=2, n_estimators=500 \n",
      "[CV]  max_depth=20, max_features=2, min_samples_leaf=20, min_samples_split=2, n_estimators=500, total=   2.9s\n",
      "[CV] max_depth=20, max_features=2, min_samples_leaf=20, min_samples_split=20, n_estimators=100 \n",
      "[CV]  max_depth=20, max_features=2, min_samples_leaf=20, min_samples_split=20, n_estimators=100, total=   2.0s\n",
      "[CV] max_depth=20, max_features=2, min_samples_leaf=20, min_samples_split=20, n_estimators=100 \n",
      "[CV]  max_depth=20, max_features=2, min_samples_leaf=20, min_samples_split=20, n_estimators=100, total=   2.0s\n",
      "[CV] max_depth=20, max_features=2, min_samples_leaf=20, min_samples_split=20, n_estimators=100 \n",
      "[CV]  max_depth=20, max_features=2, min_samples_leaf=20, min_samples_split=20, n_estimators=100, total=   1.8s\n",
      "[CV] max_depth=20, max_features=2, min_samples_leaf=20, min_samples_split=20, n_estimators=100 \n",
      "[CV]  max_depth=20, max_features=2, min_samples_leaf=20, min_samples_split=20, n_estimators=100, total=   1.8s\n",
      "[CV] max_depth=20, max_features=2, min_samples_leaf=20, min_samples_split=20, n_estimators=100 \n",
      "[CV]  max_depth=20, max_features=2, min_samples_leaf=20, min_samples_split=20, n_estimators=100, total=   1.8s\n",
      "[CV] max_depth=20, max_features=2, min_samples_leaf=20, min_samples_split=20, n_estimators=100 \n",
      "[CV]  max_depth=20, max_features=2, min_samples_leaf=20, min_samples_split=20, n_estimators=100, total=   1.8s\n",
      "[CV] max_depth=20, max_features=2, min_samples_leaf=20, min_samples_split=20, n_estimators=100 \n",
      "[CV]  max_depth=20, max_features=2, min_samples_leaf=20, min_samples_split=20, n_estimators=100, total=   1.8s\n",
      "[CV] max_depth=20, max_features=2, min_samples_leaf=20, min_samples_split=20, n_estimators=100 \n",
      "[CV]  max_depth=20, max_features=2, min_samples_leaf=20, min_samples_split=20, n_estimators=100, total=   1.8s\n",
      "[CV] max_depth=20, max_features=2, min_samples_leaf=20, min_samples_split=20, n_estimators=100 \n",
      "[CV]  max_depth=20, max_features=2, min_samples_leaf=20, min_samples_split=20, n_estimators=100, total=   2.0s\n",
      "[CV] max_depth=20, max_features=2, min_samples_leaf=20, min_samples_split=20, n_estimators=100 \n",
      "[CV]  max_depth=20, max_features=2, min_samples_leaf=20, min_samples_split=20, n_estimators=100, total=   1.9s\n",
      "[CV] max_depth=20, max_features=2, min_samples_leaf=20, min_samples_split=20, n_estimators=500 \n",
      "[CV]  max_depth=20, max_features=2, min_samples_leaf=20, min_samples_split=20, n_estimators=500, total=   3.2s\n",
      "[CV] max_depth=20, max_features=2, min_samples_leaf=20, min_samples_split=20, n_estimators=500 \n",
      "[CV]  max_depth=20, max_features=2, min_samples_leaf=20, min_samples_split=20, n_estimators=500, total=   3.1s\n",
      "[CV] max_depth=20, max_features=2, min_samples_leaf=20, min_samples_split=20, n_estimators=500 \n",
      "[CV]  max_depth=20, max_features=2, min_samples_leaf=20, min_samples_split=20, n_estimators=500, total=   3.1s\n",
      "[CV] max_depth=20, max_features=2, min_samples_leaf=20, min_samples_split=20, n_estimators=500 \n",
      "[CV]  max_depth=20, max_features=2, min_samples_leaf=20, min_samples_split=20, n_estimators=500, total=   3.4s\n",
      "[CV] max_depth=20, max_features=2, min_samples_leaf=20, min_samples_split=20, n_estimators=500 \n",
      "[CV]  max_depth=20, max_features=2, min_samples_leaf=20, min_samples_split=20, n_estimators=500, total=   3.3s\n",
      "[CV] max_depth=20, max_features=2, min_samples_leaf=20, min_samples_split=20, n_estimators=500 \n",
      "[CV]  max_depth=20, max_features=2, min_samples_leaf=20, min_samples_split=20, n_estimators=500, total=   3.1s\n",
      "[CV] max_depth=20, max_features=2, min_samples_leaf=20, min_samples_split=20, n_estimators=500 \n",
      "[CV]  max_depth=20, max_features=2, min_samples_leaf=20, min_samples_split=20, n_estimators=500, total=   3.1s\n",
      "[CV] max_depth=20, max_features=2, min_samples_leaf=20, min_samples_split=20, n_estimators=500 \n",
      "[CV]  max_depth=20, max_features=2, min_samples_leaf=20, min_samples_split=20, n_estimators=500, total=   3.0s\n",
      "[CV] max_depth=20, max_features=2, min_samples_leaf=20, min_samples_split=20, n_estimators=500 \n",
      "[CV]  max_depth=20, max_features=2, min_samples_leaf=20, min_samples_split=20, n_estimators=500, total=   3.4s\n",
      "[CV] max_depth=20, max_features=2, min_samples_leaf=20, min_samples_split=20, n_estimators=500 \n",
      "[CV]  max_depth=20, max_features=2, min_samples_leaf=20, min_samples_split=20, n_estimators=500, total=   3.1s\n",
      "[CV] max_depth=20, max_features=25, min_samples_leaf=2, min_samples_split=2, n_estimators=100 \n",
      "[CV]  max_depth=20, max_features=25, min_samples_leaf=2, min_samples_split=2, n_estimators=100, total=   1.9s\n",
      "[CV] max_depth=20, max_features=25, min_samples_leaf=2, min_samples_split=2, n_estimators=100 \n",
      "[CV]  max_depth=20, max_features=25, min_samples_leaf=2, min_samples_split=2, n_estimators=100, total=   1.9s\n",
      "[CV] max_depth=20, max_features=25, min_samples_leaf=2, min_samples_split=2, n_estimators=100 \n",
      "[CV]  max_depth=20, max_features=25, min_samples_leaf=2, min_samples_split=2, n_estimators=100, total=   1.9s\n",
      "[CV] max_depth=20, max_features=25, min_samples_leaf=2, min_samples_split=2, n_estimators=100 \n",
      "[CV]  max_depth=20, max_features=25, min_samples_leaf=2, min_samples_split=2, n_estimators=100, total=   1.9s\n",
      "[CV] max_depth=20, max_features=25, min_samples_leaf=2, min_samples_split=2, n_estimators=100 \n",
      "[CV]  max_depth=20, max_features=25, min_samples_leaf=2, min_samples_split=2, n_estimators=100, total=   1.9s\n",
      "[CV] max_depth=20, max_features=25, min_samples_leaf=2, min_samples_split=2, n_estimators=100 \n"
     ]
    },
    {
     "name": "stdout",
     "output_type": "stream",
     "text": [
      "[CV]  max_depth=20, max_features=25, min_samples_leaf=2, min_samples_split=2, n_estimators=100, total=   2.1s\n",
      "[CV] max_depth=20, max_features=25, min_samples_leaf=2, min_samples_split=2, n_estimators=100 \n",
      "[CV]  max_depth=20, max_features=25, min_samples_leaf=2, min_samples_split=2, n_estimators=100, total=   1.9s\n",
      "[CV] max_depth=20, max_features=25, min_samples_leaf=2, min_samples_split=2, n_estimators=100 \n",
      "[CV]  max_depth=20, max_features=25, min_samples_leaf=2, min_samples_split=2, n_estimators=100, total=   1.9s\n",
      "[CV] max_depth=20, max_features=25, min_samples_leaf=2, min_samples_split=2, n_estimators=100 \n",
      "[CV]  max_depth=20, max_features=25, min_samples_leaf=2, min_samples_split=2, n_estimators=100, total=   1.9s\n",
      "[CV] max_depth=20, max_features=25, min_samples_leaf=2, min_samples_split=2, n_estimators=100 \n",
      "[CV]  max_depth=20, max_features=25, min_samples_leaf=2, min_samples_split=2, n_estimators=100, total=   1.9s\n",
      "[CV] max_depth=20, max_features=25, min_samples_leaf=2, min_samples_split=2, n_estimators=500 \n",
      "[CV]  max_depth=20, max_features=25, min_samples_leaf=2, min_samples_split=2, n_estimators=500, total=   3.1s\n",
      "[CV] max_depth=20, max_features=25, min_samples_leaf=2, min_samples_split=2, n_estimators=500 \n",
      "[CV]  max_depth=20, max_features=25, min_samples_leaf=2, min_samples_split=2, n_estimators=500, total=   3.2s\n",
      "[CV] max_depth=20, max_features=25, min_samples_leaf=2, min_samples_split=2, n_estimators=500 \n",
      "[CV]  max_depth=20, max_features=25, min_samples_leaf=2, min_samples_split=2, n_estimators=500, total=   3.5s\n",
      "[CV] max_depth=20, max_features=25, min_samples_leaf=2, min_samples_split=2, n_estimators=500 \n",
      "[CV]  max_depth=20, max_features=25, min_samples_leaf=2, min_samples_split=2, n_estimators=500, total=   3.1s\n",
      "[CV] max_depth=20, max_features=25, min_samples_leaf=2, min_samples_split=2, n_estimators=500 \n",
      "[CV]  max_depth=20, max_features=25, min_samples_leaf=2, min_samples_split=2, n_estimators=500, total=   3.2s\n",
      "[CV] max_depth=20, max_features=25, min_samples_leaf=2, min_samples_split=2, n_estimators=500 \n",
      "[CV]  max_depth=20, max_features=25, min_samples_leaf=2, min_samples_split=2, n_estimators=500, total=   3.1s\n",
      "[CV] max_depth=20, max_features=25, min_samples_leaf=2, min_samples_split=2, n_estimators=500 \n",
      "[CV]  max_depth=20, max_features=25, min_samples_leaf=2, min_samples_split=2, n_estimators=500, total=   3.2s\n",
      "[CV] max_depth=20, max_features=25, min_samples_leaf=2, min_samples_split=2, n_estimators=500 \n",
      "[CV]  max_depth=20, max_features=25, min_samples_leaf=2, min_samples_split=2, n_estimators=500, total=   3.2s\n",
      "[CV] max_depth=20, max_features=25, min_samples_leaf=2, min_samples_split=2, n_estimators=500 \n",
      "[CV]  max_depth=20, max_features=25, min_samples_leaf=2, min_samples_split=2, n_estimators=500, total=   3.0s\n",
      "[CV] max_depth=20, max_features=25, min_samples_leaf=2, min_samples_split=2, n_estimators=500 \n",
      "[CV]  max_depth=20, max_features=25, min_samples_leaf=2, min_samples_split=2, n_estimators=500, total=   3.0s\n",
      "[CV] max_depth=20, max_features=25, min_samples_leaf=2, min_samples_split=20, n_estimators=100 \n",
      "[CV]  max_depth=20, max_features=25, min_samples_leaf=2, min_samples_split=20, n_estimators=100, total=   1.8s\n",
      "[CV] max_depth=20, max_features=25, min_samples_leaf=2, min_samples_split=20, n_estimators=100 \n",
      "[CV]  max_depth=20, max_features=25, min_samples_leaf=2, min_samples_split=20, n_estimators=100, total=   1.8s\n",
      "[CV] max_depth=20, max_features=25, min_samples_leaf=2, min_samples_split=20, n_estimators=100 \n",
      "[CV]  max_depth=20, max_features=25, min_samples_leaf=2, min_samples_split=20, n_estimators=100, total=   2.1s\n",
      "[CV] max_depth=20, max_features=25, min_samples_leaf=2, min_samples_split=20, n_estimators=100 \n",
      "[CV]  max_depth=20, max_features=25, min_samples_leaf=2, min_samples_split=20, n_estimators=100, total=   2.0s\n",
      "[CV] max_depth=20, max_features=25, min_samples_leaf=2, min_samples_split=20, n_estimators=100 \n",
      "[CV]  max_depth=20, max_features=25, min_samples_leaf=2, min_samples_split=20, n_estimators=100, total=   1.9s\n",
      "[CV] max_depth=20, max_features=25, min_samples_leaf=2, min_samples_split=20, n_estimators=100 \n",
      "[CV]  max_depth=20, max_features=25, min_samples_leaf=2, min_samples_split=20, n_estimators=100, total=   1.9s\n",
      "[CV] max_depth=20, max_features=25, min_samples_leaf=2, min_samples_split=20, n_estimators=100 \n",
      "[CV]  max_depth=20, max_features=25, min_samples_leaf=2, min_samples_split=20, n_estimators=100, total=   1.8s\n",
      "[CV] max_depth=20, max_features=25, min_samples_leaf=2, min_samples_split=20, n_estimators=100 \n",
      "[CV]  max_depth=20, max_features=25, min_samples_leaf=2, min_samples_split=20, n_estimators=100, total=   2.0s\n",
      "[CV] max_depth=20, max_features=25, min_samples_leaf=2, min_samples_split=20, n_estimators=100 \n",
      "[CV]  max_depth=20, max_features=25, min_samples_leaf=2, min_samples_split=20, n_estimators=100, total=   1.9s\n",
      "[CV] max_depth=20, max_features=25, min_samples_leaf=2, min_samples_split=20, n_estimators=100 \n",
      "[CV]  max_depth=20, max_features=25, min_samples_leaf=2, min_samples_split=20, n_estimators=100, total=   1.8s\n",
      "[CV] max_depth=20, max_features=25, min_samples_leaf=2, min_samples_split=20, n_estimators=500 \n",
      "[CV]  max_depth=20, max_features=25, min_samples_leaf=2, min_samples_split=20, n_estimators=500, total=   3.4s\n",
      "[CV] max_depth=20, max_features=25, min_samples_leaf=2, min_samples_split=20, n_estimators=500 \n",
      "[CV]  max_depth=20, max_features=25, min_samples_leaf=2, min_samples_split=20, n_estimators=500, total=   3.2s\n",
      "[CV] max_depth=20, max_features=25, min_samples_leaf=2, min_samples_split=20, n_estimators=500 \n",
      "[CV]  max_depth=20, max_features=25, min_samples_leaf=2, min_samples_split=20, n_estimators=500, total=   3.2s\n",
      "[CV] max_depth=20, max_features=25, min_samples_leaf=2, min_samples_split=20, n_estimators=500 \n",
      "[CV]  max_depth=20, max_features=25, min_samples_leaf=2, min_samples_split=20, n_estimators=500, total=   3.1s\n",
      "[CV] max_depth=20, max_features=25, min_samples_leaf=2, min_samples_split=20, n_estimators=500 \n",
      "[CV]  max_depth=20, max_features=25, min_samples_leaf=2, min_samples_split=20, n_estimators=500, total=   3.0s\n",
      "[CV] max_depth=20, max_features=25, min_samples_leaf=2, min_samples_split=20, n_estimators=500 \n",
      "[CV]  max_depth=20, max_features=25, min_samples_leaf=2, min_samples_split=20, n_estimators=500, total=   3.4s\n",
      "[CV] max_depth=20, max_features=25, min_samples_leaf=2, min_samples_split=20, n_estimators=500 \n",
      "[CV]  max_depth=20, max_features=25, min_samples_leaf=2, min_samples_split=20, n_estimators=500, total=   3.2s\n",
      "[CV] max_depth=20, max_features=25, min_samples_leaf=2, min_samples_split=20, n_estimators=500 \n",
      "[CV]  max_depth=20, max_features=25, min_samples_leaf=2, min_samples_split=20, n_estimators=500, total=   3.2s\n",
      "[CV] max_depth=20, max_features=25, min_samples_leaf=2, min_samples_split=20, n_estimators=500 \n",
      "[CV]  max_depth=20, max_features=25, min_samples_leaf=2, min_samples_split=20, n_estimators=500, total=   3.1s\n",
      "[CV] max_depth=20, max_features=25, min_samples_leaf=2, min_samples_split=20, n_estimators=500 \n",
      "[CV]  max_depth=20, max_features=25, min_samples_leaf=2, min_samples_split=20, n_estimators=500, total=   3.4s\n",
      "[CV] max_depth=20, max_features=25, min_samples_leaf=20, min_samples_split=2, n_estimators=100 \n",
      "[CV]  max_depth=20, max_features=25, min_samples_leaf=20, min_samples_split=2, n_estimators=100, total=   1.9s\n",
      "[CV] max_depth=20, max_features=25, min_samples_leaf=20, min_samples_split=2, n_estimators=100 \n",
      "[CV]  max_depth=20, max_features=25, min_samples_leaf=20, min_samples_split=2, n_estimators=100, total=   1.8s\n",
      "[CV] max_depth=20, max_features=25, min_samples_leaf=20, min_samples_split=2, n_estimators=100 \n",
      "[CV]  max_depth=20, max_features=25, min_samples_leaf=20, min_samples_split=2, n_estimators=100, total=   1.8s\n",
      "[CV] max_depth=20, max_features=25, min_samples_leaf=20, min_samples_split=2, n_estimators=100 \n",
      "[CV]  max_depth=20, max_features=25, min_samples_leaf=20, min_samples_split=2, n_estimators=100, total=   1.8s\n",
      "[CV] max_depth=20, max_features=25, min_samples_leaf=20, min_samples_split=2, n_estimators=100 \n",
      "[CV]  max_depth=20, max_features=25, min_samples_leaf=20, min_samples_split=2, n_estimators=100, total=   2.0s\n",
      "[CV] max_depth=20, max_features=25, min_samples_leaf=20, min_samples_split=2, n_estimators=100 \n"
     ]
    },
    {
     "name": "stdout",
     "output_type": "stream",
     "text": [
      "[CV]  max_depth=20, max_features=25, min_samples_leaf=20, min_samples_split=2, n_estimators=100, total=   1.8s\n",
      "[CV] max_depth=20, max_features=25, min_samples_leaf=20, min_samples_split=2, n_estimators=100 \n",
      "[CV]  max_depth=20, max_features=25, min_samples_leaf=20, min_samples_split=2, n_estimators=100, total=   1.8s\n",
      "[CV] max_depth=20, max_features=25, min_samples_leaf=20, min_samples_split=2, n_estimators=100 \n",
      "[CV]  max_depth=20, max_features=25, min_samples_leaf=20, min_samples_split=2, n_estimators=100, total=   2.2s\n",
      "[CV] max_depth=20, max_features=25, min_samples_leaf=20, min_samples_split=2, n_estimators=100 \n",
      "[CV]  max_depth=20, max_features=25, min_samples_leaf=20, min_samples_split=2, n_estimators=100, total=   1.9s\n",
      "[CV] max_depth=20, max_features=25, min_samples_leaf=20, min_samples_split=2, n_estimators=100 \n",
      "[CV]  max_depth=20, max_features=25, min_samples_leaf=20, min_samples_split=2, n_estimators=100, total=   1.8s\n",
      "[CV] max_depth=20, max_features=25, min_samples_leaf=20, min_samples_split=2, n_estimators=500 \n",
      "[CV]  max_depth=20, max_features=25, min_samples_leaf=20, min_samples_split=2, n_estimators=500, total=   3.1s\n",
      "[CV] max_depth=20, max_features=25, min_samples_leaf=20, min_samples_split=2, n_estimators=500 \n",
      "[CV]  max_depth=20, max_features=25, min_samples_leaf=20, min_samples_split=2, n_estimators=500, total=   3.1s\n",
      "[CV] max_depth=20, max_features=25, min_samples_leaf=20, min_samples_split=2, n_estimators=500 \n",
      "[CV]  max_depth=20, max_features=25, min_samples_leaf=20, min_samples_split=2, n_estimators=500, total=   3.1s\n",
      "[CV] max_depth=20, max_features=25, min_samples_leaf=20, min_samples_split=2, n_estimators=500 \n",
      "[CV]  max_depth=20, max_features=25, min_samples_leaf=20, min_samples_split=2, n_estimators=500, total=   3.3s\n",
      "[CV] max_depth=20, max_features=25, min_samples_leaf=20, min_samples_split=2, n_estimators=500 \n",
      "[CV]  max_depth=20, max_features=25, min_samples_leaf=20, min_samples_split=2, n_estimators=500, total=   3.0s\n",
      "[CV] max_depth=20, max_features=25, min_samples_leaf=20, min_samples_split=2, n_estimators=500 \n",
      "[CV]  max_depth=20, max_features=25, min_samples_leaf=20, min_samples_split=2, n_estimators=500, total=   3.2s\n",
      "[CV] max_depth=20, max_features=25, min_samples_leaf=20, min_samples_split=2, n_estimators=500 \n",
      "[CV]  max_depth=20, max_features=25, min_samples_leaf=20, min_samples_split=2, n_estimators=500, total=   3.3s\n",
      "[CV] max_depth=20, max_features=25, min_samples_leaf=20, min_samples_split=2, n_estimators=500 \n",
      "[CV]  max_depth=20, max_features=25, min_samples_leaf=20, min_samples_split=2, n_estimators=500, total=   3.4s\n",
      "[CV] max_depth=20, max_features=25, min_samples_leaf=20, min_samples_split=2, n_estimators=500 \n",
      "[CV]  max_depth=20, max_features=25, min_samples_leaf=20, min_samples_split=2, n_estimators=500, total=   3.6s\n",
      "[CV] max_depth=20, max_features=25, min_samples_leaf=20, min_samples_split=2, n_estimators=500 \n",
      "[CV]  max_depth=20, max_features=25, min_samples_leaf=20, min_samples_split=2, n_estimators=500, total=   3.1s\n",
      "[CV] max_depth=20, max_features=25, min_samples_leaf=20, min_samples_split=20, n_estimators=100 \n",
      "[CV]  max_depth=20, max_features=25, min_samples_leaf=20, min_samples_split=20, n_estimators=100, total=   1.8s\n",
      "[CV] max_depth=20, max_features=25, min_samples_leaf=20, min_samples_split=20, n_estimators=100 \n",
      "[CV]  max_depth=20, max_features=25, min_samples_leaf=20, min_samples_split=20, n_estimators=100, total=   1.8s\n",
      "[CV] max_depth=20, max_features=25, min_samples_leaf=20, min_samples_split=20, n_estimators=100 \n",
      "[CV]  max_depth=20, max_features=25, min_samples_leaf=20, min_samples_split=20, n_estimators=100, total=   1.8s\n",
      "[CV] max_depth=20, max_features=25, min_samples_leaf=20, min_samples_split=20, n_estimators=100 \n",
      "[CV]  max_depth=20, max_features=25, min_samples_leaf=20, min_samples_split=20, n_estimators=100, total=   2.3s\n",
      "[CV] max_depth=20, max_features=25, min_samples_leaf=20, min_samples_split=20, n_estimators=100 \n",
      "[CV]  max_depth=20, max_features=25, min_samples_leaf=20, min_samples_split=20, n_estimators=100, total=   2.4s\n",
      "[CV] max_depth=20, max_features=25, min_samples_leaf=20, min_samples_split=20, n_estimators=100 \n",
      "[CV]  max_depth=20, max_features=25, min_samples_leaf=20, min_samples_split=20, n_estimators=100, total=   1.9s\n",
      "[CV] max_depth=20, max_features=25, min_samples_leaf=20, min_samples_split=20, n_estimators=100 \n",
      "[CV]  max_depth=20, max_features=25, min_samples_leaf=20, min_samples_split=20, n_estimators=100, total=   2.0s\n",
      "[CV] max_depth=20, max_features=25, min_samples_leaf=20, min_samples_split=20, n_estimators=100 \n",
      "[CV]  max_depth=20, max_features=25, min_samples_leaf=20, min_samples_split=20, n_estimators=100, total=   2.0s\n",
      "[CV] max_depth=20, max_features=25, min_samples_leaf=20, min_samples_split=20, n_estimators=100 \n",
      "[CV]  max_depth=20, max_features=25, min_samples_leaf=20, min_samples_split=20, n_estimators=100, total=   2.0s\n",
      "[CV] max_depth=20, max_features=25, min_samples_leaf=20, min_samples_split=20, n_estimators=100 \n",
      "[CV]  max_depth=20, max_features=25, min_samples_leaf=20, min_samples_split=20, n_estimators=100, total=   1.8s\n",
      "[CV] max_depth=20, max_features=25, min_samples_leaf=20, min_samples_split=20, n_estimators=500 \n",
      "[CV]  max_depth=20, max_features=25, min_samples_leaf=20, min_samples_split=20, n_estimators=500, total=   3.0s\n",
      "[CV] max_depth=20, max_features=25, min_samples_leaf=20, min_samples_split=20, n_estimators=500 \n",
      "[CV]  max_depth=20, max_features=25, min_samples_leaf=20, min_samples_split=20, n_estimators=500, total=   3.6s\n",
      "[CV] max_depth=20, max_features=25, min_samples_leaf=20, min_samples_split=20, n_estimators=500 \n",
      "[CV]  max_depth=20, max_features=25, min_samples_leaf=20, min_samples_split=20, n_estimators=500, total=   3.1s\n",
      "[CV] max_depth=20, max_features=25, min_samples_leaf=20, min_samples_split=20, n_estimators=500 \n",
      "[CV]  max_depth=20, max_features=25, min_samples_leaf=20, min_samples_split=20, n_estimators=500, total=   3.1s\n",
      "[CV] max_depth=20, max_features=25, min_samples_leaf=20, min_samples_split=20, n_estimators=500 \n",
      "[CV]  max_depth=20, max_features=25, min_samples_leaf=20, min_samples_split=20, n_estimators=500, total=   3.0s\n",
      "[CV] max_depth=20, max_features=25, min_samples_leaf=20, min_samples_split=20, n_estimators=500 \n",
      "[CV]  max_depth=20, max_features=25, min_samples_leaf=20, min_samples_split=20, n_estimators=500, total=   3.5s\n",
      "[CV] max_depth=20, max_features=25, min_samples_leaf=20, min_samples_split=20, n_estimators=500 \n",
      "[CV]  max_depth=20, max_features=25, min_samples_leaf=20, min_samples_split=20, n_estimators=500, total=   3.5s\n",
      "[CV] max_depth=20, max_features=25, min_samples_leaf=20, min_samples_split=20, n_estimators=500 \n",
      "[CV]  max_depth=20, max_features=25, min_samples_leaf=20, min_samples_split=20, n_estimators=500, total=   3.4s\n",
      "[CV] max_depth=20, max_features=25, min_samples_leaf=20, min_samples_split=20, n_estimators=500 \n",
      "[CV]  max_depth=20, max_features=25, min_samples_leaf=20, min_samples_split=20, n_estimators=500, total=   3.0s\n",
      "[CV] max_depth=20, max_features=25, min_samples_leaf=20, min_samples_split=20, n_estimators=500 \n",
      "[CV]  max_depth=20, max_features=25, min_samples_leaf=20, min_samples_split=20, n_estimators=500, total=   3.0s\n"
     ]
    },
    {
     "name": "stderr",
     "output_type": "stream",
     "text": [
      "[Parallel(n_jobs=1)]: Done 320 out of 320 | elapsed:  9.9min finished\n"
     ]
    },
    {
     "data": {
      "text/plain": [
       "GridSearchCV(cv=10, error_score='raise',\n",
       "       estimator=XGBRegressor(base_score=0.5, booster='gbtree', colsample_bylevel=1,\n",
       "       colsample_bytree=1, gamma=0, importance_type='gain',\n",
       "       learning_rate=0.1, max_delta_step=0, max_depth=3,\n",
       "       min_child_weight=1, missing=None, n_estimators=100, n_jobs=1,\n",
       "       nthread=None, objective='reg:linear', random_state=0, reg_alpha=0,\n",
       "       reg_lambda=1, scale_pos_weight=1, seed=None, silent=True,\n",
       "       subsample=1),\n",
       "       fit_params=None, iid=True, n_jobs=1,\n",
       "       param_grid={'max_depth': [3, 20], 'max_features': [2, 25], 'min_samples_leaf': [2, 20], 'min_samples_split': [2, 20], 'n_estimators': [100, 500]},\n",
       "       pre_dispatch='2*n_jobs', refit=True, return_train_score='warn',\n",
       "       scoring=None, verbose=2)"
      ]
     },
     "execution_count": 81,
     "metadata": {},
     "output_type": "execute_result"
    }
   ],
   "source": [
    "xgb_model = xgboost.XGBRegressor()\n",
    "from sklearn.model_selection import GridSearchCV\n",
    "param_grid = {\n",
    "    # 'bootstrap': [True],\n",
    "    'max_depth': [3, 20],\n",
    "    'max_features': [2, 25],\n",
    "    'min_samples_leaf': [2, 20],\n",
    "    'min_samples_split': [2, 20],\n",
    "    'n_estimators': [100, 500]\n",
    "}\n",
    "# Instantiate the grid search model\n",
    "grid_search = GridSearchCV(estimator = xgb_model, param_grid = param_grid, cv = 10, n_jobs = 1, verbose = 2) \n",
    "# Fit the grid search to the data\n",
    "grid_search.fit(X_train, Y_train)"
   ]
  },
  {
   "cell_type": "code",
   "execution_count": 82,
   "metadata": {},
   "outputs": [
    {
     "data": {
      "text/plain": [
       "{'max_depth': 3,\n",
       " 'max_features': 2,\n",
       " 'min_samples_leaf': 2,\n",
       " 'min_samples_split': 2,\n",
       " 'n_estimators': 500}"
      ]
     },
     "execution_count": 82,
     "metadata": {},
     "output_type": "execute_result"
    }
   ],
   "source": [
    "grid_search.best_params_"
   ]
  },
  {
   "cell_type": "code",
   "execution_count": 99,
   "metadata": {},
   "outputs": [
    {
     "name": "stdout",
     "output_type": "stream",
     "text": [
      "Learning rate: 0.050, Train: 0.836, Test: 0.729\n",
      "Learning rate: 0.100, Train: 0.884, Test: 0.721\n",
      "Learning rate: 0.250, Train: 0.947, Test: 0.714\n",
      "Learning rate: 0.500, Train: 0.982, Test: 0.667\n",
      "Learning rate: 0.750, Train: 0.992, Test: 0.612\n",
      "Learning rate: 1.000, Train: 0.996, Test: 0.555\n"
     ]
    }
   ],
   "source": [
    "learning_rates = [0.05, 0.1, 0.25, 0.5, 0.75, 1]\n",
    "for learning_rate in learning_rates:\n",
    "    # Retrain with the best parameters\n",
    "    xgb_model = xgboost.XGBRegressor(n_estimators=500,learning_rate=learning_rate,max_depth=3,max_features=2,min_samples_leaf=2,min_samples_split=2,random_state=42)\n",
    "    xgb_model.fit(X_train, Y_train)\n",
    "    # Predicting label\n",
    "    Y_train_pred = xgb_model.predict(X_train)\n",
    "    Y_test_pred = xgb_model.predict(X_test)\n",
    "    # Evaluating Model Accuracy \n",
    "    print('Learning rate: %.3f, Train: %.3f, Test: %.3f' % (learning_rate,xgb_model.score(X_train, Y_train),xgb_model.score(X_test, Y_test)))"
   ]
  },
  {
   "cell_type": "code",
   "execution_count": 100,
   "metadata": {},
   "outputs": [
    {
     "name": "stdout",
     "output_type": "stream",
     "text": [
      "R^2 Train: 0.836, Test: 0.729\n",
      "RMSE Train: 0.227, Test: 0.300\n"
     ]
    }
   ],
   "source": [
    "xgb_model = xgboost.XGBRegressor(n_estimators=500,learning_rate=0.05,max_depth=3,max_features=2,min_samples_leaf=2,min_samples_split=2,random_state=42)\n",
    "xgb_model.fit(X_train, Y_train)\n",
    "# Predicting label\n",
    "Y_train_pred = xgb_model.predict(X_train)\n",
    "Y_test_pred = xgb_model.predict(X_test)\n",
    "# Evaluating model accuracy\n",
    "print('R^2 Train: %.3f, Test: %.3f' % (\n",
    "        xgb_model.score(X_train, Y_train),\n",
    "        xgb_model.score(X_test, Y_test)))\n",
    "print('RMSE Train: %.3f, Test: %.3f' % (\n",
    "        np.sqrt(metrics.mean_squared_error(Y_train, Y_train_pred)),\n",
    "        np.sqrt(metrics.mean_squared_error(Y_test, Y_test_pred))))"
   ]
  },
  {
   "cell_type": "code",
   "execution_count": 101,
   "metadata": {},
   "outputs": [
    {
     "name": "stdout",
     "output_type": "stream",
     "text": [
      "R2 score:  [ 0.78291997  0.74445229  0.70700805  0.49908502  0.61263611  0.69330168\n",
      "  0.75252745  0.67776206  0.65657715  0.68839144]\n",
      "Average R2 score:  0.68\n",
      "Average RMSE score:  0.31\n"
     ]
    }
   ],
   "source": [
    "xgb_model = xgboost.XGBRegressor(n_estimators=500,learning_rate=0.05,max_depth=3,max_features=2,min_samples_leaf=2,min_samples_split=2)\n",
    "cv_scores = cross_val_score(xgb_model,X_data,Y_data,scoring='r2',cv=10)\n",
    "rmse = np.sqrt(-cross_val_score(xgb_model,X_data, Y_data,scoring=\"neg_mean_squared_error\", cv =10))\n",
    "print('R2 score: ', cv_scores)\n",
    "print('Average R2 score: ', np.round(np.mean(cv_scores),2))\n",
    "print('Average RMSE score: ',np.round(np.mean(rmse),2))"
   ]
  },
  {
   "cell_type": "markdown",
   "metadata": {},
   "source": [
    "# Random Forest"
   ]
  },
  {
   "cell_type": "markdown",
   "metadata": {},
   "source": [
    "#### Train the model"
   ]
  },
  {
   "cell_type": "code",
   "execution_count": 57,
   "metadata": {},
   "outputs": [
    {
     "data": {
      "text/plain": [
       "{'bootstrap': True,\n",
       " 'criterion': 'mse',\n",
       " 'max_depth': None,\n",
       " 'max_features': 'auto',\n",
       " 'max_leaf_nodes': None,\n",
       " 'min_impurity_decrease': 0.0,\n",
       " 'min_impurity_split': None,\n",
       " 'min_samples_leaf': 1,\n",
       " 'min_samples_split': 2,\n",
       " 'min_weight_fraction_leaf': 0.0,\n",
       " 'n_estimators': 100,\n",
       " 'n_jobs': 1,\n",
       " 'oob_score': False,\n",
       " 'random_state': 42,\n",
       " 'verbose': 0,\n",
       " 'warm_start': False}"
      ]
     },
     "execution_count": 57,
     "metadata": {},
     "output_type": "execute_result"
    }
   ],
   "source": [
    "# Choose a class of model\n",
    "from sklearn.ensemble import RandomForestRegressor \n",
    "# Train model, using default paramenters\n",
    "rf_model = RandomForestRegressor(n_estimators = 100, random_state=42)\n",
    "rf_model.fit(X_train, Y_train)\n",
    "# Print Default parameters of the model used\n",
    "rf_model.get_params()"
   ]
  },
  {
   "cell_type": "markdown",
   "metadata": {},
   "source": [
    "#### Predicting"
   ]
  },
  {
   "cell_type": "code",
   "execution_count": 58,
   "metadata": {},
   "outputs": [],
   "source": [
    "Y_train_pred = rf_model.predict(X_train)\n",
    "Y_test_pred = rf_model.predict(X_test)"
   ]
  },
  {
   "cell_type": "markdown",
   "metadata": {},
   "source": [
    "#### Evaluating model accuracy"
   ]
  },
  {
   "cell_type": "code",
   "execution_count": 59,
   "metadata": {},
   "outputs": [
    {
     "name": "stdout",
     "output_type": "stream",
     "text": [
      "R^2 Train: 0.958, Test: 0.724\n",
      "RMSE Train: 0.115, Test: 0.303\n"
     ]
    }
   ],
   "source": [
    "print('R^2 Train: %.3f, Test: %.3f' % (\n",
    "        rf_model.score(X_train, Y_train),\n",
    "        rf_model.score(X_test, Y_test)))\n",
    "print('RMSE Train: %.3f, Test: %.3f' % (\n",
    "        np.sqrt(metrics.mean_squared_error(Y_train, Y_train_pred)),\n",
    "        np.sqrt(metrics.mean_squared_error(Y_test, Y_test_pred))))"
   ]
  },
  {
   "cell_type": "markdown",
   "metadata": {},
   "source": [
    "#### Cross Validation"
   ]
  },
  {
   "cell_type": "code",
   "execution_count": 60,
   "metadata": {},
   "outputs": [
    {
     "name": "stdout",
     "output_type": "stream",
     "text": [
      "R2 score:  [ 0.78083357  0.74263535  0.69330163  0.51472412  0.61109405  0.68843936\n",
      "  0.73947753  0.65889818  0.65739508  0.66629175]\n",
      "Average R2 score:  0.68\n",
      "Average RMSE score:  0.31\n"
     ]
    }
   ],
   "source": [
    "crf_model = xgboost.XGBRegressor(n_estimators = 100)\n",
    "cv_scores = cross_val_score(crf_model,X_data,Y_data,scoring='r2',cv=10)\n",
    "rmse = np.sqrt(-cross_val_score(crf_model,X_data, Y_data,scoring=\"neg_mean_squared_error\", cv =10))\n",
    "print('R2 score: ', cv_scores)\n",
    "print('Average R2 score: ', np.round(np.mean(cv_scores),2))\n",
    "print('Average RMSE score: ',np.round(np.mean(rmse),2))"
   ]
  },
  {
   "cell_type": "markdown",
   "metadata": {},
   "source": [
    "## Regularization - Ridge Regression"
   ]
  },
  {
   "cell_type": "markdown",
   "metadata": {},
   "source": [
    "#### Train model"
   ]
  },
  {
   "cell_type": "code",
   "execution_count": 105,
   "metadata": {},
   "outputs": [
    {
     "name": "stdout",
     "output_type": "stream",
     "text": [
      "Fitting 10 folds for each of 7 candidates, totalling 70 fits\n",
      "[CV] alpha=0.1 .......................................................\n",
      "[CV] ............ alpha=0.1, score=-0.24544034069176904, total=   0.0s\n",
      "[CV] alpha=0.1 .......................................................\n",
      "[CV] ............. alpha=0.1, score=-0.2823877521860509, total=   0.0s\n",
      "[CV] alpha=0.1 .......................................................\n",
      "[CV] ............. alpha=0.1, score=-0.2556151350070213, total=   0.0s\n",
      "[CV] alpha=0.1 .......................................................\n",
      "[CV] ............. alpha=0.1, score=-0.2481966024466367, total=   0.0s\n",
      "[CV] alpha=0.1 .......................................................\n",
      "[CV] ............. alpha=0.1, score=-0.2624326343613733, total=   0.0s\n",
      "[CV] alpha=0.1 .......................................................\n",
      "[CV] ............ alpha=0.1, score=-0.24698038959716115, total=   0.0s\n",
      "[CV] alpha=0.1 .......................................................\n",
      "[CV] ............ alpha=0.1, score=-0.25157740541689205, total=   0.0s\n",
      "[CV] alpha=0.1 .......................................................\n",
      "[CV] ............. alpha=0.1, score=-0.2557957472768242, total=   0.0s\n",
      "[CV] alpha=0.1 .......................................................\n",
      "[CV] ............. alpha=0.1, score=-0.2726607340743337, total=   0.0s\n",
      "[CV] alpha=0.1 .......................................................\n",
      "[CV] ............ alpha=0.1, score=-0.25904779151891727, total=   0.0s\n",
      "[CV] alpha=0.5 .......................................................\n",
      "[CV] ............. alpha=0.5, score=-0.2454162614118166, total=   0.0s\n",
      "[CV] alpha=0.5 .......................................................\n",
      "[CV] ............. alpha=0.5, score=-0.2824405403357885, total=   0.0s\n",
      "[CV] alpha=0.5 .......................................................\n",
      "[CV] ............. alpha=0.5, score=-0.2556292200049398, total=   0.0s\n",
      "[CV] alpha=0.5 .......................................................\n",
      "[CV] ............. alpha=0.5, score=-0.2481626439749452, total=   0.0s\n",
      "[CV] alpha=0.5 .......................................................\n",
      "[CV] ............ alpha=0.5, score=-0.26241450574553443, total=   0.0s\n",
      "[CV] alpha=0.5 .......................................................\n",
      "[CV] ............ alpha=0.5, score=-0.24700006639904581, total=   0.0s\n",
      "[CV] alpha=0.5 .......................................................\n",
      "[CV] ............ alpha=0.5, score=-0.25153812432351597, total=   0.0s\n",
      "[CV] alpha=0.5 .......................................................\n",
      "[CV] ............. alpha=0.5, score=-0.2557793879995224, total=   0.0s\n",
      "[CV] alpha=0.5 .......................................................\n",
      "[CV] ............ alpha=0.5, score=-0.27257129361109644, total=   0.0s\n",
      "[CV] alpha=0.5 .......................................................\n",
      "[CV] ............ alpha=0.5, score=-0.25905496501764746, total=   0.0s\n",
      "[CV] alpha=1.0 .......................................................\n",
      "[CV] ............. alpha=1.0, score=-0.2453863760882468, total=   0.0s\n",
      "[CV] alpha=1.0 .......................................................\n",
      "[CV] ............. alpha=1.0, score=-0.2825060083325096, total=   0.0s\n",
      "[CV] alpha=1.0 .......................................................\n",
      "[CV] ............ alpha=1.0, score=-0.25564670969510056, total=   0.0s\n",
      "[CV] alpha=1.0 .......................................................\n",
      "[CV] ............. alpha=1.0, score=-0.2481204861316146, total=   0.0s\n",
      "[CV] alpha=1.0 .......................................................\n",
      "[CV] ............. alpha=1.0, score=-0.2623922963614836, total=   0.0s\n",
      "[CV] alpha=1.0 .......................................................\n",
      "[CV] ............ alpha=1.0, score=-0.24702422334714708, total=   0.0s\n",
      "[CV] alpha=1.0 .......................................................\n",
      "[CV] ............ alpha=1.0, score=-0.25148958855076997, total=   0.0s\n",
      "[CV] alpha=1.0 .......................................................\n",
      "[CV] ............ alpha=1.0, score=-0.25575906981526103, total=   0.0s\n",
      "[CV] alpha=1.0 .......................................................\n",
      "[CV] ............ alpha=1.0, score=-0.27246090990186134, total=   0.0s\n",
      "[CV] alpha=1.0 .......................................................\n",
      "[CV] .............. alpha=1.0, score=-0.259064017589243, total=   0.0s\n",
      "[CV] alpha=5.0 .......................................................\n",
      "[CV] ............. alpha=5.0, score=-0.2451558719617927, total=   0.0s\n",
      "[CV] alpha=5.0 .......................................................\n",
      "[CV] ............. alpha=5.0, score=-0.2830097673396146, total=   0.0s\n",
      "[CV] alpha=5.0 .......................................................\n",
      "[CV] ............. alpha=5.0, score=-0.2557831874861271, total=   0.0s\n",
      "[CV] alpha=5.0 .......................................................\n",
      "[CV] ............ alpha=5.0, score=-0.24779472068082467, total=   0.0s\n",
      "[CV] alpha=5.0 .......................................................\n",
      "[CV] ............. alpha=5.0, score=-0.2622516900221746, total=   0.0s\n",
      "[CV] alpha=5.0 .......................................................\n",
      "[CV] ............ alpha=5.0, score=-0.24720105051819213, total=   0.0s\n",
      "[CV] alpha=5.0 .......................................................\n",
      "[CV] ............ alpha=5.0, score=-0.25113417549441325, total=   0.0s\n",
      "[CV] alpha=5.0 .......................................................\n",
      "[CV] ............ alpha=5.0, score=-0.25560155077349084, total=   0.0s\n",
      "[CV] alpha=5.0 .......................................................\n",
      "[CV] ............. alpha=5.0, score=-0.2716298163232633, total=   0.0s\n",
      "[CV] alpha=5.0 .......................................................\n",
      "[CV] ............. alpha=5.0, score=-0.2591395256248827, total=   0.0s\n",
      "[CV] alpha=10.0 ......................................................\n",
      "[CV] ........... alpha=10.0, score=-0.24488888479657217, total=   0.0s\n",
      "[CV] alpha=10.0 ......................................................\n",
      "[CV] ............ alpha=10.0, score=-0.2836322445504056, total=   0.0s\n",
      "[CV] alpha=10.0 ......................................................\n",
      "[CV] ........... alpha=10.0, score=-0.25599431930626415, total=   0.0s\n",
      "[CV] alpha=10.0 ......................................................\n",
      "[CV] ............ alpha=10.0, score=-0.2474175213255209, total=   0.0s\n",
      "[CV] alpha=10.0 ......................................................\n",
      "[CV] ........... alpha=10.0, score=-0.26223234705100523, total=   0.0s\n",
      "[CV] alpha=10.0 ......................................................\n",
      "[CV] ........... alpha=10.0, score=-0.24738579451418868, total=   0.0s\n",
      "[CV] alpha=10.0 ......................................................\n",
      "[CV] ............. alpha=10.0, score=-0.250778954038505, total=   0.0s\n",
      "[CV] alpha=10.0 ......................................................\n",
      "[CV] ........... alpha=10.0, score=-0.25541619242962915, total=   0.0s\n",
      "[CV] alpha=10.0 ......................................................\n"
     ]
    },
    {
     "name": "stderr",
     "output_type": "stream",
     "text": [
      "[Parallel(n_jobs=1)]: Done   1 out of   1 | elapsed:    0.0s remaining:    0.0s\n",
      "[Parallel(n_jobs=1)]: Done   2 out of   2 | elapsed:    0.0s remaining:    0.0s\n",
      "[Parallel(n_jobs=1)]: Done   3 out of   3 | elapsed:    0.0s remaining:    0.0s\n",
      "[Parallel(n_jobs=1)]: Done   4 out of   4 | elapsed:    0.0s remaining:    0.0s\n",
      "[Parallel(n_jobs=1)]: Done   5 out of   5 | elapsed:    0.0s remaining:    0.0s\n",
      "[Parallel(n_jobs=1)]: Done   6 out of   6 | elapsed:    0.0s remaining:    0.0s\n",
      "[Parallel(n_jobs=1)]: Done   7 out of   7 | elapsed:    0.0s remaining:    0.0s\n",
      "[Parallel(n_jobs=1)]: Done   8 out of   8 | elapsed:    0.0s remaining:    0.0s\n",
      "[Parallel(n_jobs=1)]: Done   9 out of   9 | elapsed:    0.0s remaining:    0.0s\n"
     ]
    },
    {
     "name": "stdout",
     "output_type": "stream",
     "text": [
      "[CV] ........... alpha=10.0, score=-0.27080790005546224, total=   0.0s\n",
      "[CV] alpha=10.0 ......................................................\n",
      "[CV] ........... alpha=10.0, score=-0.25924052497874095, total=   0.0s\n",
      "[CV] alpha=15 ........................................................\n",
      "[CV] ............. alpha=15, score=-0.24468912047627228, total=   0.0s\n",
      "[CV] alpha=15 ........................................................\n",
      "[CV] ............. alpha=15, score=-0.28420549291632313, total=   0.0s\n",
      "[CV] alpha=15 ........................................................\n",
      "[CV] .............. alpha=15, score=-0.2562189511354383, total=   0.0s\n",
      "[CV] alpha=15 ........................................................\n",
      "[CV] ............. alpha=15, score=-0.24727118012793584, total=   0.0s\n",
      "[CV] alpha=15 ........................................................\n",
      "[CV] ............. alpha=15, score=-0.26227661959677456, total=   0.0s\n",
      "[CV] alpha=15 ........................................................\n",
      "[CV] ............. alpha=15, score=-0.24753667832727927, total=   0.0s\n",
      "[CV] alpha=15 ........................................................\n",
      "[CV] ............. alpha=15, score=-0.25054182116351026, total=   0.0s\n",
      "[CV] alpha=15 ........................................................\n",
      "[CV] ............. alpha=15, score=-0.25524207373902397, total=   0.0s\n",
      "[CV] alpha=15 ........................................................\n",
      "[CV] ............. alpha=15, score=-0.27038319769084673, total=   0.0s\n",
      "[CV] alpha=15 ........................................................\n",
      "[CV] ............. alpha=15, score=-0.25935438848832376, total=   0.0s\n",
      "[CV] alpha=20 ........................................................\n",
      "[CV] ............. alpha=20, score=-0.24453484715404714, total=   0.0s\n",
      "[CV] alpha=20 ........................................................\n",
      "[CV] .............. alpha=20, score=-0.2847332522914642, total=   0.0s\n",
      "[CV] alpha=20 ........................................................\n",
      "[CV] ............. alpha=20, score=-0.25644030680079966, total=   0.0s\n",
      "[CV] alpha=20 ........................................................\n",
      "[CV] ............. alpha=20, score=-0.24724987931757428, total=   0.0s\n",
      "[CV] alpha=20 ........................................................\n",
      "[CV] ............. alpha=20, score=-0.26232466735774224, total=   0.0s\n",
      "[CV] alpha=20 ........................................................\n",
      "[CV] .............. alpha=20, score=-0.2476591672615135, total=   0.0s\n",
      "[CV] alpha=20 ........................................................\n",
      "[CV] ............. alpha=20, score=-0.25037012667598807, total=   0.0s\n",
      "[CV] alpha=20 ........................................................\n",
      "[CV] ............. alpha=20, score=-0.25507771491764936, total=   0.0s\n",
      "[CV] alpha=20 ........................................................\n",
      "[CV] .............. alpha=20, score=-0.2701032205136836, total=   0.0s\n",
      "[CV] alpha=20 ........................................................\n",
      "[CV] ............. alpha=20, score=-0.25947153969628856, total=   0.0s\n"
     ]
    },
    {
     "name": "stderr",
     "output_type": "stream",
     "text": [
      "[Parallel(n_jobs=1)]: Done  70 out of  70 | elapsed:    0.2s finished\n"
     ]
    }
   ],
   "source": [
    "# Grid search\n",
    "ridge = Ridge()\n",
    "ridge_param = {'alpha':[0.1, 0.5, 1.0,5.0, 10.0,15,20]}\n",
    "ridge_grid = GridSearchCV(ridge, ridge_param, cv = 10, verbose=10, scoring = 'neg_mean_absolute_error')\n",
    "ridge_grid.fit(X_train, Y_train)"
   ]
  },
  {
   "cell_type": "code",
   "execution_count": 107,
   "metadata": {},
   "outputs": [
    {
     "data": {
      "text/plain": [
       "-0.25777694888887498"
      ]
     },
     "execution_count": 107,
     "metadata": {},
     "output_type": "execute_result"
    }
   ],
   "source": [
    "ridge_score = ridge_grid.best_score_\n",
    "ridge_score"
   ]
  },
  {
   "cell_type": "markdown",
   "metadata": {},
   "source": [
    "#### Cross Validation"
   ]
  },
  {
   "cell_type": "code",
   "execution_count": 104,
   "metadata": {},
   "outputs": [
    {
     "data": {
      "text/plain": [
       "5.0"
      ]
     },
     "execution_count": 104,
     "metadata": {},
     "output_type": "execute_result"
    }
   ],
   "source": [
    "from sklearn.linear_model import Ridge,Lasso \n",
    "reg = linear_model.RidgeCV(alphas=[0.1, 0.5, 1.0,5.0, 10.0,15,20], cv=10)\n",
    "reg.fit(X_train, Y_train)       \n",
    "reg.alpha_  "
   ]
  },
  {
   "cell_type": "markdown",
   "metadata": {},
   "source": [
    "## Regularization - Train many models at the same time"
   ]
  },
  {
   "cell_type": "markdown",
   "metadata": {},
   "source": [
    "#### Train model"
   ]
  },
  {
   "cell_type": "code",
   "execution_count": 115,
   "metadata": {},
   "outputs": [],
   "source": [
    "from sklearn.linear_model import  Ridge, RidgeCV, ElasticNet, LassoCV, LassoLarsCV \n",
    "Model_List = [Lasso, Ridge]"
   ]
  },
  {
   "cell_type": "code",
   "execution_count": 119,
   "metadata": {},
   "outputs": [],
   "source": [
    "alphas = [0.1, 0.5, 1.0,5.0, 10.0,15,20]"
   ]
  },
  {
   "cell_type": "code",
   "execution_count": 117,
   "metadata": {},
   "outputs": [],
   "source": [
    "alphas = [0.05, 0.1, 0.3, 1, 3, 5, 10, 15, 30, 50, 75]"
   ]
  },
  {
   "cell_type": "code",
   "execution_count": 112,
   "metadata": {},
   "outputs": [
    {
     "data": {
      "text/plain": [
       "array([ 0.001     ,  0.00127427,  0.00162378,  0.00206914,  0.00263665,\n",
       "        0.00335982,  0.00428133,  0.00545559,  0.00695193,  0.00885867,\n",
       "        0.01128838,  0.0143845 ,  0.01832981,  0.02335721,  0.02976351,\n",
       "        0.0379269 ,  0.0483293 ,  0.06158482,  0.078476  ,  0.1       ])"
      ]
     },
     "execution_count": 112,
     "metadata": {},
     "output_type": "execute_result"
    }
   ],
   "source": [
    "alphas = np.logspace(-3, -1, 20)\n",
    "alphas"
   ]
  },
  {
   "cell_type": "code",
   "execution_count": 113,
   "metadata": {},
   "outputs": [],
   "source": [
    "def Regression_CV(X_data, Y_data, Model_List, alphas):      \n",
    "    for Model in Model_List:\n",
    "        scores = [cross_val_score(Model(alpha), X_data, Y_data, cv=5).mean() for alpha in alphas]\n",
    "        rmse= [np.sqrt(-cross_val_score(Model(alpha), X_data, Y_data, cv=5, scoring=\"neg_mean_squared_error\")).mean() for alpha in alphas]\n",
    "        plt.figure(figsize=(16, 6))\n",
    "        plt.subplot(121)\n",
    "        plt.plot(alphas, scores, label=Model.__name__)\n",
    "        plt.legend(loc='lower left')\n",
    "        plt.xlabel('alpha')\n",
    "        plt.ylabel('cross validation score')\n",
    "        plt.subplot(122)\n",
    "        cv_ridge = pd.Series(rmse, index = alphas)\n",
    "        cv_ridge.plot(title = \"Validation - Just Do It\")\n",
    "        plt.xlabel(\"alpha\")\n",
    "        plt.ylabel(\"rmse\")"
   ]
  },
  {
   "cell_type": "code",
   "execution_count": 120,
   "metadata": {},
   "outputs": [
    {
     "data": {
      "image/png": "[encoded data removed]",
      "text/plain": [
       "<matplotlib.figure.Figure at 0x1ad1af01128>"
      ]
     },
     "metadata": {},
     "output_type": "display_data"
    },
    {
     "data": {
      "image/png": "[encoded data removed]",
      "text/plain": [
       "<matplotlib.figure.Figure at 0x1ad1b40b908>"
      ]
     },
     "metadata": {},
     "output_type": "display_data"
    }
   ],
   "source": [
    "Regression_CV(X_train, Y_train, Model_List,alphas)"
   ]
  },
  {
   "cell_type": "markdown",
   "metadata": {},
   "source": [
    "## PCA"
   ]
  },
  {
   "cell_type": "code",
   "execution_count": 121,
   "metadata": {},
   "outputs": [
    {
     "data": {
      "image/png": "[encoded data removed]",
      "text/plain": [
       "<matplotlib.figure.Figure at 0x1ad1b537908>"
      ]
     },
     "metadata": {},
     "output_type": "display_data"
    }
   ],
   "source": [
    "X_train.columns.values   \n",
    "   \n",
    "from sklearn.decomposition import PCA  # 1. Choose the model class\n",
    "PCA_model = PCA(n_components=2)            # 2. Instantiate the model with hyperparameters\n",
    "PCA_model.fit(X_data)                      # 3. Fit to data. Notice y is not specified!\n",
    "X_2D = PCA_model.transform(X_data)         # 4. Transform the data to two dimensions\n",
    "\n",
    "PCA_df = pd.DataFrame()\n",
    "PCA_df['PCA1'] = X_2D[:, 0]\n",
    "PCA_df['PCA2'] = X_2D[:, 1]\n",
    "sns.lmplot(\"PCA1\", \"PCA2\", data=PCA_df, fit_reg=False);\n",
    "plt.show()"
   ]
  },
  {
   "cell_type": "markdown",
   "metadata": {},
   "source": [
    "### PCA using ONE HOT encoding"
   ]
  },
  {
   "cell_type": "code",
   "execution_count": 145,
   "metadata": {},
   "outputs": [
    {
     "ename": "AttributeError",
     "evalue": "'numpy.ndarray' object has no attribute 'head'",
     "output_type": "error",
     "traceback": [
      "\u001b[1;31m---------------------------------------------------------------------------\u001b[0m",
      "\u001b[1;31mAttributeError\u001b[0m                            Traceback (most recent call last)",
      "\u001b[1;32m<ipython-input-145-234529bcb77f>\u001b[0m in \u001b[0;36m<module>\u001b[1;34m()\u001b[0m\n\u001b[1;32m----> 1\u001b[1;33m \u001b[0mX_std\u001b[0m\u001b[1;33m.\u001b[0m\u001b[0mhead\u001b[0m\u001b[1;33m(\u001b[0m\u001b[1;33m)\u001b[0m\u001b[1;33m\u001b[0m\u001b[0m\n\u001b[0m",
      "\u001b[1;31mAttributeError\u001b[0m: 'numpy.ndarray' object has no attribute 'head'"
     ]
    }
   ],
   "source": [
    "X_std.head()"
   ]
  },
  {
   "cell_type": "code",
   "execution_count": 146,
   "metadata": {},
   "outputs": [
    {
     "data": {
      "text/plain": [
       "PCA(copy=True, iterated_power='auto', n_components=28, random_state=None,\n",
       "  svd_solver='auto', tol=0.0, whiten=False)"
      ]
     },
     "execution_count": 146,
     "metadata": {},
     "output_type": "execute_result"
    }
   ],
   "source": [
    "# split data into features and label\n",
    "X_data = data_df.loc[:,selected_cols]\n",
    "X_data['roomtype_Entire home/apt'] = room_dummies['roomtype_Entire home/apt']\n",
    "X_data['roomtype_Private room'] = room_dummies['roomtype_Private room']\n",
    "X_data['roomtype_Shared room'] = room_dummies['roomtype_Shared room']\n",
    "Y_data = data_df.loc[:,'price']\n",
    "# standardize the dataset\n",
    "from sklearn.preprocessing import StandardScaler\n",
    "X_std = StandardScaler().fit_transform(X_data)\n",
    "# call PCA\n",
    "pca = PCA(n_components = 28)\n",
    "pca.fit(X_std)"
   ]
  },
  {
   "cell_type": "code",
   "execution_count": 147,
   "metadata": {},
   "outputs": [
    {
     "name": "stdout",
     "output_type": "stream",
     "text": [
      "Components:\n",
      " [[  3.20488235e-01  -3.68427697e-02  -3.41190731e-02  -4.30511993e-02\n",
      "   -1.09920754e-02  -1.73266538e-02  -3.30315029e-02  -2.55338216e-02\n",
      "   -1.32092027e-01   2.86377213e-01   3.75078653e-01   3.87118370e-01\n",
      "    1.82662190e-02  -1.37101018e-01  -1.49764947e-01  -1.54607193e-01\n",
      "   -1.00844166e-01  -9.36400306e-02   1.07822606e-02   1.40672704e-03\n",
      "    9.87741545e-02  -1.78101415e-02  -4.28660446e-02   2.73197367e-01\n",
      "    4.10214871e-01   2.88807814e-01  -2.70993957e-01  -6.74699341e-02]\n",
      " [  3.37731759e-02  -3.58758130e-01  -3.39302181e-01  -3.80506488e-01\n",
      "   -2.40486681e-01  -3.47103158e-01  -3.48219191e-01  -4.10617380e-01\n",
      "   -9.49910506e-02  -3.37754892e-03  -6.05058585e-03   1.19944242e-02\n",
      "    7.35770941e-03   1.54941736e-01   1.57670345e-01   1.52071293e-01\n",
      "    1.22599632e-01  -4.65424003e-02   1.03289199e-02   2.51003020e-02\n",
      "    2.79345483e-02   1.80313305e-01   5.23231366e-02  -1.28431138e-02\n",
      "    8.82338458e-03  -3.59572841e-02   9.85331684e-03   7.21382891e-02]\n",
      " [ -1.54733358e-01  -1.05663414e-01  -1.11258233e-01  -8.94827615e-02\n",
      "   -5.63251630e-02  -1.44789675e-01  -1.12049658e-01  -1.33254594e-01\n",
      "   -5.47117230e-02  -1.19935187e-01  -1.24232443e-01  -1.53916837e-01\n",
      "    1.99464934e-02  -4.55879202e-01  -4.78410808e-01  -4.74793654e-01\n",
      "   -3.54012353e-01  -7.64736972e-02  -6.82483339e-03   1.39193248e-02\n",
      "   -5.92788838e-02  -4.05862700e-02   3.56965216e-02  -1.03549709e-01\n",
      "   -1.48228490e-01   1.19056843e-02  -5.60374126e-03  -1.76380198e-02]\n",
      " [ -1.36938887e-01  -3.81678505e-02  -2.37389900e-02  -1.08031683e-01\n",
      "   -4.95976088e-02  -1.48271103e-02  -4.83177905e-02  -1.12764105e-01\n",
      "    4.98778044e-01  -1.98889142e-01  -1.30977582e-01  -3.19162760e-02\n",
      "   -8.80776831e-02   5.34261796e-03   2.73177733e-02   3.18986296e-02\n",
      "   -3.45840779e-02   5.02720029e-01  -2.27266277e-02  -8.11588376e-02\n",
      "    2.28977332e-01  -2.27956690e-01  -3.34964152e-02   1.86234193e-01\n",
      "    4.13224557e-02   3.25401647e-01  -2.34799761e-01  -2.64224796e-01]\n",
      " [  3.32616287e-02   3.36773981e-02  -2.15117721e-02  -5.58648993e-03\n",
      "    1.79594837e-01   5.12145908e-02   1.98608149e-02   2.41144881e-02\n",
      "   -1.56370551e-01  -2.57306376e-01  -2.18560176e-01  -1.06904362e-01\n",
      "    4.93967597e-02   7.09830613e-02   6.53672583e-02   6.27111449e-02\n",
      "    4.99352887e-02  -2.13422071e-01   6.93946399e-02   9.89760638e-02\n",
      "   -1.79472938e-01   1.92098045e-01  -1.16081155e-01  -2.17377909e-01\n",
      "   -7.40001368e-02   4.99869237e-01  -5.69915844e-01   1.52409970e-01]\n",
      " [  5.62105517e-03   6.34557682e-02   5.06216566e-02   6.17783091e-02\n",
      "   -1.63228078e-01   1.58753715e-02   5.21098376e-02   5.61109313e-02\n",
      "    2.28591406e-01   8.71209280e-02   1.99990425e-02   5.00165065e-02\n",
      "   -3.59153566e-01  -7.93242200e-02  -5.66091013e-02  -4.86271609e-02\n",
      "   -2.98278023e-02   2.17483697e-01  -4.82015899e-02  -6.07451924e-02\n",
      "   -1.19344430e-02   4.34606445e-01   4.55878946e-01   1.97790771e-02\n",
      "    1.89940902e-02  -3.52883431e-02  -1.60145476e-01   5.23935095e-01]\n",
      " [  2.24806716e-02   3.52596870e-02   2.82637861e-02  -2.87961508e-02\n",
      "   -2.92000254e-01   7.46937076e-02   1.81244259e-02   3.05797327e-02\n",
      "   -1.59236465e-01  -1.59796373e-02  -2.42241201e-02  -2.58777066e-02\n",
      "   -5.54666351e-01   5.42709667e-02   5.52899575e-02   5.19881289e-02\n",
      "   -1.12575723e-02  -2.15262575e-01   7.29907999e-02   1.08871009e-01\n",
      "   -1.89396222e-01  -2.57955587e-01   4.22077444e-01  -1.39356912e-01\n",
      "    2.79024693e-02   1.42441599e-01   1.12996504e-02  -4.20078159e-01]\n",
      " [ -1.34729564e-01   7.55857662e-02  -6.79783829e-02   5.93476671e-02\n",
      "    2.42506434e-02   9.36068860e-02  -6.47611250e-02   7.11497694e-02\n",
      "   -2.42897848e-01  -1.45083758e-01  -1.22822415e-01  -1.22402818e-01\n",
      "   -2.43672817e-02   3.13976835e-02   1.79085622e-02   2.26924613e-02\n",
      "   -2.48265990e-02  -2.84954632e-01  -3.59824522e-02   1.28427657e-01\n",
      "    7.27764754e-01  -9.03569181e-03   2.13133944e-01   3.80644604e-01\n",
      "   -9.77754451e-02   5.52937957e-03  -3.55481506e-02   7.97209880e-02]\n",
      " [ -2.54723537e-02  -9.31854096e-02   1.41332372e-01  -4.62302533e-02\n",
      "    2.82385498e-02  -1.22973690e-01   1.41005630e-01  -1.14534429e-02\n",
      "   -1.30007544e-01  -2.64645287e-02  -1.37113412e-02  -3.45833675e-02\n",
      "    2.53291555e-02   2.87975354e-03   9.52091008e-03   3.57789026e-03\n",
      "    1.03579205e-02  -3.42244495e-02   6.58173848e-01  -6.75227549e-01\n",
      "    6.85852721e-02  -5.12753105e-02   1.00878139e-01   4.81854291e-02\n",
      "   -2.85079133e-02   1.17972225e-02  -2.45029428e-02   3.30898753e-02]\n",
      " [  1.08933451e-03   5.43999226e-02  -1.38019365e-01   6.13791960e-02\n",
      "    6.47598327e-02   1.87660771e-02  -7.88725259e-02   2.53679068e-02\n",
      "    1.47746225e-01   4.95407557e-02   2.97521423e-02   1.47719838e-02\n",
      "   -2.62574991e-02  -1.64501332e-02  -2.50534308e-02  -1.94933185e-02\n",
      "   -1.22646086e-02   1.14519218e-01   7.33762967e-01   6.08658648e-01\n",
      "    1.12907974e-02   2.79965894e-02  -4.93515990e-02   1.59109189e-02\n",
      "    2.17349532e-02  -6.73899022e-02   5.26578027e-02   4.39630344e-02]\n",
      " [ -1.34483778e-01  -1.96119442e-01   5.44901791e-01  -2.23418024e-01\n",
      "   -2.27279200e-01  -2.62532618e-01   5.20344420e-01  -1.25416376e-01\n",
      "   -6.81351257e-02  -1.05942921e-01   2.20459071e-02   1.52825637e-02\n",
      "    1.60167014e-01   4.04322677e-03  -6.97475078e-03  -3.95392754e-03\n",
      "    4.61745104e-02  -9.48970364e-03  -2.49532683e-02   3.30318987e-01\n",
      "   -2.40917504e-02  -4.46052745e-02   3.58922198e-02   1.48363851e-01\n",
      "    3.49716876e-02   6.95135100e-03  -3.78153044e-02   8.18781365e-02]\n",
      " [ -3.52899483e-02  -1.92732596e-01   5.47765079e-02  -3.93004748e-02\n",
      "    2.83067474e-01  -1.54070633e-01   9.35995459e-02  -5.15317326e-02\n",
      "   -1.50603542e-02   8.02691438e-02  -1.26159909e-03  -1.14588795e-02\n",
      "   -6.87571075e-01   8.13968424e-03   5.34743252e-03  -6.23540494e-03\n",
      "   -3.24975773e-02  -7.68458874e-02  -4.44230337e-02  -1.34893506e-03\n",
      "    1.13461996e-01  -1.73813773e-01  -4.97616866e-01   1.30452699e-04\n",
      "   -1.88124369e-02  -8.10248811e-02  -5.16708451e-03   2.35589053e-01]\n",
      " [  1.54677653e-01   1.82027547e-01   7.05105013e-02  -7.05943774e-02\n",
      "   -6.00747554e-01   2.35485841e-01   2.33434723e-02   4.40169861e-02\n",
      "   -7.63200110e-02  -1.18430980e-01  -7.55916462e-02  -5.34122091e-02\n",
      "   -1.31606239e-01  -5.82748123e-02  -5.47639943e-02  -4.24364578e-02\n",
      "    3.13788199e-02   2.64553896e-02   8.36008848e-02  -7.57840712e-02\n",
      "    1.15306526e-01   3.87613136e-01  -5.05147796e-01   3.94095338e-02\n",
      "   -3.08270838e-02  -1.08835170e-02   6.45566791e-02  -1.42471240e-01]\n",
      " [  2.74886419e-01  -1.49839579e-01   1.30021758e-01  -1.26911854e-01\n",
      "    4.76867451e-01  -2.13446616e-02   1.22086378e-01  -7.41498017e-02\n",
      "   -1.31903897e-02  -2.91572812e-02  -9.23448399e-02  -4.73776767e-02\n",
      "   -1.15526721e-01  -1.05678787e-01  -9.66068916e-02  -6.70468714e-02\n",
      "    2.10389268e-01   9.69613926e-02  -2.34584341e-02   4.23623947e-02\n",
      "    1.33573743e-01   5.02563741e-01   1.43120203e-01  -2.95995395e-02\n",
      "   -3.21640098e-02   6.17309927e-03   1.59672230e-01  -4.42970914e-01]\n",
      " [ -2.83216352e-02  -7.52886052e-02   4.05194716e-02  -5.18672627e-02\n",
      "    1.05799305e-01   7.92181672e-02   5.04097585e-02  -5.03418801e-02\n",
      "    1.98963014e-01  -1.61530698e-01   9.95724629e-03   8.93163227e-02\n",
      "   -2.90117318e-03   2.58294258e-01   1.87056466e-01   9.81782499e-02\n",
      "   -7.84495260e-01  -2.16738314e-01   1.91218024e-02  -2.50904312e-02\n",
      "   -9.64424785e-02   2.54343483e-01  -8.14448409e-03   1.18902667e-01\n",
      "    8.77372085e-02  -5.20866013e-02   9.26496834e-02  -1.04643992e-01]\n",
      " [  2.79118289e-01  -8.35558212e-02   1.29868546e-01  -2.64248830e-01\n",
      "   -5.66419543e-02   2.05193452e-01   5.04538099e-02  -1.16247091e-02\n",
      "    1.03104817e-03   5.57950307e-01  -9.94460181e-02  -2.52945274e-01\n",
      "    1.14948999e-01   1.03781291e-01   4.85258904e-02   1.19056120e-02\n",
      "   -2.68704917e-01   1.11535575e-01   3.98652322e-03   4.56465898e-02\n",
      "    2.81612422e-01  -1.33113972e-01   3.85960095e-02  -3.49378698e-01\n",
      "   -2.13490389e-01   6.59092300e-02  -8.97008560e-02   5.89366073e-02]\n",
      " [ -4.35069412e-01   3.14216949e-01   3.38262039e-02   1.03438458e-01\n",
      "   -2.85781743e-02  -3.51077216e-01   1.94000572e-02  -8.94007899e-02\n",
      "    2.61835257e-01   5.02083889e-01  -3.95459299e-02  -4.71166196e-02\n",
      "    1.08278679e-02  -2.23797693e-02   1.58838670e-02   3.88582444e-02\n",
      "    7.14856384e-02  -3.15819549e-01   4.28870265e-03  -3.54519752e-02\n",
      "    5.77066327e-02   2.34382328e-01  -8.02736336e-02  -3.37012105e-02\n",
      "   -2.00279342e-02   1.32566028e-01  -5.38564770e-02  -2.19180489e-01]\n",
      " [  3.56530727e-01   5.88419966e-01  -1.18869747e-02  -1.30529608e-01\n",
      "    9.23363440e-02  -3.84456085e-01  -1.11298036e-02  -1.11389394e-01\n",
      "   -1.76534548e-01  -1.37251512e-02  -1.65155709e-02  -2.63106555e-01\n",
      "   -5.23943191e-02   6.42673096e-02   3.51426023e-02   2.03173474e-02\n",
      "   -1.46131471e-01   1.81245804e-01  -2.90985209e-02   1.37855316e-02\n",
      "   -1.85076247e-01  -7.98026912e-02   1.51524030e-02   3.31268721e-01\n",
      "   -1.54299158e-01  -1.59588587e-02   2.71019738e-03   3.64545466e-02]\n",
      " [  1.98451340e-04  -6.84594680e-02  -1.31259654e-01   4.64236428e-01\n",
      "   -1.11192071e-01  -4.40888412e-01   1.46254720e-01   1.32714445e-01\n",
      "   -3.02284077e-01  -8.22356514e-02   9.67053944e-02   8.35993145e-02\n",
      "    1.15962916e-03   1.21014228e-01   5.87953460e-02   9.67264617e-03\n",
      "   -2.21127854e-01   3.41644344e-01  -3.73717968e-02   3.81687117e-02\n",
      "    2.49162295e-01   9.34398694e-02  -2.03361921e-02  -3.55415027e-01\n",
      "    2.20140653e-02   5.73089799e-02  -1.42058179e-02  -1.18973073e-01]\n",
      " [  2.70392326e-01   3.41331673e-01   2.97322864e-02  -1.74120433e-01\n",
      "    2.28938201e-03  -1.57731248e-01   6.46139171e-02  -1.09124451e-01\n",
      "    3.42943519e-01  -3.37418338e-01   1.04002346e-01   2.25630820e-01\n",
      "    2.63074310e-02  -5.73716767e-02  -2.85560158e-02  -5.99688275e-03\n",
      "    6.14271926e-02  -2.82852458e-01   1.01930012e-02  -2.43455380e-02\n",
      "    3.04422787e-01  -1.35083889e-01   4.27629567e-02  -4.61041878e-01\n",
      "    9.92754763e-02  -8.99207612e-02   5.60691706e-02   9.65370496e-02]\n",
      " [  4.89980394e-01  -3.27747514e-01  -6.55036194e-02   4.40963980e-01\n",
      "   -1.73102492e-01  -1.96715085e-01   8.33839563e-02   6.84049711e-02\n",
      "    3.70492363e-01   2.89517822e-02  -1.87375028e-01  -1.77914128e-01\n",
      "    5.74973917e-02  -4.38913811e-02  -7.68968295e-03   1.04574295e-02\n",
      "    6.37930878e-02  -2.91360664e-01  -9.34484879e-03  -1.66338076e-03\n",
      "   -5.52066437e-02  -7.76995194e-02  -1.90618010e-03   2.07141577e-01\n",
      "   -1.47724312e-01   1.29232190e-02  -1.27529839e-02  -1.34628994e-03]\n",
      " [  3.90202061e-02  -5.64658078e-02   6.58223361e-01   1.24025774e-01\n",
      "    4.74836780e-03  -1.44950641e-01  -7.00413725e-01   1.16795664e-01\n",
      "    7.24038195e-04  -6.77983465e-02   8.74040712e-02  -1.87716229e-02\n",
      "   -1.16577691e-02  -1.07192355e-02   1.77270085e-02   2.93131143e-02\n",
      "   -3.23194067e-02   4.93490866e-03   1.91001341e-02   3.15619204e-02\n",
      "    2.74433428e-02   1.55501214e-02  -1.29143669e-02  -4.84774268e-02\n",
      "   -2.92224651e-02   1.74329134e-02  -1.61181066e-02  -4.71177083e-03]\n",
      " [  1.16128100e-02   7.11129516e-02   1.31752161e-01   4.29369946e-01\n",
      "    1.78202199e-02   2.78504709e-01   2.65200706e-02  -8.22960867e-01\n",
      "   -6.93336964e-02  -1.21220966e-02   1.43544253e-01  -5.82900150e-02\n",
      "   -1.88284947e-02   8.63363069e-03   8.29764438e-03  -3.96439001e-03\n",
      "    5.94951967e-03   2.88686518e-02   1.92423779e-02  -4.19342722e-03\n",
      "    2.31380189e-02  -2.05356276e-02   1.29864846e-02  -3.61928360e-02\n",
      "   -5.48919530e-02   7.90373078e-03  -1.78951721e-02   2.61157919e-02]\n",
      " [  6.41689525e-02   8.74310808e-02   9.05001017e-02   7.22113333e-02\n",
      "    1.08197483e-04  -2.60718470e-02  -5.94674047e-02  -1.24811597e-01\n",
      "   -1.26378879e-01   1.30899575e-01  -7.97464113e-01   4.72929320e-01\n",
      "    1.63635827e-02   2.59272547e-03  -1.02769831e-02  -1.42801093e-02\n",
      "   -3.86243169e-02   6.61100022e-02   9.05851038e-03   7.28929803e-03\n",
      "   -1.67539234e-02  -7.28949905e-02   9.28962627e-03   1.34178769e-02\n",
      "    1.96989865e-01  -7.36914829e-02   5.74598561e-02   4.83993710e-02]\n",
      " [  1.96498680e-03  -8.18832647e-04   5.74136774e-03   3.59608482e-02\n",
      "    1.07376016e-02  -9.02692908e-03  -4.22926181e-03  -1.23934667e-02\n",
      "   -2.61849570e-02  -1.04651488e-02  -1.20884425e-01  -5.54166052e-01\n",
      "    2.20259791e-02  -1.95152034e-01   5.02887500e-02   1.47848126e-01\n",
      "   -3.29123450e-02   1.16990234e-03  -7.64848926e-03  -6.27289970e-03\n",
      "    2.53669400e-02   3.12537023e-04   4.81665863e-04  -8.97381048e-02\n",
      "    7.70596937e-01  -6.33287663e-02   4.37193093e-02   5.66975455e-02]\n",
      " [ -1.01235914e-02   1.40866785e-02   2.15520629e-02   1.42726412e-02\n",
      "   -7.42484179e-03  -6.08367530e-03  -3.33960215e-02   3.61729663e-03\n",
      "    6.37803405e-02  -1.09162845e-02  -3.35059087e-02  -1.46139944e-01\n",
      "   -5.77425768e-03   7.13502980e-01  -1.91647721e-01  -6.02174868e-01\n",
      "    1.41695207e-01  -2.93939616e-02  -2.42573313e-03  -1.76188169e-02\n",
      "    4.80455740e-04   3.52398572e-03   8.54827793e-03  -7.49073688e-03\n",
      "    2.01832250e-01  -1.50846481e-02   9.93911634e-03   1.47716596e-02]\n",
      " [  2.15674565e-03   6.11970369e-03   1.19049774e-03  -6.26240212e-03\n",
      "    1.01240277e-04  -2.86821730e-05  -1.86977025e-04   5.08312722e-03\n",
      "   -1.53189623e-03  -1.47692974e-04  -3.89626560e-03   1.76905555e-03\n",
      "    3.40219955e-03  -2.64210953e-01   7.84980554e-01  -5.59259395e-01\n",
      "    2.97628660e-02  -1.71876522e-03   3.74095429e-04   8.82362817e-03\n",
      "    4.95425309e-03   2.02569594e-03   1.35944647e-03   2.68603825e-03\n",
      "   -8.27165933e-03   1.11191711e-04   1.17597971e-03  -3.44238761e-03]\n",
      " [ -4.33026815e-17  -1.67796231e-17   1.24334813e-16   1.11472628e-16\n",
      "   -1.76754080e-16  -3.83983586e-17   2.55871924e-17  -3.63383527e-17\n",
      "   -1.54706283e-16  -1.07535491e-16   5.26620855e-17  -7.55017961e-17\n",
      "   -2.27437280e-17   1.08129781e-16  -7.05015938e-17   7.75024007e-17\n",
      "   -8.45908411e-17   9.40326894e-18  -1.81191775e-16  -1.58252250e-16\n",
      "   -1.17445731e-16   6.70705024e-17  -1.63107266e-17   3.59283777e-17\n",
      "   -1.40243790e-16  -6.92767280e-01  -6.75298941e-01  -2.53070812e-01]]\n"
     ]
    }
   ],
   "source": [
    "print('Components:\\n', pca.components_)"
   ]
  },
  {
   "cell_type": "code",
   "execution_count": 148,
   "metadata": {},
   "outputs": [
    {
     "name": "stdout",
     "output_type": "stream",
     "text": [
      "Explained Variance Ratio:\n",
      "  [  1.61911147e-01   1.43383591e-01   1.14771074e-01   5.86620709e-02\n",
      "   5.54014888e-02   4.52255991e-02   4.20401665e-02   3.99652367e-02\n",
      "   3.60207371e-02   3.54011851e-02   3.20232135e-02   3.00783054e-02\n",
      "   2.64669170e-02   2.38570314e-02   2.15889680e-02   1.86872345e-02\n",
      "   1.64374438e-02   1.62002800e-02   1.57347515e-02   1.49946402e-02\n",
      "   1.41439828e-02   1.09246767e-02   9.23382619e-03   8.00073612e-03\n",
      "   4.32617174e-03   4.03602668e-03   4.83499560e-04   3.19313434e-32]\n"
     ]
    }
   ],
   "source": [
    "print('Explained Variance Ratio:\\n ',pca.explained_variance_ratio_)"
   ]
  },
  {
   "cell_type": "code",
   "execution_count": 149,
   "metadata": {},
   "outputs": [
    {
     "data": {
      "image/png": "[encoded data removed]",
      "text/plain": [
       "<matplotlib.figure.Figure at 0x1ad1a959518>"
      ]
     },
     "metadata": {},
     "output_type": "display_data"
    }
   ],
   "source": [
    "#plot explained variance \n",
    "plt.bar(range(pca.explained_variance_ratio_.shape[0]), pca.explained_variance_ratio_, alpha = 0.5, \n",
    "        align = 'center', label = 'individual explained variance')\n",
    "plt.ylabel('Explained variance ratio')\n",
    "plt.xlabel('Principal components')\n",
    "plt.ylim(0, 0.2)\n",
    "plt.legend(loc = 'best')\n",
    "plt.tight_layout()"
   ]
  },
  {
   "cell_type": "code",
   "execution_count": 150,
   "metadata": {},
   "outputs": [],
   "source": [
    "s1 = sum(pca.explained_variance_ratio_[:17])\n",
    "s2 = sum(pca.explained_variance_ratio_[17:])"
   ]
  },
  {
   "cell_type": "code",
   "execution_count": 151,
   "metadata": {},
   "outputs": [],
   "source": [
    "# dimensionality reduction, keeping only\n",
    "# 17 principal component\n",
    "pca = PCA(n_components = 17)\n",
    "X_pca = pca.fit_transform(X_std)\n",
    "# inverse transform to obtain the projected data\n",
    "X_new = pca.inverse_transform(X_pca)"
   ]
  },
  {
   "cell_type": "code",
   "execution_count": 153,
   "metadata": {},
   "outputs": [
    {
     "name": "stdout",
     "output_type": "stream",
     "text": [
      "Percentage of information on the components that we keep: 0.901921408523 \n",
      "Percentage of information of the components that we discard: 0.0980785914766\n",
      "original shape:    (3818, 28)\n",
      "transformed shape: (3818, 17)\n"
     ]
    }
   ],
   "source": [
    "print(\"Percentage of information on the components that we keep:\",s1,\"\\nPercentage of information of the components that we discard:\",s2)\n",
    "print(\"original shape:   \", X_data.shape)\n",
    "print(\"transformed shape:\", X_pca.shape)"
   ]
  },
  {
   "cell_type": "markdown",
   "metadata": {},
   "source": [
    "#### Linear Regression with/without PCA (one hot encoding)"
   ]
  },
  {
   "cell_type": "code",
   "execution_count": 158,
   "metadata": {},
   "outputs": [],
   "source": [
    "import time\n",
    "from sklearn.pipeline import Pipeline\n",
    "\n",
    "X_train, X_test, Y_train, Y_test = train_test_split(X_data,\n",
    "                                                Y_data, \n",
    "                                                test_size=0.3,\n",
    "                                                train_size = 0.7,\n",
    "                                                random_state=42)\n",
    "pipe1 = Pipeline([\n",
    "    ('standardize', StandardScaler()),\n",
    "    ('pca', PCA(n_components = 17)),\n",
    "    ('linear', linear_model.LinearRegression())\n",
    "])\n",
    "pipe1.fit(X_train, Y_train)\n",
    "Y_pred1 = pipe1.predict(X_test)\n",
    "\n",
    "linear_reg_error1 = metrics.median_absolute_error(Y_test, Y_pred1) \n",
    "\n",
    "# pipeline without PCA\n",
    "pipe2 = Pipeline([\n",
    "    ('standardize', StandardScaler()),\n",
    "    ('linear', linear_model.LinearRegression())\n",
    "])\n",
    "start = time.time()\n",
    "pipe2.fit(X_train, Y_train)\n",
    "Y_pred2 = pipe2.predict(X_test)\n",
    "\n",
    "linear_reg_error2 = metrics.median_absolute_error(Y_test, Y_pred2) "
   ]
  },
  {
   "cell_type": "code",
   "execution_count": 159,
   "metadata": {},
   "outputs": [
    {
     "name": "stdout",
     "output_type": "stream",
     "text": [
      "Linear Regression deviation with PCA: 25.7608335724\n",
      "Linear Regression deviation without PCA: 24.8976836905\n"
     ]
    }
   ],
   "source": [
    "print (\"Linear Regression deviation with PCA: \" + str(linear_reg_error1))\n",
    "print (\"Linear Regression deviation without PCA: \" + str(linear_reg_error2))"
   ]
  },
  {
   "cell_type": "code",
   "execution_count": 160,
   "metadata": {},
   "outputs": [
    {
     "name": "stdout",
     "output_type": "stream",
     "text": [
      "R-squared Error with PCA: 0.569436267154\n",
      "R-squared Error without PCA: 0.578446620987\n"
     ]
    }
   ],
   "source": [
    "from sklearn.metrics import r2_score\n",
    "from sklearn.metrics import mean_squared_error\n",
    "\n",
    "print(\"R-squared Error with PCA:\",r2_score(Y_test,Y_pred1))\n",
    "print(\"R-squared Error without PCA:\",r2_score(Y_test,Y_pred2))"
   ]
  },
  {
   "cell_type": "markdown",
   "metadata": {},
   "source": [
    "### PCA using Label encoding"
   ]
  },
  {
   "cell_type": "code",
   "execution_count": 161,
   "metadata": {},
   "outputs": [
    {
     "name": "stdout",
     "output_type": "stream",
     "text": [
      "Components:\n",
      "  [[ 0.32048093 -0.03684252 -0.03412333 -0.04304509 -0.01098882 -0.01733318\n",
      "  -0.03303338 -0.02553367 -0.13209452  0.28637637  0.37508021  0.38711994\n",
      "   0.01826133 -0.13710453 -0.14976688 -0.15460787 -0.10083211 -0.09363913\n",
      "   0.01078327  0.00140473  0.09876765 -0.01781691 -0.04286798  0.27320197\n",
      "   0.41021646  0.28880786 -0.27099472 -0.06746802]\n",
      " [ 0.03378933 -0.35876688 -0.33928606 -0.38053063 -0.24049641 -0.34706392\n",
      "  -0.34821495 -0.41061955 -0.09497105 -0.00338486 -0.00605761  0.01199494\n",
      "   0.00737714  0.15495546  0.15767888  0.15207493  0.12254761 -0.04655861\n",
      "   0.01032231  0.02510787  0.02794872  0.18035616  0.05232905 -0.01284462\n",
      "   0.00882401 -0.03595967  0.00986094  0.07212448]\n",
      " [-0.15467857 -0.10569138 -0.11125558 -0.08947571 -0.05635367 -0.14479558\n",
      "  -0.11202598 -0.13324215 -0.05474761 -0.11987982 -0.12424524 -0.15395041\n",
      "   0.01995914 -0.45587547 -0.47841323 -0.47479814 -0.35400702 -0.07642707\n",
      "  -0.00681411  0.01392728 -0.05923072 -0.04063312  0.03570685 -0.10360514\n",
      "  -0.14826065  0.01191653 -0.00562274 -0.01761703]\n",
      " [-0.13565138 -0.03845321 -0.02306148 -0.10881502 -0.05039355 -0.01350837\n",
      "  -0.04775651 -0.11268826  0.49890726 -0.19882021 -0.13155839 -0.032368\n",
      "  -0.08702623  0.00605331  0.02770235  0.03203654 -0.03680372  0.50271202\n",
      "  -0.02296934 -0.08057506  0.23038962 -0.22623852 -0.03301811  0.18538017\n",
      "   0.04089658  0.32583924 -0.23521089 -0.26432563]\n",
      " [ 0.03188888  0.03380756 -0.02271963 -0.00405242  0.18113803  0.04922592\n",
      "   0.01913357  0.02419367 -0.15808913 -0.25708324 -0.21807461 -0.10709627\n",
      "   0.04777817  0.07021839  0.06495546  0.06258238  0.05306958 -0.21327965\n",
      "   0.0701856   0.0982739  -0.18288598  0.18960303 -0.11703749 -0.21554378\n",
      "  -0.07390083  0.49968299 -0.5698585   0.15276679]]\n",
      "Explained Variance Ratio:\n",
      "  [ 0.16191115  0.14338358  0.11477106  0.0586602   0.05539691]\n"
     ]
    }
   ],
   "source": [
    "pca = PCA(n_components =5)\n",
    "pca.fit(X_std)\n",
    "\n",
    "# important information\n",
    "print('Components:\\n ', pca.components_)\n",
    "print('Explained Variance Ratio:\\n ', pca.explained_variance_ratio_)"
   ]
  },
  {
   "cell_type": "code",
   "execution_count": 162,
   "metadata": {},
   "outputs": [],
   "source": [
    "s1 = sum(pca.explained_variance_ratio_[:3])\n",
    "s2 = sum(pca.explained_variance_ratio_[3:])"
   ]
  },
  {
   "cell_type": "code",
   "execution_count": 163,
   "metadata": {},
   "outputs": [
    {
     "data": {
      "image/png": "[encoded data removed]",
      "text/plain": [
       "<matplotlib.figure.Figure at 0x1ad1aa1ccc0>"
      ]
     },
     "metadata": {},
     "output_type": "display_data"
    }
   ],
   "source": [
    "plt.bar(range(pca.explained_variance_ratio_.shape[0]), pca.explained_variance_ratio_, alpha = 0.5, \n",
    "        align = 'center', label = 'individual explained variance')\n",
    "\n",
    "plt.ylabel('Explained variance ratio')\n",
    "plt.xlabel('Principal components')\n",
    "plt.ylim(0, 1)\n",
    "plt.legend(loc = 'best')\n",
    "plt.tight_layout()"
   ]
  },
  {
   "cell_type": "code",
   "execution_count": 164,
   "metadata": {},
   "outputs": [],
   "source": [
    "\n",
    "\n",
    "# dimensionality reduction, keeping only\n",
    "# the first principal component\n",
    "pca = PCA(n_components = 3)\n",
    "X_pca = pca.fit_transform(X_std)\n",
    "\n",
    "# inverse transform to obtain the projected data\n",
    "# and compare with the original\n",
    "X_new = pca.inverse_transform(X_pca)"
   ]
  },
  {
   "cell_type": "code",
   "execution_count": 165,
   "metadata": {},
   "outputs": [
    {
     "name": "stdout",
     "output_type": "stream",
     "text": [
      "original shape:    (3818, 28)\n",
      "transformed shape: (3818, 3)\n",
      "Percentage of information on the components that we keep: 0.420065788977 \n",
      "Percentage of information of the components that we discard: 0.114057110741\n"
     ]
    }
   ],
   "source": [
    "print(\"original shape:   \", X_data.shape)\n",
    "print(\"transformed shape:\", X_pca.shape)\n",
    "print(\"Percentage of information on the components that we keep:\",s1,\"\\nPercentage of information of the components that we discard:\",s2)"
   ]
  },
  {
   "cell_type": "markdown",
   "metadata": {},
   "source": [
    "Linear Regression with/without PCA (label encoding)"
   ]
  },
  {
   "cell_type": "code",
   "execution_count": 167,
   "metadata": {},
   "outputs": [],
   "source": [
    "import time\n",
    "\n",
    "start = time.time()\n",
    "X_train, X_test, y_train, y_test = train_test_split(X_data,\n",
    "                                                Y_data, \n",
    "                                                test_size=0.3,\n",
    "                                                train_size = 0.7,\n",
    "                                                random_state=13)\n",
    "pipe1 = Pipeline([\n",
    "    ('standardize', StandardScaler()),\n",
    "    ('pca', PCA(n_components = 4)),\n",
    "    ('linear', linear_model.LinearRegression())\n",
    "])\n",
    "pipe1.fit(X_train, y_train)\n",
    "y_pred1 = pipe1.predict(X_test)\n",
    "\n",
    "linear_reg_error1 = metrics.median_absolute_error(y_test, pipe1.predict(X_test)) \n",
    "\n",
    "# pipeline without PCA\n",
    "\n",
    "pipe2 = Pipeline([\n",
    "    ('standardize', StandardScaler()),\n",
    "    ('linear', linear_model.LinearRegression())\n",
    "])\n",
    "pipe2.fit(X_train, y_train)\n",
    "y_pred2 = pipe2.predict(X_test)\n",
    "\n",
    "linear_reg_error2 = metrics.median_absolute_error(y_test, pipe2.predict(X_test)) "
   ]
  },
  {
   "cell_type": "code",
   "execution_count": 168,
   "metadata": {},
   "outputs": [
    {
     "name": "stdout",
     "output_type": "stream",
     "text": [
      "Linear Regression deviation with PCA: 24.7968440563\n",
      "Linear Regression deviation without PCA: 22.9306640625\n"
     ]
    }
   ],
   "source": [
    "print (\"Linear Regression deviation with PCA: \" + str(linear_reg_error1))\n",
    "print (\"Linear Regression deviation without PCA: \" + str(linear_reg_error2))"
   ]
  },
  {
   "cell_type": "code",
   "execution_count": 169,
   "metadata": {},
   "outputs": [
    {
     "name": "stdout",
     "output_type": "stream",
     "text": [
      "R-squared Error with PCA: 0.538978277855\n",
      "R-squared Error without PCA: 0.572496083371\n"
     ]
    }
   ],
   "source": [
    "from sklearn.metrics import r2_score\n",
    "from sklearn.metrics import mean_squared_error\n",
    "\n",
    "print(\"R-squared Error with PCA:\",r2_score(y_test,y_pred1))\n",
    "print(\"R-squared Error without PCA:\",r2_score(y_test,y_pred2))"
   ]
  },
  {
   "cell_type": "code",
   "execution_count": null,
   "metadata": {},
   "outputs": [],
   "source": []
  }
 ],
 "metadata": {
  "kernelspec": {
   "display_name": "Python 3",
   "language": "python",
   "name": "python3"
  },
  "language_info": {
   "codemirror_mode": {
    "name": "ipython",
    "version": 3
   },
   "file_extension": ".py",
   "mimetype": "text/x-python",
   "name": "python",
   "nbconvert_exporter": "python",
   "pygments_lexer": "ipython3",
   "version": "3.6.5"
  }
 },
 "nbformat": 4,
 "nbformat_minor": 2
}
